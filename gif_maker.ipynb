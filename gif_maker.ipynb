{
 "cells": [
  {
   "cell_type": "code",
   "execution_count": 1,
   "metadata": {
    "ExecuteTime": {
     "end_time": "2019-03-11T09:28:46.792309Z",
     "start_time": "2019-03-11T09:28:37.944654Z"
    }
   },
   "outputs": [],
   "source": [
    "import numpy as np\n",
    "import pandas as pd\n",
    "import matplotlib.pyplot as plt\n",
    "from matplotlib import colors\n",
    "\n",
    "import cv2\n",
    "import os\n",
    "import random\n",
    "import imageio\n",
    "import copy\n",
    "\n",
    "from itertools import chain\n",
    "from collections import OrderedDict\n",
    "import glob"
   ]
  },
  {
   "cell_type": "code",
   "execution_count": 3,
   "metadata": {
    "ExecuteTime": {
     "end_time": "2019-03-11T09:29:09.228326Z",
     "start_time": "2019-03-11T09:29:09.207696Z"
    }
   },
   "outputs": [],
   "source": [
    "def save_gif(size, dur):\n",
    "    filenames = []\n",
    "\n",
    "    for file in os.listdir(config['img_path']):\n",
    "        filename = os.fsdecode(file)\n",
    "        if filename.endswith(('.jpeg', '.png', '.gif')):\n",
    "            filenames.append(filename)\n",
    "\n",
    "    # filenames.sort() # this iteration technique has no built in order, so sort the frames\n",
    "    def process_img(filename):\n",
    "        img = imageio.imread(config['img_path'] + filename)\n",
    "        img = cv2.resize(img, size, interpolation=cv2.INTER_AREA)\n",
    "        return img\n",
    "\n",
    "    images = list(map(process_img, filenames))\n",
    "\n",
    "    # modify duration as needed\n",
    "    imageio.mimsave(os.path.join(config['gif_name']), images, duration=dur)"
   ]
  },
  {
   "cell_type": "code",
   "execution_count": 59,
   "metadata": {
    "ExecuteTime": {
     "end_time": "2019-03-11T13:23:42.852436Z",
     "start_time": "2019-03-11T13:23:42.844049Z"
    }
   },
   "outputs": [
    {
     "data": {
      "text/plain": [
       "20"
      ]
     },
     "execution_count": 59,
     "metadata": {},
     "output_type": "execute_result"
    }
   ],
   "source": [
    "NAME = \"H_everyone_giant_burst\"\n",
    "paths = glob.glob(\"images/\" + NAME + \"/*.png\")\n",
    "len(paths)"
   ]
  },
  {
   "cell_type": "code",
   "execution_count": 60,
   "metadata": {
    "ExecuteTime": {
     "end_time": "2019-03-11T13:23:44.244103Z",
     "start_time": "2019-03-11T13:23:43.473156Z"
    }
   },
   "outputs": [],
   "source": [
    "# Save gif\n",
    "epochs = len(paths)\n",
    "config = {\n",
    "    'epochs': epochs,\n",
    "    'img_path': '/Users/fernandojavier/Desktop/MSDS/Portfolio/Protest Spread in Twitter/images/' + NAME + '/',\n",
    "    'gif_name': 'evac_' + NAME + '.gif',\n",
    "}\n",
    "\n",
    "save_gif(size=(500, 500), dur=0.25)\n",
    "\n"
   ]
  },
  {
   "cell_type": "code",
   "execution_count": 4,
   "metadata": {
    "ExecuteTime": {
     "end_time": "2019-03-11T09:29:24.030525Z",
     "start_time": "2019-03-11T09:29:23.863418Z"
    }
   },
   "outputs": [
    {
     "name": "stdout",
     "output_type": "stream",
     "text": [
      "/Users/fernandojavier/Desktop/MSDS/Portfolio/Protest Spread in Twitter\r\n"
     ]
    }
   ],
   "source": [
    "!pwd"
   ]
  },
  {
   "cell_type": "code",
   "execution_count": null,
   "metadata": {},
   "outputs": [],
   "source": []
  }
 ],
 "metadata": {
  "hide_input": false,
  "kernelspec": {
   "display_name": "Python [default]",
   "language": "python",
   "name": "python3"
  },
  "language_info": {
   "codemirror_mode": {
    "name": "ipython",
    "version": 3
   },
   "file_extension": ".py",
   "mimetype": "text/x-python",
   "name": "python",
   "nbconvert_exporter": "python",
   "pygments_lexer": "ipython3",
   "version": "3.6.4"
  },
  "latex_envs": {
   "LaTeX_envs_menu_present": true,
   "autoclose": false,
   "autocomplete": true,
   "bibliofile": "biblio.bib",
   "cite_by": "apalike",
   "current_citInitial": 1,
   "eqLabelWithNumbers": true,
   "eqNumInitial": 1,
   "hotkeys": {
    "equation": "Ctrl-E",
    "itemize": "Ctrl-I"
   },
   "labels_anchors": false,
   "latex_user_defs": false,
   "report_style_numbering": false,
   "user_envs_cfg": false
  },
  "toc": {
   "base_numbering": 1,
   "nav_menu": {},
   "number_sections": true,
   "sideBar": true,
   "skip_h1_title": false,
   "title_cell": "Table of Contents",
   "title_sidebar": "Contents",
   "toc_cell": false,
   "toc_position": {},
   "toc_section_display": true,
   "toc_window_display": false
  }
 },
 "nbformat": 4,
 "nbformat_minor": 2
}
