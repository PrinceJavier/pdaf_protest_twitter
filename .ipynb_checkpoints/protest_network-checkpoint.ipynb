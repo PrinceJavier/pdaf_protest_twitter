{
 "cells": [
  {
   "cell_type": "code",
   "execution_count": 1,
   "metadata": {
    "ExecuteTime": {
     "end_time": "2019-03-05T05:33:20.076953Z",
     "start_time": "2019-03-05T05:33:15.014767Z"
    }
   },
   "outputs": [],
   "source": [
    "import numpy as np\n",
    "import pandas as pd\n",
    "import matplotlib.pyplot as plt\n",
    "\n",
    "import json\n",
    "import glob\n",
    "import ast\n",
    "\n",
    "import networkx as nx\n",
    "from itertools import combinations"
   ]
  },
  {
   "cell_type": "code",
   "execution_count": 2,
   "metadata": {
    "ExecuteTime": {
     "end_time": "2019-03-05T05:33:20.088030Z",
     "start_time": "2019-03-05T05:33:20.079166Z"
    }
   },
   "outputs": [
    {
     "data": {
      "text/plain": [
       "['data/tweets_mpm.json',\n",
       " 'data/user_followers.json',\n",
       " 'data/user_following.json']"
      ]
     },
     "execution_count": 2,
     "metadata": {},
     "output_type": "execute_result"
    }
   ],
   "source": [
    "# load data paths\n",
    "paths = glob.glob(\"data/*\")\n",
    "paths"
   ]
  },
  {
   "cell_type": "code",
   "execution_count": 3,
   "metadata": {
    "ExecuteTime": {
     "end_time": "2019-03-05T05:33:20.098327Z",
     "start_time": "2019-03-05T05:33:20.090893Z"
    }
   },
   "outputs": [],
   "source": [
    "def read_dict_from_file(path):\n",
    "\n",
    "    # open scraped file as string\n",
    "    f = open(path).read()\n",
    "\n",
    "    # convert scraped file from string to dictionary\n",
    "    dic = ast.literal_eval(f)\n",
    "\n",
    "    # return dictionary of file\n",
    "    return dic"
   ]
  },
  {
   "cell_type": "code",
   "execution_count": 4,
   "metadata": {
    "ExecuteTime": {
     "end_time": "2019-03-05T05:33:20.119339Z",
     "start_time": "2019-03-05T05:33:20.101054Z"
    }
   },
   "outputs": [],
   "source": [
    "def clean_dict(dirty_dict, name_type=\"full_name\"):\n",
    "\n",
    "    # define new dictionary\n",
    "    new_dict = {}\n",
    "\n",
    "    # get keys from input dirty dict\n",
    "    keys = dirty_dict.keys()\n",
    "\n",
    "    for key in keys:\n",
    "\n",
    "        # format is [{\"full_name\" : \"XX\", \"screen_name\" : \"YY\"}]\n",
    "        value = dirty_dict[key]\n",
    "\n",
    "        # get followers full_name per user\n",
    "        full_names = [d[\"full_name\"] for d in value]\n",
    "\n",
    "        # get followers screen name per user\n",
    "        screen_names = [d[\"screen_name\"] for d in value]\n",
    "\n",
    "        # make key: value pair using full_name per user\n",
    "        new_dict[key] = full_names\n",
    "\n",
    "    # return new_dict\n",
    "    return new_dict"
   ]
  },
  {
   "cell_type": "markdown",
   "metadata": {},
   "source": [
    "## Analysis"
   ]
  },
  {
   "cell_type": "markdown",
   "metadata": {},
   "source": [
    "### Preparing Follower and Following Data"
   ]
  },
  {
   "cell_type": "code",
   "execution_count": 5,
   "metadata": {
    "ExecuteTime": {
     "end_time": "2019-03-05T05:33:20.977348Z",
     "start_time": "2019-03-05T05:33:20.121770Z"
    }
   },
   "outputs": [],
   "source": [
    "# load dirty followers dictionary\n",
    "dirty_followers = read_dict_from_file(paths[1])\n",
    "\n",
    "# get clean followers, full_name\n",
    "clean_followers = clean_dict(dirty_followers, \"full_name\")\n",
    "\n",
    "# load dirty following dictionary\n",
    "dirty_following = read_dict_from_file(paths[2])\n",
    "\n",
    "# get clean following, full_name\n",
    "clean_following = clean_dict(dirty_following, \"full_name\")"
   ]
  },
  {
   "cell_type": "code",
   "execution_count": 6,
   "metadata": {
    "ExecuteTime": {
     "end_time": "2019-03-05T05:33:20.994611Z",
     "start_time": "2019-03-05T05:33:20.979365Z"
    }
   },
   "outputs": [],
   "source": [
    "# function to combine (get union) dictionaries\n",
    "def union_dict(a, b):\n",
    "    # a is the bigger dataset we will update with b\n",
    "    for k, v in a.items():\n",
    "        # if key is in a and b, then just append to current data in a\n",
    "        if k in b.keys():\n",
    "            # get union of unique items (remove redundancy)\n",
    "            a[k] = list(set(a[k] + b[k]))\n",
    "\n",
    "    # append keys in b that are not in a\n",
    "    for k, v in b.items():\n",
    "        if k not in a.keys():\n",
    "            a[k] = v\n",
    "\n",
    "    return a"
   ]
  },
  {
   "cell_type": "code",
   "execution_count": 7,
   "metadata": {
    "ExecuteTime": {
     "end_time": "2019-03-05T05:33:21.011382Z",
     "start_time": "2019-03-05T05:33:20.997640Z"
    }
   },
   "outputs": [],
   "source": [
    "# convert following to followers format\n",
    "# e.g. {\"user_A\": [\"followed_user_1\", \"followed_user_2\"]\n",
    "# turn to: {\"followed_user_1\" : [\"user_A], \"followed_user_2\": [\"user_A\"]}\n",
    "# So network direction goes from user (followed) to follower\n",
    "\n",
    "def swap_key_val(old_dic):\n",
    "\n",
    "    # get keys of dictionary to swap\n",
    "    keys = old_dic.keys()\n",
    "\n",
    "    # convert keys to vals and vals to keys\n",
    "    # initiate new dictioanary (swapped)\n",
    "    new_dic = {}\n",
    "    for key in keys:\n",
    "        # swap value and key\n",
    "        a = {val: [key] for val in old_dic[key]}\n",
    "        # add to new_dic using union_dict function\n",
    "        new_dic = union_dict(new_dic, a)\n",
    "    return new_dic"
   ]
  },
  {
   "cell_type": "code",
   "execution_count": 8,
   "metadata": {
    "ExecuteTime": {
     "end_time": "2019-03-05T05:33:21.021151Z",
     "start_time": "2019-03-05T05:33:21.013692Z"
    }
   },
   "outputs": [],
   "source": [
    "# get followers data from following data\n",
    "followers_from_following = swap_key_val(clean_following)\n",
    "\n",
    "# get union of followers data (scraped) and followers from following data\n",
    "unified_followers = union_dict(clean_followers, followers_from_following)"
   ]
  },
  {
   "cell_type": "code",
   "execution_count": 19,
   "metadata": {
    "ExecuteTime": {
     "end_time": "2019-03-05T05:35:16.599725Z",
     "start_time": "2019-03-05T05:35:16.594770Z"
    }
   },
   "outputs": [
    {
     "data": {
      "text/plain": [
       "1888"
      ]
     },
     "execution_count": 19,
     "metadata": {},
     "output_type": "execute_result"
    }
   ],
   "source": [
    "# num of all users:followers scraped\n",
    "len(unified_followers.keys())"
   ]
  },
  {
   "cell_type": "code",
   "execution_count": 15,
   "metadata": {
    "ExecuteTime": {
     "end_time": "2019-03-05T05:34:19.913941Z",
     "start_time": "2019-03-05T05:34:19.908825Z"
    }
   },
   "outputs": [
    {
     "data": {
      "text/plain": [
       "1888"
      ]
     },
     "execution_count": 15,
     "metadata": {},
     "output_type": "execute_result"
    }
   ],
   "source": [
    "# num in just clean_followers\n",
    "len(clean_followers.keys())"
   ]
  },
  {
   "cell_type": "code",
   "execution_count": 51,
   "metadata": {
    "ExecuteTime": {
     "end_time": "2019-03-05T05:40:48.477341Z",
     "start_time": "2019-03-05T05:40:48.468480Z"
    }
   },
   "outputs": [
    {
     "data": {
      "text/plain": [
       "1379"
      ]
     },
     "execution_count": 51,
     "metadata": {},
     "output_type": "execute_result"
    }
   ],
   "source": [
    "# num in user:followers from following data\n",
    "len(followers_from_following.keys())"
   ]
  },
  {
   "cell_type": "markdown",
   "metadata": {},
   "source": [
    "### Making Followers Graph - Asymmetric"
   ]
  },
  {
   "cell_type": "code",
   "execution_count": 21,
   "metadata": {
    "ExecuteTime": {
     "end_time": "2019-03-05T05:35:41.670145Z",
     "start_time": "2019-03-05T05:35:41.561546Z"
    }
   },
   "outputs": [],
   "source": [
    "# load Graph of followers\n",
    "G = nx.from_dict_of_lists(unified_followers, create_using=nx.DiGraph())"
   ]
  },
  {
   "cell_type": "code",
   "execution_count": 47,
   "metadata": {
    "ExecuteTime": {
     "end_time": "2019-03-05T05:39:18.823587Z",
     "start_time": "2019-03-05T05:39:18.141833Z"
    }
   },
   "outputs": [
    {
     "data": {
      "text/plain": [
       "[<matplotlib.lines.Line2D at 0x1514fb3550>]"
      ]
     },
     "execution_count": 47,
     "metadata": {},
     "output_type": "execute_result"
    },
    {
     "data": {
      "image/png": "[encoded data removed]",
      "text/plain": [
       "<matplotlib.figure.Figure at 0x1514f85d68>"
      ]
     },
     "metadata": {},
     "output_type": "display_data"
    }
   ],
   "source": [
    "# out degree distribution\n",
    "plt.loglog(range(len(G)), [v for k, v in G.out_degree], 'o', alpha=0.5)"
   ]
  },
  {
   "cell_type": "code",
   "execution_count": 62,
   "metadata": {
    "ExecuteTime": {
     "end_time": "2019-03-05T06:36:50.165373Z",
     "start_time": "2019-03-05T06:36:49.375755Z"
    }
   },
   "outputs": [
    {
     "data": {
      "text/plain": [
       "[<matplotlib.lines.Line2D at 0x1512813cc0>]"
      ]
     },
     "execution_count": 62,
     "metadata": {},
     "output_type": "execute_result"
    },
    {
     "data": {
      "image/png": "[encoded data removed]",
      "text/plain": [
       "<matplotlib.figure.Figure at 0x1513648cf8>"
      ]
     },
     "metadata": {},
     "output_type": "display_data"
    }
   ],
   "source": [
    "# in degree distribution\n",
    "plt.loglog(range(len(G)), [v for k, v in G.in_degree], 'o', alpha=0.5)"
   ]
  },
  {
   "cell_type": "code",
   "execution_count": 63,
   "metadata": {
    "ExecuteTime": {
     "end_time": "2019-03-05T06:37:07.969410Z",
     "start_time": "2019-03-05T06:37:06.844596Z"
    }
   },
   "outputs": [
    {
     "data": {
      "text/plain": [
       "[<matplotlib.lines.Line2D at 0x1514a5b438>]"
      ]
     },
     "execution_count": 63,
     "metadata": {},
     "output_type": "execute_result"
    },
    {
     "data": {
      "image/png": "[encoded data removed]",
      "text/plain": [
       "<matplotlib.figure.Figure at 0x1514f6c780>"
      ]
     },
     "metadata": {},
     "output_type": "display_data"
    }
   ],
   "source": [
    "# degree distribution\n",
    "plt.loglog(range(len(G)), [v for k, v in G.degree], 'o', alpha=0.5)"
   ]
  },
  {
   "cell_type": "code",
   "execution_count": 22,
   "metadata": {
    "ExecuteTime": {
     "end_time": "2019-03-05T05:35:43.349403Z",
     "start_time": "2019-03-05T05:35:43.345383Z"
    }
   },
   "outputs": [],
   "source": [
    "# # Use spring layout\n",
    "# pos = nx.spring_layout(G)\n",
    "\n",
    "# # draw graph\n",
    "# plt.figure(figsize=(8, 8))\n",
    "# nx.draw(G, pos=pos, node_size=2, with_labels=False)"
   ]
  },
  {
   "cell_type": "markdown",
   "metadata": {},
   "source": [
    "### Filtering Followers Subgraph - Symmetric"
   ]
  },
  {
   "cell_type": "code",
   "execution_count": 58,
   "metadata": {
    "ExecuteTime": {
     "end_time": "2019-03-05T05:51:42.239952Z",
     "start_time": "2019-03-05T05:51:42.219105Z"
    }
   },
   "outputs": [],
   "source": [
    "def filter_symmetric(matrix, nodes):\n",
    "    # get only symmetric\n",
    "    matrix_sym = np.multiply(matrix, matrix.T)\n",
    "    \n",
    "    # make diagonal = 0\n",
    "    np.fill_diagonal(matrix_sym, 0)\n",
    "    \n",
    "    # get indices with at least one degree in the symmetric network\n",
    "    nonzero = np.array(np.sum(matrix_sym, axis=0))\n",
    "    inds = list(np.nonzero(nonzero[0])[0])\n",
    "    \n",
    "    # select only rows and columns based on index\n",
    "    matrix_sym = matrix_sym[inds][:, inds]\n",
    "\n",
    "    # get nodes corresponding to index of nodes in symm network\n",
    "    sym_nodes = np.array(nodes)[inds]\n",
    "    \n",
    "    return matrix_sym, sym_nodes"
   ]
  },
  {
   "cell_type": "code",
   "execution_count": 59,
   "metadata": {
    "ExecuteTime": {
     "end_time": "2019-03-05T05:51:42.758036Z",
     "start_time": "2019-03-05T05:51:42.746799Z"
    }
   },
   "outputs": [],
   "source": [
    "# def filter_symmetric(matrix, nodes):\n",
    "\n",
    "#     # get combinations of i and j\n",
    "#     combs = list(combinations(range(len(matrix)), 2))\n",
    "\n",
    "#     # initiate new node_list (those with mutual links only)\n",
    "#     nodes_mutual = []\n",
    "\n",
    "#     index = 0\n",
    "\n",
    "#     # filter only adjacency matrix that has mutual links (i, j) == (j, i) == 1\n",
    "#     for i, j in combs:\n",
    "#         # make 0 if asymmetric\n",
    "#         if matrix[i, j] != matrix[j, i] and i != j:\n",
    "#             matrix[i, j] = 0\n",
    "#             matrix[j, i] = 0\n",
    "\n",
    "#         # Get node names with mutual links\n",
    "#         if matrix[i, j] and matrix[j, i]:\n",
    "#             # append node name with mutual link\n",
    "#             nodes_mutual.append(nodes[index])\n",
    "#             index += 1\n",
    "\n",
    "#     # remove all 0s rows and columns\n",
    "#     matrix = np.delete(matrix, np.where(~matrix.any(axis=1))[0], axis=0)\n",
    "#     matrix = np.delete(matrix, np.where(~matrix.any(axis=0))[1], axis=1)\n",
    "\n",
    "#     # return symmetric adjacency matrix and corresponding node names\n",
    "#     return matrix, nodes_mutual"
   ]
  },
  {
   "cell_type": "code",
   "execution_count": 60,
   "metadata": {
    "ExecuteTime": {
     "end_time": "2019-03-05T05:51:43.440753Z",
     "start_time": "2019-03-05T05:51:43.159537Z"
    }
   },
   "outputs": [],
   "source": [
    "# make adjacency matrix\n",
    "matrix = nx.adjacency_matrix(G).todense()\n",
    "\n",
    "# get nodes list\n",
    "nodes = list(G.nodes)"
   ]
  },
  {
   "cell_type": "code",
   "execution_count": 61,
   "metadata": {
    "ExecuteTime": {
     "end_time": "2019-03-05T05:52:40.263635Z",
     "start_time": "2019-03-05T05:51:44.166104Z"
    },
    "scrolled": true
   },
   "outputs": [
    {
     "name": "stdout",
     "output_type": "stream",
     "text": [
      "No. of links in asymmetric network: 30736\n",
      "Shape of asymmetric network: (28422, 28422)\n",
      "No. of links in symmetric network: 3.0\n",
      "Shape of symmetric network: (5, 5) 5\n"
     ]
    }
   ],
   "source": [
    "# filter symmetric adjacencty matrix\n",
    "sym_matrix, sym_nodes = filter_symmetric(matrix, nodes)\n",
    "\n",
    "print(\"No. of links in asymmetric network:\", np.sum(matrix))\n",
    "print(\"Shape of asymmetric network:\", matrix.shape)\n",
    "print(\"No. of links in symmetric network:\", np.sum(sym_matrix)/2)\n",
    "print(\"Shape of symmetric network:\", sym_matrix.shape, len(sym_nodes))"
   ]
  },
  {
   "cell_type": "code",
   "execution_count": 64,
   "metadata": {
    "ExecuteTime": {
     "end_time": "2019-03-05T06:44:22.468222Z",
     "start_time": "2019-03-05T06:44:22.460816Z"
    }
   },
   "outputs": [],
   "source": [
    "# load Graph of followers\n",
    "H = nx.from_numpy_array(sym_matrix, create_using=nx.DiGraph())\n",
    "\n",
    "# node labels\n",
    "node_label_mapping = {i: sym_nodes[i] for i in range(len(sym_nodes))}\n",
    "\n",
    "# relabel nodes\n",
    "H = nx.relabel_nodes(H, node_label_mapping)"
   ]
  },
  {
   "cell_type": "code",
   "execution_count": 65,
   "metadata": {
    "ExecuteTime": {
     "end_time": "2019-03-05T06:44:27.520117Z",
     "start_time": "2019-03-05T06:44:27.256250Z"
    }
   },
   "outputs": [
    {
     "data": {
      "image/png": "[encoded data removed]",
      "text/plain": [
       "<matplotlib.figure.Figure at 0x15158ae780>"
      ]
     },
     "metadata": {},
     "output_type": "display_data"
    }
   ],
   "source": [
    "# Use spring layout\n",
    "pos = nx.spring_layout(H)\n",
    "\n",
    "# draw graph\n",
    "plt.figure(figsize=(10, 10))\n",
    "\n",
    "# draw graph\n",
    "nx.draw(H, pos=pos, node_size=2, with_labels=True, font_color='b', font_size=10)"
   ]
  },
  {
   "cell_type": "code",
   "execution_count": 66,
   "metadata": {
    "ExecuteTime": {
     "end_time": "2019-03-05T06:44:38.723926Z",
     "start_time": "2019-03-05T06:44:38.714803Z"
    }
   },
   "outputs": [],
   "source": [
    "# filter only symmetric user - followers\n",
    "def filter_users_from_dic(followers_dic, user_list):\n",
    "    # make dictionary of filtered keys\n",
    "    filtered_dic = {k: followers_dic[k] for k in user_list}\n",
    "\n",
    "    # filter values in dictionary\n",
    "    for k, v in filtered_dic.items():\n",
    "        filtered_dic[k] = [i for i in filtered_dic[k] if i in user_list]\n",
    "\n",
    "    return filtered_dic"
   ]
  },
  {
   "cell_type": "code",
   "execution_count": 67,
   "metadata": {
    "ExecuteTime": {
     "end_time": "2019-03-05T06:44:39.496523Z",
     "start_time": "2019-03-05T06:44:39.277524Z"
    }
   },
   "outputs": [
    {
     "data": {
      "image/png": "[encoded data removed]",
      "text/plain": [
       "<matplotlib.figure.Figure at 0x15154f3c50>"
      ]
     },
     "metadata": {},
     "output_type": "display_data"
    }
   ],
   "source": [
    "# list of users in symmetric network\n",
    "user_list = [v for k, v in node_label_mapping.items()]\n",
    "\n",
    "# filter only users in symmetric network\n",
    "symm_followers = filter_users_from_dic(unified_followers, user_list)\n",
    "\n",
    "# make graph\n",
    "Z = nx.from_dict_of_lists(symm_followers, create_using=nx.DiGraph())\n",
    "\n",
    "# Use spring layout\n",
    "pos = nx.spring_layout(H)\n",
    "\n",
    "# draw graph\n",
    "plt.figure(figsize=(10, 10))\n",
    "\n",
    "# draw graph\n",
    "nx.draw(Z, pos=pos, node_size=2, with_labels=True,\n",
    "        font_color='b', font_size=10)"
   ]
  },
  {
   "cell_type": "markdown",
   "metadata": {},
   "source": [
    "### Fraction of Recruited Users Over Time (Nodes)\n"
   ]
  },
  {
   "cell_type": "code",
   "execution_count": 70,
   "metadata": {
    "ExecuteTime": {
     "end_time": "2019-03-05T06:44:49.001986Z",
     "start_time": "2019-03-05T06:44:48.535336Z"
    }
   },
   "outputs": [
    {
     "data": {
      "text/html": [
       "<div>\n",
       "<style scoped>\n",
       "    .dataframe tbody tr th:only-of-type {\n",
       "        vertical-align: middle;\n",
       "    }\n",
       "\n",
       "    .dataframe tbody tr th {\n",
       "        vertical-align: top;\n",
       "    }\n",
       "\n",
       "    .dataframe thead th {\n",
       "        text-align: right;\n",
       "    }\n",
       "</style>\n",
       "<table border=\"1\" class=\"dataframe\">\n",
       "  <thead>\n",
       "    <tr style=\"text-align: right;\">\n",
       "      <th></th>\n",
       "      <th>index</th>\n",
       "      <th>date</th>\n",
       "      <th>likes</th>\n",
       "      <th>replies</th>\n",
       "      <th>reply</th>\n",
       "      <th>retweet</th>\n",
       "      <th>retweets</th>\n",
       "      <th>text</th>\n",
       "      <th>timestamp</th>\n",
       "      <th>tweet_id</th>\n",
       "      <th>user_id</th>\n",
       "      <th>user_name</th>\n",
       "      <th>user_screen_name</th>\n",
       "    </tr>\n",
       "  </thead>\n",
       "  <tbody>\n",
       "    <tr>\n",
       "      <th>0</th>\n",
       "      <td>9754</td>\n",
       "      <td>2013-08-17 15:45:11</td>\n",
       "      <td>0</td>\n",
       "      <td>1</td>\n",
       "      <td>0</td>\n",
       "      <td>0</td>\n",
       "      <td>2</td>\n",
       "      <td>#millionpeoplemarch on august 26 luneta.  This...</td>\n",
       "      <td>1376754311</td>\n",
       "      <td>3.687604e+17</td>\n",
       "      <td>32382474</td>\n",
       "      <td>yo de</td>\n",
       "      <td>xuyode</td>\n",
       "    </tr>\n",
       "    <tr>\n",
       "      <th>1</th>\n",
       "      <td>9755</td>\n",
       "      <td>2013-08-17 15:45:37</td>\n",
       "      <td>0</td>\n",
       "      <td>0</td>\n",
       "      <td>1</td>\n",
       "      <td>0</td>\n",
       "      <td>0</td>\n",
       "      <td>@sdoroquis</td>\n",
       "      <td>1376754337</td>\n",
       "      <td>3.687605e+17</td>\n",
       "      <td>32382474</td>\n",
       "      <td>yo de</td>\n",
       "      <td>xuyode</td>\n",
       "    </tr>\n",
       "    <tr>\n",
       "      <th>2</th>\n",
       "      <td>9751</td>\n",
       "      <td>2013-08-17 21:33:27</td>\n",
       "      <td>1</td>\n",
       "      <td>0</td>\n",
       "      <td>0</td>\n",
       "      <td>0</td>\n",
       "      <td>3</td>\n",
       "      <td>Maybe running + bike community wud want 2 know...</td>\n",
       "      <td>1376775207</td>\n",
       "      <td>3.688481e+17</td>\n",
       "      <td>470960342</td>\n",
       "      <td>running host</td>\n",
       "      <td>HostBoyramos</td>\n",
       "    </tr>\n",
       "    <tr>\n",
       "      <th>3</th>\n",
       "      <td>9741</td>\n",
       "      <td>2013-08-18 01:13:49</td>\n",
       "      <td>4</td>\n",
       "      <td>1</td>\n",
       "      <td>0</td>\n",
       "      <td>0</td>\n",
       "      <td>9</td>\n",
       "      <td>Napoles is just the visible \"fall guy\" of sort...</td>\n",
       "      <td>1376788429</td>\n",
       "      <td>3.689035e+17</td>\n",
       "      <td>24533024</td>\n",
       "      <td>Rudy Villar, Jr.</td>\n",
       "      <td>rudyvillar</td>\n",
       "    </tr>\n",
       "    <tr>\n",
       "      <th>4</th>\n",
       "      <td>9742</td>\n",
       "      <td>2013-08-18 01:29:55</td>\n",
       "      <td>0</td>\n",
       "      <td>0</td>\n",
       "      <td>1</td>\n",
       "      <td>0</td>\n",
       "      <td>0</td>\n",
       "      <td>@larionedjames secrets that will soon be revea...</td>\n",
       "      <td>1376789395</td>\n",
       "      <td>3.689076e+17</td>\n",
       "      <td>24533024</td>\n",
       "      <td>Rudy Villar, Jr.</td>\n",
       "      <td>rudyvillar</td>\n",
       "    </tr>\n",
       "  </tbody>\n",
       "</table>\n",
       "</div>"
      ],
      "text/plain": [
       "   index                date  likes  replies  reply  retweet  retweets  \\\n",
       "0   9754 2013-08-17 15:45:11      0        1      0        0         2   \n",
       "1   9755 2013-08-17 15:45:37      0        0      1        0         0   \n",
       "2   9751 2013-08-17 21:33:27      1        0      0        0         3   \n",
       "3   9741 2013-08-18 01:13:49      4        1      0        0         9   \n",
       "4   9742 2013-08-18 01:29:55      0        0      1        0         0   \n",
       "\n",
       "                                                text   timestamp  \\\n",
       "0  #millionpeoplemarch on august 26 luneta.  This...  1376754311   \n",
       "1                                         @sdoroquis  1376754337   \n",
       "2  Maybe running + bike community wud want 2 know...  1376775207   \n",
       "3  Napoles is just the visible \"fall guy\" of sort...  1376788429   \n",
       "4  @larionedjames secrets that will soon be revea...  1376789395   \n",
       "\n",
       "       tweet_id    user_id         user_name user_screen_name  \n",
       "0  3.687604e+17   32382474             yo de           xuyode  \n",
       "1  3.687605e+17   32382474             yo de           xuyode  \n",
       "2  3.688481e+17  470960342      running host     HostBoyramos  \n",
       "3  3.689035e+17   24533024  Rudy Villar, Jr.       rudyvillar  \n",
       "4  3.689076e+17   24533024  Rudy Villar, Jr.       rudyvillar  "
      ]
     },
     "execution_count": 70,
     "metadata": {},
     "output_type": "execute_result"
    }
   ],
   "source": [
    "# loading Tweets as dataframe\n",
    "tweets = pd.read_json(paths[0])\n",
    "\n",
    "# convert date to date time\n",
    "tweets.date = pd.to_datetime(tweets.date)\n",
    "\n",
    "# remove date outside 2013\n",
    "tweets = tweets[(tweets['date'] > '2013-01-01 00:00:00')\n",
    "                & (tweets['date'] < '2013-12-31 00:00:00')]\n",
    "\n",
    "# sort values by date\n",
    "tweets = tweets.sort_values(by=\"date\")\n",
    "\n",
    "# drop duplicates\n",
    "tweets = tweets.drop_duplicates()\n",
    "\n",
    "# reset index\n",
    "tweets = tweets.reset_index()\n",
    "\n",
    "tweets.head()"
   ]
  },
  {
   "cell_type": "code",
   "execution_count": 71,
   "metadata": {
    "ExecuteTime": {
     "end_time": "2019-03-05T06:44:49.552779Z",
     "start_time": "2019-03-05T06:44:49.547078Z"
    }
   },
   "outputs": [
    {
     "data": {
      "text/plain": [
       "2117"
      ]
     },
     "execution_count": 71,
     "metadata": {},
     "output_type": "execute_result"
    }
   ],
   "source": [
    "# length of tweets\n",
    "len(tweets)"
   ]
  },
  {
   "cell_type": "code",
   "execution_count": 72,
   "metadata": {
    "ExecuteTime": {
     "end_time": "2019-03-05T06:44:50.121384Z",
     "start_time": "2019-03-05T06:44:50.113744Z"
    }
   },
   "outputs": [
    {
     "data": {
      "text/plain": [
       "0"
      ]
     },
     "execution_count": 72,
     "metadata": {},
     "output_type": "execute_result"
    }
   ],
   "source": [
    "# number of retweets\n",
    "len(tweets[tweets.retweet == 1])"
   ]
  },
  {
   "cell_type": "code",
   "execution_count": 73,
   "metadata": {
    "ExecuteTime": {
     "end_time": "2019-03-05T06:44:50.665637Z",
     "start_time": "2019-03-05T06:44:50.658828Z"
    }
   },
   "outputs": [
    {
     "data": {
      "text/plain": [
       "1466"
      ]
     },
     "execution_count": 73,
     "metadata": {},
     "output_type": "execute_result"
    }
   ],
   "source": [
    "# number of replies\n",
    "len(tweets[tweets.reply == 1])"
   ]
  },
  {
   "cell_type": "code",
   "execution_count": 74,
   "metadata": {
    "ExecuteTime": {
     "end_time": "2019-03-05T06:44:51.509173Z",
     "start_time": "2019-03-05T06:44:51.231966Z"
    },
    "scrolled": false
   },
   "outputs": [
    {
     "data": {
      "text/plain": [
       "Text(0.5,1,'Fraction of recruited users over time')"
      ]
     },
     "execution_count": 74,
     "metadata": {},
     "output_type": "execute_result"
    },
    {
     "data": {
      "image/png": "[encoded data removed]",
      "text/plain": [
       "<matplotlib.figure.Figure at 0x181a54b0f0>"
      ]
     },
     "metadata": {},
     "output_type": "display_data"
    }
   ],
   "source": [
    "# get only the first time a unique user posts or replies with relevant #hash\n",
    "unique_users = tweets.drop_duplicates(subset=\"user_id\", keep=\"first\")\n",
    "\n",
    "# sort by date\n",
    "unique_users = unique_users.sort_values(by=\"date\")\n",
    "\n",
    "# reset index\n",
    "unique_users = unique_users.reset_index()\n",
    "\n",
    "# get cumulative distribution, each user adds 1 to the count\n",
    "count_cumulative = [i + 1 for i in range(len(unique_users))]\n",
    "prop_cumulative = [i / len(unique_users) for i in range(len(unique_users))]\n",
    "\n",
    "# plot the distribution\n",
    "plt.plot(unique_users.date, prop_cumulative)\n",
    "plt.xticks(rotation=90)\n",
    "plt.xlabel(\"date\")\n",
    "plt.ylabel(\"$N_a/N$\")\n",
    "plt.title(\"Fraction of recruited users over time\")"
   ]
  },
  {
   "cell_type": "code",
   "execution_count": 75,
   "metadata": {
    "ExecuteTime": {
     "end_time": "2019-03-05T06:44:53.331759Z",
     "start_time": "2019-03-05T06:44:53.326087Z"
    }
   },
   "outputs": [
    {
     "data": {
      "text/plain": [
       "1288"
      ]
     },
     "execution_count": 75,
     "metadata": {},
     "output_type": "execute_result"
    }
   ],
   "source": [
    "# number of unique users\n",
    "len(unique_users)"
   ]
  },
  {
   "cell_type": "code",
   "execution_count": 76,
   "metadata": {
    "ExecuteTime": {
     "end_time": "2019-03-05T06:44:54.066924Z",
     "start_time": "2019-03-05T06:44:53.954368Z"
    }
   },
   "outputs": [
    {
     "name": "stdout",
     "output_type": "stream",
     "text": [
      "No. of tweets: 2117\n",
      "No. of unique tweets: 2081\n"
     ]
    }
   ],
   "source": [
    "# Add date column to tweets data (without time)\n",
    "tweets['date'] = [tweets.date[i] for i in range(len(tweets))]\n",
    "\n",
    "# Number of tweets and unique tweets\n",
    "print(\"No. of tweets:\", len(tweets))\n",
    "print(\"No. of unique tweets:\", len(tweets.text.unique()))\n",
    "\n",
    "# Add date to nodes data for filtering say of degrees?"
   ]
  },
  {
   "cell_type": "code",
   "execution_count": 77,
   "metadata": {
    "ExecuteTime": {
     "end_time": "2019-03-05T06:48:49.188040Z",
     "start_time": "2019-03-05T06:48:49.166226Z"
    }
   },
   "outputs": [
    {
     "data": {
      "text/html": [
       "<div>\n",
       "<style scoped>\n",
       "    .dataframe tbody tr th:only-of-type {\n",
       "        vertical-align: middle;\n",
       "    }\n",
       "\n",
       "    .dataframe tbody tr th {\n",
       "        vertical-align: top;\n",
       "    }\n",
       "\n",
       "    .dataframe thead th {\n",
       "        text-align: right;\n",
       "    }\n",
       "</style>\n",
       "<table border=\"1\" class=\"dataframe\">\n",
       "  <thead>\n",
       "    <tr style=\"text-align: right;\">\n",
       "      <th></th>\n",
       "      <th>date</th>\n",
       "      <th>likes</th>\n",
       "      <th>replies</th>\n",
       "      <th>reply</th>\n",
       "      <th>retweet</th>\n",
       "      <th>retweets</th>\n",
       "      <th>text</th>\n",
       "      <th>timestamp</th>\n",
       "      <th>tweet_id</th>\n",
       "      <th>user_id</th>\n",
       "      <th>user_name</th>\n",
       "      <th>user_screen_name</th>\n",
       "    </tr>\n",
       "  </thead>\n",
       "  <tbody>\n",
       "    <tr>\n",
       "      <th>0</th>\n",
       "      <td>2013-08-18 03:36:24</td>\n",
       "      <td>1</td>\n",
       "      <td>0</td>\n",
       "      <td>0</td>\n",
       "      <td>0</td>\n",
       "      <td>5</td>\n",
       "      <td>The FB event page for #MillionPeopleMarch to L...</td>\n",
       "      <td>1376796984</td>\n",
       "      <td>3.689394e+17</td>\n",
       "      <td>74743293</td>\n",
       "      <td>Jane Uymatiao</td>\n",
       "      <td>philippinebeat</td>\n",
       "    </tr>\n",
       "    <tr>\n",
       "      <th>1</th>\n",
       "      <td>2013-08-18 03:38:49</td>\n",
       "      <td>1</td>\n",
       "      <td>0</td>\n",
       "      <td>0</td>\n",
       "      <td>0</td>\n",
       "      <td>5</td>\n",
       "      <td>Hashtags for Aug. 26 march - #OnePinoy #Millio...</td>\n",
       "      <td>1376797129</td>\n",
       "      <td>3.689400e+17</td>\n",
       "      <td>74743293</td>\n",
       "      <td>Jane Uymatiao</td>\n",
       "      <td>philippinebeat</td>\n",
       "    </tr>\n",
       "    <tr>\n",
       "      <th>2</th>\n",
       "      <td>2013-08-20 11:10:22</td>\n",
       "      <td>2</td>\n",
       "      <td>0</td>\n",
       "      <td>0</td>\n",
       "      <td>0</td>\n",
       "      <td>5</td>\n",
       "      <td>yes ! This will happen! RT @barnabychuck: Awes...</td>\n",
       "      <td>1376997022</td>\n",
       "      <td>3.697784e+17</td>\n",
       "      <td>3840981</td>\n",
       "      <td>Noemi L. Dado</td>\n",
       "      <td>momblogger</td>\n",
       "    </tr>\n",
       "    <tr>\n",
       "      <th>3</th>\n",
       "      <td>2013-08-23 05:37:08</td>\n",
       "      <td>8</td>\n",
       "      <td>0</td>\n",
       "      <td>0</td>\n",
       "      <td>0</td>\n",
       "      <td>9</td>\n",
       "      <td>WATCH-OUT:PDAF may still metamorphosed into an...</td>\n",
       "      <td>1377236228</td>\n",
       "      <td>3.707817e+17</td>\n",
       "      <td>189923743</td>\n",
       "      <td>RepCarlos.I.T.Zarate</td>\n",
       "      <td>kaloi_zarate</td>\n",
       "    </tr>\n",
       "    <tr>\n",
       "      <th>4</th>\n",
       "      <td>2013-08-23 09:34:07</td>\n",
       "      <td>12</td>\n",
       "      <td>6</td>\n",
       "      <td>0</td>\n",
       "      <td>0</td>\n",
       "      <td>45</td>\n",
       "      <td>.@teddyboylocsin on #MillionPeopleMarch: I hop...</td>\n",
       "      <td>1377250447</td>\n",
       "      <td>3.708414e+17</td>\n",
       "      <td>44728980</td>\n",
       "      <td>ABS-CBN News Channel</td>\n",
       "      <td>ANCALERTS</td>\n",
       "    </tr>\n",
       "  </tbody>\n",
       "</table>\n",
       "</div>"
      ],
      "text/plain": [
       "                 date  likes  replies  reply  retweet  retweets  \\\n",
       "0 2013-08-18 03:36:24      1        0      0        0         5   \n",
       "1 2013-08-18 03:38:49      1        0      0        0         5   \n",
       "2 2013-08-20 11:10:22      2        0      0        0         5   \n",
       "3 2013-08-23 05:37:08      8        0      0        0         9   \n",
       "4 2013-08-23 09:34:07     12        6      0        0        45   \n",
       "\n",
       "                                                text   timestamp  \\\n",
       "0  The FB event page for #MillionPeopleMarch to L...  1376796984   \n",
       "1  Hashtags for Aug. 26 march - #OnePinoy #Millio...  1376797129   \n",
       "2  yes ! This will happen! RT @barnabychuck: Awes...  1376997022   \n",
       "3  WATCH-OUT:PDAF may still metamorphosed into an...  1377236228   \n",
       "4  .@teddyboylocsin on #MillionPeopleMarch: I hop...  1377250447   \n",
       "\n",
       "       tweet_id    user_id             user_name user_screen_name  \n",
       "0  3.689394e+17   74743293         Jane Uymatiao   philippinebeat  \n",
       "1  3.689400e+17   74743293         Jane Uymatiao   philippinebeat  \n",
       "2  3.697784e+17    3840981         Noemi L. Dado       momblogger  \n",
       "3  3.707817e+17  189923743  RepCarlos.I.T.Zarate     kaloi_zarate  \n",
       "4  3.708414e+17   44728980  ABS-CBN News Channel        ANCALERTS  "
      ]
     },
     "execution_count": 77,
     "metadata": {},
     "output_type": "execute_result"
    }
   ],
   "source": [
    "# filter only those in unified_followers dataset\n",
    "users_list = list(unified_followers.keys())\n",
    "tweets_2 = tweets[tweets.user_screen_name.isin(\n",
    "    users_list)].reset_index(drop=True)\n",
    "tweets_2 = tweets_2.drop(\"index\", axis=1)\n",
    "tweets_2.head()"
   ]
  },
  {
   "cell_type": "code",
   "execution_count": 78,
   "metadata": {
    "ExecuteTime": {
     "end_time": "2019-03-05T06:48:51.549246Z",
     "start_time": "2019-03-05T06:48:49.908213Z"
    }
   },
   "outputs": [
    {
     "data": {
      "text/html": [
       "<div>\n",
       "<style scoped>\n",
       "    .dataframe tbody tr th:only-of-type {\n",
       "        vertical-align: middle;\n",
       "    }\n",
       "\n",
       "    .dataframe tbody tr th {\n",
       "        vertical-align: top;\n",
       "    }\n",
       "\n",
       "    .dataframe thead th {\n",
       "        text-align: right;\n",
       "    }\n",
       "</style>\n",
       "<table border=\"1\" class=\"dataframe\">\n",
       "  <thead>\n",
       "    <tr style=\"text-align: right;\">\n",
       "      <th></th>\n",
       "      <th>index</th>\n",
       "      <th>date</th>\n",
       "      <th>likes</th>\n",
       "      <th>replies</th>\n",
       "      <th>reply</th>\n",
       "      <th>retweet</th>\n",
       "      <th>retweets</th>\n",
       "      <th>text</th>\n",
       "      <th>timestamp</th>\n",
       "      <th>tweet_id</th>\n",
       "      <th>user_id</th>\n",
       "      <th>user_name</th>\n",
       "      <th>user_screen_name</th>\n",
       "    </tr>\n",
       "  </thead>\n",
       "  <tbody>\n",
       "    <tr>\n",
       "      <th>1464</th>\n",
       "      <td>3153</td>\n",
       "      <td>2013-08-26 08:39:17</td>\n",
       "      <td>92</td>\n",
       "      <td>3</td>\n",
       "      <td>1</td>\n",
       "      <td>0</td>\n",
       "      <td>41</td>\n",
       "      <td>“@mikegam40: Singer, Actor, Composer @keancipr...</td>\n",
       "      <td>1377506357</td>\n",
       "      <td>3.719147e+17</td>\n",
       "      <td>30194318</td>\n",
       "      <td>kean cipriano</td>\n",
       "      <td>keancipriano</td>\n",
       "    </tr>\n",
       "    <tr>\n",
       "      <th>1465</th>\n",
       "      <td>2249</td>\n",
       "      <td>2013-08-26 08:39:17</td>\n",
       "      <td>92</td>\n",
       "      <td>3</td>\n",
       "      <td>0</td>\n",
       "      <td>0</td>\n",
       "      <td>41</td>\n",
       "      <td>“@mikegam40: Singer, Actor, Composer @keancipr...</td>\n",
       "      <td>1377506357</td>\n",
       "      <td>3.719147e+17</td>\n",
       "      <td>30194318</td>\n",
       "      <td>kean cipriano</td>\n",
       "      <td>keancipriano</td>\n",
       "    </tr>\n",
       "  </tbody>\n",
       "</table>\n",
       "</div>"
      ],
      "text/plain": [
       "      index                date  likes  replies  reply  retweet  retweets  \\\n",
       "1464   3153 2013-08-26 08:39:17     92        3      1        0        41   \n",
       "1465   2249 2013-08-26 08:39:17     92        3      0        0        41   \n",
       "\n",
       "                                                   text   timestamp  \\\n",
       "1464  “@mikegam40: Singer, Actor, Composer @keancipr...  1377506357   \n",
       "1465  “@mikegam40: Singer, Actor, Composer @keancipr...  1377506357   \n",
       "\n",
       "          tweet_id   user_id      user_name user_screen_name  \n",
       "1464  3.719147e+17  30194318  kean cipriano     keancipriano  \n",
       "1465  3.719147e+17  30194318  kean cipriano     keancipriano  "
      ]
     },
     "metadata": {},
     "output_type": "display_data"
    },
    {
     "data": {
      "text/html": [
       "<div>\n",
       "<style scoped>\n",
       "    .dataframe tbody tr th:only-of-type {\n",
       "        vertical-align: middle;\n",
       "    }\n",
       "\n",
       "    .dataframe tbody tr th {\n",
       "        vertical-align: top;\n",
       "    }\n",
       "\n",
       "    .dataframe thead th {\n",
       "        text-align: right;\n",
       "    }\n",
       "</style>\n",
       "<table border=\"1\" class=\"dataframe\">\n",
       "  <thead>\n",
       "    <tr style=\"text-align: right;\">\n",
       "      <th></th>\n",
       "      <th>index</th>\n",
       "      <th>date</th>\n",
       "      <th>likes</th>\n",
       "      <th>replies</th>\n",
       "      <th>reply</th>\n",
       "      <th>retweet</th>\n",
       "      <th>retweets</th>\n",
       "      <th>text</th>\n",
       "      <th>timestamp</th>\n",
       "      <th>tweet_id</th>\n",
       "      <th>user_id</th>\n",
       "      <th>user_name</th>\n",
       "      <th>user_screen_name</th>\n",
       "    </tr>\n",
       "  </thead>\n",
       "  <tbody>\n",
       "    <tr>\n",
       "      <th>1464</th>\n",
       "      <td>3153</td>\n",
       "      <td>2013-08-26 08:39:17</td>\n",
       "      <td>92</td>\n",
       "      <td>3</td>\n",
       "      <td>1</td>\n",
       "      <td>0</td>\n",
       "      <td>41</td>\n",
       "      <td>“@mikegam40: Singer, Actor, Composer @keancipr...</td>\n",
       "      <td>1377506357</td>\n",
       "      <td>3.719147e+17</td>\n",
       "      <td>30194318</td>\n",
       "      <td>kean cipriano</td>\n",
       "      <td>keancipriano</td>\n",
       "    </tr>\n",
       "    <tr>\n",
       "      <th>1465</th>\n",
       "      <td>2249</td>\n",
       "      <td>2013-08-26 08:39:17</td>\n",
       "      <td>92</td>\n",
       "      <td>3</td>\n",
       "      <td>0</td>\n",
       "      <td>0</td>\n",
       "      <td>41</td>\n",
       "      <td>“@mikegam40: Singer, Actor, Composer @keancipr...</td>\n",
       "      <td>1377506357</td>\n",
       "      <td>3.719147e+17</td>\n",
       "      <td>30194318</td>\n",
       "      <td>kean cipriano</td>\n",
       "      <td>keancipriano</td>\n",
       "    </tr>\n",
       "  </tbody>\n",
       "</table>\n",
       "</div>"
      ],
      "text/plain": [
       "      index                date  likes  replies  reply  retweet  retweets  \\\n",
       "1464   3153 2013-08-26 08:39:17     92        3      1        0        41   \n",
       "1465   2249 2013-08-26 08:39:17     92        3      0        0        41   \n",
       "\n",
       "                                                   text   timestamp  \\\n",
       "1464  “@mikegam40: Singer, Actor, Composer @keancipr...  1377506357   \n",
       "1465  “@mikegam40: Singer, Actor, Composer @keancipr...  1377506357   \n",
       "\n",
       "          tweet_id   user_id      user_name user_screen_name  \n",
       "1464  3.719147e+17  30194318  kean cipriano     keancipriano  \n",
       "1465  3.719147e+17  30194318  kean cipriano     keancipriano  "
      ]
     },
     "metadata": {},
     "output_type": "display_data"
    }
   ],
   "source": [
    "# check for similar tweet_id values\n",
    "for i in range(len(tweets)):\n",
    "    if len(tweets[tweets.tweet_id == tweets.tweet_id.values[i]]) > 1:\n",
    "        display(tweets[tweets.tweet_id == tweets.tweet_id.values[i]])"
   ]
  },
  {
   "cell_type": "code",
   "execution_count": 79,
   "metadata": {
    "ExecuteTime": {
     "end_time": "2019-03-05T06:48:51.557029Z",
     "start_time": "2019-03-05T06:48:51.551341Z"
    }
   },
   "outputs": [
    {
     "data": {
      "text/plain": [
       "126"
      ]
     },
     "execution_count": 79,
     "metadata": {},
     "output_type": "execute_result"
    }
   ],
   "source": [
    "# get list of unique user_screen_name in pandas dataframe\n",
    "# this is the list that is both in the followers list and in the tweets data\n",
    "final_users = list(tweets_2.user_screen_name.unique())\n",
    "len(final_users)"
   ]
  },
  {
   "cell_type": "code",
   "execution_count": 80,
   "metadata": {
    "ExecuteTime": {
     "end_time": "2019-03-05T06:48:51.917727Z",
     "start_time": "2019-03-05T06:48:51.914786Z"
    }
   },
   "outputs": [],
   "source": [
    "# filter user - follower dictionary to include only those selected above\n",
    "users_followers = {k: unified_followers[k] for k in final_users}"
   ]
  },
  {
   "cell_type": "code",
   "execution_count": 81,
   "metadata": {
    "ExecuteTime": {
     "end_time": "2019-03-05T06:55:59.672508Z",
     "start_time": "2019-03-05T06:48:52.427963Z"
    }
   },
   "outputs": [],
   "source": [
    "# make a network using the filtered users_followers above\n",
    "# load Graph of followers\n",
    "G = nx.from_dict_of_lists(users_followers, create_using=nx.DiGraph())\n",
    "\n",
    "# Use spring layout\n",
    "pos = nx.spring_layout(G)"
   ]
  },
  {
   "cell_type": "code",
   "execution_count": 82,
   "metadata": {
    "ExecuteTime": {
     "end_time": "2019-03-05T06:57:13.202029Z",
     "start_time": "2019-03-05T06:55:59.674784Z"
    }
   },
   "outputs": [
    {
     "data": {
      "image/png": "[encoded data removed]",
      "text/plain": [
       "<matplotlib.figure.Figure at 0x181a5386a0>"
      ]
     },
     "metadata": {},
     "output_type": "display_data"
    }
   ],
   "source": [
    "# draw graph\n",
    "plt.figure(figsize=(8, 8))\n",
    "nx.draw(G, pos=pos, node_size=2, with_labels=False)"
   ]
  },
  {
   "cell_type": "code",
   "execution_count": 83,
   "metadata": {
    "ExecuteTime": {
     "end_time": "2019-03-05T06:57:13.508607Z",
     "start_time": "2019-03-05T06:57:13.205475Z"
    }
   },
   "outputs": [],
   "source": [
    "# make adjacency matrix\n",
    "matrix = nx.adjacency_matrix(G).todense()\n",
    "\n",
    "# get nodes list\n",
    "nodes = list(G.nodes)"
   ]
  },
  {
   "cell_type": "code",
   "execution_count": 84,
   "metadata": {
    "ExecuteTime": {
     "end_time": "2019-03-05T06:57:17.746780Z",
     "start_time": "2019-03-05T06:57:13.511263Z"
    },
    "scrolled": true
   },
   "outputs": [
    {
     "name": "stdout",
     "output_type": "stream",
     "text": [
      "No. of links in asymmetric network: 12028\n",
      "Shape of asymmetric network: (11749, 11749)\n",
      "No. of links in symmetric network: 0.0\n",
      "Shape of symmetric network: (0, 0) 0\n"
     ]
    }
   ],
   "source": [
    "# filter symmetric adjacencty matrix\n",
    "sym_matrix, sym_nodes = filter_symmetric(matrix, nodes)\n",
    "\n",
    "print(\"No. of links in asymmetric network:\", np.sum(matrix))\n",
    "print(\"Shape of asymmetric network:\", matrix.shape)\n",
    "print(\"No. of links in symmetric network:\", np.sum(sym_matrix) / 2)\n",
    "print(\"Shape of symmetric network:\", sym_matrix.shape, len(sym_nodes))"
   ]
  },
  {
   "cell_type": "code",
   "execution_count": 85,
   "metadata": {
    "ExecuteTime": {
     "end_time": "2019-03-05T06:57:17.759305Z",
     "start_time": "2019-03-05T06:57:17.749478Z"
    }
   },
   "outputs": [],
   "source": [
    "# load Graph of followers\n",
    "H = nx.from_numpy_array(sym_matrix, create_using=nx.DiGraph())\n",
    "\n",
    "# node labels\n",
    "node_label_mapping = {i: sym_nodes[i] for i in range(len(sym_nodes))}\n",
    "\n",
    "# relabel nodes\n",
    "H = nx.relabel_nodes(H, node_label_mapping)"
   ]
  },
  {
   "cell_type": "code",
   "execution_count": 86,
   "metadata": {
    "ExecuteTime": {
     "end_time": "2019-03-05T06:57:17.917652Z",
     "start_time": "2019-03-05T06:57:17.762402Z"
    }
   },
   "outputs": [
    {
     "data": {
      "image/png": "[encoded data removed]",
      "text/plain": [
       "<matplotlib.figure.Figure at 0x1519ea1a20>"
      ]
     },
     "metadata": {},
     "output_type": "display_data"
    }
   ],
   "source": [
    "# Use spring layout\n",
    "pos = nx.spring_layout(H)\n",
    "\n",
    "# draw graph\n",
    "plt.figure(figsize=(10, 10))\n",
    "\n",
    "# draw graph\n",
    "nx.draw(H, pos=pos, node_size=2, with_labels=True,\n",
    "        font_color='b', font_size=10)"
   ]
  },
  {
   "cell_type": "markdown",
   "metadata": {
    "ExecuteTime": {
     "end_time": "2019-02-25T19:56:51.715032Z",
     "start_time": "2019-02-25T19:56:49.556444Z"
    }
   },
   "source": [
    "### Recruitment Thresholds Distribution"
   ]
  },
  {
   "cell_type": "markdown",
   "metadata": {},
   "source": [
    "#### Overall Distribution - Symmetric vs Asymmetric"
   ]
  },
  {
   "cell_type": "code",
   "execution_count": null,
   "metadata": {
    "ExecuteTime": {
     "end_time": "2019-03-04T18:23:56.175418Z",
     "start_time": "2019-03-04T18:23:56.143961Z"
    }
   },
   "outputs": [],
   "source": [
    "# For asymmetric (default) network\n",
    "\n",
    "# get following counts as a global variable for use in function below\n",
    "following_counts = {k: len(v) for k, v in clean_following.items()}\n",
    "\n",
    "\n",
    "def get_thresholds():\n",
    "    # initiate threshold dict\n",
    "    thresh_dic = {}\n",
    "\n",
    "    # Count the number of friends who activated at the time of activation, ka\n",
    "    for user in list(following_counts.keys()):\n",
    "        date_activated = unique_users[unique_users.user_screen_name == user].date\n",
    "\n",
    "        # filter date < date activated\n",
    "        preactivated_users = unique_users[unique_users.date.values <\n",
    "                                          date_activated.values]\n",
    "\n",
    "        # filter only those being followed by user\n",
    "        _ = preactivated_users[preactivated_users.user_name.isin(\n",
    "            clean_following[user])]\n",
    "\n",
    "        # get number of preactivated users that are being followed\n",
    "        ka = len(_)\n",
    "\n",
    "        # get number of people followed\n",
    "        k = following_counts[user]\n",
    "\n",
    "        # get threshold\n",
    "        thresh = ka / k\n",
    "\n",
    "        # append to dictionary\n",
    "        thresh_dic[user] = thresh\n",
    "\n",
    "    return thresh_dic"
   ]
  },
  {
   "cell_type": "code",
   "execution_count": null,
   "metadata": {
    "ExecuteTime": {
     "end_time": "2019-03-04T18:23:56.409551Z",
     "start_time": "2019-03-04T18:23:56.397955Z"
    }
   },
   "outputs": [],
   "source": [
    "# show some threshold values\n",
    "get_thresholds()"
   ]
  },
  {
   "cell_type": "code",
   "execution_count": null,
   "metadata": {},
   "outputs": [],
   "source": [
    "# plot distribution proportion of nodes vs ka/k"
   ]
  },
  {
   "cell_type": "code",
   "execution_count": null,
   "metadata": {},
   "outputs": [],
   "source": [
    "# plot ka/k over time or something"
   ]
  },
  {
   "cell_type": "code",
   "execution_count": null,
   "metadata": {
    "ExecuteTime": {
     "end_time": "2019-03-04T18:20:34.700893Z",
     "start_time": "2019-03-04T18:20:34.545936Z"
    }
   },
   "outputs": [],
   "source": [
    "# Filter the network for symmetric only\n",
    "# list of users in symmetric network\n",
    "user_list = [v for k, v in node_label_mapping.items()]\n",
    "\n",
    "# filter only users in symmetric network\n",
    "symm_followers = filter_users_from_dic(unified_followers, user_list)\n",
    "\n",
    "# make graph\n",
    "Z = nx.from_dict_of_lists(symm_followers, create_using=nx.DiGraph())\n",
    "\n",
    "# Use spring layout\n",
    "pos = nx.spring_layout(H)\n",
    "\n",
    "# draw graph\n",
    "plt.figure(figsize=(10, 10))\n",
    "\n",
    "# draw graph\n",
    "nx.draw(Z, pos=pos, node_size=2, with_labels=True,\n",
    "        font_color='b', font_size=10)"
   ]
  },
  {
   "cell_type": "code",
   "execution_count": null,
   "metadata": {
    "ExecuteTime": {
     "end_time": "2019-03-04T17:34:24.694978Z",
     "start_time": "2019-03-04T17:34:24.687706Z"
    }
   },
   "outputs": [],
   "source": [
    "# For each user, count number of persons followed, k\n",
    "\n",
    "# Count the number of friends who activated at the time of activation, ka\n",
    "# Calculate threshold ka/k"
   ]
  },
  {
   "cell_type": "markdown",
   "metadata": {},
   "source": [
    "#### Distribution Before and After Protest"
   ]
  },
  {
   "cell_type": "markdown",
   "metadata": {},
   "source": [
    "### Recruitment Bursts"
   ]
  },
  {
   "cell_type": "markdown",
   "metadata": {},
   "source": [
    "### Recruitment Activation Over Time"
   ]
  },
  {
   "cell_type": "markdown",
   "metadata": {},
   "source": [
    "### Distribution of Cascade Size"
   ]
  },
  {
   "cell_type": "code",
   "execution_count": null,
   "metadata": {
    "ExecuteTime": {
     "end_time": "2019-03-04T16:29:50.209892Z",
     "start_time": "2019-03-04T16:29:50.203090Z"
    }
   },
   "outputs": [],
   "source": [
    "# How to identify cascade? retweet of same message?\n",
    "    # Count how many retweeted same message = cascade size?\n",
    "    # Count how many used the same #hashtag - cascade size?\n",
    "    # Add k core attributes per node\n",
    "    # Find K core of who started = seed/leader\n",
    "    # Associate cascade size with k core of seed/leader"
   ]
  },
  {
   "cell_type": "markdown",
   "metadata": {},
   "source": [
    "### Node Centrality (K Core) vs Cascade Size"
   ]
  },
  {
   "cell_type": "code",
   "execution_count": null,
   "metadata": {},
   "outputs": [],
   "source": []
  }
 ],
 "metadata": {
  "hide_input": false,
  "kernelspec": {
   "display_name": "Python [default]",
   "language": "python",
   "name": "python3"
  },
  "language_info": {
   "codemirror_mode": {
    "name": "ipython",
    "version": 3
   },
   "file_extension": ".py",
   "mimetype": "text/x-python",
   "name": "python",
   "nbconvert_exporter": "python",
   "pygments_lexer": "ipython3",
   "version": "3.6.4"
  },
  "latex_envs": {
   "LaTeX_envs_menu_present": true,
   "autoclose": false,
   "autocomplete": true,
   "bibliofile": "biblio.bib",
   "cite_by": "apalike",
   "current_citInitial": 1,
   "eqLabelWithNumbers": true,
   "eqNumInitial": 1,
   "hotkeys": {
    "equation": "Ctrl-E",
    "itemize": "Ctrl-I"
   },
   "labels_anchors": false,
   "latex_user_defs": false,
   "report_style_numbering": false,
   "user_envs_cfg": false
  },
  "toc": {
   "base_numbering": 1,
   "nav_menu": {},
   "number_sections": true,
   "sideBar": true,
   "skip_h1_title": false,
   "title_cell": "Table of Contents",
   "title_sidebar": "Contents",
   "toc_cell": false,
   "toc_position": {},
   "toc_section_display": true,
   "toc_window_display": false
  }
 },
 "nbformat": 4,
 "nbformat_minor": 2
}
