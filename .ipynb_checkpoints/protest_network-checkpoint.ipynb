{
 "cells": [
  {
   "cell_type": "markdown",
   "metadata": {},
   "source": [
    "# Analysis of Spread of PDAF Protest Sentiment on Twitter"
   ]
  },
  {
   "cell_type": "markdown",
   "metadata": {},
   "source": [
    "## Executive Summary"
   ]
  },
  {
   "cell_type": "markdown",
   "metadata": {},
   "source": [
    "## Introduction"
   ]
  },
  {
   "cell_type": "markdown",
   "metadata": {
    "ExecuteTime": {
     "end_time": "2019-03-08T08:44:53.068106Z",
     "start_time": "2019-03-08T08:44:53.065696Z"
    }
   },
   "source": [
    "## The Dataset"
   ]
  },
  {
   "cell_type": "markdown",
   "metadata": {},
   "source": [
    "## Methods"
   ]
  },
  {
   "cell_type": "code",
   "execution_count": 354,
   "metadata": {
    "ExecuteTime": {
     "end_time": "2019-03-08T11:32:16.657455Z",
     "start_time": "2019-03-08T11:32:16.649575Z"
    }
   },
   "outputs": [],
   "source": [
    "import numpy as np\n",
    "import pandas as pd\n",
    "import matplotlib.pyplot as plt\n",
    "\n",
    "import json\n",
    "import glob\n",
    "import ast\n",
    "import re\n",
    "\n",
    "import networkx as nx\n",
    "from itertools import combinations\n",
    "from collections import Counter \n",
    "from datetime import datetime"
   ]
  },
  {
   "cell_type": "code",
   "execution_count": 2,
   "metadata": {
    "ExecuteTime": {
     "end_time": "2019-03-08T06:41:13.119797Z",
     "start_time": "2019-03-08T06:41:13.110441Z"
    }
   },
   "outputs": [
    {
     "data": {
      "text/plain": [
       "['data/new_tweets_mpm.json',\n",
       " 'data/tweets_mpm_list_following.json',\n",
       " 'data/unified_followers.json',\n",
       " 'data/unified_following.json',\n",
       " 'data/user_followers.json',\n",
       " 'data/user_following.json']"
      ]
     },
     "execution_count": 2,
     "metadata": {},
     "output_type": "execute_result"
    }
   ],
   "source": [
    "# load data paths\n",
    "paths = glob.glob(\"data/*\")\n",
    "paths"
   ]
  },
  {
   "cell_type": "code",
   "execution_count": 3,
   "metadata": {
    "ExecuteTime": {
     "end_time": "2019-03-08T06:41:13.125129Z",
     "start_time": "2019-03-08T06:41:13.121972Z"
    }
   },
   "outputs": [],
   "source": [
    "## IMPLEMENT KEY DUPLICATE REMOVER DURING CLEANING?\n",
    "## Dictionaries automatically remove duplicates"
   ]
  },
  {
   "cell_type": "code",
   "execution_count": 4,
   "metadata": {
    "ExecuteTime": {
     "end_time": "2019-03-08T06:41:13.135353Z",
     "start_time": "2019-03-08T06:41:13.127473Z"
    }
   },
   "outputs": [],
   "source": [
    "def read_dict_from_file(path):\n",
    "\n",
    "    # open scraped file as string\n",
    "    f = open(path).read()\n",
    "\n",
    "    # convert scraped file from string to dictionary\n",
    "    dic = ast.literal_eval(f)\n",
    "\n",
    "    # return dictionary of file\n",
    "    return dic"
   ]
  },
  {
   "cell_type": "code",
   "execution_count": 5,
   "metadata": {
    "ExecuteTime": {
     "end_time": "2019-03-08T06:41:13.142076Z",
     "start_time": "2019-03-08T06:41:13.137670Z"
    }
   },
   "outputs": [],
   "source": [
    "# REMOVE BELOW NON-Number/Alphabet characters\n",
    "# DO THE SAME FOR THE TWITTER PANDAS DATAFRAME"
   ]
  },
  {
   "cell_type": "code",
   "execution_count": 6,
   "metadata": {
    "ExecuteTime": {
     "end_time": "2019-03-08T06:41:13.179692Z",
     "start_time": "2019-03-08T06:41:13.145662Z"
    }
   },
   "outputs": [],
   "source": [
    "def clean_dict(dirty_dict, name_type=\"screen_name\"):\n",
    "\n",
    "    # define new dictionary\n",
    "    new_dict = {}\n",
    "\n",
    "    # get keys from input dirty dict\n",
    "    keys = dirty_dict.keys()\n",
    "\n",
    "    for key in keys:\n",
    "\n",
    "        # format is [{\"full_name\" : \"XX\", \"screen_name\" : \"YY\"}]\n",
    "        value = dirty_dict[key]\n",
    "        \n",
    "        # pattern for cleaning\n",
    "        pattern = re.compile(\"[\\w]+\")\n",
    "\n",
    "        # clean full_names and make lower_case\n",
    "        # get followers full_name per user\n",
    "        full_names = [\"\".join(re.findall(pattern, d[name_type])).lower() for d in value]\n",
    "\n",
    "#         # get followers screen name per user\n",
    "#         screen_names = [d[\"screen_name\"] for d in value]\n",
    "    \n",
    "        # clean keys\n",
    "        new_key = \"\".join(re.findall(pattern, key)).lower()\n",
    "        \n",
    "        # make key: value pair using full_name per user\n",
    "        new_dict[new_key] = full_names\n",
    "\n",
    "    # return new_dict\n",
    "    return new_dict"
   ]
  },
  {
   "cell_type": "markdown",
   "metadata": {},
   "source": [
    "# Analysis"
   ]
  },
  {
   "cell_type": "markdown",
   "metadata": {},
   "source": [
    "## Preparing Follower and Following Data"
   ]
  },
  {
   "cell_type": "code",
   "execution_count": 8,
   "metadata": {
    "ExecuteTime": {
     "end_time": "2019-03-08T06:42:10.924638Z",
     "start_time": "2019-03-08T06:42:01.861578Z"
    }
   },
   "outputs": [],
   "source": [
    "# load dirty followers dictionary\n",
    "path = \"data/user_followers.json\"\n",
    "dirty_followers = read_dict_from_file(path)\n",
    "\n",
    "# load dirty following dictionary\n",
    "path = \"data/user_following.json\"\n",
    "dirty_following = read_dict_from_file(path)"
   ]
  },
  {
   "cell_type": "code",
   "execution_count": 9,
   "metadata": {
    "ExecuteTime": {
     "end_time": "2019-03-08T06:42:13.686483Z",
     "start_time": "2019-03-08T06:42:12.539787Z"
    }
   },
   "outputs": [],
   "source": [
    "# get clean followers, full_name\n",
    "clean_followers = clean_dict(dirty_followers, \"screen_name\")\n",
    "\n",
    "# get clean following, full_name\n",
    "clean_following = clean_dict(dirty_following, \"screen_name\")"
   ]
  },
  {
   "cell_type": "code",
   "execution_count": 10,
   "metadata": {
    "ExecuteTime": {
     "end_time": "2019-03-08T06:42:13.705166Z",
     "start_time": "2019-03-08T06:42:13.688833Z"
    }
   },
   "outputs": [],
   "source": [
    "# function to combine (get union) dictionaries\n",
    "def union_dict(a, b):\n",
    "    # a is the bigger dataset we will update with b\n",
    "    for k, v in a.items():\n",
    "        # if key is in a and b, then just append to current data in a\n",
    "        if k in b.keys():\n",
    "            # get union of unique items (remove redundancy)\n",
    "            a[k] = list(set(a[k] + b[k]))\n",
    "\n",
    "    # append keys in b that are not in a\n",
    "    for k, v in b.items():\n",
    "        if k not in a.keys():\n",
    "            a[k] = v\n",
    "\n",
    "    return a"
   ]
  },
  {
   "cell_type": "code",
   "execution_count": 11,
   "metadata": {
    "ExecuteTime": {
     "end_time": "2019-03-08T06:42:14.531688Z",
     "start_time": "2019-03-08T06:42:14.520978Z"
    }
   },
   "outputs": [
    {
     "data": {
      "text/plain": [
       "{'a': [1, 2, 3, 4, 5], 'b': [2, 3, 4], 'c': [8, 9]}"
      ]
     },
     "execution_count": 11,
     "metadata": {},
     "output_type": "execute_result"
    }
   ],
   "source": [
    "# Test\n",
    "a = {\"a\":[1, 2, 5], \"b\":[2, 3, 4]}\n",
    "b = {\"a\":[1, 2, 3, 4], \"c\":[8, 9]}\n",
    "union_dict(a, b)"
   ]
  },
  {
   "cell_type": "code",
   "execution_count": 12,
   "metadata": {
    "ExecuteTime": {
     "end_time": "2019-03-08T06:42:14.969828Z",
     "start_time": "2019-03-08T06:42:14.960411Z"
    }
   },
   "outputs": [],
   "source": [
    "# convert following to followers format\n",
    "# e.g. {\"user_A\": [\"followed_user_1\", \"followed_user_2\"]\n",
    "# turn to: {\"followed_user_1\" : [\"user_A], \"followed_user_2\": [\"user_A\"]}\n",
    "# So network direction goes from user (followed) to follower\n",
    "\n",
    "def swap_key_val(old_dic):\n",
    "\n",
    "    # get keys of dictionary to swap\n",
    "    keys = old_dic.keys()\n",
    "\n",
    "    # convert keys to vals and vals to keys\n",
    "    # initiate new dictioanary (swapped)\n",
    "    new_dic = {}\n",
    "    for key in keys:\n",
    "        # swap value and key\n",
    "        a = {val: [key] for val in old_dic[key]}\n",
    "        # add to new_dic using union_dict function\n",
    "        new_dic = union_dict(new_dic, a)\n",
    "    return new_dic"
   ]
  },
  {
   "cell_type": "code",
   "execution_count": 13,
   "metadata": {
    "ExecuteTime": {
     "end_time": "2019-03-08T06:42:15.235873Z",
     "start_time": "2019-03-08T06:42:15.228144Z"
    }
   },
   "outputs": [
    {
     "data": {
      "text/plain": [
       "{'a': ['follower_a'],\n",
       " 'b': ['follower_a', 'follower_b'],\n",
       " 'c': ['follower_b'],\n",
       " 'd': ['follower_b']}"
      ]
     },
     "execution_count": 13,
     "metadata": {},
     "output_type": "execute_result"
    }
   ],
   "source": [
    "# Test\n",
    "a = {\"follower_a\":[\"a\", \"b\"], \"follower_b\":[\"b\", \"c\", \"d\"]}\n",
    "b = swap_key_val(a)\n",
    "b"
   ]
  },
  {
   "cell_type": "code",
   "execution_count": 14,
   "metadata": {
    "ExecuteTime": {
     "end_time": "2019-03-08T06:43:34.264710Z",
     "start_time": "2019-03-08T06:42:15.642236Z"
    }
   },
   "outputs": [],
   "source": [
    "a = clean_followers.copy()\n",
    "b = clean_following.copy()\n",
    "\n",
    "# get followers data from following data\n",
    "followers_from_following = swap_key_val(b)\n",
    "\n",
    "# get union of followers data (scraped) and followers from following data\n",
    "unified_followers = union_dict(a, followers_from_following)"
   ]
  },
  {
   "cell_type": "code",
   "execution_count": 15,
   "metadata": {
    "ExecuteTime": {
     "end_time": "2019-03-08T06:43:35.062415Z",
     "start_time": "2019-03-08T06:43:34.266391Z"
    }
   },
   "outputs": [],
   "source": [
    "# save unified_followers to json\n",
    "with open('data/unified_followers.json', 'w') as f:\n",
    "    json.dump(unified_followers, f)"
   ]
  },
  {
   "cell_type": "code",
   "execution_count": 16,
   "metadata": {
    "ExecuteTime": {
     "end_time": "2019-03-08T06:43:35.067752Z",
     "start_time": "2019-03-08T06:43:35.064475Z"
    }
   },
   "outputs": [],
   "source": [
    "# load saved file"
   ]
  },
  {
   "cell_type": "code",
   "execution_count": 17,
   "metadata": {
    "ExecuteTime": {
     "end_time": "2019-03-08T06:44:05.754386Z",
     "start_time": "2019-03-08T06:43:35.070117Z"
    }
   },
   "outputs": [],
   "source": [
    "# get unified following data\n",
    "# get following data from followers data\n",
    "\n",
    "a = clean_followers.copy()\n",
    "b = clean_following.copy()\n",
    "\n",
    "following_from_followers = swap_key_val(a)\n",
    "\n",
    "# get union of followers data (scraped) and followers from following data\n",
    "unified_following = union_dict(b, following_from_followers)"
   ]
  },
  {
   "cell_type": "code",
   "execution_count": 18,
   "metadata": {
    "ExecuteTime": {
     "end_time": "2019-03-08T06:44:05.759365Z",
     "start_time": "2019-03-08T06:44:05.756267Z"
    }
   },
   "outputs": [],
   "source": [
    "# load saved file"
   ]
  },
  {
   "cell_type": "code",
   "execution_count": 19,
   "metadata": {
    "ExecuteTime": {
     "end_time": "2019-03-08T06:44:06.543349Z",
     "start_time": "2019-03-08T06:44:05.762202Z"
    }
   },
   "outputs": [],
   "source": [
    "# save unified_following to json\n",
    "with open('data/unified_following.json', 'w') as f:\n",
    "    json.dump(unified_following, f)"
   ]
  },
  {
   "cell_type": "code",
   "execution_count": 20,
   "metadata": {
    "ExecuteTime": {
     "end_time": "2019-03-08T06:44:06.551279Z",
     "start_time": "2019-03-08T06:44:06.545526Z"
    }
   },
   "outputs": [
    {
     "data": {
      "text/plain": [
       "5119"
      ]
     },
     "execution_count": 20,
     "metadata": {},
     "output_type": "execute_result"
    }
   ],
   "source": [
    "# length of scraped following\n",
    "len(clean_following)"
   ]
  },
  {
   "cell_type": "code",
   "execution_count": 21,
   "metadata": {
    "ExecuteTime": {
     "end_time": "2019-03-08T06:44:06.633701Z",
     "start_time": "2019-03-08T06:44:06.555063Z"
    }
   },
   "outputs": [
    {
     "data": {
      "text/plain": [
       "119605"
      ]
     },
     "execution_count": 21,
     "metadata": {},
     "output_type": "execute_result"
    }
   ],
   "source": [
    "# length of unified following\n",
    "len(unified_following)"
   ]
  },
  {
   "cell_type": "code",
   "execution_count": 22,
   "metadata": {
    "ExecuteTime": {
     "end_time": "2019-03-08T06:44:06.651984Z",
     "start_time": "2019-03-08T06:44:06.636916Z"
    }
   },
   "outputs": [
    {
     "data": {
      "text/plain": [
       "122923"
      ]
     },
     "execution_count": 22,
     "metadata": {},
     "output_type": "execute_result"
    }
   ],
   "source": [
    "# num of all users:followers scraped\n",
    "len(unified_followers.keys())"
   ]
  },
  {
   "cell_type": "code",
   "execution_count": 23,
   "metadata": {
    "ExecuteTime": {
     "end_time": "2019-03-08T06:44:06.666236Z",
     "start_time": "2019-03-08T06:44:06.655311Z"
    }
   },
   "outputs": [
    {
     "data": {
      "text/plain": [
       "3028"
      ]
     },
     "execution_count": 23,
     "metadata": {},
     "output_type": "execute_result"
    }
   ],
   "source": [
    "# num in just clean_followers\n",
    "len(clean_followers.keys())"
   ]
  },
  {
   "cell_type": "code",
   "execution_count": 24,
   "metadata": {
    "ExecuteTime": {
     "end_time": "2019-03-08T06:44:06.683036Z",
     "start_time": "2019-03-08T06:44:06.669314Z"
    }
   },
   "outputs": [
    {
     "data": {
      "text/plain": [
       "120512"
      ]
     },
     "execution_count": 24,
     "metadata": {},
     "output_type": "execute_result"
    }
   ],
   "source": [
    "# num in user:followers from following data\n",
    "len(followers_from_following.keys())"
   ]
  },
  {
   "cell_type": "markdown",
   "metadata": {},
   "source": [
    "## Making Followers Graph - Asymmetric"
   ]
  },
  {
   "cell_type": "markdown",
   "metadata": {},
   "source": [
    "We generate a graph of all the nodes in the followers and following dataset."
   ]
  },
  {
   "cell_type": "code",
   "execution_count": 25,
   "metadata": {
    "ExecuteTime": {
     "end_time": "2019-03-08T06:44:16.671098Z",
     "start_time": "2019-03-08T06:44:14.951213Z"
    }
   },
   "outputs": [
    {
     "data": {
      "text/plain": [
       "224943"
      ]
     },
     "execution_count": 25,
     "metadata": {},
     "output_type": "execute_result"
    }
   ],
   "source": [
    "# load Graph of followers\n",
    "G = nx.from_dict_of_lists(unified_followers, create_using=nx.DiGraph())\n",
    "len(G.nodes)"
   ]
  },
  {
   "cell_type": "markdown",
   "metadata": {
    "ExecuteTime": {
     "end_time": "2019-03-07T16:19:51.475809Z",
     "start_time": "2019-03-07T16:19:51.472826Z"
    }
   },
   "source": [
    "### Basic Properties"
   ]
  },
  {
   "cell_type": "code",
   "execution_count": 26,
   "metadata": {
    "ExecuteTime": {
     "end_time": "2019-03-08T06:44:24.184302Z",
     "start_time": "2019-03-08T06:44:23.927013Z"
    }
   },
   "outputs": [
    {
     "data": {
      "text/html": [
       "<div>\n",
       "<style scoped>\n",
       "    .dataframe tbody tr th:only-of-type {\n",
       "        vertical-align: middle;\n",
       "    }\n",
       "\n",
       "    .dataframe tbody tr th {\n",
       "        vertical-align: top;\n",
       "    }\n",
       "\n",
       "    .dataframe thead th {\n",
       "        text-align: right;\n",
       "    }\n",
       "</style>\n",
       "<table border=\"1\" class=\"dataframe\">\n",
       "  <thead>\n",
       "    <tr style=\"text-align: right;\">\n",
       "      <th></th>\n",
       "      <th>0</th>\n",
       "    </tr>\n",
       "  </thead>\n",
       "  <tbody>\n",
       "    <tr>\n",
       "      <th>avg_degree</th>\n",
       "      <td>1.489239</td>\n",
       "    </tr>\n",
       "    <tr>\n",
       "      <th>min_degree</th>\n",
       "      <td>0.000000</td>\n",
       "    </tr>\n",
       "    <tr>\n",
       "      <th>max_degree</th>\n",
       "      <td>1730.000000</td>\n",
       "    </tr>\n",
       "  </tbody>\n",
       "</table>\n",
       "</div>"
      ],
      "text/plain": [
       "                      0\n",
       "avg_degree     1.489239\n",
       "min_degree     0.000000\n",
       "max_degree  1730.000000"
      ]
     },
     "execution_count": 26,
     "metadata": {},
     "output_type": "execute_result"
    }
   ],
   "source": [
    "# out_degrees\n",
    "degs = [k for n, k in G.out_degree]\n",
    "avg_deg = np.mean(degs)\n",
    "min_deg = np.min(degs)\n",
    "max_deg = np.max(degs)\n",
    "\n",
    "vals = {\"avg_degree\":[avg_deg], \"min_degree\":[min_deg], \"max_degree\":[max_deg]}\n",
    "pd.DataFrame.from_dict(vals).T"
   ]
  },
  {
   "cell_type": "code",
   "execution_count": 27,
   "metadata": {
    "ExecuteTime": {
     "end_time": "2019-03-08T06:44:25.616531Z",
     "start_time": "2019-03-08T06:44:25.423838Z"
    }
   },
   "outputs": [
    {
     "data": {
      "text/html": [
       "<div>\n",
       "<style scoped>\n",
       "    .dataframe tbody tr th:only-of-type {\n",
       "        vertical-align: middle;\n",
       "    }\n",
       "\n",
       "    .dataframe tbody tr th {\n",
       "        vertical-align: top;\n",
       "    }\n",
       "\n",
       "    .dataframe thead th {\n",
       "        text-align: right;\n",
       "    }\n",
       "</style>\n",
       "<table border=\"1\" class=\"dataframe\">\n",
       "  <thead>\n",
       "    <tr style=\"text-align: right;\">\n",
       "      <th></th>\n",
       "      <th>0</th>\n",
       "    </tr>\n",
       "  </thead>\n",
       "  <tbody>\n",
       "    <tr>\n",
       "      <th>avg_degree</th>\n",
       "      <td>1.489239</td>\n",
       "    </tr>\n",
       "    <tr>\n",
       "      <th>min_degree</th>\n",
       "      <td>0.000000</td>\n",
       "    </tr>\n",
       "    <tr>\n",
       "      <th>max_degree</th>\n",
       "      <td>2846.000000</td>\n",
       "    </tr>\n",
       "  </tbody>\n",
       "</table>\n",
       "</div>"
      ],
      "text/plain": [
       "                      0\n",
       "avg_degree     1.489239\n",
       "min_degree     0.000000\n",
       "max_degree  2846.000000"
      ]
     },
     "execution_count": 27,
     "metadata": {},
     "output_type": "execute_result"
    }
   ],
   "source": [
    "# in_degrees\n",
    "degs = [k for n, k in G.in_degree]\n",
    "avg_deg = np.mean(degs)\n",
    "min_deg = np.min(degs)\n",
    "max_deg = np.max(degs)\n",
    "\n",
    "vals = {\"avg_degree\":[avg_deg], \"min_degree\":[min_deg], \"max_degree\":[max_deg]}\n",
    "pd.DataFrame.from_dict(vals).T"
   ]
  },
  {
   "cell_type": "code",
   "execution_count": 28,
   "metadata": {
    "ExecuteTime": {
     "end_time": "2019-03-08T06:44:26.092224Z",
     "start_time": "2019-03-08T06:44:25.831553Z"
    }
   },
   "outputs": [
    {
     "data": {
      "text/html": [
       "<div>\n",
       "<style scoped>\n",
       "    .dataframe tbody tr th:only-of-type {\n",
       "        vertical-align: middle;\n",
       "    }\n",
       "\n",
       "    .dataframe tbody tr th {\n",
       "        vertical-align: top;\n",
       "    }\n",
       "\n",
       "    .dataframe thead th {\n",
       "        text-align: right;\n",
       "    }\n",
       "</style>\n",
       "<table border=\"1\" class=\"dataframe\">\n",
       "  <thead>\n",
       "    <tr style=\"text-align: right;\">\n",
       "      <th></th>\n",
       "      <th>0</th>\n",
       "    </tr>\n",
       "  </thead>\n",
       "  <tbody>\n",
       "    <tr>\n",
       "      <th>avg_degree</th>\n",
       "      <td>2.978479</td>\n",
       "    </tr>\n",
       "    <tr>\n",
       "      <th>min_degree</th>\n",
       "      <td>0.000000</td>\n",
       "    </tr>\n",
       "    <tr>\n",
       "      <th>max_degree</th>\n",
       "      <td>3298.000000</td>\n",
       "    </tr>\n",
       "  </tbody>\n",
       "</table>\n",
       "</div>"
      ],
      "text/plain": [
       "                      0\n",
       "avg_degree     2.978479\n",
       "min_degree     0.000000\n",
       "max_degree  3298.000000"
      ]
     },
     "execution_count": 28,
     "metadata": {},
     "output_type": "execute_result"
    }
   ],
   "source": [
    "# degrees\n",
    "degs = [k for n, k in G.degree]\n",
    "avg_deg = np.mean(degs)\n",
    "min_deg = np.min(degs)\n",
    "max_deg = np.max(degs)\n",
    "\n",
    "vals = {\"avg_degree\":[avg_deg], \"min_degree\":[min_deg], \"max_degree\":[max_deg]}\n",
    "pd.DataFrame.from_dict(vals).T"
   ]
  },
  {
   "cell_type": "code",
   "execution_count": 29,
   "metadata": {
    "ExecuteTime": {
     "end_time": "2019-03-08T06:44:27.369597Z",
     "start_time": "2019-03-08T06:44:27.366962Z"
    }
   },
   "outputs": [],
   "source": [
    "# clustering"
   ]
  },
  {
   "cell_type": "markdown",
   "metadata": {},
   "source": [
    "### Degree Distribution"
   ]
  },
  {
   "cell_type": "code",
   "execution_count": 32,
   "metadata": {
    "ExecuteTime": {
     "end_time": "2019-03-08T06:45:00.198600Z",
     "start_time": "2019-03-08T06:44:59.518251Z"
    }
   },
   "outputs": [
    {
     "data": {
      "text/plain": [
       "Text(0.5,1,'Out degree distribution')"
      ]
     },
     "execution_count": 32,
     "metadata": {},
     "output_type": "execute_result"
    },
    {
     "data": {
      "image/png": "[encoded data removed]",
      "text/plain": [
       "<matplotlib.figure.Figure at 0x152fd8ac88>"
      ]
     },
     "metadata": {},
     "output_type": "display_data"
    }
   ],
   "source": [
    "# out degree distribution\n",
    "degs = [v for k, v in G.out_degree]\n",
    "\n",
    "# count\n",
    "deg_count = Counter(degs)\n",
    "\n",
    "# plot\n",
    "plt.loglog(deg_count.keys(), deg_count.values(), 'o', alpha=0.5)\n",
    "\n",
    "plt.xlabel(\"out_degree\")\n",
    "plt.ylabel(\"num nodes\")\n",
    "plt.title(\"Out degree distribution\")"
   ]
  },
  {
   "cell_type": "code",
   "execution_count": 33,
   "metadata": {
    "ExecuteTime": {
     "end_time": "2019-03-08T06:45:09.980187Z",
     "start_time": "2019-03-08T06:45:09.133534Z"
    }
   },
   "outputs": [
    {
     "data": {
      "text/plain": [
       "Text(0.5,1,'In degree distribution')"
      ]
     },
     "execution_count": 33,
     "metadata": {},
     "output_type": "execute_result"
    },
    {
     "data": {
      "image/png": "[encoded data removed]",
      "text/plain": [
       "<matplotlib.figure.Figure at 0x153015d4e0>"
      ]
     },
     "metadata": {},
     "output_type": "display_data"
    }
   ],
   "source": [
    "# in degree distribution\n",
    "degs = [v for k, v in G.in_degree]\n",
    "\n",
    "# count\n",
    "deg_count = Counter(degs)\n",
    "\n",
    "# plot\n",
    "plt.loglog(deg_count.keys(), deg_count.values(), 'o', alpha=0.5)\n",
    "\n",
    "plt.xlabel(\"in_degree\")\n",
    "plt.ylabel(\"num nodes\")\n",
    "plt.title(\"In degree distribution\")"
   ]
  },
  {
   "cell_type": "code",
   "execution_count": 34,
   "metadata": {
    "ExecuteTime": {
     "end_time": "2019-03-08T06:45:17.808110Z",
     "start_time": "2019-03-08T06:45:16.886235Z"
    }
   },
   "outputs": [
    {
     "data": {
      "text/plain": [
       "Text(0.5,1,'Degree distribution')"
      ]
     },
     "execution_count": 34,
     "metadata": {},
     "output_type": "execute_result"
    },
    {
     "data": {
      "image/png": "[encoded data removed]",
      "text/plain": [
       "<matplotlib.figure.Figure at 0x1530433be0>"
      ]
     },
     "metadata": {},
     "output_type": "display_data"
    }
   ],
   "source": [
    "# degree distribution\n",
    "degs = [v for k, v in G.degree]\n",
    "\n",
    "# count\n",
    "deg_count = Counter(degs)\n",
    "\n",
    "# plot\n",
    "plt.loglog(deg_count.keys(), deg_count.values(), 'o', alpha=0.5)\n",
    "\n",
    "plt.xlabel(\"degree\")\n",
    "plt.ylabel(\"num nodes\")\n",
    "plt.title(\"Degree distribution\")"
   ]
  },
  {
   "cell_type": "code",
   "execution_count": null,
   "metadata": {
    "ExecuteTime": {
     "end_time": "2019-03-08T06:41:18.785984Z",
     "start_time": "2019-03-08T06:41:18.637Z"
    }
   },
   "outputs": [],
   "source": [
    "# VISUALIZATION\n",
    "# # Use spring layout\n",
    "# pos = nx.spring_layout(G)\n",
    "\n",
    "# # draw graph\n",
    "# plt.figure(figsize=(10, 10))\n",
    "# nx.draw(G, pos=pos, node_size=2, with_labels=False)"
   ]
  },
  {
   "cell_type": "markdown",
   "metadata": {},
   "source": [
    "## Filtering Followers Subgraph - Symmetric"
   ]
  },
  {
   "cell_type": "markdown",
   "metadata": {},
   "source": [
    "The function below only selects that nodes that mutually follow each other (regardless if they tweeted about the protest or not). a <--> b will be preserved while c --> d will not be."
   ]
  },
  {
   "cell_type": "code",
   "execution_count": null,
   "metadata": {
    "ExecuteTime": {
     "end_time": "2019-03-07T19:19:23.650681Z",
     "start_time": "2019-03-07T19:19:23.635070Z"
    }
   },
   "outputs": [],
   "source": [
    "# def filter_symmetric(matrix, nodes):\n",
    "#     # get only symmetric\n",
    "#     matrix_sym = np.multiply(matrix, matrix.T)\n",
    "    \n",
    "#     # make diagonal = 0\n",
    "#     np.fill_diagonal(matrix_sym, 0)\n",
    "    \n",
    "#     # get indices with at least one degree in the symmetric network\n",
    "#     nonzero = np.array(np.sum(matrix_sym, axis=0))\n",
    "#     inds = list(np.nonzero(nonzero[0])[0])\n",
    "    \n",
    "\n",
    "\n",
    "#     # get nodes corresponding to index of nodes in symm network\n",
    "#     sym_nodes = np.array(nodes)[inds]\n",
    "    \n",
    "#     return matrix_sym, sym_nodes"
   ]
  },
  {
   "cell_type": "code",
   "execution_count": null,
   "metadata": {
    "ExecuteTime": {
     "end_time": "2019-03-07T19:19:24.506532Z",
     "start_time": "2019-03-07T19:19:24.498687Z"
    }
   },
   "outputs": [],
   "source": [
    "# # TEST\n",
    "# matrix = np.matrix([[1, 0, 1, 1], [1, 1, 0, 1], [1, 0, 0, 0], [0, 1, 1, 1]])\n",
    "# nodes = ['a', 'b', 'c', 'd']\n",
    "# filter_symmetric(matrix, nodes)"
   ]
  },
  {
   "cell_type": "code",
   "execution_count": null,
   "metadata": {
    "ExecuteTime": {
     "end_time": "2019-03-07T19:19:28.392662Z",
     "start_time": "2019-03-07T19:19:26.012576Z"
    }
   },
   "outputs": [],
   "source": [
    "# # make adjacency matrix\n",
    "# matrix = nx.adjacency_matrix(G).todense()\n",
    "\n",
    "# # get nodes list\n",
    "# nodes = list(G.nodes)\n",
    "\n",
    "# # THIS SHOULD BE EQUAL\n",
    "# matrix.shape, len(nodes)"
   ]
  },
  {
   "cell_type": "code",
   "execution_count": null,
   "metadata": {
    "ExecuteTime": {
     "start_time": "2019-03-07T16:23:07.270Z"
    },
    "scrolled": true
   },
   "outputs": [],
   "source": [
    "# # CAN WE REMOVE THIS? SINCE THE IMPLEMENTATION BELOW WORKS AND THIS BREAKS\n",
    "# # THIS KILLS THE KERNEL\n",
    "# # filter symmetric adjacencty matrix\n",
    "# sym_matrix, sym_nodes = filter_symmetric(matrix, nodes)\n",
    "\n",
    "# print(\"No. of links in asymmetric network:\", np.sum(matrix))\n",
    "# print(\"Shape of asymmetric network:\", matrix.shape)\n",
    "# print(\"No. of links in symmetric network:\", np.sum(sym_matrix)/2)\n",
    "# print(\"Shape of symmetric network:\", sym_matrix.shape, len(sym_nodes))"
   ]
  },
  {
   "cell_type": "code",
   "execution_count": 35,
   "metadata": {
    "ExecuteTime": {
     "end_time": "2019-03-08T06:45:25.976821Z",
     "start_time": "2019-03-08T06:45:25.958571Z"
    }
   },
   "outputs": [],
   "source": [
    "# Filter symmetric given dictionary of followers only\n",
    "def filter_symmetric_from_dict(dic):\n",
    "    # get dictionary of followers\n",
    "    \n",
    "    # define new dictionary    \n",
    "    sym_dic = {}\n",
    "    \n",
    "    # run through keys and values\n",
    "    for k, v in dic.items():\n",
    "        # check if symmetric by looking at key and valu\n",
    "        for i in v:\n",
    "            try:\n",
    "                if k in dic[i]:\n",
    "                    if k in sym_dic:\n",
    "                        sym_dic[k] += [i]\n",
    "                    else:\n",
    "                        sym_dic[k] = [i]\n",
    "            except:\n",
    "                continue\n",
    "    return sym_dic"
   ]
  },
  {
   "cell_type": "code",
   "execution_count": 36,
   "metadata": {
    "ExecuteTime": {
     "end_time": "2019-03-08T06:45:27.141386Z",
     "start_time": "2019-03-08T06:45:27.133160Z"
    }
   },
   "outputs": [
    {
     "data": {
      "text/plain": [
       "{'a': ['b', 'c'], 'b': ['a', 'z'], 'c': ['a'], 'e': ['z'], 'z': ['e', 'b']}"
      ]
     },
     "execution_count": 36,
     "metadata": {},
     "output_type": "execute_result"
    }
   ],
   "source": [
    "a = {'z':['e', 'b'], 'a':['b', 'c', 'd'], 'b':['a', 'z'], 'c':['a'], 'd':['c'], 'e':['z']}\n",
    "filter_symmetric_from_dict(a)"
   ]
  },
  {
   "cell_type": "code",
   "execution_count": 37,
   "metadata": {
    "ExecuteTime": {
     "end_time": "2019-03-08T06:45:27.870208Z",
     "start_time": "2019-03-08T06:45:27.386717Z"
    }
   },
   "outputs": [],
   "source": [
    "# Filter the network for symmetric only \n",
    "\n",
    "# list of users in symmetric network\n",
    "user_list = list(unified_followers.keys())\n",
    "\n",
    "# filter only users in symmetric network\n",
    "symm_followers = filter_symmetric_from_dict(unified_followers)\n",
    "\n",
    "# make graph\n",
    "H = nx.from_dict_of_lists(symm_followers, create_using=nx.DiGraph())"
   ]
  },
  {
   "cell_type": "code",
   "execution_count": 38,
   "metadata": {
    "ExecuteTime": {
     "end_time": "2019-03-08T06:45:28.106173Z",
     "start_time": "2019-03-08T06:45:28.101881Z"
    }
   },
   "outputs": [
    {
     "data": {
      "text/plain": [
       "12439"
      ]
     },
     "execution_count": 38,
     "metadata": {},
     "output_type": "execute_result"
    }
   ],
   "source": [
    "# Number of nodes in symmetric network\n",
    "len(H.nodes)"
   ]
  },
  {
   "cell_type": "markdown",
   "metadata": {
    "ExecuteTime": {
     "end_time": "2019-03-07T16:19:51.475809Z",
     "start_time": "2019-03-07T16:19:51.472826Z"
    }
   },
   "source": [
    "### Basic Properties"
   ]
  },
  {
   "cell_type": "code",
   "execution_count": 39,
   "metadata": {
    "ExecuteTime": {
     "end_time": "2019-03-08T06:45:30.710980Z",
     "start_time": "2019-03-08T06:45:30.671519Z"
    }
   },
   "outputs": [
    {
     "data": {
      "text/html": [
       "<div>\n",
       "<style scoped>\n",
       "    .dataframe tbody tr th:only-of-type {\n",
       "        vertical-align: middle;\n",
       "    }\n",
       "\n",
       "    .dataframe tbody tr th {\n",
       "        vertical-align: top;\n",
       "    }\n",
       "\n",
       "    .dataframe thead th {\n",
       "        text-align: right;\n",
       "    }\n",
       "</style>\n",
       "<table border=\"1\" class=\"dataframe\">\n",
       "  <thead>\n",
       "    <tr style=\"text-align: right;\">\n",
       "      <th></th>\n",
       "      <th>0</th>\n",
       "    </tr>\n",
       "  </thead>\n",
       "  <tbody>\n",
       "    <tr>\n",
       "      <th>avg_degree</th>\n",
       "      <td>3.510893</td>\n",
       "    </tr>\n",
       "    <tr>\n",
       "      <th>min_degree</th>\n",
       "      <td>2.000000</td>\n",
       "    </tr>\n",
       "    <tr>\n",
       "      <th>max_degree</th>\n",
       "      <td>1916.000000</td>\n",
       "    </tr>\n",
       "  </tbody>\n",
       "</table>\n",
       "</div>"
      ],
      "text/plain": [
       "                      0\n",
       "avg_degree     3.510893\n",
       "min_degree     2.000000\n",
       "max_degree  1916.000000"
      ]
     },
     "execution_count": 39,
     "metadata": {},
     "output_type": "execute_result"
    }
   ],
   "source": [
    "degs = [k for n, k in H.degree]\n",
    "avg_deg = np.mean(degs)\n",
    "min_deg = np.min(degs)\n",
    "max_deg = np.max(degs)\n",
    "\n",
    "vals = {\"avg_degree\":[avg_deg], \"min_degree\":[min_deg], \"max_degree\":[max_deg]}\n",
    "pd.DataFrame.from_dict(vals).T"
   ]
  },
  {
   "cell_type": "markdown",
   "metadata": {},
   "source": [
    "### Degree Distribution"
   ]
  },
  {
   "cell_type": "code",
   "execution_count": 42,
   "metadata": {
    "ExecuteTime": {
     "end_time": "2019-03-08T06:45:49.972666Z",
     "start_time": "2019-03-08T06:45:49.333911Z"
    }
   },
   "outputs": [
    {
     "data": {
      "text/plain": [
       "Text(0.5,1,'Degree distribution')"
      ]
     },
     "execution_count": 42,
     "metadata": {},
     "output_type": "execute_result"
    },
    {
     "data": {
      "image/png": "[encoded data removed]",
      "text/plain": [
       "<matplotlib.figure.Figure at 0x1530b4d550>"
      ]
     },
     "metadata": {},
     "output_type": "display_data"
    }
   ],
   "source": [
    "# degree distribution\n",
    "degs = [v for k, v in H.degree]\n",
    "\n",
    "# count\n",
    "deg_count = Counter(degs)\n",
    "\n",
    "# plot\n",
    "plt.loglog(deg_count.keys(), deg_count.values(), 'o', alpha=0.5)\n",
    "\n",
    "plt.xlabel(\"degree\")\n",
    "plt.ylabel(\"num nodes\")\n",
    "plt.title(\"Degree distribution\")"
   ]
  },
  {
   "cell_type": "code",
   "execution_count": null,
   "metadata": {
    "ExecuteTime": {
     "end_time": "2019-03-07T19:20:01.796746Z",
     "start_time": "2019-03-07T19:20:01.793472Z"
    }
   },
   "outputs": [],
   "source": [
    "# VISUALIZATION\n",
    "# # Use spring layout\n",
    "# pos = nx.spring_layout(H)\n",
    "\n",
    "# # draw graph\n",
    "# plt.figure(figsize=(10, 10))\n",
    "# nx.draw(H, pos=pos, node_size=2, with_labels=True, font_color='b', font_size=10)"
   ]
  },
  {
   "cell_type": "markdown",
   "metadata": {},
   "source": [
    "## Fraction of Recruited Users Over Time (Nodes)\n"
   ]
  },
  {
   "cell_type": "code",
   "execution_count": 43,
   "metadata": {
    "ExecuteTime": {
     "end_time": "2019-03-08T06:45:52.790667Z",
     "start_time": "2019-03-08T06:45:52.781343Z"
    }
   },
   "outputs": [],
   "source": [
    "# get only nodes (following and followers) that are in a specific list\n",
    "def filter_users_from_dic(followers_dic, user_list):\n",
    "    # make dictionary of filtered keys\n",
    "    filtered_dic = {k: followers_dic[k] for k in user_list}\n",
    "\n",
    "    # filter values in dictionary - select only those in user_list\n",
    "    for k, v in filtered_dic.items():\n",
    "        filtered_dic[k] = [i for i in filtered_dic[k] if i in user_list]\n",
    "\n",
    "    return filtered_dic"
   ]
  },
  {
   "cell_type": "code",
   "execution_count": 44,
   "metadata": {
    "ExecuteTime": {
     "end_time": "2019-03-08T06:45:53.307828Z",
     "start_time": "2019-03-08T06:45:53.304926Z"
    }
   },
   "outputs": [],
   "source": [
    "## CONSIDER RETWEETS - CURRENTLY CODE BELOW REMOVES RETWEETS DUE TO LACK OF DATE"
   ]
  },
  {
   "cell_type": "code",
   "execution_count": 45,
   "metadata": {
    "ExecuteTime": {
     "end_time": "2019-03-08T06:45:53.970200Z",
     "start_time": "2019-03-08T06:45:53.706374Z"
    }
   },
   "outputs": [
    {
     "data": {
      "text/html": [
       "<div>\n",
       "<style scoped>\n",
       "    .dataframe tbody tr th:only-of-type {\n",
       "        vertical-align: middle;\n",
       "    }\n",
       "\n",
       "    .dataframe tbody tr th {\n",
       "        vertical-align: top;\n",
       "    }\n",
       "\n",
       "    .dataframe thead th {\n",
       "        text-align: right;\n",
       "    }\n",
       "</style>\n",
       "<table border=\"1\" class=\"dataframe\">\n",
       "  <thead>\n",
       "    <tr style=\"text-align: right;\">\n",
       "      <th></th>\n",
       "      <th>index</th>\n",
       "      <th>date</th>\n",
       "      <th>likes</th>\n",
       "      <th>parent_tweet_id</th>\n",
       "      <th>replies</th>\n",
       "      <th>reply</th>\n",
       "      <th>retweet</th>\n",
       "      <th>retweets</th>\n",
       "      <th>text</th>\n",
       "      <th>timestamp</th>\n",
       "      <th>tweet_id</th>\n",
       "      <th>user_id</th>\n",
       "      <th>user_name</th>\n",
       "      <th>user_screen_name</th>\n",
       "    </tr>\n",
       "  </thead>\n",
       "  <tbody>\n",
       "    <tr>\n",
       "      <th>0</th>\n",
       "      <td>9754</td>\n",
       "      <td>2013-08-17 15:45:11</td>\n",
       "      <td>0</td>\n",
       "      <td>NaN</td>\n",
       "      <td>1</td>\n",
       "      <td>0</td>\n",
       "      <td>0</td>\n",
       "      <td>2</td>\n",
       "      <td>#millionpeoplemarch on august 26 luneta.  This...</td>\n",
       "      <td>1376754311</td>\n",
       "      <td>3.687604e+17</td>\n",
       "      <td>32382474</td>\n",
       "      <td>yo de</td>\n",
       "      <td>xuyode</td>\n",
       "    </tr>\n",
       "    <tr>\n",
       "      <th>1</th>\n",
       "      <td>9755</td>\n",
       "      <td>2013-08-17 15:45:37</td>\n",
       "      <td>0</td>\n",
       "      <td>3.687604e+17</td>\n",
       "      <td>0</td>\n",
       "      <td>1</td>\n",
       "      <td>0</td>\n",
       "      <td>0</td>\n",
       "      <td>@sdoroquis</td>\n",
       "      <td>1376754337</td>\n",
       "      <td>3.687605e+17</td>\n",
       "      <td>32382474</td>\n",
       "      <td>yo de</td>\n",
       "      <td>xuyode</td>\n",
       "    </tr>\n",
       "    <tr>\n",
       "      <th>2</th>\n",
       "      <td>9751</td>\n",
       "      <td>2013-08-17 21:33:27</td>\n",
       "      <td>1</td>\n",
       "      <td>NaN</td>\n",
       "      <td>0</td>\n",
       "      <td>0</td>\n",
       "      <td>0</td>\n",
       "      <td>3</td>\n",
       "      <td>Maybe running + bike community wud want 2 know...</td>\n",
       "      <td>1376775207</td>\n",
       "      <td>3.688481e+17</td>\n",
       "      <td>470960342</td>\n",
       "      <td>running host</td>\n",
       "      <td>hostboyramos</td>\n",
       "    </tr>\n",
       "    <tr>\n",
       "      <th>3</th>\n",
       "      <td>9741</td>\n",
       "      <td>2013-08-18 01:13:49</td>\n",
       "      <td>4</td>\n",
       "      <td>NaN</td>\n",
       "      <td>1</td>\n",
       "      <td>0</td>\n",
       "      <td>0</td>\n",
       "      <td>9</td>\n",
       "      <td>Napoles is just the visible \"fall guy\" of sort...</td>\n",
       "      <td>1376788429</td>\n",
       "      <td>3.689035e+17</td>\n",
       "      <td>24533024</td>\n",
       "      <td>Rudy Villar, Jr.</td>\n",
       "      <td>rudyvillar</td>\n",
       "    </tr>\n",
       "    <tr>\n",
       "      <th>4</th>\n",
       "      <td>9742</td>\n",
       "      <td>2013-08-18 01:29:55</td>\n",
       "      <td>0</td>\n",
       "      <td>3.689035e+17</td>\n",
       "      <td>0</td>\n",
       "      <td>1</td>\n",
       "      <td>0</td>\n",
       "      <td>0</td>\n",
       "      <td>@larionedjames secrets that will soon be revea...</td>\n",
       "      <td>1376789395</td>\n",
       "      <td>3.689076e+17</td>\n",
       "      <td>24533024</td>\n",
       "      <td>Rudy Villar, Jr.</td>\n",
       "      <td>rudyvillar</td>\n",
       "    </tr>\n",
       "  </tbody>\n",
       "</table>\n",
       "</div>"
      ],
      "text/plain": [
       "   index                date  likes  parent_tweet_id  replies  reply  retweet  \\\n",
       "0   9754 2013-08-17 15:45:11      0              NaN        1      0        0   \n",
       "1   9755 2013-08-17 15:45:37      0     3.687604e+17        0      1        0   \n",
       "2   9751 2013-08-17 21:33:27      1              NaN        0      0        0   \n",
       "3   9741 2013-08-18 01:13:49      4              NaN        1      0        0   \n",
       "4   9742 2013-08-18 01:29:55      0     3.689035e+17        0      1        0   \n",
       "\n",
       "   retweets                                               text   timestamp  \\\n",
       "0         2  #millionpeoplemarch on august 26 luneta.  This...  1376754311   \n",
       "1         0                                         @sdoroquis  1376754337   \n",
       "2         3  Maybe running + bike community wud want 2 know...  1376775207   \n",
       "3         9  Napoles is just the visible \"fall guy\" of sort...  1376788429   \n",
       "4         0  @larionedjames secrets that will soon be revea...  1376789395   \n",
       "\n",
       "       tweet_id    user_id         user_name user_screen_name  \n",
       "0  3.687604e+17   32382474             yo de           xuyode  \n",
       "1  3.687605e+17   32382474             yo de           xuyode  \n",
       "2  3.688481e+17  470960342      running host     hostboyramos  \n",
       "3  3.689035e+17   24533024  Rudy Villar, Jr.       rudyvillar  \n",
       "4  3.689076e+17   24533024  Rudy Villar, Jr.       rudyvillar  "
      ]
     },
     "execution_count": 45,
     "metadata": {},
     "output_type": "execute_result"
    }
   ],
   "source": [
    "# loading Tweets as dataframe\n",
    "tweets_0 = pd.read_json(\"data/new_tweets_mpm.json\")\n",
    "\n",
    "# cleaning up user_screen_name\n",
    "pattern = re.compile(\"[\\w]+\")\n",
    "tweets_0.user_screen_name = tweets_0.user_screen_name.apply(\n",
    "    lambda x: re.findall(pattern, \"\".join(re.findall(pattern, x)).lower())[0])\n",
    "\n",
    "# remove specific duplicate case\n",
    "tweets_0 = tweets_0.drop(index=2249)\n",
    "\n",
    "# convert date to date time\n",
    "tweets = tweets_0.copy()\n",
    "tweets.date = pd.to_datetime(tweets_0.date)\n",
    "\n",
    "# remove date outside 2013\n",
    "tweets = tweets[(tweets['date'] > '2013-01-01 00:00:00')\n",
    "                & (tweets['date'] < '2013-12-31 00:00:00')]\n",
    "\n",
    "# sort values by date\n",
    "tweets = tweets.sort_values(by=\"date\")\n",
    "\n",
    "# drop duplicates in case there are duplicates\n",
    "tweets = tweets.drop_duplicates(keep=\"first\")\n",
    "\n",
    "# reset index\n",
    "tweets = tweets.reset_index()\n",
    "\n",
    "tweets.head()"
   ]
  },
  {
   "cell_type": "code",
   "execution_count": 46,
   "metadata": {
    "ExecuteTime": {
     "end_time": "2019-03-08T06:45:54.411376Z",
     "start_time": "2019-03-08T06:45:54.405754Z"
    }
   },
   "outputs": [
    {
     "data": {
      "text/plain": [
       "9767"
      ]
     },
     "execution_count": 46,
     "metadata": {},
     "output_type": "execute_result"
    }
   ],
   "source": [
    "# length of dataframe\n",
    "len(tweets_0)"
   ]
  },
  {
   "cell_type": "code",
   "execution_count": 270,
   "metadata": {
    "ExecuteTime": {
     "end_time": "2019-03-08T08:15:11.589090Z",
     "start_time": "2019-03-08T08:15:11.580943Z"
    }
   },
   "outputs": [
    {
     "data": {
      "text/plain": [
       "690"
      ]
     },
     "execution_count": 270,
     "metadata": {},
     "output_type": "execute_result"
    }
   ],
   "source": [
    "# length of tweets only\n",
    "len(tweets_0[np.logical_and(tweets_0.reply == 0, tweets_0.retweet == 0)])"
   ]
  },
  {
   "cell_type": "code",
   "execution_count": 48,
   "metadata": {
    "ExecuteTime": {
     "end_time": "2019-03-08T06:45:55.297266Z",
     "start_time": "2019-03-08T06:45:55.287924Z"
    }
   },
   "outputs": [
    {
     "data": {
      "text/plain": [
       "7354"
      ]
     },
     "execution_count": 48,
     "metadata": {},
     "output_type": "execute_result"
    }
   ],
   "source": [
    "# number of retweets\n",
    "len(tweets_0[tweets_0.retweet == 1])"
   ]
  },
  {
   "cell_type": "code",
   "execution_count": 49,
   "metadata": {
    "ExecuteTime": {
     "end_time": "2019-03-08T06:45:55.706050Z",
     "start_time": "2019-03-08T06:45:55.699424Z"
    }
   },
   "outputs": [
    {
     "data": {
      "text/plain": [
       "1723"
      ]
     },
     "execution_count": 49,
     "metadata": {},
     "output_type": "execute_result"
    }
   ],
   "source": [
    "# number of replies\n",
    "len(tweets_0[tweets_0.reply == 1])"
   ]
  },
  {
   "cell_type": "code",
   "execution_count": 348,
   "metadata": {
    "ExecuteTime": {
     "end_time": "2019-03-08T10:52:25.964331Z",
     "start_time": "2019-03-08T10:52:25.678289Z"
    },
    "scrolled": false
   },
   "outputs": [
    {
     "data": {
      "text/plain": [
       "Text(0.5,1,'Fraction of recruited users over time')"
      ]
     },
     "execution_count": 348,
     "metadata": {},
     "output_type": "execute_result"
    },
    {
     "data": {
      "image/png": "[encoded data removed]",
      "text/plain": [
       "<matplotlib.figure.Figure at 0x1525f74940>"
      ]
     },
     "metadata": {},
     "output_type": "display_data"
    }
   ],
   "source": [
    "# get only the first time a unique user tweet/retweet or replies with relevant #hash\n",
    "unique_users = tweets.drop_duplicates(subset=\"user_screen_name\", keep=\"first\")\n",
    "\n",
    "# sort by date\n",
    "unique_users = unique_users.sort_values(by=\"date\")\n",
    "\n",
    "# reset index\n",
    "unique_users = unique_users.reset_index()\n",
    "\n",
    "# get cumulative distribution, each user adds 1 to the count\n",
    "count_cumulative = [i + 1 for i in range(len(unique_users))]\n",
    "prop_cumulative = [i / len(unique_users) for i in range(len(unique_users))]\n",
    "\n",
    "# plot the distribution\n",
    "plt.plot(unique_users.date, prop_cumulative)\n",
    "plt.xticks(rotation=90)\n",
    "plt.xlabel(\"date\")\n",
    "plt.ylabel(\"$N_a/N$\")\n",
    "plt.title(\"Fraction of recruited users over time\")"
   ]
  },
  {
   "cell_type": "code",
   "execution_count": 353,
   "metadata": {
    "ExecuteTime": {
     "end_time": "2019-03-08T10:58:58.491065Z",
     "start_time": "2019-03-08T10:58:58.480018Z"
    }
   },
   "outputs": [
    {
     "data": {
      "text/plain": [
       "2013-08-26    962\n",
       "2013-08-25    114\n",
       "2013-10-04     59\n",
       "2013-08-27     36\n",
       "2013-08-24     22\n",
       "2013-08-28     13\n",
       "2013-08-18     10\n",
       "2013-08-21      8\n",
       "2013-08-23      7\n",
       "2013-08-29      6\n",
       "Name: date, dtype: int64"
      ]
     },
     "execution_count": 353,
     "metadata": {},
     "output_type": "execute_result"
    }
   ],
   "source": [
    "# get days with most frequent tweets\n",
    "unique_users.date.dt.date.value_counts()[:10]"
   ]
  },
  {
   "cell_type": "code",
   "execution_count": 51,
   "metadata": {
    "ExecuteTime": {
     "end_time": "2019-03-08T06:45:57.066692Z",
     "start_time": "2019-03-08T06:45:57.063593Z"
    }
   },
   "outputs": [],
   "source": [
    "## DO THE SAME ABOVE FOR COMBINATIONS OF TWEETS, RETWEETS, and REPLIES"
   ]
  },
  {
   "cell_type": "code",
   "execution_count": 52,
   "metadata": {
    "ExecuteTime": {
     "end_time": "2019-03-08T06:45:57.583606Z",
     "start_time": "2019-03-08T06:45:57.578789Z"
    }
   },
   "outputs": [
    {
     "data": {
      "text/plain": [
       "1288"
      ]
     },
     "execution_count": 52,
     "metadata": {},
     "output_type": "execute_result"
    }
   ],
   "source": [
    "# number of unique users\n",
    "# Excluding retweets\n",
    "len(unique_users)"
   ]
  },
  {
   "cell_type": "code",
   "execution_count": 53,
   "metadata": {
    "ExecuteTime": {
     "end_time": "2019-03-08T06:45:58.266109Z",
     "start_time": "2019-03-08T06:45:58.181203Z"
    }
   },
   "outputs": [
    {
     "name": "stdout",
     "output_type": "stream",
     "text": [
      "No. of tweets/replies: 2116\n",
      "No. of unique tweets/replies: 2081\n"
     ]
    }
   ],
   "source": [
    "# Add date column to tweets data (without time)\n",
    "tweets['date'] = [tweets.date[i] for i in range(len(tweets))]\n",
    "\n",
    "# Number of tweets and unique tweets and replies\n",
    "# No retweets\n",
    "print(\"No. of tweets/replies:\", len(tweets))\n",
    "print(\"No. of unique tweets/replies:\", len(tweets.text.unique()))\n",
    "\n",
    "# Add date to nodes data for filtering say of degrees?"
   ]
  },
  {
   "cell_type": "code",
   "execution_count": 54,
   "metadata": {
    "ExecuteTime": {
     "end_time": "2019-03-08T06:45:58.693517Z",
     "start_time": "2019-03-08T06:45:58.626798Z"
    }
   },
   "outputs": [
    {
     "data": {
      "text/html": [
       "<div>\n",
       "<style scoped>\n",
       "    .dataframe tbody tr th:only-of-type {\n",
       "        vertical-align: middle;\n",
       "    }\n",
       "\n",
       "    .dataframe tbody tr th {\n",
       "        vertical-align: top;\n",
       "    }\n",
       "\n",
       "    .dataframe thead th {\n",
       "        text-align: right;\n",
       "    }\n",
       "</style>\n",
       "<table border=\"1\" class=\"dataframe\">\n",
       "  <thead>\n",
       "    <tr style=\"text-align: right;\">\n",
       "      <th></th>\n",
       "      <th>date</th>\n",
       "      <th>likes</th>\n",
       "      <th>parent_tweet_id</th>\n",
       "      <th>replies</th>\n",
       "      <th>reply</th>\n",
       "      <th>retweet</th>\n",
       "      <th>retweets</th>\n",
       "      <th>text</th>\n",
       "      <th>timestamp</th>\n",
       "      <th>tweet_id</th>\n",
       "      <th>user_id</th>\n",
       "      <th>user_name</th>\n",
       "      <th>user_screen_name</th>\n",
       "    </tr>\n",
       "  </thead>\n",
       "  <tbody>\n",
       "    <tr>\n",
       "      <th>0</th>\n",
       "      <td>2013-08-18 01:13:49</td>\n",
       "      <td>4</td>\n",
       "      <td>NaN</td>\n",
       "      <td>1</td>\n",
       "      <td>0</td>\n",
       "      <td>0</td>\n",
       "      <td>9</td>\n",
       "      <td>Napoles is just the visible \"fall guy\" of sort...</td>\n",
       "      <td>1376788429</td>\n",
       "      <td>3.689035e+17</td>\n",
       "      <td>24533024</td>\n",
       "      <td>Rudy Villar, Jr.</td>\n",
       "      <td>rudyvillar</td>\n",
       "    </tr>\n",
       "    <tr>\n",
       "      <th>1</th>\n",
       "      <td>2013-08-18 01:29:55</td>\n",
       "      <td>0</td>\n",
       "      <td>3.689035e+17</td>\n",
       "      <td>0</td>\n",
       "      <td>1</td>\n",
       "      <td>0</td>\n",
       "      <td>0</td>\n",
       "      <td>@larionedjames secrets that will soon be revea...</td>\n",
       "      <td>1376789395</td>\n",
       "      <td>3.689076e+17</td>\n",
       "      <td>24533024</td>\n",
       "      <td>Rudy Villar, Jr.</td>\n",
       "      <td>rudyvillar</td>\n",
       "    </tr>\n",
       "    <tr>\n",
       "      <th>2</th>\n",
       "      <td>2013-08-18 01:32:43</td>\n",
       "      <td>0</td>\n",
       "      <td>NaN</td>\n",
       "      <td>1</td>\n",
       "      <td>0</td>\n",
       "      <td>0</td>\n",
       "      <td>5</td>\n",
       "      <td>Let's all go. I'm going. Are you? #porkbarrels...</td>\n",
       "      <td>1376789563</td>\n",
       "      <td>3.689083e+17</td>\n",
       "      <td>56945013</td>\n",
       "      <td>Angku</td>\n",
       "      <td>angkulet</td>\n",
       "    </tr>\n",
       "    <tr>\n",
       "      <th>3</th>\n",
       "      <td>2013-08-18 01:44:27</td>\n",
       "      <td>2</td>\n",
       "      <td>NaN</td>\n",
       "      <td>1</td>\n",
       "      <td>0</td>\n",
       "      <td>0</td>\n",
       "      <td>11</td>\n",
       "      <td>\"@DirekJoey: On the 26th of August, Luneta at ...</td>\n",
       "      <td>1376790267</td>\n",
       "      <td>3.689112e+17</td>\n",
       "      <td>332857235</td>\n",
       "      <td>Bee Yen</td>\n",
       "      <td>kamoterunner</td>\n",
       "    </tr>\n",
       "    <tr>\n",
       "      <th>4</th>\n",
       "      <td>2013-08-18 01:50:33</td>\n",
       "      <td>1</td>\n",
       "      <td>3.689112e+17</td>\n",
       "      <td>1</td>\n",
       "      <td>1</td>\n",
       "      <td>0</td>\n",
       "      <td>0</td>\n",
       "      <td>@bananarunning @pambansanglegs @brylleforonda ...</td>\n",
       "      <td>1376790633</td>\n",
       "      <td>3.689128e+17</td>\n",
       "      <td>332857235</td>\n",
       "      <td>Bee Yen</td>\n",
       "      <td>kamoterunner</td>\n",
       "    </tr>\n",
       "  </tbody>\n",
       "</table>\n",
       "</div>"
      ],
      "text/plain": [
       "                 date  likes  parent_tweet_id  replies  reply  retweet  \\\n",
       "0 2013-08-18 01:13:49      4              NaN        1      0        0   \n",
       "1 2013-08-18 01:29:55      0     3.689035e+17        0      1        0   \n",
       "2 2013-08-18 01:32:43      0              NaN        1      0        0   \n",
       "3 2013-08-18 01:44:27      2              NaN        1      0        0   \n",
       "4 2013-08-18 01:50:33      1     3.689112e+17        1      1        0   \n",
       "\n",
       "   retweets                                               text   timestamp  \\\n",
       "0         9  Napoles is just the visible \"fall guy\" of sort...  1376788429   \n",
       "1         0  @larionedjames secrets that will soon be revea...  1376789395   \n",
       "2         5  Let's all go. I'm going. Are you? #porkbarrels...  1376789563   \n",
       "3        11  \"@DirekJoey: On the 26th of August, Luneta at ...  1376790267   \n",
       "4         0  @bananarunning @pambansanglegs @brylleforonda ...  1376790633   \n",
       "\n",
       "       tweet_id    user_id         user_name user_screen_name  \n",
       "0  3.689035e+17   24533024  Rudy Villar, Jr.       rudyvillar  \n",
       "1  3.689076e+17   24533024  Rudy Villar, Jr.       rudyvillar  \n",
       "2  3.689083e+17   56945013             Angku         angkulet  \n",
       "3  3.689112e+17  332857235           Bee Yen     kamoterunner  \n",
       "4  3.689128e+17  332857235           Bee Yen     kamoterunner  "
      ]
     },
     "execution_count": 54,
     "metadata": {},
     "output_type": "execute_result"
    }
   ],
   "source": [
    "# filter only those in unified_followers dataset\n",
    "users_list = list(unified_followers.keys())\n",
    "tweets_2 = tweets[tweets.user_screen_name.isin(\n",
    "    users_list)].reset_index(drop=True)\n",
    "tweets_2 = tweets_2.drop(\"index\", axis=1)\n",
    "tweets_2.head()"
   ]
  },
  {
   "cell_type": "code",
   "execution_count": 55,
   "metadata": {
    "ExecuteTime": {
     "end_time": "2019-03-08T06:46:01.037872Z",
     "start_time": "2019-03-08T06:45:59.328781Z"
    },
    "scrolled": true
   },
   "outputs": [],
   "source": [
    "# check for similar tweet_id values - there shouldn't be duplicates\n",
    "# WE CAN REMOVE THIS\n",
    "for i in range(len(tweets)):\n",
    "    if len(tweets[tweets.tweet_id == tweets.tweet_id.values[i]]) > 1:\n",
    "        display(tweets[tweets.tweet_id == tweets.tweet_id.values[i]])\n"
   ]
  },
  {
   "cell_type": "code",
   "execution_count": 56,
   "metadata": {
    "ExecuteTime": {
     "end_time": "2019-03-08T06:46:01.048082Z",
     "start_time": "2019-03-08T06:46:01.039694Z"
    }
   },
   "outputs": [
    {
     "data": {
      "text/plain": [
       "(1541, 798)"
      ]
     },
     "execution_count": 56,
     "metadata": {},
     "output_type": "execute_result"
    }
   ],
   "source": [
    "# No. of filtered tweets and users\n",
    "len(tweets_2), len(tweets_2.user_screen_name.unique())"
   ]
  },
  {
   "cell_type": "markdown",
   "metadata": {},
   "source": [
    "## Filtering Only Users that Tweeted the #Hashtag and their Followers (who may or may not have tweeted the #Hashtag)"
   ]
  },
  {
   "cell_type": "markdown",
   "metadata": {},
   "source": [
    "### Asymmetric Graph"
   ]
  },
  {
   "cell_type": "code",
   "execution_count": 57,
   "metadata": {
    "ExecuteTime": {
     "end_time": "2019-03-08T06:46:03.891693Z",
     "start_time": "2019-03-08T06:46:03.883713Z"
    }
   },
   "outputs": [
    {
     "data": {
      "text/plain": [
       "6463"
      ]
     },
     "execution_count": 57,
     "metadata": {},
     "output_type": "execute_result"
    }
   ],
   "source": [
    "# get list of unique user_screen_name in pandas dataframe\n",
    "# this is the list that is both in the followers list and in the tweets data\n",
    "# No yet concern for TIME so WE USE tweets_0\n",
    "# tweets, replies, and retweets\n",
    "final_users = list(tweets_0.user_screen_name.unique())\n",
    "len(final_users)"
   ]
  },
  {
   "cell_type": "code",
   "execution_count": 58,
   "metadata": {
    "ExecuteTime": {
     "end_time": "2019-03-08T06:46:04.298339Z",
     "start_time": "2019-03-08T06:46:04.284020Z"
    }
   },
   "outputs": [
    {
     "data": {
      "text/plain": [
       "3507"
      ]
     },
     "execution_count": 58,
     "metadata": {},
     "output_type": "execute_result"
    }
   ],
   "source": [
    "# filter user - follower dictionary to include only those selected above\n",
    "# users_followers = {k: unified_followers[k] for k in final_users}\n",
    "# Get the intersection of user:followers list and the tweets\n",
    "\n",
    "# some users in the dataframe has not been scraped yet\n",
    "users_followers = {}\n",
    "for k in final_users:\n",
    "    try: users_followers[k] = unified_followers[k]\n",
    "    except: continue\n",
    "\n",
    "# these are the keys only\n",
    "len(users_followers)"
   ]
  },
  {
   "cell_type": "code",
   "execution_count": 59,
   "metadata": {
    "ExecuteTime": {
     "end_time": "2019-03-08T06:46:05.465039Z",
     "start_time": "2019-03-08T06:46:04.866044Z"
    }
   },
   "outputs": [
    {
     "data": {
      "text/plain": [
       "118749"
      ]
     },
     "execution_count": 59,
     "metadata": {},
     "output_type": "execute_result"
    }
   ],
   "source": [
    "# make a network using the filtered users_followers above\n",
    "# load Graph of followers\n",
    "# includes nodes that may not have tweeted about the protest\n",
    "G = nx.from_dict_of_lists(users_followers, create_using=nx.DiGraph())\n",
    "\n",
    "# Use spring layout\n",
    "# pos = nx.spring_layout(G)\n",
    "\n",
    "len(G.nodes)"
   ]
  },
  {
   "cell_type": "markdown",
   "metadata": {},
   "source": [
    "#### Basic Properties"
   ]
  },
  {
   "cell_type": "code",
   "execution_count": 60,
   "metadata": {
    "ExecuteTime": {
     "end_time": "2019-03-08T06:46:07.104753Z",
     "start_time": "2019-03-08T06:46:06.974988Z"
    }
   },
   "outputs": [
    {
     "data": {
      "text/html": [
       "<div>\n",
       "<style scoped>\n",
       "    .dataframe tbody tr th:only-of-type {\n",
       "        vertical-align: middle;\n",
       "    }\n",
       "\n",
       "    .dataframe tbody tr th {\n",
       "        vertical-align: top;\n",
       "    }\n",
       "\n",
       "    .dataframe thead th {\n",
       "        text-align: right;\n",
       "    }\n",
       "</style>\n",
       "<table border=\"1\" class=\"dataframe\">\n",
       "  <thead>\n",
       "    <tr style=\"text-align: right;\">\n",
       "      <th></th>\n",
       "      <th>0</th>\n",
       "    </tr>\n",
       "  </thead>\n",
       "  <tbody>\n",
       "    <tr>\n",
       "      <th>avg_degree</th>\n",
       "      <td>1.110502</td>\n",
       "    </tr>\n",
       "    <tr>\n",
       "      <th>min_degree</th>\n",
       "      <td>0.000000</td>\n",
       "    </tr>\n",
       "    <tr>\n",
       "      <th>max_degree</th>\n",
       "      <td>1730.000000</td>\n",
       "    </tr>\n",
       "  </tbody>\n",
       "</table>\n",
       "</div>"
      ],
      "text/plain": [
       "                      0\n",
       "avg_degree     1.110502\n",
       "min_degree     0.000000\n",
       "max_degree  1730.000000"
      ]
     },
     "execution_count": 60,
     "metadata": {},
     "output_type": "execute_result"
    }
   ],
   "source": [
    "# out degree\n",
    "degs = [k for n, k in G.out_degree]\n",
    "avg_deg = np.mean(degs)\n",
    "min_deg = np.min(degs)\n",
    "max_deg = np.max(degs)\n",
    "\n",
    "vals = {\"avg_degree\":[avg_deg], \"min_degree\":[min_deg], \"max_degree\":[max_deg]}\n",
    "pd.DataFrame.from_dict(vals).T"
   ]
  },
  {
   "cell_type": "code",
   "execution_count": 61,
   "metadata": {
    "ExecuteTime": {
     "end_time": "2019-03-08T06:46:13.120191Z",
     "start_time": "2019-03-08T06:46:13.020242Z"
    }
   },
   "outputs": [
    {
     "data": {
      "text/html": [
       "<div>\n",
       "<style scoped>\n",
       "    .dataframe tbody tr th:only-of-type {\n",
       "        vertical-align: middle;\n",
       "    }\n",
       "\n",
       "    .dataframe tbody tr th {\n",
       "        vertical-align: top;\n",
       "    }\n",
       "\n",
       "    .dataframe thead th {\n",
       "        text-align: right;\n",
       "    }\n",
       "</style>\n",
       "<table border=\"1\" class=\"dataframe\">\n",
       "  <thead>\n",
       "    <tr style=\"text-align: right;\">\n",
       "      <th></th>\n",
       "      <th>0</th>\n",
       "    </tr>\n",
       "  </thead>\n",
       "  <tbody>\n",
       "    <tr>\n",
       "      <th>avg_degree</th>\n",
       "      <td>1.110502</td>\n",
       "    </tr>\n",
       "    <tr>\n",
       "      <th>min_degree</th>\n",
       "      <td>0.000000</td>\n",
       "    </tr>\n",
       "    <tr>\n",
       "      <th>max_degree</th>\n",
       "      <td>240.000000</td>\n",
       "    </tr>\n",
       "  </tbody>\n",
       "</table>\n",
       "</div>"
      ],
      "text/plain": [
       "                     0\n",
       "avg_degree    1.110502\n",
       "min_degree    0.000000\n",
       "max_degree  240.000000"
      ]
     },
     "execution_count": 61,
     "metadata": {},
     "output_type": "execute_result"
    }
   ],
   "source": [
    "# in degree\n",
    "degs = [k for n, k in G.in_degree]\n",
    "avg_deg = np.mean(degs)\n",
    "min_deg = np.min(degs)\n",
    "max_deg = np.max(degs)\n",
    "\n",
    "vals = {\"avg_degree\":[avg_deg], \"min_degree\":[min_deg], \"max_degree\":[max_deg]}\n",
    "pd.DataFrame.from_dict(vals).T"
   ]
  },
  {
   "cell_type": "code",
   "execution_count": 62,
   "metadata": {
    "ExecuteTime": {
     "end_time": "2019-03-08T06:46:13.820424Z",
     "start_time": "2019-03-08T06:46:13.661587Z"
    }
   },
   "outputs": [
    {
     "data": {
      "text/html": [
       "<div>\n",
       "<style scoped>\n",
       "    .dataframe tbody tr th:only-of-type {\n",
       "        vertical-align: middle;\n",
       "    }\n",
       "\n",
       "    .dataframe tbody tr th {\n",
       "        vertical-align: top;\n",
       "    }\n",
       "\n",
       "    .dataframe thead th {\n",
       "        text-align: right;\n",
       "    }\n",
       "</style>\n",
       "<table border=\"1\" class=\"dataframe\">\n",
       "  <thead>\n",
       "    <tr style=\"text-align: right;\">\n",
       "      <th></th>\n",
       "      <th>0</th>\n",
       "    </tr>\n",
       "  </thead>\n",
       "  <tbody>\n",
       "    <tr>\n",
       "      <th>avg_degree</th>\n",
       "      <td>2.221004</td>\n",
       "    </tr>\n",
       "    <tr>\n",
       "      <th>min_degree</th>\n",
       "      <td>0.000000</td>\n",
       "    </tr>\n",
       "    <tr>\n",
       "      <th>max_degree</th>\n",
       "      <td>1788.000000</td>\n",
       "    </tr>\n",
       "  </tbody>\n",
       "</table>\n",
       "</div>"
      ],
      "text/plain": [
       "                      0\n",
       "avg_degree     2.221004\n",
       "min_degree     0.000000\n",
       "max_degree  1788.000000"
      ]
     },
     "execution_count": 62,
     "metadata": {},
     "output_type": "execute_result"
    }
   ],
   "source": [
    "# degree\n",
    "degs = [k for n, k in G.degree]\n",
    "avg_deg = np.mean(degs)\n",
    "min_deg = np.min(degs)\n",
    "max_deg = np.max(degs)\n",
    "\n",
    "vals = {\"avg_degree\":[avg_deg], \"min_degree\":[min_deg], \"max_degree\":[max_deg]}\n",
    "pd.DataFrame.from_dict(vals).T"
   ]
  },
  {
   "cell_type": "markdown",
   "metadata": {},
   "source": [
    "#### Degree Distribution"
   ]
  },
  {
   "cell_type": "code",
   "execution_count": 64,
   "metadata": {
    "ExecuteTime": {
     "end_time": "2019-03-08T06:46:23.993310Z",
     "start_time": "2019-03-08T06:46:23.300988Z"
    }
   },
   "outputs": [
    {
     "data": {
      "text/plain": [
       "Text(0.5,1,'Out degree distribution')"
      ]
     },
     "execution_count": 64,
     "metadata": {},
     "output_type": "execute_result"
    },
    {
     "data": {
      "image/png": "[encoded data removed]",
      "text/plain": [
       "<matplotlib.figure.Figure at 0x15322e9518>"
      ]
     },
     "metadata": {},
     "output_type": "display_data"
    }
   ],
   "source": [
    "# out degree distribution\n",
    "degs = [v for k, v in G.out_degree]\n",
    "\n",
    "# count\n",
    "deg_count = Counter(degs)\n",
    "\n",
    "# plot\n",
    "plt.loglog(deg_count.keys(), deg_count.values(), 'o', alpha=0.5)\n",
    "\n",
    "plt.xlabel(\"out_degree\")\n",
    "plt.ylabel(\"num nodes\")\n",
    "plt.title(\"Out degree distribution\")"
   ]
  },
  {
   "cell_type": "code",
   "execution_count": 65,
   "metadata": {
    "ExecuteTime": {
     "end_time": "2019-03-08T06:46:30.532044Z",
     "start_time": "2019-03-08T06:46:29.965083Z"
    }
   },
   "outputs": [
    {
     "data": {
      "text/plain": [
       "Text(0.5,1,'In degree distribution')"
      ]
     },
     "execution_count": 65,
     "metadata": {},
     "output_type": "execute_result"
    },
    {
     "data": {
      "image/png": "[encoded data removed]",
      "text/plain": [
       "<matplotlib.figure.Figure at 0x1530b2dc88>"
      ]
     },
     "metadata": {},
     "output_type": "display_data"
    }
   ],
   "source": [
    "# in degree distribution\n",
    "degs = [v for k, v in G.in_degree]\n",
    "\n",
    "# count\n",
    "deg_count = Counter(degs)\n",
    "\n",
    "# plot\n",
    "plt.loglog(deg_count.keys(), deg_count.values(), 'o', alpha=0.5)\n",
    "\n",
    "plt.xlabel(\"in_degree\")\n",
    "plt.ylabel(\"num nodes\")\n",
    "plt.title(\"In degree distribution\")"
   ]
  },
  {
   "cell_type": "code",
   "execution_count": 66,
   "metadata": {
    "ExecuteTime": {
     "end_time": "2019-03-08T06:46:40.696377Z",
     "start_time": "2019-03-08T06:46:40.043066Z"
    }
   },
   "outputs": [
    {
     "data": {
      "text/plain": [
       "Text(0.5,1,'Degree distribution')"
      ]
     },
     "execution_count": 66,
     "metadata": {},
     "output_type": "execute_result"
    },
    {
     "data": {
      "image/png": "[encoded data removed]",
      "text/plain": [
       "<matplotlib.figure.Figure at 0x1532107668>"
      ]
     },
     "metadata": {},
     "output_type": "display_data"
    }
   ],
   "source": [
    "# degree distribution\n",
    "degs = [v for k, v in G.degree]\n",
    "\n",
    "# count\n",
    "deg_count = Counter(degs)\n",
    "\n",
    "# plot\n",
    "plt.loglog(deg_count.keys(), deg_count.values(), 'o', alpha=0.5)\n",
    "\n",
    "plt.xlabel(\"degree\")\n",
    "plt.ylabel(\"num nodes\")\n",
    "plt.title(\"Degree distribution\")"
   ]
  },
  {
   "cell_type": "code",
   "execution_count": null,
   "metadata": {
    "ExecuteTime": {
     "end_time": "2019-03-08T05:26:57.509771Z",
     "start_time": "2019-03-08T05:26:57.506609Z"
    }
   },
   "outputs": [],
   "source": [
    "# # Use spring layout\n",
    "# pos = nx.spring_layout(G)\n",
    "\n",
    "# # draw graph\n",
    "# plt.figure(figsize=(8, 8))\n",
    "# nx.draw(G, pos=pos, node_size=2, with_labels=True)"
   ]
  },
  {
   "cell_type": "markdown",
   "metadata": {},
   "source": [
    "### Symmetric Graph"
   ]
  },
  {
   "cell_type": "code",
   "execution_count": 67,
   "metadata": {
    "ExecuteTime": {
     "end_time": "2019-03-08T06:46:56.445353Z",
     "start_time": "2019-03-08T06:46:56.397423Z"
    }
   },
   "outputs": [
    {
     "data": {
      "text/plain": [
       "242"
      ]
     },
     "execution_count": 67,
     "metadata": {},
     "output_type": "execute_result"
    }
   ],
   "source": [
    "# filter only symmetric\n",
    "sym_users_followers = filter_symmetric_from_dict(users_followers)\n",
    "len(sym_users_followers)"
   ]
  },
  {
   "cell_type": "code",
   "execution_count": 68,
   "metadata": {
    "ExecuteTime": {
     "end_time": "2019-03-08T06:46:57.027252Z",
     "start_time": "2019-03-08T06:46:57.023101Z"
    }
   },
   "outputs": [],
   "source": [
    "# load Graph of followers\n",
    "H = nx.from_dict_of_lists(sym_users_followers)"
   ]
  },
  {
   "cell_type": "markdown",
   "metadata": {},
   "source": [
    "#### Degree Distribution"
   ]
  },
  {
   "cell_type": "code",
   "execution_count": 72,
   "metadata": {
    "ExecuteTime": {
     "end_time": "2019-03-08T06:47:21.297470Z",
     "start_time": "2019-03-08T06:47:21.124472Z"
    }
   },
   "outputs": [
    {
     "data": {
      "text/plain": [
       "Text(0.5,1,'Degree distribution')"
      ]
     },
     "execution_count": 72,
     "metadata": {},
     "output_type": "execute_result"
    },
    {
     "data": {
      "image/png": "[encoded data removed]",
      "text/plain": [
       "<matplotlib.figure.Figure at 0x15335bfc50>"
      ]
     },
     "metadata": {},
     "output_type": "display_data"
    }
   ],
   "source": [
    "# degree distribution\n",
    "degs = [v for k, v in H.degree]\n",
    "\n",
    "# count\n",
    "deg_count = Counter(degs)\n",
    "\n",
    "# plot\n",
    "plt.plot(deg_count.keys(), deg_count.values(), 'o', alpha=0.5)\n",
    "\n",
    "plt.xlabel(\"degree\")\n",
    "plt.ylabel(\"num nodes\")\n",
    "plt.title(\"Degree distribution\")"
   ]
  },
  {
   "cell_type": "code",
   "execution_count": 70,
   "metadata": {
    "ExecuteTime": {
     "end_time": "2019-03-08T06:47:00.607259Z",
     "start_time": "2019-03-08T06:46:59.202674Z"
    }
   },
   "outputs": [
    {
     "data": {
      "image/png": "[encoded data removed]",
      "text/plain": [
       "<matplotlib.figure.Figure at 0x15335005f8>"
      ]
     },
     "metadata": {},
     "output_type": "display_data"
    }
   ],
   "source": [
    "# Use spring layout\n",
    "pos = nx.spring_layout(H)\n",
    "\n",
    "# draw graph\n",
    "plt.figure(figsize=(10, 10))\n",
    "\n",
    "# draw graph\n",
    "nx.draw(H, pos=pos, node_size=2, with_labels=True,\n",
    "        font_color='b', font_size=10)\n",
    "\n",
    "# WE CAN'T SCRAPE ALL, LOTS OF MISSING LINKS"
   ]
  },
  {
   "cell_type": "code",
   "execution_count": 88,
   "metadata": {
    "ExecuteTime": {
     "end_time": "2019-03-08T06:50:37.089948Z",
     "start_time": "2019-03-08T06:50:37.081628Z"
    }
   },
   "outputs": [
    {
     "data": {
      "text/plain": [
       "array(['berniecadao', 'philippinebeat', 'javalavamanila', 'momblogger',\n",
       "       'youscoop'], dtype='<U15')"
      ]
     },
     "execution_count": 88,
     "metadata": {},
     "output_type": "execute_result"
    }
   ],
   "source": [
    "# top degrees in symmetric networks\n",
    "ind = np.argsort([v for k, v in H.degree])\n",
    "np.array([k for k, v in H.degree])[ind][::-1][:5]"
   ]
  },
  {
   "cell_type": "markdown",
   "metadata": {
    "ExecuteTime": {
     "end_time": "2019-02-25T19:56:51.715032Z",
     "start_time": "2019-02-25T19:56:49.556444Z"
    }
   },
   "source": [
    "## Recruitment Thresholds Distribution"
   ]
  },
  {
   "cell_type": "markdown",
   "metadata": {},
   "source": [
    "### Overall Threshold Distribution - Asymmetric"
   ]
  },
  {
   "cell_type": "code",
   "execution_count": 89,
   "metadata": {
    "ExecuteTime": {
     "end_time": "2019-03-08T06:51:46.444574Z",
     "start_time": "2019-03-08T06:51:46.441373Z"
    }
   },
   "outputs": [],
   "source": [
    "## WE DON'T HAVE DATE FOR RETWEETS. HOW CAN WE SOLVE THIS"
   ]
  },
  {
   "cell_type": "code",
   "execution_count": 156,
   "metadata": {
    "ExecuteTime": {
     "end_time": "2019-03-08T07:30:45.058576Z",
     "start_time": "2019-03-08T07:30:44.985290Z"
    }
   },
   "outputs": [],
   "source": [
    "def get_thresholds(following_counts, unique_users, following_dict):\n",
    "    # input is a dictionary of {users : num of following}\n",
    "    # input is unique users to select\n",
    "    \n",
    "    # initiate threshold dict\n",
    "    thresh_dic = {}\n",
    "\n",
    "    # Count the number of friends who activated at the time of activation, ka\n",
    "    for user in list(following_counts.keys()):\n",
    "        \n",
    "        # check if user in user_screen_name in the dataset otherwise continue\n",
    "        if user not in unique_users.user_screen_name.values:\n",
    "            continue\n",
    "        \n",
    "        date_activated = unique_users[unique_users.user_screen_name == user].date\n",
    "\n",
    "        # filter users whose date < date activated\n",
    "        preactivated_users = unique_users[unique_users.date.values <\n",
    "                                          date_activated.values]\n",
    "\n",
    "        # filter only those being followed by user\n",
    "        # DOUBLE CHECK THIS THIS SHOULDNT BE UNIFIED FOLLOWING\n",
    "        _ = preactivated_users[preactivated_users.user_screen_name.isin(\n",
    "            following_dict[user])]\n",
    "\n",
    "        # get number of preactivated users that are being followed\n",
    "        ka = len(_)\n",
    "\n",
    "        # get number of people followed\n",
    "        k = following_counts[user]\n",
    "        \n",
    "        if ka > k:\n",
    "            print(ka, k)\n",
    "            print(user)\n",
    "        \n",
    "        # if no connections, remove\n",
    "        if k == 0:\n",
    "            continue\n",
    "\n",
    "        # get threshold\n",
    "        thresh = ka / k\n",
    "        \n",
    "\n",
    "        # append to dictionary\n",
    "        thresh_dic[user] = thresh\n",
    "\n",
    "    return thresh_dic"
   ]
  },
  {
   "cell_type": "code",
   "execution_count": 157,
   "metadata": {
    "ExecuteTime": {
     "end_time": "2019-03-08T07:30:59.625127Z",
     "start_time": "2019-03-08T07:30:49.492631Z"
    }
   },
   "outputs": [
    {
     "data": {
      "text/plain": [
       "1077"
      ]
     },
     "execution_count": 157,
     "metadata": {},
     "output_type": "execute_result"
    }
   ],
   "source": [
    "# get following counts\n",
    "following_counts = {k: len(v) for k, v in unified_following.items()}\n",
    "\n",
    "# unique_users are unfiltered. Symmetric\n",
    "unique_users = tweets.drop_duplicates(subset=\"user_screen_name\", keep=\"first\")\n",
    "\n",
    "# show some threshold values\n",
    "thresholds = get_thresholds(following_counts, unique_users, unified_following)\n",
    "\n",
    "# display\n",
    "len(thresholds)"
   ]
  },
  {
   "cell_type": "code",
   "execution_count": 158,
   "metadata": {
    "ExecuteTime": {
     "end_time": "2019-03-08T07:30:59.635901Z",
     "start_time": "2019-03-08T07:30:59.628143Z"
    }
   },
   "outputs": [
    {
     "data": {
      "text/plain": [
       "0.028447418912240032"
      ]
     },
     "execution_count": 158,
     "metadata": {},
     "output_type": "execute_result"
    }
   ],
   "source": [
    "# mean threshold\n",
    "np.mean([v for k, v in thresholds.items()])"
   ]
  },
  {
   "cell_type": "code",
   "execution_count": 159,
   "metadata": {
    "ExecuteTime": {
     "end_time": "2019-03-08T07:31:00.185869Z",
     "start_time": "2019-03-08T07:30:59.639420Z"
    },
    "scrolled": true
   },
   "outputs": [
    {
     "data": {
      "text/plain": [
       "Text(0.5,1,'Num nodes vs ka/k')"
      ]
     },
     "execution_count": 159,
     "metadata": {},
     "output_type": "execute_result"
    },
    {
     "data": {
      "image/png": "[encoded data removed]",
      "text/plain": [
       "<matplotlib.figure.Figure at 0x151ea88438>"
      ]
     },
     "metadata": {},
     "output_type": "display_data"
    }
   ],
   "source": [
    "# plot distribution proportion of nodes vs ka/k\n",
    "thresh = [v for k, v in thresholds.items()]\n",
    "thresh_counts = Counter(thresh)\n",
    "x = np.array(list(thresh_counts.keys()))\n",
    "inds = np.argsort(x)\n",
    "x_asym = x[inds]\n",
    "y_asym = np.array(list(thresh_counts.values()))[inds]\n",
    "plt.semilogy(x_asym, y_asym)\n",
    "plt.xlabel(\"ka/k\")\n",
    "plt.ylabel(\"num nodes\")\n",
    "plt.title(\"Num nodes vs ka/k\")"
   ]
  },
  {
   "cell_type": "markdown",
   "metadata": {},
   "source": [
    "### Overall Threshold Distribution - Symmetric"
   ]
  },
  {
   "cell_type": "code",
   "execution_count": 160,
   "metadata": {
    "ExecuteTime": {
     "end_time": "2019-03-08T07:31:03.771327Z",
     "start_time": "2019-03-08T07:31:03.267159Z"
    }
   },
   "outputs": [
    {
     "data": {
      "text/plain": [
       "12439"
      ]
     },
     "execution_count": 160,
     "metadata": {},
     "output_type": "execute_result"
    }
   ],
   "source": [
    "# Filter the network for symmetric only\n",
    "# list of users and who they follow in symmetric network\n",
    "symm_following = filter_symmetric_from_dict(unified_following)\n",
    "\n",
    "# make graph\n",
    "H = nx.from_dict_of_lists(symm_following, create_using=nx.DiGraph())\n",
    "\n",
    "len(H.nodes)"
   ]
  },
  {
   "cell_type": "code",
   "execution_count": 162,
   "metadata": {
    "ExecuteTime": {
     "end_time": "2019-03-08T07:31:10.535169Z",
     "start_time": "2019-03-08T07:31:08.829326Z"
    },
    "scrolled": true
   },
   "outputs": [
    {
     "data": {
      "text/plain": [
       "384"
      ]
     },
     "execution_count": 162,
     "metadata": {},
     "output_type": "execute_result"
    }
   ],
   "source": [
    "# get following counts\n",
    "following_counts = {k: len(v) for k, v in symm_following.items()}\n",
    "\n",
    "# unique_users are unfiltered. Symmetric\n",
    "unique_users = unique_users\n",
    "\n",
    "# show some threshold values\n",
    "thresholds = get_thresholds(following_counts, unique_users, symm_following)\n",
    "\n",
    "len(thresholds)"
   ]
  },
  {
   "cell_type": "code",
   "execution_count": 163,
   "metadata": {
    "ExecuteTime": {
     "end_time": "2019-03-08T07:31:18.375641Z",
     "start_time": "2019-03-08T07:31:18.370249Z"
    }
   },
   "outputs": [
    {
     "data": {
      "text/plain": [
       "0.044529996388008454"
      ]
     },
     "execution_count": 163,
     "metadata": {},
     "output_type": "execute_result"
    }
   ],
   "source": [
    "# mean threshold\n",
    "np.mean([v for k, v in thresholds.items()])"
   ]
  },
  {
   "cell_type": "code",
   "execution_count": 164,
   "metadata": {
    "ExecuteTime": {
     "end_time": "2019-03-08T07:31:19.756192Z",
     "start_time": "2019-03-08T07:31:19.433848Z"
    },
    "scrolled": true
   },
   "outputs": [
    {
     "data": {
      "text/plain": [
       "Text(0.5,1,'Num nodes vs ka/k')"
      ]
     },
     "execution_count": 164,
     "metadata": {},
     "output_type": "execute_result"
    },
    {
     "data": {
      "image/png": "[encoded data removed]",
      "text/plain": [
       "<matplotlib.figure.Figure at 0x151e2133c8>"
      ]
     },
     "metadata": {},
     "output_type": "display_data"
    }
   ],
   "source": [
    "# plot distribution proportion of nodes vs ka/k\n",
    "thresh = [v for k, v in thresholds.items()]\n",
    "thresh_counts = Counter(thresh)\n",
    "x = np.array(list(thresh_counts.keys()))\n",
    "inds = np.argsort(x)\n",
    "x_sym = x[inds]\n",
    "y_sym = np.array(list(thresh_counts.values()))[inds]\n",
    "plt.semilogy(x_sym, y_sym)\n",
    "plt.xlabel(\"ka/k\")\n",
    "plt.ylabel(\"num nodes\")\n",
    "plt.title(\"Num nodes vs ka/k\")"
   ]
  },
  {
   "cell_type": "code",
   "execution_count": 185,
   "metadata": {
    "ExecuteTime": {
     "end_time": "2019-03-08T07:34:26.927088Z",
     "start_time": "2019-03-08T07:34:26.586587Z"
    }
   },
   "outputs": [
    {
     "data": {
      "text/plain": [
       "Text(0.5,1,'Num nodes vs ka/k')"
      ]
     },
     "execution_count": 185,
     "metadata": {},
     "output_type": "execute_result"
    },
    {
     "data": {
      "image/png": "[encoded data removed]",
      "text/plain": [
       "<matplotlib.figure.Figure at 0x115b8bf98>"
      ]
     },
     "metadata": {},
     "output_type": "display_data"
    }
   ],
   "source": [
    "plt.semilogy(x_sym, y_sym, \"-\", alpha=0.5, ms=4, label=\"symmetric\")\n",
    "plt.semilogy(x_asym, y_asym, \"-\", alpha=0.5, ms=4, label=\"asymmetric\")\n",
    "plt.legend()\n",
    "plt.xlabel(\"ka/k\")\n",
    "plt.ylabel(\"num nodes\")\n",
    "plt.title(\"Num nodes vs ka/k\")"
   ]
  },
  {
   "cell_type": "markdown",
   "metadata": {},
   "source": [
    "Assuming that retaining the symmetric network is like removing ifluencers and media (with huge number of followers but few users followed), or retaining groups of friends in the network, the threshold distribution shifts to higher threshold values. It might be that people in the symmetric subgraph needed more pressure to join the protest / be recruited. Media and influencers could have played a role in activating a significant portion of the users (lower required ka/k)"
   ]
  },
  {
   "cell_type": "markdown",
   "metadata": {},
   "source": [
    "### Distribution of Low, Med, and High Threshold Users Over Time"
   ]
  },
  {
   "cell_type": "code",
   "execution_count": 388,
   "metadata": {
    "ExecuteTime": {
     "end_time": "2019-03-08T11:44:08.817075Z",
     "start_time": "2019-03-08T11:43:59.272831Z"
    }
   },
   "outputs": [
    {
     "data": {
      "text/plain": [
       "1077"
      ]
     },
     "execution_count": 388,
     "metadata": {},
     "output_type": "execute_result"
    }
   ],
   "source": [
    "# TO DO THIS!!!!\n",
    "# ASYMMETRIC\n",
    "# get following counts\n",
    "following_counts = {k: len(v) for k, v in unified_following.items()}\n",
    "\n",
    "# unique_users are unfiltered. Symmetric\n",
    "unique_users = tweets.drop_duplicates(subset=\"user_screen_name\", keep=\"first\")\n",
    "\n",
    "# show some threshold values\n",
    "thresholds = get_thresholds(following_counts, unique_users, unified_following)\n",
    "\n",
    "# display\n",
    "len(thresholds)"
   ]
  },
  {
   "cell_type": "code",
   "execution_count": null,
   "metadata": {},
   "outputs": [],
   "source": [
    "thresholds"
   ]
  },
  {
   "cell_type": "code",
   "execution_count": null,
   "metadata": {},
   "outputs": [],
   "source": [
    "# SYMMETRIC"
   ]
  },
  {
   "cell_type": "markdown",
   "metadata": {},
   "source": [
    "### Threshold Distribution Before and After Protest"
   ]
  },
  {
   "cell_type": "code",
   "execution_count": 358,
   "metadata": {
    "ExecuteTime": {
     "end_time": "2019-03-08T11:33:40.460503Z",
     "start_time": "2019-03-08T11:33:40.445880Z"
    }
   },
   "outputs": [
    {
     "data": {
      "text/plain": [
       "236"
      ]
     },
     "execution_count": 358,
     "metadata": {},
     "output_type": "execute_result"
    }
   ],
   "source": [
    "# threshold before protest\n",
    "tweets_before = tweets_0[tweets_0.date < datetime(2013, 8, 26)].reset_index(drop=True)\n",
    "len(tweets_before)"
   ]
  },
  {
   "cell_type": "code",
   "execution_count": 369,
   "metadata": {
    "ExecuteTime": {
     "end_time": "2019-03-08T11:40:14.152716Z",
     "start_time": "2019-03-08T11:40:09.584351Z"
    }
   },
   "outputs": [
    {
     "data": {
      "text/plain": [
       "74"
      ]
     },
     "execution_count": 369,
     "metadata": {},
     "output_type": "execute_result"
    }
   ],
   "source": [
    "# get following counts\n",
    "# asymmetric\n",
    "following_counts = {k: len(v) for k, v in unified_following.items()}\n",
    "\n",
    "# unique_users are unfiltered. Symmetric\n",
    "unique_users = tweets_before.drop_duplicates(subset=\"user_screen_name\", keep=\"first\")\n",
    "\n",
    "# show some threshold values\n",
    "thresholds = get_thresholds(following_counts, unique_users, unified_following)\n",
    "\n",
    "# display\n",
    "len(thresholds)"
   ]
  },
  {
   "cell_type": "code",
   "execution_count": 370,
   "metadata": {
    "ExecuteTime": {
     "end_time": "2019-03-08T11:40:14.161326Z",
     "start_time": "2019-03-08T11:40:14.154943Z"
    }
   },
   "outputs": [
    {
     "data": {
      "text/plain": [
       "0.0034581423246540714"
      ]
     },
     "execution_count": 370,
     "metadata": {},
     "output_type": "execute_result"
    }
   ],
   "source": [
    "# mean threshold\n",
    "np.mean([v for k, v in thresholds.items()])"
   ]
  },
  {
   "cell_type": "code",
   "execution_count": 371,
   "metadata": {
    "ExecuteTime": {
     "end_time": "2019-03-08T11:40:14.468921Z",
     "start_time": "2019-03-08T11:40:14.163841Z"
    },
    "scrolled": true
   },
   "outputs": [
    {
     "data": {
      "text/plain": [
       "Text(0.5,1,'Num nodes vs ka/k')"
      ]
     },
     "execution_count": 371,
     "metadata": {},
     "output_type": "execute_result"
    },
    {
     "data": {
      "image/png": "[encoded data removed]",
      "text/plain": [
       "<matplotlib.figure.Figure at 0x1526737438>"
      ]
     },
     "metadata": {},
     "output_type": "display_data"
    }
   ],
   "source": [
    "# plot distribution proportion of nodes vs ka/k\n",
    "thresh = [v for k, v in thresholds.items()]\n",
    "thresh_counts = Counter(thresh)\n",
    "x = np.array(list(thresh_counts.keys()))\n",
    "inds = np.argsort(x)\n",
    "x_asym_before = x[inds]\n",
    "y_asym_before = np.array(list(thresh_counts.values()))[inds]\n",
    "plt.semilogy(x_asym_before, y_asym_before)\n",
    "plt.xlabel(\"ka/k\")\n",
    "plt.ylabel(\"num nodes\")\n",
    "plt.title(\"Num nodes vs ka/k\")"
   ]
  },
  {
   "cell_type": "code",
   "execution_count": 372,
   "metadata": {
    "ExecuteTime": {
     "end_time": "2019-03-08T11:40:14.481839Z",
     "start_time": "2019-03-08T11:40:14.471432Z"
    }
   },
   "outputs": [
    {
     "data": {
      "text/plain": [
       "2177"
      ]
     },
     "execution_count": 372,
     "metadata": {},
     "output_type": "execute_result"
    }
   ],
   "source": [
    "# threshold after protest\n",
    "tweets_after = tweets_0[tweets_0.date >= datetime(2013, 8, 26)].reset_index(drop=True)\n",
    "len(tweets_after)"
   ]
  },
  {
   "cell_type": "code",
   "execution_count": 373,
   "metadata": {
    "ExecuteTime": {
     "end_time": "2019-03-08T11:40:24.765835Z",
     "start_time": "2019-03-08T11:40:14.484517Z"
    }
   },
   "outputs": [
    {
     "data": {
      "text/plain": [
       "1244"
      ]
     },
     "execution_count": 373,
     "metadata": {},
     "output_type": "execute_result"
    }
   ],
   "source": [
    "# get following counts\n",
    "# asymmetric\n",
    "following_counts = {k: len(v) for k, v in unified_following.items()}\n",
    "\n",
    "# unique_users are unfiltered. Symmetric\n",
    "unique_users = tweets_after.drop_duplicates(subset=\"user_screen_name\", keep=\"first\")\n",
    "\n",
    "# show some threshold values\n",
    "thresholds = get_thresholds(following_counts, unique_users, unified_following)\n",
    "\n",
    "# display\n",
    "len(thresholds)"
   ]
  },
  {
   "cell_type": "code",
   "execution_count": 374,
   "metadata": {
    "ExecuteTime": {
     "end_time": "2019-03-08T11:40:24.773566Z",
     "start_time": "2019-03-08T11:40:24.767965Z"
    }
   },
   "outputs": [
    {
     "data": {
      "text/plain": [
       "0.013108244550533778"
      ]
     },
     "execution_count": 374,
     "metadata": {},
     "output_type": "execute_result"
    }
   ],
   "source": [
    "# mean threshold\n",
    "np.mean([v for k, v in thresholds.items()])"
   ]
  },
  {
   "cell_type": "code",
   "execution_count": 376,
   "metadata": {
    "ExecuteTime": {
     "end_time": "2019-03-08T11:40:45.598190Z",
     "start_time": "2019-03-08T11:40:45.070868Z"
    },
    "scrolled": true
   },
   "outputs": [
    {
     "data": {
      "text/plain": [
       "Text(0.5,1,'Num nodes vs ka/k')"
      ]
     },
     "execution_count": 376,
     "metadata": {},
     "output_type": "execute_result"
    },
    {
     "data": {
      "image/png": "[encoded data removed]",
      "text/plain": [
       "<matplotlib.figure.Figure at 0x1529d227f0>"
      ]
     },
     "metadata": {},
     "output_type": "display_data"
    }
   ],
   "source": [
    "# plot distribution proportion of nodes vs ka/k\n",
    "thresh = [v for k, v in thresholds.items()]\n",
    "thresh_counts = Counter(thresh)\n",
    "x = np.array(list(thresh_counts.keys()))\n",
    "inds = np.argsort(x)\n",
    "x_asym_after = x[inds]\n",
    "y_asym_after = np.array(list(thresh_counts.values()))[inds]\n",
    "plt.semilogy(x_asym_after, y_asym_after)\n",
    "plt.xlabel(\"ka/k\")\n",
    "plt.ylabel(\"num nodes\")\n",
    "plt.title(\"Num nodes vs ka/k\")"
   ]
  },
  {
   "cell_type": "code",
   "execution_count": 387,
   "metadata": {
    "ExecuteTime": {
     "end_time": "2019-03-08T11:42:35.448314Z",
     "start_time": "2019-03-08T11:42:34.078342Z"
    }
   },
   "outputs": [
    {
     "data": {
      "text/plain": [
       "<matplotlib.legend.Legend at 0x152b6c6470>"
      ]
     },
     "execution_count": 387,
     "metadata": {},
     "output_type": "execute_result"
    },
    {
     "data": {
      "image/png": "[encoded data removed]",
      "text/plain": [
       "<matplotlib.figure.Figure at 0x152b7af3c8>"
      ]
     },
     "metadata": {},
     "output_type": "display_data"
    }
   ],
   "source": [
    "plt.semilogy(x_asym_before, y_asym_before, alpha=1, label=\"before protest\")\n",
    "plt.semilogy(x_asym_after, y_asym_after, alpha=0.5, label=\"after protest\")\n",
    "plt.xlabel(\"ka/k\")\n",
    "plt.ylabel(\"num nodes\")\n",
    "plt.title(\"Num nodes vs ka/k\")\n",
    "plt.legend()"
   ]
  },
  {
   "cell_type": "markdown",
   "metadata": {},
   "source": [
    "## Recruitment Bursts"
   ]
  },
  {
   "cell_type": "code",
   "execution_count": null,
   "metadata": {},
   "outputs": [],
   "source": []
  },
  {
   "cell_type": "code",
   "execution_count": null,
   "metadata": {},
   "outputs": [],
   "source": []
  },
  {
   "cell_type": "markdown",
   "metadata": {},
   "source": [
    "## Distribution of Cascade Size"
   ]
  },
  {
   "cell_type": "code",
   "execution_count": null,
   "metadata": {
    "ExecuteTime": {
     "end_time": "2019-03-04T16:29:50.209892Z",
     "start_time": "2019-03-04T16:29:50.203090Z"
    }
   },
   "outputs": [],
   "source": [
    "# How to identify cascade? retweet of same message?\n",
    "    # Count how many retweeted same message = cascade size?\n",
    "    # Count how many used the same #hashtag - cascade size?\n",
    "    # Add k core attributes per node\n",
    "    # Find K core of who started = seed/leader\n",
    "    # Associate cascade size with k core of seed/leader"
   ]
  },
  {
   "cell_type": "code",
   "execution_count": 191,
   "metadata": {
    "ExecuteTime": {
     "end_time": "2019-03-08T07:55:16.482122Z",
     "start_time": "2019-03-08T07:55:16.466182Z"
    }
   },
   "outputs": [],
   "source": [
    "# count retweets for each parent id\n",
    "cascade_sizes = tweets_0.groupby(\n",
    "    by=\"parent_tweet_id\").count().reset_index().iloc[:, :2].date.values\n",
    "\n",
    "# Should we add this?\n",
    "# # we add the original tweet\n",
    "# cascade_sizes = cascade_sizes + 1"
   ]
  },
  {
   "cell_type": "code",
   "execution_count": 192,
   "metadata": {
    "ExecuteTime": {
     "end_time": "2019-03-08T07:55:17.978749Z",
     "start_time": "2019-03-08T07:55:17.555109Z"
    }
   },
   "outputs": [
    {
     "data": {
      "text/plain": [
       "Text(0.5,1,'Distribution of cascade size')"
      ]
     },
     "execution_count": 192,
     "metadata": {},
     "output_type": "execute_result"
    },
    {
     "data": {
      "image/png": "[encoded data removed]",
      "text/plain": [
       "<matplotlib.figure.Figure at 0x117178fd0>"
      ]
     },
     "metadata": {},
     "output_type": "display_data"
    }
   ],
   "source": [
    "x = np.array(list(Counter(cascade_sizes).keys()))\n",
    "inds = np.argsort(x)\n",
    "x = x[inds]\n",
    "y = np.array(list(Counter(cascade_sizes).values()))[inds]\n",
    "plt.loglog(x, y, marker=\".\", )\n",
    "plt.xlabel(\"cascade size (number of retweets + original tweet)\")\n",
    "plt.ylabel(\"number of nodes\")\n",
    "plt.title(\"Distribution of cascade size\")"
   ]
  },
  {
   "cell_type": "code",
   "execution_count": null,
   "metadata": {},
   "outputs": [],
   "source": [
    "# WE CAN CHECK WHO ARE THE NODES THAT REACHED MANY PEOPLE"
   ]
  },
  {
   "cell_type": "markdown",
   "metadata": {},
   "source": [
    "## Node Centrality (K Core) vs Cascade Size"
   ]
  },
  {
   "cell_type": "code",
   "execution_count": 229,
   "metadata": {
    "ExecuteTime": {
     "end_time": "2019-03-08T08:07:39.341463Z",
     "start_time": "2019-03-08T08:07:39.320811Z"
    }
   },
   "outputs": [
    {
     "data": {
      "text/html": [
       "<div>\n",
       "<style scoped>\n",
       "    .dataframe tbody tr th:only-of-type {\n",
       "        vertical-align: middle;\n",
       "    }\n",
       "\n",
       "    .dataframe tbody tr th {\n",
       "        vertical-align: top;\n",
       "    }\n",
       "\n",
       "    .dataframe thead th {\n",
       "        text-align: right;\n",
       "    }\n",
       "</style>\n",
       "<table border=\"1\" class=\"dataframe\">\n",
       "  <thead>\n",
       "    <tr style=\"text-align: right;\">\n",
       "      <th></th>\n",
       "      <th>parent_tweet_id</th>\n",
       "      <th>cascade</th>\n",
       "    </tr>\n",
       "  </thead>\n",
       "  <tbody>\n",
       "    <tr>\n",
       "      <th>0</th>\n",
       "      <td>3.229498e+16</td>\n",
       "      <td>0</td>\n",
       "    </tr>\n",
       "    <tr>\n",
       "      <th>1</th>\n",
       "      <td>3.229898e+16</td>\n",
       "      <td>0</td>\n",
       "    </tr>\n",
       "    <tr>\n",
       "      <th>2</th>\n",
       "      <td>3.687604e+17</td>\n",
       "      <td>1</td>\n",
       "    </tr>\n",
       "    <tr>\n",
       "      <th>3</th>\n",
       "      <td>3.688481e+17</td>\n",
       "      <td>0</td>\n",
       "    </tr>\n",
       "    <tr>\n",
       "      <th>4</th>\n",
       "      <td>3.689035e+17</td>\n",
       "      <td>1</td>\n",
       "    </tr>\n",
       "  </tbody>\n",
       "</table>\n",
       "</div>"
      ],
      "text/plain": [
       "   parent_tweet_id  cascade\n",
       "0     3.229498e+16        0\n",
       "1     3.229898e+16        0\n",
       "2     3.687604e+17        1\n",
       "3     3.688481e+17        0\n",
       "4     3.689035e+17        1"
      ]
     },
     "execution_count": 229,
     "metadata": {},
     "output_type": "execute_result"
    }
   ],
   "source": [
    "# make a dictionary of parent tweet_id and cascade size\n",
    "# Check in the asymmetric network and symmetric network\n",
    "# will associate parent_tweet_id with original tweeter and calculate k core\n",
    "\n",
    "cascade_df = tweets_0.groupby(\n",
    "    by=\"parent_tweet_id\").count().reset_index().iloc[:, :2]\n",
    "# rename column to cascade\n",
    "cascade_df = cascade_df.rename(columns={\"date\": \"cascade\"})\n",
    "cascade_df.head()"
   ]
  },
  {
   "cell_type": "code",
   "execution_count": 230,
   "metadata": {
    "ExecuteTime": {
     "end_time": "2019-03-08T08:07:40.917105Z",
     "start_time": "2019-03-08T08:07:40.912083Z"
    }
   },
   "outputs": [
    {
     "data": {
      "text/plain": [
       "118749"
      ]
     },
     "execution_count": 230,
     "metadata": {},
     "output_type": "execute_result"
    }
   ],
   "source": [
    "# k cores in asymmetric network\n",
    "# from G above - includes followers who do not follow back and did not tweet\n",
    "# about the protest\n",
    "len(G.nodes)"
   ]
  },
  {
   "cell_type": "code",
   "execution_count": 231,
   "metadata": {
    "ExecuteTime": {
     "end_time": "2019-03-08T08:07:41.873764Z",
     "start_time": "2019-03-08T08:07:41.573550Z"
    }
   },
   "outputs": [],
   "source": [
    "# remove self-loops\n",
    "G.remove_edges_from(nx.selfloop_edges(G))"
   ]
  },
  {
   "cell_type": "code",
   "execution_count": 232,
   "metadata": {
    "ExecuteTime": {
     "end_time": "2019-03-08T08:07:44.363497Z",
     "start_time": "2019-03-08T08:07:44.358918Z"
    }
   },
   "outputs": [
    {
     "data": {
      "text/plain": [
       "118749"
      ]
     },
     "execution_count": 232,
     "metadata": {},
     "output_type": "execute_result"
    }
   ],
   "source": [
    "len(G.nodes)"
   ]
  },
  {
   "cell_type": "code",
   "execution_count": 234,
   "metadata": {
    "ExecuteTime": {
     "end_time": "2019-03-08T08:07:53.188421Z",
     "start_time": "2019-03-08T08:07:52.151653Z"
    }
   },
   "outputs": [
    {
     "data": {
      "text/plain": [
       "118749"
      ]
     },
     "execution_count": 234,
     "metadata": {},
     "output_type": "execute_result"
    }
   ],
   "source": [
    "# k cores in asymmetric network - includes those who did not tweet about the protest\n",
    "# {name: k_core, name: k_core}\n",
    "k_cores_dict = nx.core_number(G)\n",
    "\n",
    "# SAVE KCORE AS ATTRIBUTE OF NODE\n",
    "len(k_cores_dict)"
   ]
  },
  {
   "cell_type": "code",
   "execution_count": 236,
   "metadata": {
    "ExecuteTime": {
     "end_time": "2019-03-08T08:08:02.606040Z",
     "start_time": "2019-03-08T08:08:02.551924Z"
    }
   },
   "outputs": [
    {
     "data": {
      "text/plain": [
       "118749"
      ]
     },
     "execution_count": 236,
     "metadata": {},
     "output_type": "execute_result"
    }
   ],
   "source": [
    "# k_core per users\n",
    "k_core_df = pd.DataFrame.from_dict(\n",
    "    k_cores_dict, orient='index').reset_index()\n",
    "len(k_core_df)"
   ]
  },
  {
   "cell_type": "code",
   "execution_count": 278,
   "metadata": {
    "ExecuteTime": {
     "end_time": "2019-03-08T08:16:31.648384Z",
     "start_time": "2019-03-08T08:16:31.617580Z"
    }
   },
   "outputs": [
    {
     "data": {
      "text/html": [
       "<div>\n",
       "<style scoped>\n",
       "    .dataframe tbody tr th:only-of-type {\n",
       "        vertical-align: middle;\n",
       "    }\n",
       "\n",
       "    .dataframe tbody tr th {\n",
       "        vertical-align: top;\n",
       "    }\n",
       "\n",
       "    .dataframe thead th {\n",
       "        text-align: right;\n",
       "    }\n",
       "</style>\n",
       "<table border=\"1\" class=\"dataframe\">\n",
       "  <thead>\n",
       "    <tr style=\"text-align: right;\">\n",
       "      <th></th>\n",
       "      <th>user_screen_name</th>\n",
       "      <th>cascade</th>\n",
       "    </tr>\n",
       "  </thead>\n",
       "  <tbody>\n",
       "    <tr>\n",
       "      <th>0</th>\n",
       "      <td>xuyode</td>\n",
       "      <td>1</td>\n",
       "    </tr>\n",
       "    <tr>\n",
       "      <th>1</th>\n",
       "      <td>hostboyramos</td>\n",
       "      <td>0</td>\n",
       "    </tr>\n",
       "    <tr>\n",
       "      <th>2</th>\n",
       "      <td>rudyvillar</td>\n",
       "      <td>1</td>\n",
       "    </tr>\n",
       "    <tr>\n",
       "      <th>3</th>\n",
       "      <td>angkulet</td>\n",
       "      <td>2</td>\n",
       "    </tr>\n",
       "    <tr>\n",
       "      <th>4</th>\n",
       "      <td>kamoterunner</td>\n",
       "      <td>2</td>\n",
       "    </tr>\n",
       "  </tbody>\n",
       "</table>\n",
       "</div>"
      ],
      "text/plain": [
       "  user_screen_name  cascade\n",
       "0           xuyode        1\n",
       "1     hostboyramos        0\n",
       "2       rudyvillar        1\n",
       "3         angkulet        2\n",
       "4     kamoterunner        2"
      ]
     },
     "execution_count": 278,
     "metadata": {},
     "output_type": "execute_result"
    }
   ],
   "source": [
    "# get the parent user screen name\n",
    "cascade_df_2 = pd.merge(unique_users, cascade_df, left_on=\"tweet_id\",\n",
    "                        right_on=\"parent_tweet_id\").loc[:, [\"user_screen_name\", \"cascade\"]]\n",
    "cascade_df_2.head()"
   ]
  },
  {
   "cell_type": "code",
   "execution_count": 280,
   "metadata": {
    "ExecuteTime": {
     "end_time": "2019-03-08T08:16:55.599030Z",
     "start_time": "2019-03-08T08:16:55.586615Z"
    }
   },
   "outputs": [
    {
     "data": {
      "text/html": [
       "<div>\n",
       "<style scoped>\n",
       "    .dataframe tbody tr th:only-of-type {\n",
       "        vertical-align: middle;\n",
       "    }\n",
       "\n",
       "    .dataframe tbody tr th {\n",
       "        vertical-align: top;\n",
       "    }\n",
       "\n",
       "    .dataframe thead th {\n",
       "        text-align: right;\n",
       "    }\n",
       "</style>\n",
       "<table border=\"1\" class=\"dataframe\">\n",
       "  <thead>\n",
       "    <tr style=\"text-align: right;\">\n",
       "      <th></th>\n",
       "      <th>index</th>\n",
       "      <th>0</th>\n",
       "    </tr>\n",
       "  </thead>\n",
       "  <tbody>\n",
       "    <tr>\n",
       "      <th>0</th>\n",
       "      <td>ancalerts</td>\n",
       "      <td>9</td>\n",
       "    </tr>\n",
       "    <tr>\n",
       "      <th>1</th>\n",
       "      <td>berniecadao</td>\n",
       "      <td>9</td>\n",
       "    </tr>\n",
       "    <tr>\n",
       "      <th>2</th>\n",
       "      <td>sherylcayco</td>\n",
       "      <td>4</td>\n",
       "    </tr>\n",
       "    <tr>\n",
       "      <th>3</th>\n",
       "      <td>irneyespiritu1</td>\n",
       "      <td>7</td>\n",
       "    </tr>\n",
       "    <tr>\n",
       "      <th>4</th>\n",
       "      <td>tunogopm</td>\n",
       "      <td>6</td>\n",
       "    </tr>\n",
       "  </tbody>\n",
       "</table>\n",
       "</div>"
      ],
      "text/plain": [
       "            index  0\n",
       "0       ancalerts  9\n",
       "1     berniecadao  9\n",
       "2     sherylcayco  4\n",
       "3  irneyespiritu1  7\n",
       "4        tunogopm  6"
      ]
     },
     "execution_count": 280,
     "metadata": {},
     "output_type": "execute_result"
    }
   ],
   "source": [
    "k_core_users.head()"
   ]
  },
  {
   "cell_type": "code",
   "execution_count": 294,
   "metadata": {
    "ExecuteTime": {
     "end_time": "2019-03-08T08:36:04.106433Z",
     "start_time": "2019-03-08T08:36:04.026040Z"
    }
   },
   "outputs": [
    {
     "data": {
      "text/html": [
       "<div>\n",
       "<style scoped>\n",
       "    .dataframe tbody tr th:only-of-type {\n",
       "        vertical-align: middle;\n",
       "    }\n",
       "\n",
       "    .dataframe tbody tr th {\n",
       "        vertical-align: top;\n",
       "    }\n",
       "\n",
       "    .dataframe thead th {\n",
       "        text-align: right;\n",
       "    }\n",
       "</style>\n",
       "<table border=\"1\" class=\"dataframe\">\n",
       "  <thead>\n",
       "    <tr style=\"text-align: right;\">\n",
       "      <th></th>\n",
       "      <th>0</th>\n",
       "      <th>cascade</th>\n",
       "    </tr>\n",
       "  </thead>\n",
       "  <tbody>\n",
       "    <tr>\n",
       "      <th>0</th>\n",
       "      <td>9</td>\n",
       "      <td>3</td>\n",
       "    </tr>\n",
       "    <tr>\n",
       "      <th>1</th>\n",
       "      <td>9</td>\n",
       "      <td>0</td>\n",
       "    </tr>\n",
       "    <tr>\n",
       "      <th>2</th>\n",
       "      <td>7</td>\n",
       "      <td>0</td>\n",
       "    </tr>\n",
       "    <tr>\n",
       "      <th>3</th>\n",
       "      <td>9</td>\n",
       "      <td>0</td>\n",
       "    </tr>\n",
       "    <tr>\n",
       "      <th>4</th>\n",
       "      <td>9</td>\n",
       "      <td>0</td>\n",
       "    </tr>\n",
       "  </tbody>\n",
       "</table>\n",
       "</div>"
      ],
      "text/plain": [
       "   0  cascade\n",
       "0  9        3\n",
       "1  9        0\n",
       "2  7        0\n",
       "3  9        0\n",
       "4  9        0"
      ]
     },
     "execution_count": 294,
     "metadata": {},
     "output_type": "execute_result"
    }
   ],
   "source": [
    "# merge cascade size and kcore\n",
    "df_cascade_kcore = pd.merge(k_core_users, cascade_df_2, left_on=\"index\",\n",
    "         right_on=\"user_screen_name\")[[0, \"cascade\"]]\n",
    "df_cascade_kcore.head()"
   ]
  },
  {
   "cell_type": "code",
   "execution_count": 335,
   "metadata": {
    "ExecuteTime": {
     "end_time": "2019-03-08T10:49:21.727847Z",
     "start_time": "2019-03-08T10:49:21.475285Z"
    }
   },
   "outputs": [
    {
     "data": {
      "text/plain": [
       "Text(0,0.5,'$N_c$/$N$')"
      ]
     },
     "execution_count": 335,
     "metadata": {},
     "output_type": "execute_result"
    },
    {
     "data": {
      "image/png": "[encoded data removed]",
      "text/plain": [
       "<matplotlib.figure.Figure at 0x15245c6b70>"
      ]
     },
     "metadata": {},
     "output_type": "display_data"
    }
   ],
   "source": [
    "x = df_cascade_kcore[0]\n",
    "inds = np.argsort(x)\n",
    "x = x[inds]\n",
    "y = df_cascade_kcore[\"cascade\"][inds]\n",
    "\n",
    "plt.plot(x, y/len(y), 'o')\n",
    "plt.title(\"cascade vs k-core\")\n",
    "plt.xlabel(\"k core\")\n",
    "plt.ylabel(\"$N_c$/$N$\")"
   ]
  },
  {
   "cell_type": "code",
   "execution_count": 316,
   "metadata": {
    "ExecuteTime": {
     "end_time": "2019-03-08T08:43:15.687699Z",
     "start_time": "2019-03-08T08:43:15.418830Z"
    }
   },
   "outputs": [
    {
     "data": {
      "text/plain": [
       "Text(0,0.5,'Average cascade size')"
      ]
     },
     "execution_count": 316,
     "metadata": {},
     "output_type": "execute_result"
    },
    {
     "data": {
      "image/png": "[encoded data removed]",
      "text/plain": [
       "<matplotlib.figure.Figure at 0x15232c6470>"
      ]
     },
     "metadata": {},
     "output_type": "display_data"
    }
   ],
   "source": [
    "# average cascade size vs k core\n",
    "cascade_kcore_mean = df_cascade_kcore.groupby(by=0).mean().reset_index()\n",
    "\n",
    "x = cascade_kcore_mean[0]\n",
    "inds = np.argsort(x)\n",
    "x = x[inds]\n",
    "y = cascade_kcore_mean[\"cascade\"][inds]\n",
    "\n",
    "plt.plot(x, y, '-')\n",
    "plt.title(\"cascade vs k-core\")\n",
    "plt.xlabel(\"k core\")\n",
    "plt.ylabel(\"Average cascade size\")"
   ]
  },
  {
   "cell_type": "markdown",
   "metadata": {},
   "source": [
    "The average cascade size correlates positively with k core size. This may mean that tweets from users in higher k cores reach more people than users in lower k cores."
   ]
  },
  {
   "cell_type": "code",
   "execution_count": 318,
   "metadata": {
    "ExecuteTime": {
     "end_time": "2019-03-08T10:45:29.773130Z",
     "start_time": "2019-03-08T10:45:29.526964Z"
    }
   },
   "outputs": [],
   "source": [
    "# correlate with kcore with degrees\n",
    "# degree per users\n",
    "degrees = dict(G.degree)\n",
    "\n",
    "degree_df = pd.DataFrame.from_dict(\n",
    "    degrees, orient='index').reset_index()\n",
    "\n"
   ]
  },
  {
   "cell_type": "code",
   "execution_count": 322,
   "metadata": {
    "ExecuteTime": {
     "end_time": "2019-03-08T10:46:46.227015Z",
     "start_time": "2019-03-08T10:46:46.158268Z"
    }
   },
   "outputs": [
    {
     "data": {
      "text/html": [
       "<div>\n",
       "<style scoped>\n",
       "    .dataframe tbody tr th:only-of-type {\n",
       "        vertical-align: middle;\n",
       "    }\n",
       "\n",
       "    .dataframe tbody tr th {\n",
       "        vertical-align: top;\n",
       "    }\n",
       "\n",
       "    .dataframe thead th {\n",
       "        text-align: right;\n",
       "    }\n",
       "</style>\n",
       "<table border=\"1\" class=\"dataframe\">\n",
       "  <thead>\n",
       "    <tr style=\"text-align: right;\">\n",
       "      <th></th>\n",
       "      <th>0</th>\n",
       "      <th>cascade</th>\n",
       "    </tr>\n",
       "  </thead>\n",
       "  <tbody>\n",
       "    <tr>\n",
       "      <th>0</th>\n",
       "      <td>1788</td>\n",
       "      <td>3</td>\n",
       "    </tr>\n",
       "    <tr>\n",
       "      <th>1</th>\n",
       "      <td>278</td>\n",
       "      <td>0</td>\n",
       "    </tr>\n",
       "    <tr>\n",
       "      <th>2</th>\n",
       "      <td>55</td>\n",
       "      <td>0</td>\n",
       "    </tr>\n",
       "    <tr>\n",
       "      <th>3</th>\n",
       "      <td>130</td>\n",
       "      <td>0</td>\n",
       "    </tr>\n",
       "    <tr>\n",
       "      <th>4</th>\n",
       "      <td>246</td>\n",
       "      <td>0</td>\n",
       "    </tr>\n",
       "  </tbody>\n",
       "</table>\n",
       "</div>"
      ],
      "text/plain": [
       "      0  cascade\n",
       "0  1788        3\n",
       "1   278        0\n",
       "2    55        0\n",
       "3   130        0\n",
       "4   246        0"
      ]
     },
     "execution_count": 322,
     "metadata": {},
     "output_type": "execute_result"
    }
   ],
   "source": [
    "# merge cascade size and kcore\n",
    "df_degree_k_core = pd.merge(degree_df, cascade_df_2, left_on=\"index\",\n",
    "         right_on=\"user_screen_name\")[[0, \"cascade\"]]\n",
    "df_degree_k_core.head()"
   ]
  },
  {
   "cell_type": "code",
   "execution_count": 333,
   "metadata": {
    "ExecuteTime": {
     "end_time": "2019-03-08T10:48:59.819355Z",
     "start_time": "2019-03-08T10:48:59.385017Z"
    }
   },
   "outputs": [
    {
     "data": {
      "text/plain": [
       "Text(0,0.5,'cascade size')"
      ]
     },
     "execution_count": 333,
     "metadata": {},
     "output_type": "execute_result"
    },
    {
     "data": {
      "image/png": "[encoded data removed]",
      "text/plain": [
       "<matplotlib.figure.Figure at 0x1524142940>"
      ]
     },
     "metadata": {},
     "output_type": "display_data"
    }
   ],
   "source": [
    "# degree vs k core\n",
    "\n",
    "x = df_degree_k_core[0]\n",
    "inds = np.argsort(x)\n",
    "x = x[inds]\n",
    "y = df_degree_k_core[\"cascade\"][inds]\n",
    "\n",
    "plt.loglog(x, y, 'o')\n",
    "plt.title(\"cascade vs k-core\")\n",
    "plt.xlabel(\"k core\")\n",
    "plt.ylabel(\"cascade size\")"
   ]
  },
  {
   "cell_type": "code",
   "execution_count": 337,
   "metadata": {
    "ExecuteTime": {
     "end_time": "2019-03-08T10:49:38.171287Z",
     "start_time": "2019-03-08T10:49:37.598768Z"
    }
   },
   "outputs": [
    {
     "data": {
      "text/plain": [
       "Text(0,0.5,'Average cascade size')"
      ]
     },
     "execution_count": 337,
     "metadata": {},
     "output_type": "execute_result"
    },
    {
     "data": {
      "image/png": "[encoded data removed]",
      "text/plain": [
       "<matplotlib.figure.Figure at 0x1525a9d780>"
      ]
     },
     "metadata": {},
     "output_type": "display_data"
    }
   ],
   "source": [
    "# mean degree vs k core\n",
    "df_degree_k_core_mean = df_degree_k_core.groupby(by=0).mean().reset_index()\n",
    "\n",
    "x = df_degree_k_core_mean[0]\n",
    "inds = np.argsort(x)\n",
    "x = x[inds]\n",
    "y = df_degree_k_core_mean[\"cascade\"][inds]\n",
    "\n",
    "plt.loglog(x, y, 'o')\n",
    "plt.title(\"cascade vs k-core\")\n",
    "plt.xlabel(\"k core\")\n",
    "plt.ylabel(\"Average cascade size\")"
   ]
  },
  {
   "cell_type": "code",
   "execution_count": null,
   "metadata": {},
   "outputs": [],
   "source": []
  }
 ],
 "metadata": {
  "hide_input": false,
  "kernelspec": {
   "display_name": "Python [default]",
   "language": "python",
   "name": "python3"
  },
  "language_info": {
   "codemirror_mode": {
    "name": "ipython",
    "version": 3
   },
   "file_extension": ".py",
   "mimetype": "text/x-python",
   "name": "python",
   "nbconvert_exporter": "python",
   "pygments_lexer": "ipython3",
   "version": "3.6.4"
  },
  "latex_envs": {
   "LaTeX_envs_menu_present": true,
   "autoclose": false,
   "autocomplete": true,
   "bibliofile": "biblio.bib",
   "cite_by": "apalike",
   "current_citInitial": 1,
   "eqLabelWithNumbers": true,
   "eqNumInitial": 1,
   "hotkeys": {
    "equation": "Ctrl-E",
    "itemize": "Ctrl-I"
   },
   "labels_anchors": false,
   "latex_user_defs": false,
   "report_style_numbering": false,
   "user_envs_cfg": false
  },
  "toc": {
   "base_numbering": 1,
   "nav_menu": {},
   "number_sections": true,
   "sideBar": true,
   "skip_h1_title": false,
   "title_cell": "Table of Contents",
   "title_sidebar": "Contents",
   "toc_cell": false,
   "toc_position": {},
   "toc_section_display": true,
   "toc_window_display": false
  }
 },
 "nbformat": 4,
 "nbformat_minor": 2
}
