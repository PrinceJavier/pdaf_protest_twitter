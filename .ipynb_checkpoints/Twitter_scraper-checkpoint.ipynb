{
 "cells": [
  {
   "cell_type": "code",
   "execution_count": 32,
   "metadata": {},
   "outputs": [],
   "source": [
    "import pandas as pd\n",
    "import numpy as np\n",
    "\n",
    "from selenium import webdriver\n",
    "from selenium.webdriver.common.keys import Keys\n",
    "import time\n"
   ]
  },
  {
   "cell_type": "markdown",
   "metadata": {},
   "source": [
    "https://allofyourbases.com/2018/01/16/mining-twitter-with-selenium/"
   ]
  },
  {
   "cell_type": "code",
   "execution_count": null,
   "metadata": {},
   "outputs": [],
   "source": [
    "# def login_twitter(driver, username, password):\n",
    " \n",
    "#     # open the web page in the browser:\n",
    "#     driver.get(\"https://twitter.com/login\")\n",
    " \n",
    "#     # find the boxes for username and password\n",
    "#     username_field = driver.find_element_by_class_name(\"js-username-field\")\n",
    "#     password_field = driver.find_element_by_class_name(\"js-password-field\")\n",
    " \n",
    "#     # enter your username:\n",
    "#     username_field.send_keys(username)\n",
    "#     driver.implicitly_wait(1)\n",
    " \n",
    "#     # enter your password:\n",
    "#     password_field.send_keys(password)\n",
    "#     driver.implicitly_wait(1)\n",
    " \n",
    "#     # click the \"Log In\" button:\n",
    "#     driver.find_element_by_class_name(\"EdgeButtom--medium\").click()\n",
    " \n",
    "#     return"
   ]
  },
  {
   "cell_type": "code",
   "execution_count": 62,
   "metadata": {},
   "outputs": [],
   "source": [
    "\n",
    "\n",
    "class SeleniumClient(object):\n",
    "    def __init__(self):\n",
    "        #Initialization method. \n",
    "        self.chrome_options = webdriver.ChromeOptions()\n",
    "#         self.chrome_options.add_argument('--headless')\n",
    "#         self.chrome_options.add_argument('--no-sandbox')\n",
    "#         self.chrome_options.add_argument('--disable-setuid-sandbox')\n",
    "\n",
    "        # you need to provide the path of chromdriver in your system\n",
    "        self.browser = webdriver.Chrome('/Users/fernandojavier/Desktop/MSDS/Portfolio/Protest Spread in Twitter/chromedriver', options=self.chrome_options)\n",
    "\n",
    "        self.base_url = 'https://twitter.com/search?q='\n",
    "\n",
    "    def get_tweets(self, query):\n",
    "        ''' \n",
    "        Function to fetch tweets. \n",
    "        '''\n",
    "#         try: \n",
    "        self.browser.get(self.base_url+query)\n",
    "        time.sleep(2)\n",
    "\n",
    "        body = self.browser.find_element_by_tag_name('body')\n",
    "\n",
    "        for _ in range(2):\n",
    "            body.send_keys(Keys.PAGE_DOWN)\n",
    "            time.sleep(0.3)\n",
    "\n",
    "        timeline = self.browser.find_element_by_id('timeline')\n",
    "        tweet_nodes = timeline.find_elements_by_css_selector('.tweet-text')\n",
    "#         user_names = timeline.find_elements_by_css_selector('.tweet-text')\n",
    "#         handles = timeline.find_element_by_class_name('FullNameGroup')\n",
    "#         user_ids = \n",
    "#         dates = \n",
    "    \n",
    "        dic = {'tweets': [tweet_node.text for tweet_node in tweet_nodes]}\n",
    "        return pd.DataFrame()\n",
    "\n",
    "#         except: \n",
    "#             print(\"Selenium - An error occured while fetching tweets.\")"
   ]
  },
  {
   "cell_type": "code",
   "execution_count": 63,
   "metadata": {},
   "outputs": [
    {
     "name": "stdout",
     "output_type": "stream",
     "text": [
      "[<selenium.webdriver.remote.webelement.WebElement (session=\"2f6b80927c0ef8c31d521ec19d828d5a\", element=\"0.54002369012182-3\")>, <selenium.webdriver.remote.webelement.WebElement (session=\"2f6b80927c0ef8c31d521ec19d828d5a\", element=\"0.54002369012182-4\")>, <selenium.webdriver.remote.webelement.WebElement (session=\"2f6b80927c0ef8c31d521ec19d828d5a\", element=\"0.54002369012182-5\")>, <selenium.webdriver.remote.webelement.WebElement (session=\"2f6b80927c0ef8c31d521ec19d828d5a\", element=\"0.54002369012182-6\")>, <selenium.webdriver.remote.webelement.WebElement (session=\"2f6b80927c0ef8c31d521ec19d828d5a\", element=\"0.54002369012182-7\")>, <selenium.webdriver.remote.webelement.WebElement (session=\"2f6b80927c0ef8c31d521ec19d828d5a\", element=\"0.54002369012182-8\")>, <selenium.webdriver.remote.webelement.WebElement (session=\"2f6b80927c0ef8c31d521ec19d828d5a\", element=\"0.54002369012182-9\")>, <selenium.webdriver.remote.webelement.WebElement (session=\"2f6b80927c0ef8c31d521ec19d828d5a\", element=\"0.54002369012182-10\")>, <selenium.webdriver.remote.webelement.WebElement (session=\"2f6b80927c0ef8c31d521ec19d828d5a\", element=\"0.54002369012182-11\")>, <selenium.webdriver.remote.webelement.WebElement (session=\"2f6b80927c0ef8c31d521ec19d828d5a\", element=\"0.54002369012182-12\")>, <selenium.webdriver.remote.webelement.WebElement (session=\"2f6b80927c0ef8c31d521ec19d828d5a\", element=\"0.54002369012182-13\")>, <selenium.webdriver.remote.webelement.WebElement (session=\"2f6b80927c0ef8c31d521ec19d828d5a\", element=\"0.54002369012182-14\")>, <selenium.webdriver.remote.webelement.WebElement (session=\"2f6b80927c0ef8c31d521ec19d828d5a\", element=\"0.54002369012182-15\")>, <selenium.webdriver.remote.webelement.WebElement (session=\"2f6b80927c0ef8c31d521ec19d828d5a\", element=\"0.54002369012182-16\")>, <selenium.webdriver.remote.webelement.WebElement (session=\"2f6b80927c0ef8c31d521ec19d828d5a\", element=\"0.54002369012182-17\")>, <selenium.webdriver.remote.webelement.WebElement (session=\"2f6b80927c0ef8c31d521ec19d828d5a\", element=\"0.54002369012182-18\")>, <selenium.webdriver.remote.webelement.WebElement (session=\"2f6b80927c0ef8c31d521ec19d828d5a\", element=\"0.54002369012182-19\")>, <selenium.webdriver.remote.webelement.WebElement (session=\"2f6b80927c0ef8c31d521ec19d828d5a\", element=\"0.54002369012182-20\")>, <selenium.webdriver.remote.webelement.WebElement (session=\"2f6b80927c0ef8c31d521ec19d828d5a\", element=\"0.54002369012182-21\")>, <selenium.webdriver.remote.webelement.WebElement (session=\"2f6b80927c0ef8c31d521ec19d828d5a\", element=\"0.54002369012182-22\")>, <selenium.webdriver.remote.webelement.WebElement (session=\"2f6b80927c0ef8c31d521ec19d828d5a\", element=\"0.54002369012182-23\")>]\n",
      "<selenium.webdriver.remote.webelement.WebElement (session=\"2f6b80927c0ef8c31d521ec19d828d5a\", element=\"0.54002369012182-24\")>\n"
     ]
    },
    {
     "ename": "TypeError",
     "evalue": "'WebElement' object is not iterable",
     "output_type": "error",
     "traceback": [
      "\u001b[0;31m---------------------------------------------------------------------------\u001b[0m",
      "\u001b[0;31mTypeError\u001b[0m                                 Traceback (most recent call last)",
      "\u001b[0;32m<ipython-input-63-3243d1cffaa2>\u001b[0m in \u001b[0;36m<module>\u001b[0;34m()\u001b[0m\n\u001b[1;32m      1\u001b[0m \u001b[0mselenium_client\u001b[0m \u001b[0;34m=\u001b[0m \u001b[0mSeleniumClient\u001b[0m\u001b[0;34m(\u001b[0m\u001b[0;34m)\u001b[0m\u001b[0;34m\u001b[0m\u001b[0m\n\u001b[1;32m      2\u001b[0m \u001b[0;34m\u001b[0m\u001b[0m\n\u001b[0;32m----> 3\u001b[0;31m \u001b[0mtweets_df\u001b[0m \u001b[0;34m=\u001b[0m \u001b[0mselenium_client\u001b[0m\u001b[0;34m.\u001b[0m\u001b[0mget_tweets\u001b[0m\u001b[0;34m(\u001b[0m\u001b[0;34m'millionpeoplemarch'\u001b[0m\u001b[0;34m)\u001b[0m\u001b[0;34m\u001b[0m\u001b[0m\n\u001b[0m",
      "\u001b[0;32m<ipython-input-62-04d11572bb29>\u001b[0m in \u001b[0;36mget_tweets\u001b[0;34m(self, query)\u001b[0m\n\u001b[1;32m     39\u001b[0m \u001b[0;34m\u001b[0m\u001b[0m\n\u001b[1;32m     40\u001b[0m         dic = {'tweets': [tweet_node.text for tweet_node in tweet_nodes],\n\u001b[0;32m---> 41\u001b[0;31m               \"handles\": [h.text for h in handles]}\n\u001b[0m\u001b[1;32m     42\u001b[0m         \u001b[0;32mreturn\u001b[0m \u001b[0mpd\u001b[0m\u001b[0;34m.\u001b[0m\u001b[0mDataFrame\u001b[0m\u001b[0;34m(\u001b[0m\u001b[0;34m)\u001b[0m\u001b[0;34m\u001b[0m\u001b[0m\n\u001b[1;32m     43\u001b[0m \u001b[0;34m\u001b[0m\u001b[0m\n",
      "\u001b[0;31mTypeError\u001b[0m: 'WebElement' object is not iterable"
     ]
    }
   ],
   "source": [
    "selenium_client = SeleniumClient()\n",
    "\n",
    "tweets_df = selenium_client.get_tweets('millionpeoplemarch')"
   ]
  },
  {
   "cell_type": "code",
   "execution_count": null,
   "metadata": {},
   "outputs": [],
   "source": [
    "tweets_df"
   ]
  },
  {
   "cell_type": "code",
   "execution_count": null,
   "metadata": {},
   "outputs": [],
   "source": []
  }
 ],
 "metadata": {
  "kernelspec": {
   "display_name": "Python 3",
   "language": "python",
   "name": "python3"
  },
  "language_info": {
   "codemirror_mode": {
    "name": "ipython",
    "version": 3
   },
   "file_extension": ".py",
   "mimetype": "text/x-python",
   "name": "python",
   "nbconvert_exporter": "python",
   "pygments_lexer": "ipython3",
   "version": "3.6.6"
  }
 },
 "nbformat": 4,
 "nbformat_minor": 2
}
