{
 "cells": [
  {
   "cell_type": "markdown",
   "metadata": {},
   "source": [
    "# Analysis of Spread of PDAF Protest Sentiment on Twitter"
   ]
  },
  {
   "cell_type": "markdown",
   "metadata": {},
   "source": [
    "## Executive Summary"
   ]
  },
  {
   "cell_type": "markdown",
   "metadata": {},
   "source": [
    "## Introduction"
   ]
  },
  {
   "cell_type": "markdown",
   "metadata": {
    "ExecuteTime": {
     "end_time": "2019-03-08T08:44:53.068106Z",
     "start_time": "2019-03-08T08:44:53.065696Z"
    }
   },
   "source": [
    "## The Dataset"
   ]
  },
  {
   "cell_type": "markdown",
   "metadata": {},
   "source": [
    "## Methods"
   ]
  },
  {
   "cell_type": "code",
   "execution_count": 1,
   "metadata": {
    "ExecuteTime": {
     "end_time": "2019-03-10T11:19:49.526287Z",
     "start_time": "2019-03-10T11:19:41.470694Z"
    }
   },
   "outputs": [],
   "source": [
    "import numpy as np\n",
    "import pandas as pd\n",
    "import matplotlib.pyplot as plt\n",
    "import seaborn as sns\n",
    "\n",
    "import json\n",
    "import glob\n",
    "import ast\n",
    "import re\n",
    "\n",
    "import networkx as nx\n",
    "from itertools import combinations\n",
    "from collections import Counter \n",
    "from datetime import datetime"
   ]
  },
  {
   "cell_type": "markdown",
   "metadata": {},
   "source": [
    "### Data Preparation"
   ]
  },
  {
   "cell_type": "code",
   "execution_count": 2,
   "metadata": {
    "ExecuteTime": {
     "end_time": "2019-03-10T11:19:49.550463Z",
     "start_time": "2019-03-10T11:19:49.530358Z"
    }
   },
   "outputs": [
    {
     "data": {
      "text/plain": [
       "['data/new_tweets_mpm.json',\n",
       " 'data/tweets_jn.json',\n",
       " 'data/tweets_onepinoy.json',\n",
       " 'data/tweets_pk.json',\n",
       " 'data/tweets_porkbarrel.json',\n",
       " 'data/tweets_porkbarrelscam.json',\n",
       " 'data/tweets_protestangbayan.json',\n",
       " 'data/tweets_ps.json',\n",
       " 'data/tweets_sp.json',\n",
       " 'data/tweets_stoppork.json',\n",
       " 'data/tweets_tayoangboss.json',\n",
       " 'data/tweets_yesconchitacan.json']"
      ]
     },
     "execution_count": 2,
     "metadata": {},
     "output_type": "execute_result"
    }
   ],
   "source": [
    "# load data paths\n",
    "paths = glob.glob(\"data/*\")\n",
    "paths_tweets_to_merge = [path for path in paths if \"tweets\" in path and \"merged\" not in path]\n",
    "paths_tweets_to_merge.remove(\"data/tweets_mpm_list_following.json\")\n",
    "paths_tweets_to_merge"
   ]
  },
  {
   "cell_type": "code",
   "execution_count": 3,
   "metadata": {
    "ExecuteTime": {
     "end_time": "2019-03-10T11:19:50.814478Z",
     "start_time": "2019-03-10T11:19:49.555547Z"
    }
   },
   "outputs": [],
   "source": [
    "# # Merge tweets dataset\n",
    "\n",
    "# hashtags = [\"millionpeoplemarch\", \"janetnapoles\", \"onepinoy\", \"pdafkalampag\", \"porkbarrel\",\n",
    "#             \"porkbarrelscam\", \"protestangbayan\", \"pdafscam\", \"scrappork\", \"stoppork\",\n",
    "#             \"tayoangboss\", \"yesconchitacan\"]\n",
    "\n",
    "# df_tweets_merged = pd.DataFrame()\n",
    "\n",
    "# for path, hashtag in zip(paths_tweets_to_merge, hashtags):\n",
    "\n",
    "#     df = pd.read_json(path)\n",
    "#     # add a column for the #hashtag\n",
    "#     df[\"hashtag\"] = hashtag\n",
    "    \n",
    "#     # merge\n",
    "#     df_tweets_merged = pd.concat([df_tweets_merged, df])\n",
    "    \n",
    "# # reset index\n",
    "# df_tweets_merged = df_tweets_merged.reset_index(drop=True)\n",
    "\n",
    "# # filter only those tweets in 2013\n",
    "# # still get NaT values\n",
    "# condition_1 = df_tweets_merged.date.isnull()\n",
    "# # get time after June 2013\n",
    "# condition_2 = df_tweets_merged.date > pd.Timestamp('2013-06-01 00:00:00')\n",
    "# # get time before Jan 2014\n",
    "# condition_3 = df_tweets_merged.date < pd.Timestamp('2014-01-01 00:00:00')\n",
    "\n",
    "# # merge conditions\n",
    "# merged_conditions = condition_1 | condition_2 & condition_3\n",
    "# df_tweets_merged = df_tweets_merged[merged_conditions]\n",
    "# df_tweets_merged = df_tweets_merged.sort_values(by=\"date\").reset_index(drop=True)\n",
    "\n",
    "# # # save to json\n",
    "# pd.DataFrame.to_json(df_tweets_merged, \"data/tweets_merged.json\", orient=\"records\")"
   ]
  },
  {
   "cell_type": "code",
   "execution_count": 4,
   "metadata": {
    "ExecuteTime": {
     "end_time": "2019-03-10T11:19:50.821409Z",
     "start_time": "2019-03-10T11:19:50.817694Z"
    }
   },
   "outputs": [],
   "source": [
    "## IMPLEMENT KEY DUPLICATE REMOVER DURING CLEANING?\n",
    "## Dictionaries automatically remove duplicates"
   ]
  },
  {
   "cell_type": "code",
   "execution_count": 5,
   "metadata": {
    "ExecuteTime": {
     "end_time": "2019-03-10T11:19:50.885148Z",
     "start_time": "2019-03-10T11:19:50.824274Z"
    }
   },
   "outputs": [],
   "source": [
    "def read_dict_from_file(path):\n",
    "\n",
    "    # open scraped file as string\n",
    "    f = open(path).read()\n",
    "\n",
    "    # convert scraped file from string to dictionary\n",
    "    dic = ast.literal_eval(f)\n",
    "\n",
    "    # return dictionary of file\n",
    "    return dic"
   ]
  },
  {
   "cell_type": "code",
   "execution_count": 7,
   "metadata": {
    "ExecuteTime": {
     "end_time": "2019-03-10T11:19:50.934110Z",
     "start_time": "2019-03-10T11:19:50.895917Z"
    }
   },
   "outputs": [],
   "source": [
    "def clean_dict(dirty_dict, name_type=\"screen_name\"):\n",
    "\n",
    "    # define new dictionary\n",
    "    new_dict = {}\n",
    "\n",
    "    # get keys from input dirty dict\n",
    "    keys = dirty_dict.keys()\n",
    "\n",
    "    for key in keys:\n",
    "\n",
    "        # format is [{\"full_name\" : \"XX\", \"screen_name\" : \"YY\"}]\n",
    "        value = dirty_dict[key]\n",
    "        \n",
    "        # pattern for cleaning - just retain alphanumeric\n",
    "        pattern = re.compile(\"[\\w]+\")\n",
    "\n",
    "        # clean full_names and make lower_case\n",
    "        # get followers full_name per user\n",
    "        full_names = [\"\".join(re.findall(pattern, d[name_type])).lower() for d in value]\n",
    "\n",
    "#         # get followers screen name per user\n",
    "#         screen_names = [d[\"screen_name\"] for d in value]\n",
    "    \n",
    "        # clean keys\n",
    "        new_key = \"\".join(re.findall(pattern, key)).lower()\n",
    "        \n",
    "        # make key: value pair using full_name per user\n",
    "        new_dict[new_key] = full_names\n",
    "\n",
    "    # return new_dict\n",
    "    return new_dict"
   ]
  },
  {
   "cell_type": "markdown",
   "metadata": {},
   "source": [
    "# Analysis"
   ]
  },
  {
   "cell_type": "markdown",
   "metadata": {},
   "source": [
    "## Preparing Follower and Following Data"
   ]
  },
  {
   "cell_type": "code",
   "execution_count": 10,
   "metadata": {
    "ExecuteTime": {
     "end_time": "2019-03-10T11:37:53.639057Z",
     "start_time": "2019-03-10T11:37:29.074913Z"
    }
   },
   "outputs": [],
   "source": [
    "# load dirty followers dictionary\n",
    "path = \"data/user_followers.json\"\n",
    "dirty_followers = read_dict_from_file(path)\n",
    "\n",
    "# load dirty following dictionary\n",
    "path = \"data/user_following.json\"\n",
    "dirty_following = read_dict_from_file(path)"
   ]
  },
  {
   "cell_type": "code",
   "execution_count": 11,
   "metadata": {
    "ExecuteTime": {
     "end_time": "2019-03-10T11:38:20.951940Z",
     "start_time": "2019-03-10T11:38:18.728829Z"
    }
   },
   "outputs": [],
   "source": [
    "# get clean followers, full_name\n",
    "clean_followers = clean_dict(dirty_followers, \"screen_name\")\n",
    "\n",
    "# get clean following, full_name\n",
    "clean_following = clean_dict(dirty_following, \"screen_name\")"
   ]
  },
  {
   "cell_type": "code",
   "execution_count": 12,
   "metadata": {
    "ExecuteTime": {
     "end_time": "2019-03-10T11:38:39.443101Z",
     "start_time": "2019-03-10T11:38:39.431244Z"
    }
   },
   "outputs": [],
   "source": [
    "# function to combine (get union) dictionaries\n",
    "def union_dict(a, b):\n",
    "    # a is the bigger dataset we will update with b\n",
    "    for k, v in a.items():\n",
    "        # if key is in a and b, then just append to current data in a\n",
    "        if k in b.keys():\n",
    "            # get union of unique items (remove redundancy)\n",
    "            a[k] = list(set(a[k] + b[k]))\n",
    "\n",
    "    # append keys in b that are not in a\n",
    "    for k, v in b.items():\n",
    "        if k not in a.keys():\n",
    "            a[k] = v\n",
    "\n",
    "    return a"
   ]
  },
  {
   "cell_type": "code",
   "execution_count": 13,
   "metadata": {
    "ExecuteTime": {
     "end_time": "2019-03-10T11:38:40.092321Z",
     "start_time": "2019-03-10T11:38:40.085347Z"
    }
   },
   "outputs": [
    {
     "data": {
      "text/plain": [
       "{'a': [1, 2, 3, 4, 5], 'b': [2, 3, 4], 'c': [8, 9]}"
      ]
     },
     "execution_count": 13,
     "metadata": {},
     "output_type": "execute_result"
    }
   ],
   "source": [
    "# Test\n",
    "a = {\"a\":[1, 2, 5], \"b\":[2, 3, 4]}\n",
    "b = {\"a\":[1, 2, 3, 4], \"c\":[8, 9]}\n",
    "union_dict(a, b)"
   ]
  },
  {
   "cell_type": "code",
   "execution_count": 14,
   "metadata": {
    "ExecuteTime": {
     "end_time": "2019-03-10T11:38:40.616841Z",
     "start_time": "2019-03-10T11:38:40.606585Z"
    }
   },
   "outputs": [],
   "source": [
    "# convert following to followers format\n",
    "# e.g. {\"user_A\": [\"followed_user_1\", \"followed_user_2\"]\n",
    "# turn to: {\"followed_user_1\" : [\"user_A], \"followed_user_2\": [\"user_A\"]}\n",
    "# So network direction goes from user (followed) to follower\n",
    "\n",
    "def swap_key_val(old_dic):\n",
    "\n",
    "    # get keys of dictionary to swap\n",
    "    keys = old_dic.keys()\n",
    "\n",
    "    # convert keys to vals and vals to keys\n",
    "    # initiate new dictioanary (swapped)\n",
    "    new_dic = {}\n",
    "    for key in keys:\n",
    "        # swap value and key\n",
    "        a = {val: [key] for val in old_dic[key]}\n",
    "        # add to new_dic using union_dict function\n",
    "        new_dic = union_dict(new_dic, a)\n",
    "    return new_dic"
   ]
  },
  {
   "cell_type": "code",
   "execution_count": 15,
   "metadata": {
    "ExecuteTime": {
     "end_time": "2019-03-10T11:38:41.070737Z",
     "start_time": "2019-03-10T11:38:41.064712Z"
    }
   },
   "outputs": [
    {
     "data": {
      "text/plain": [
       "{'a': ['follower_a'],\n",
       " 'b': ['follower_a', 'follower_b'],\n",
       " 'c': ['follower_b'],\n",
       " 'd': ['follower_b']}"
      ]
     },
     "execution_count": 15,
     "metadata": {},
     "output_type": "execute_result"
    }
   ],
   "source": [
    "# Test\n",
    "a = {\"follower_a\":[\"a\", \"b\"], \"follower_b\":[\"b\", \"c\", \"d\"]}\n",
    "b = swap_key_val(a)\n",
    "b"
   ]
  },
  {
   "cell_type": "code",
   "execution_count": 16,
   "metadata": {
    "ExecuteTime": {
     "end_time": "2019-03-10T11:43:51.988483Z",
     "start_time": "2019-03-10T11:38:41.549310Z"
    }
   },
   "outputs": [],
   "source": [
    "a = clean_followers.copy()\n",
    "b = clean_following.copy()\n",
    "\n",
    "# get followers data from following data\n",
    "followers_from_following = swap_key_val(b)\n",
    "\n",
    "# get union of followers data (scraped) and followers from following data\n",
    "unified_followers = union_dict(a, followers_from_following)"
   ]
  },
  {
   "cell_type": "code",
   "execution_count": 17,
   "metadata": {
    "ExecuteTime": {
     "end_time": "2019-03-10T11:43:53.542884Z",
     "start_time": "2019-03-10T11:43:51.990772Z"
    }
   },
   "outputs": [],
   "source": [
    "# save unified_followers to json\n",
    "with open('data/unified_followers.json', 'w') as f:\n",
    "    json.dump(unified_followers, f)"
   ]
  },
  {
   "cell_type": "code",
   "execution_count": 18,
   "metadata": {
    "ExecuteTime": {
     "end_time": "2019-03-10T11:43:53.548359Z",
     "start_time": "2019-03-10T11:43:53.545310Z"
    }
   },
   "outputs": [],
   "source": [
    "# load saved file"
   ]
  },
  {
   "cell_type": "code",
   "execution_count": 19,
   "metadata": {
    "ExecuteTime": {
     "end_time": "2019-03-10T11:46:21.787562Z",
     "start_time": "2019-03-10T11:43:53.551219Z"
    }
   },
   "outputs": [],
   "source": [
    "# get unified following data\n",
    "# get following data from followers data\n",
    "\n",
    "a = clean_followers.copy()\n",
    "b = clean_following.copy()\n",
    "\n",
    "following_from_followers = swap_key_val(a)\n",
    "\n",
    "# get union of followers data (scraped) and followers from following data\n",
    "unified_following = union_dict(b, following_from_followers)"
   ]
  },
  {
   "cell_type": "code",
   "execution_count": 20,
   "metadata": {
    "ExecuteTime": {
     "end_time": "2019-03-10T11:46:21.795420Z",
     "start_time": "2019-03-10T11:46:21.789917Z"
    }
   },
   "outputs": [],
   "source": [
    "# load saved file"
   ]
  },
  {
   "cell_type": "code",
   "execution_count": 21,
   "metadata": {
    "ExecuteTime": {
     "end_time": "2019-03-10T11:46:23.390503Z",
     "start_time": "2019-03-10T11:46:21.800633Z"
    }
   },
   "outputs": [],
   "source": [
    "# save unified_following to json\n",
    "with open('data/unified_following.json', 'w') as f:\n",
    "    json.dump(unified_following, f)"
   ]
  },
  {
   "cell_type": "code",
   "execution_count": 22,
   "metadata": {
    "ExecuteTime": {
     "end_time": "2019-03-10T11:46:23.409444Z",
     "start_time": "2019-03-10T11:46:23.394843Z"
    }
   },
   "outputs": [
    {
     "data": {
      "text/plain": [
       "9903"
      ]
     },
     "execution_count": 22,
     "metadata": {},
     "output_type": "execute_result"
    }
   ],
   "source": [
    "# length of scraped following\n",
    "len(clean_following)"
   ]
  },
  {
   "cell_type": "code",
   "execution_count": 23,
   "metadata": {
    "ExecuteTime": {
     "end_time": "2019-03-10T11:46:23.481492Z",
     "start_time": "2019-03-10T11:46:23.414403Z"
    }
   },
   "outputs": [
    {
     "data": {
      "text/plain": [
       "242826"
      ]
     },
     "execution_count": 23,
     "metadata": {},
     "output_type": "execute_result"
    }
   ],
   "source": [
    "# length of unified following\n",
    "len(unified_following)"
   ]
  },
  {
   "cell_type": "code",
   "execution_count": 24,
   "metadata": {
    "ExecuteTime": {
     "end_time": "2019-03-10T11:46:23.493029Z",
     "start_time": "2019-03-10T11:46:23.484861Z"
    }
   },
   "outputs": [
    {
     "data": {
      "text/plain": [
       "243510"
      ]
     },
     "execution_count": 24,
     "metadata": {},
     "output_type": "execute_result"
    }
   ],
   "source": [
    "# num of all users:followers scraped\n",
    "len(unified_followers.keys())"
   ]
  },
  {
   "cell_type": "code",
   "execution_count": 25,
   "metadata": {
    "ExecuteTime": {
     "end_time": "2019-03-10T11:46:23.501679Z",
     "start_time": "2019-03-10T11:46:23.496028Z"
    }
   },
   "outputs": [
    {
     "data": {
      "text/plain": [
       "6455"
      ]
     },
     "execution_count": 25,
     "metadata": {},
     "output_type": "execute_result"
    }
   ],
   "source": [
    "# num in just clean_followers\n",
    "len(clean_followers.keys())"
   ]
  },
  {
   "cell_type": "code",
   "execution_count": 26,
   "metadata": {
    "ExecuteTime": {
     "end_time": "2019-03-10T11:46:23.513121Z",
     "start_time": "2019-03-10T11:46:23.504313Z"
    }
   },
   "outputs": [
    {
     "data": {
      "text/plain": [
       "238579"
      ]
     },
     "execution_count": 26,
     "metadata": {},
     "output_type": "execute_result"
    }
   ],
   "source": [
    "# num in user:followers from following data\n",
    "len(followers_from_following.keys())"
   ]
  },
  {
   "cell_type": "markdown",
   "metadata": {},
   "source": [
    "## Making Followers Graph - Asymmetric"
   ]
  },
  {
   "cell_type": "markdown",
   "metadata": {},
   "source": [
    "We generate a graph of all the nodes in the followers and following dataset."
   ]
  },
  {
   "cell_type": "code",
   "execution_count": null,
   "metadata": {
    "ExecuteTime": {
     "end_time": "2019-03-10T11:20:07.674098Z",
     "start_time": "2019-03-10T11:19:42.892Z"
    }
   },
   "outputs": [],
   "source": [
    "# # load Graph of followers\n",
    "# G = nx.from_dict_of_lists(unified_followers, create_using=nx.DiGraph())\n",
    "# len(G.nodes)"
   ]
  },
  {
   "cell_type": "markdown",
   "metadata": {
    "ExecuteTime": {
     "end_time": "2019-03-07T16:19:51.475809Z",
     "start_time": "2019-03-07T16:19:51.472826Z"
    }
   },
   "source": [
    "### Basic Properties"
   ]
  },
  {
   "cell_type": "code",
   "execution_count": null,
   "metadata": {
    "ExecuteTime": {
     "end_time": "2019-03-10T11:20:07.675931Z",
     "start_time": "2019-03-10T11:19:43.118Z"
    }
   },
   "outputs": [],
   "source": [
    "# # out_degrees\n",
    "# degs = [k for n, k in G.out_degree]\n",
    "# avg_deg = np.mean(degs)\n",
    "# min_deg = np.min(degs)\n",
    "# max_deg = np.max(degs)\n",
    "\n",
    "# vals = {\"avg_degree\":[avg_deg], \"min_degree\":[min_deg], \"max_degree\":[max_deg]}\n",
    "# pd.DataFrame.from_dict(vals).T"
   ]
  },
  {
   "cell_type": "code",
   "execution_count": null,
   "metadata": {
    "ExecuteTime": {
     "end_time": "2019-03-10T11:20:07.677465Z",
     "start_time": "2019-03-10T11:19:43.131Z"
    }
   },
   "outputs": [],
   "source": [
    "# # in_degrees\n",
    "# degs = [k for n, k in G.in_degree]\n",
    "# avg_deg = np.mean(degs)\n",
    "# min_deg = np.min(degs)\n",
    "# max_deg = np.max(degs)\n",
    "\n",
    "# vals = {\"avg_degree\":[avg_deg], \"min_degree\":[min_deg], \"max_degree\":[max_deg]}\n",
    "# pd.DataFrame.from_dict(vals).T"
   ]
  },
  {
   "cell_type": "code",
   "execution_count": null,
   "metadata": {
    "ExecuteTime": {
     "end_time": "2019-03-10T11:20:07.678948Z",
     "start_time": "2019-03-10T11:19:43.139Z"
    }
   },
   "outputs": [],
   "source": [
    "# # degrees\n",
    "# degs = [k for n, k in G.degree]\n",
    "# avg_deg = np.mean(degs)\n",
    "# min_deg = np.min(degs)\n",
    "# max_deg = np.max(degs)\n",
    "\n",
    "# vals = {\"avg_degree\":[avg_deg], \"min_degree\":[min_deg], \"max_degree\":[max_deg]}\n",
    "# pd.DataFrame.from_dict(vals).T"
   ]
  },
  {
   "cell_type": "code",
   "execution_count": null,
   "metadata": {
    "ExecuteTime": {
     "end_time": "2019-03-10T11:20:07.680312Z",
     "start_time": "2019-03-10T11:19:43.148Z"
    }
   },
   "outputs": [],
   "source": [
    "# clustering"
   ]
  },
  {
   "cell_type": "markdown",
   "metadata": {},
   "source": [
    "### Degree Distribution"
   ]
  },
  {
   "cell_type": "code",
   "execution_count": null,
   "metadata": {
    "ExecuteTime": {
     "end_time": "2019-03-10T11:20:07.682123Z",
     "start_time": "2019-03-10T11:19:43.837Z"
    }
   },
   "outputs": [],
   "source": [
    "# # out degree distribution\n",
    "# degs = [v for k, v in G.out_degree]\n",
    "\n",
    "# # count\n",
    "# deg_count = Counter(degs)\n",
    "\n",
    "# # plot\n",
    "# plt.loglog(deg_count.keys(), deg_count.values(), 'o', alpha=0.5)\n",
    "\n",
    "# plt.xlabel(\"out_degree\")\n",
    "# plt.ylabel(\"num nodes\")\n",
    "# plt.title(\"Out degree distribution\")"
   ]
  },
  {
   "cell_type": "code",
   "execution_count": null,
   "metadata": {
    "ExecuteTime": {
     "end_time": "2019-03-10T11:20:07.683630Z",
     "start_time": "2019-03-10T11:19:43.850Z"
    }
   },
   "outputs": [],
   "source": [
    "# # in degree distribution\n",
    "# degs = [v for k, v in G.in_degree]\n",
    "\n",
    "# # count\n",
    "# deg_count = Counter(degs)\n",
    "\n",
    "# # plot\n",
    "# plt.loglog(deg_count.keys(), deg_count.values(), 'o', alpha=0.5)\n",
    "\n",
    "# plt.xlabel(\"in_degree\")\n",
    "# plt.ylabel(\"num nodes\")\n",
    "# plt.title(\"In degree distribution\")"
   ]
  },
  {
   "cell_type": "code",
   "execution_count": null,
   "metadata": {
    "ExecuteTime": {
     "end_time": "2019-03-10T11:20:07.685380Z",
     "start_time": "2019-03-10T11:19:43.858Z"
    }
   },
   "outputs": [],
   "source": [
    "# # degree distribution\n",
    "# degs = [v for k, v in G.degree]\n",
    "\n",
    "# # count\n",
    "# deg_count = Counter(degs)\n",
    "\n",
    "# # plot\n",
    "# plt.loglog(deg_count.keys(), deg_count.values(), 'o', alpha=0.5)\n",
    "\n",
    "# plt.xlabel(\"degree\")\n",
    "# plt.ylabel(\"num nodes\")\n",
    "# plt.title(\"Degree distribution\")"
   ]
  },
  {
   "cell_type": "code",
   "execution_count": null,
   "metadata": {
    "ExecuteTime": {
     "end_time": "2019-03-10T11:20:07.688600Z",
     "start_time": "2019-03-10T11:19:43.871Z"
    }
   },
   "outputs": [],
   "source": [
    "# VISUALIZATION\n",
    "# # Use spring layout\n",
    "# pos = nx.spring_layout(G)\n",
    "\n",
    "# # draw graph\n",
    "# plt.figure(figsize=(10, 10))\n",
    "# nx.draw(G, pos=pos, node_size=2, with_labels=False)"
   ]
  },
  {
   "cell_type": "markdown",
   "metadata": {},
   "source": [
    "## Filtering Followers Subgraph - Symmetric"
   ]
  },
  {
   "cell_type": "markdown",
   "metadata": {},
   "source": [
    "The function below only selects that nodes that mutually follow each other (regardless if they tweeted about the protest or not). a <--> b will be preserved while c --> d will not be."
   ]
  },
  {
   "cell_type": "code",
   "execution_count": null,
   "metadata": {
    "ExecuteTime": {
     "end_time": "2019-03-10T11:20:07.690370Z",
     "start_time": "2019-03-10T11:19:44.514Z"
    }
   },
   "outputs": [],
   "source": [
    "# def filter_symmetric(matrix, nodes):\n",
    "#     # get only symmetric\n",
    "#     matrix_sym = np.multiply(matrix, matrix.T)\n",
    "    \n",
    "#     # make diagonal = 0\n",
    "#     np.fill_diagonal(matrix_sym, 0)\n",
    "    \n",
    "#     # get indices with at least one degree in the symmetric network\n",
    "#     nonzero = np.array(np.sum(matrix_sym, axis=0))\n",
    "#     inds = list(np.nonzero(nonzero[0])[0])\n",
    "    \n",
    "\n",
    "\n",
    "#     # get nodes corresponding to index of nodes in symm network\n",
    "#     sym_nodes = np.array(nodes)[inds]\n",
    "    \n",
    "#     return matrix_sym, sym_nodes"
   ]
  },
  {
   "cell_type": "code",
   "execution_count": null,
   "metadata": {
    "ExecuteTime": {
     "end_time": "2019-03-10T11:20:07.691662Z",
     "start_time": "2019-03-10T11:19:44.520Z"
    }
   },
   "outputs": [],
   "source": [
    "# # TEST\n",
    "# matrix = np.matrix([[1, 0, 1, 1], [1, 1, 0, 1], [1, 0, 0, 0], [0, 1, 1, 1]])\n",
    "# nodes = ['a', 'b', 'c', 'd']\n",
    "# filter_symmetric(matrix, nodes)"
   ]
  },
  {
   "cell_type": "code",
   "execution_count": null,
   "metadata": {
    "ExecuteTime": {
     "end_time": "2019-03-10T11:20:07.693435Z",
     "start_time": "2019-03-10T11:19:44.529Z"
    }
   },
   "outputs": [],
   "source": [
    "# # make adjacency matrix\n",
    "# matrix = nx.adjacency_matrix(G).todense()\n",
    "\n",
    "# # get nodes list\n",
    "# nodes = list(G.nodes)\n",
    "\n",
    "# # THIS SHOULD BE EQUAL\n",
    "# matrix.shape, len(nodes)"
   ]
  },
  {
   "cell_type": "code",
   "execution_count": null,
   "metadata": {
    "ExecuteTime": {
     "end_time": "2019-03-10T11:20:07.695731Z",
     "start_time": "2019-03-10T11:19:44.538Z"
    },
    "scrolled": true
   },
   "outputs": [],
   "source": [
    "# # CAN WE REMOVE THIS? SINCE THE IMPLEMENTATION BELOW WORKS AND THIS BREAKS\n",
    "# # THIS KILLS THE KERNEL\n",
    "# # filter symmetric adjacencty matrix\n",
    "# sym_matrix, sym_nodes = filter_symmetric(matrix, nodes)\n",
    "\n",
    "# print(\"No. of links in asymmetric network:\", np.sum(matrix))\n",
    "# print(\"Shape of asymmetric network:\", matrix.shape)\n",
    "# print(\"No. of links in symmetric network:\", np.sum(sym_matrix)/2)\n",
    "# print(\"Shape of symmetric network:\", sym_matrix.shape, len(sym_nodes))"
   ]
  },
  {
   "cell_type": "code",
   "execution_count": 27,
   "metadata": {
    "ExecuteTime": {
     "end_time": "2019-03-10T11:46:23.548244Z",
     "start_time": "2019-03-10T11:46:23.516006Z"
    }
   },
   "outputs": [],
   "source": [
    "# Filter symmetric given dictionary of followers only\n",
    "def filter_symmetric_from_dict(dic):\n",
    "    # get dictionary of followers\n",
    "    \n",
    "    # define new dictionary    \n",
    "    sym_dic = {}\n",
    "    \n",
    "    # run through keys and values\n",
    "    for k, v in dic.items():\n",
    "        # check if symmetric by looking at key and valu\n",
    "        for i in v:\n",
    "            try:\n",
    "                if k in dic[i]:\n",
    "                    if k in sym_dic:\n",
    "                        sym_dic[k] += [i]\n",
    "                    else:\n",
    "                        sym_dic[k] = [i]\n",
    "            except:\n",
    "                continue\n",
    "    return sym_dic"
   ]
  },
  {
   "cell_type": "code",
   "execution_count": 28,
   "metadata": {
    "ExecuteTime": {
     "end_time": "2019-03-10T11:46:23.563425Z",
     "start_time": "2019-03-10T11:46:23.551836Z"
    }
   },
   "outputs": [
    {
     "data": {
      "text/plain": [
       "{'a': ['b', 'c'], 'b': ['a', 'z'], 'c': ['a'], 'e': ['z'], 'z': ['e', 'b']}"
      ]
     },
     "execution_count": 28,
     "metadata": {},
     "output_type": "execute_result"
    }
   ],
   "source": [
    "a = {'z':['e', 'b'], 'a':['b', 'c', 'd'], 'b':['a', 'z'], 'c':['a'], 'd':['c'], 'e':['z']}\n",
    "filter_symmetric_from_dict(a)"
   ]
  },
  {
   "cell_type": "code",
   "execution_count": null,
   "metadata": {
    "ExecuteTime": {
     "end_time": "2019-03-10T11:20:07.701138Z",
     "start_time": "2019-03-10T11:19:44.577Z"
    }
   },
   "outputs": [],
   "source": [
    "# # Filter the network for symmetric only \n",
    "\n",
    "# # list of users in symmetric network\n",
    "# user_list = list(unified_followers.keys())\n",
    "\n",
    "# # filter only users in symmetric network\n",
    "# symm_followers = filter_symmetric_from_dict(unified_followers)\n",
    "\n",
    "# # make graph\n",
    "# H = nx.from_dict_of_lists(symm_followers, create_using=nx.DiGraph())"
   ]
  },
  {
   "cell_type": "code",
   "execution_count": null,
   "metadata": {
    "ExecuteTime": {
     "end_time": "2019-03-10T11:20:07.702509Z",
     "start_time": "2019-03-10T11:19:44.584Z"
    }
   },
   "outputs": [],
   "source": [
    "# # Number of nodes in symmetric network\n",
    "# len(H.nodes)"
   ]
  },
  {
   "cell_type": "markdown",
   "metadata": {
    "ExecuteTime": {
     "end_time": "2019-03-07T16:19:51.475809Z",
     "start_time": "2019-03-07T16:19:51.472826Z"
    }
   },
   "source": [
    "### Basic Properties"
   ]
  },
  {
   "cell_type": "code",
   "execution_count": null,
   "metadata": {
    "ExecuteTime": {
     "end_time": "2019-03-10T11:20:07.704568Z",
     "start_time": "2019-03-10T11:19:45.005Z"
    }
   },
   "outputs": [],
   "source": [
    "# degs = [k for n, k in H.degree]\n",
    "# avg_deg = np.mean(degs)\n",
    "# min_deg = np.min(degs)\n",
    "# max_deg = np.max(degs)\n",
    "\n",
    "# vals = {\"avg_degree\":[avg_deg], \"min_degree\":[min_deg], \"max_degree\":[max_deg]}\n",
    "# pd.DataFrame.from_dict(vals).T"
   ]
  },
  {
   "cell_type": "markdown",
   "metadata": {},
   "source": [
    "### Degree Distribution"
   ]
  },
  {
   "cell_type": "code",
   "execution_count": null,
   "metadata": {
    "ExecuteTime": {
     "end_time": "2019-03-10T11:20:07.706333Z",
     "start_time": "2019-03-10T11:19:45.287Z"
    }
   },
   "outputs": [],
   "source": [
    "# # degree distribution\n",
    "# degs = [v for k, v in H.degree]\n",
    "\n",
    "# # count\n",
    "# deg_count = Counter(degs)\n",
    "\n",
    "# # plot\n",
    "# plt.loglog(deg_count.keys(), deg_count.values(), 'o', alpha=0.5)\n",
    "\n",
    "# plt.xlabel(\"degree\")\n",
    "# plt.ylabel(\"num nodes\")\n",
    "# plt.title(\"Degree distribution\")"
   ]
  },
  {
   "cell_type": "code",
   "execution_count": null,
   "metadata": {
    "ExecuteTime": {
     "end_time": "2019-03-10T11:20:07.707740Z",
     "start_time": "2019-03-10T11:19:45.300Z"
    }
   },
   "outputs": [],
   "source": [
    "# VISUALIZATION\n",
    "# # Use spring layout\n",
    "# pos = nx.spring_layout(H)\n",
    "\n",
    "# # draw graph\n",
    "# plt.figure(figsize=(10, 10))\n",
    "# nx.draw(H, pos=pos, node_size=2, with_labels=True, font_color='b', font_size=10)"
   ]
  },
  {
   "cell_type": "markdown",
   "metadata": {},
   "source": [
    "## Fraction of Recruited Users Over Time (Nodes)\n"
   ]
  },
  {
   "cell_type": "code",
   "execution_count": null,
   "metadata": {
    "ExecuteTime": {
     "end_time": "2019-03-10T11:20:07.709605Z",
     "start_time": "2019-03-10T11:19:45.593Z"
    }
   },
   "outputs": [],
   "source": [
    "## CONSIDER RETWEETS - CURRENTLY CODE BELOW REMOVES RETWEETS DUE TO LACK OF DATE"
   ]
  },
  {
   "cell_type": "code",
   "execution_count": 29,
   "metadata": {
    "ExecuteTime": {
     "end_time": "2019-03-10T11:46:24.683830Z",
     "start_time": "2019-03-10T11:46:23.569176Z"
    }
   },
   "outputs": [
    {
     "data": {
      "text/html": [
       "<div>\n",
       "<style scoped>\n",
       "    .dataframe tbody tr th:only-of-type {\n",
       "        vertical-align: middle;\n",
       "    }\n",
       "\n",
       "    .dataframe tbody tr th {\n",
       "        vertical-align: top;\n",
       "    }\n",
       "\n",
       "    .dataframe thead th {\n",
       "        text-align: right;\n",
       "    }\n",
       "</style>\n",
       "<table border=\"1\" class=\"dataframe\">\n",
       "  <thead>\n",
       "    <tr style=\"text-align: right;\">\n",
       "      <th></th>\n",
       "      <th>index</th>\n",
       "      <th>date</th>\n",
       "      <th>likes</th>\n",
       "      <th>parent_tweet_id</th>\n",
       "      <th>replies</th>\n",
       "      <th>reply</th>\n",
       "      <th>retweet</th>\n",
       "      <th>retweets</th>\n",
       "      <th>text</th>\n",
       "      <th>timestamp</th>\n",
       "      <th>tweet_id</th>\n",
       "      <th>user_id</th>\n",
       "      <th>user_name</th>\n",
       "      <th>user_screen_name</th>\n",
       "    </tr>\n",
       "  </thead>\n",
       "  <tbody>\n",
       "    <tr>\n",
       "      <th>0</th>\n",
       "      <td>0</td>\n",
       "      <td>2013-07-15 03:02:31</td>\n",
       "      <td>0</td>\n",
       "      <td>NaN</td>\n",
       "      <td>0</td>\n",
       "      <td>0</td>\n",
       "      <td>0</td>\n",
       "      <td>7</td>\n",
       "      <td>Pass the #PeoplesFOI. Open all records, of all...</td>\n",
       "      <td>1373857351</td>\n",
       "      <td>3.566097e+17</td>\n",
       "      <td>15023706</td>\n",
       "      <td>jenina joy chavez</td>\n",
       "      <td>jeninajoy</td>\n",
       "    </tr>\n",
       "    <tr>\n",
       "      <th>1</th>\n",
       "      <td>1</td>\n",
       "      <td>2013-07-15 03:34:24</td>\n",
       "      <td>0</td>\n",
       "      <td>NaN</td>\n",
       "      <td>1</td>\n",
       "      <td>0</td>\n",
       "      <td>0</td>\n",
       "      <td>1</td>\n",
       "      <td>I want to hear the side of these 5 senators : ...</td>\n",
       "      <td>1373859264</td>\n",
       "      <td>3.566177e+17</td>\n",
       "      <td>3840981</td>\n",
       "      <td>Noemi L. Dado</td>\n",
       "      <td>momblogger</td>\n",
       "    </tr>\n",
       "    <tr>\n",
       "      <th>2</th>\n",
       "      <td>2</td>\n",
       "      <td>2013-07-15 03:58:51</td>\n",
       "      <td>0</td>\n",
       "      <td>3.566177e+17</td>\n",
       "      <td>0</td>\n",
       "      <td>1</td>\n",
       "      <td>0</td>\n",
       "      <td>0</td>\n",
       "      <td>@momblogger With Billion Peso scam involving s...</td>\n",
       "      <td>1373860731</td>\n",
       "      <td>3.566239e+17</td>\n",
       "      <td>87556024</td>\n",
       "      <td>PJ Coronel Reyes</td>\n",
       "      <td>peejayreyes</td>\n",
       "    </tr>\n",
       "    <tr>\n",
       "      <th>3</th>\n",
       "      <td>3</td>\n",
       "      <td>2013-07-15 05:56:09</td>\n",
       "      <td>0</td>\n",
       "      <td>NaN</td>\n",
       "      <td>2</td>\n",
       "      <td>0</td>\n",
       "      <td>0</td>\n",
       "      <td>4</td>\n",
       "      <td>“@1nutty_hazel: Dear Revilla, wag sanang feeli...</td>\n",
       "      <td>1373867769</td>\n",
       "      <td>3.566534e+17</td>\n",
       "      <td>77471719</td>\n",
       "      <td>elizabeth angsioco</td>\n",
       "      <td>bethangsioco</td>\n",
       "    </tr>\n",
       "    <tr>\n",
       "      <th>4</th>\n",
       "      <td>4</td>\n",
       "      <td>2013-07-15 06:01:03</td>\n",
       "      <td>0</td>\n",
       "      <td>NaN</td>\n",
       "      <td>0</td>\n",
       "      <td>0</td>\n",
       "      <td>0</td>\n",
       "      <td>0</td>\n",
       "      <td>@bethangsioco @1nutty_hazel Lets start with LP...</td>\n",
       "      <td>1373868063</td>\n",
       "      <td>3.566546e+17</td>\n",
       "      <td>350167521</td>\n",
       "      <td>Mama's Boy</td>\n",
       "      <td>noypiaquino</td>\n",
       "    </tr>\n",
       "  </tbody>\n",
       "</table>\n",
       "</div>"
      ],
      "text/plain": [
       "   index                date  likes  parent_tweet_id  replies  reply  retweet  \\\n",
       "0      0 2013-07-15 03:02:31      0              NaN        0      0        0   \n",
       "1      1 2013-07-15 03:34:24      0              NaN        1      0        0   \n",
       "2      2 2013-07-15 03:58:51      0     3.566177e+17        0      1        0   \n",
       "3      3 2013-07-15 05:56:09      0              NaN        2      0        0   \n",
       "4      4 2013-07-15 06:01:03      0              NaN        0      0        0   \n",
       "\n",
       "   retweets                                               text   timestamp  \\\n",
       "0         7  Pass the #PeoplesFOI. Open all records, of all...  1373857351   \n",
       "1         1  I want to hear the side of these 5 senators : ...  1373859264   \n",
       "2         0  @momblogger With Billion Peso scam involving s...  1373860731   \n",
       "3         4  “@1nutty_hazel: Dear Revilla, wag sanang feeli...  1373867769   \n",
       "4         0  @bethangsioco @1nutty_hazel Lets start with LP...  1373868063   \n",
       "\n",
       "       tweet_id    user_id           user_name user_screen_name  \n",
       "0  3.566097e+17   15023706   jenina joy chavez        jeninajoy  \n",
       "1  3.566177e+17    3840981       Noemi L. Dado       momblogger  \n",
       "2  3.566239e+17   87556024    PJ Coronel Reyes      peejayreyes  \n",
       "3  3.566534e+17   77471719  elizabeth angsioco     bethangsioco  \n",
       "4  3.566546e+17  350167521          Mama's Boy      noypiaquino  "
      ]
     },
     "execution_count": 29,
     "metadata": {},
     "output_type": "execute_result"
    }
   ],
   "source": [
    "# loading Tweets as dataframe\n",
    "tweets_0 = pd.read_json(\"data/tweets_merged.json\")\n",
    "\n",
    "# remove hashtag column to avoid duplicates (some tweets have >1 hashtags)\n",
    "tweets_0 = tweets_0.drop(\"hashtag\", axis=1)\n",
    "\n",
    "# drop duplicates by tweet_id EXCEPT NULL -- HOW TO DO THIS?\n",
    "tweets_0 = tweets_0[tweets_0['tweet_id'].isnull(\n",
    ") | ~tweets_0[tweets_0['tweet_id'].notnull()].duplicated(subset='tweet_id', keep='first')]\n",
    "\n",
    "# cleaning up user_screen_name\n",
    "pattern = re.compile(\"[\\w]+\")\n",
    "tweets_0.user_screen_name = tweets_0.user_screen_name.apply(\n",
    "    lambda x: re.findall(pattern, \"\".join(re.findall(pattern, x)).lower())[0])\n",
    "\n",
    "# convert date to date time\n",
    "tweets = tweets_0.copy()\n",
    "tweets.date = pd.to_datetime(tweets_0.date)\n",
    "\n",
    "# remove date outside 2013\n",
    "tweets = tweets[(tweets['date'] > '2013-01-01 00:00:00')\n",
    "                & (tweets['date'] <= '2013-12-31 00:00:00')]\n",
    "\n",
    "# HOW ABOUT THE RETWEETS\n",
    "\n",
    "# sort values by date\n",
    "tweets = tweets.sort_values(by=\"date\")\n",
    "\n",
    "# drop duplicates in case there are duplicates\n",
    "tweets = tweets.drop_duplicates(keep=\"first\")\n",
    "\n",
    "# reset index\n",
    "tweets = tweets.reset_index()\n",
    "\n",
    "tweets.head()"
   ]
  },
  {
   "cell_type": "code",
   "execution_count": 30,
   "metadata": {
    "ExecuteTime": {
     "end_time": "2019-03-10T11:46:24.694200Z",
     "start_time": "2019-03-10T11:46:24.687182Z"
    }
   },
   "outputs": [
    {
     "data": {
      "text/plain": [
       "16738"
      ]
     },
     "execution_count": 30,
     "metadata": {},
     "output_type": "execute_result"
    }
   ],
   "source": [
    "# length of dataframe\n",
    "len(tweets_0)"
   ]
  },
  {
   "cell_type": "code",
   "execution_count": 31,
   "metadata": {
    "ExecuteTime": {
     "end_time": "2019-03-10T11:46:24.709090Z",
     "start_time": "2019-03-10T11:46:24.697238Z"
    }
   },
   "outputs": [
    {
     "data": {
      "text/plain": [
       "1223"
      ]
     },
     "execution_count": 31,
     "metadata": {},
     "output_type": "execute_result"
    }
   ],
   "source": [
    "# length of tweets only\n",
    "len(tweets_0[np.logical_and(tweets_0.reply == 0, tweets_0.retweet == 0)])"
   ]
  },
  {
   "cell_type": "code",
   "execution_count": 32,
   "metadata": {
    "ExecuteTime": {
     "end_time": "2019-03-10T11:46:24.726688Z",
     "start_time": "2019-03-10T11:46:24.713222Z"
    }
   },
   "outputs": [
    {
     "data": {
      "text/plain": [
       "13370"
      ]
     },
     "execution_count": 32,
     "metadata": {},
     "output_type": "execute_result"
    }
   ],
   "source": [
    "# number of retweets\n",
    "len(tweets_0[tweets_0.retweet == 1])"
   ]
  },
  {
   "cell_type": "code",
   "execution_count": 33,
   "metadata": {
    "ExecuteTime": {
     "end_time": "2019-03-10T11:46:24.741453Z",
     "start_time": "2019-03-10T11:46:24.729647Z"
    }
   },
   "outputs": [
    {
     "data": {
      "text/plain": [
       "2145"
      ]
     },
     "execution_count": 33,
     "metadata": {},
     "output_type": "execute_result"
    }
   ],
   "source": [
    "# number of replies\n",
    "len(tweets_0[tweets_0.reply == 1])"
   ]
  },
  {
   "cell_type": "code",
   "execution_count": 34,
   "metadata": {
    "ExecuteTime": {
     "end_time": "2019-03-10T11:46:25.723585Z",
     "start_time": "2019-03-10T11:46:24.744086Z"
    },
    "scrolled": false
   },
   "outputs": [
    {
     "data": {
      "text/plain": [
       "Text(0.5,1,'Fraction of recruited users over time')"
      ]
     },
     "execution_count": 34,
     "metadata": {},
     "output_type": "execute_result"
    },
    {
     "data": {
      "image/png": "[encoded data removed]",
      "text/plain": [
       "<matplotlib.figure.Figure at 0x1a1d19d080>"
      ]
     },
     "metadata": {},
     "output_type": "display_data"
    }
   ],
   "source": [
    "# get only the first time a unique user tweet/retweet or replies with relevant #hash\n",
    "unique_users = tweets.drop_duplicates(subset=\"user_screen_name\", keep=\"first\")\n",
    "\n",
    "# sort by date\n",
    "unique_users = unique_users.sort_values(by=\"date\")\n",
    "\n",
    "# reset index\n",
    "unique_users = unique_users.reset_index()\n",
    "\n",
    "# get cumulative distribution, each user adds 1 to the count\n",
    "count_cumulative = [i + 1 for i in range(len(unique_users))]\n",
    "prop_cumulative = [i / len(unique_users) for i in range(len(unique_users))]\n",
    "\n",
    "# plot the distribution\n",
    "plt.plot(unique_users.date, prop_cumulative)\n",
    "plt.xticks(rotation=90)\n",
    "plt.xlabel(\"date\")\n",
    "plt.ylabel(\"$N_a/N$\")\n",
    "plt.title(\"Fraction of recruited users over time\")"
   ]
  },
  {
   "cell_type": "code",
   "execution_count": 35,
   "metadata": {
    "ExecuteTime": {
     "end_time": "2019-03-10T11:46:25.742012Z",
     "start_time": "2019-03-10T11:46:25.726401Z"
    }
   },
   "outputs": [
    {
     "data": {
      "text/plain": [
       "2013-08-26    1080\n",
       "2013-08-25     134\n",
       "2013-10-04      52\n",
       "2013-08-24      48\n",
       "2013-08-27      47\n",
       "2013-09-16      40\n",
       "2013-08-28      35\n",
       "2013-08-19      35\n",
       "2013-08-23      32\n",
       "2013-09-12      27\n",
       "Name: date, dtype: int64"
      ]
     },
     "execution_count": 35,
     "metadata": {},
     "output_type": "execute_result"
    }
   ],
   "source": [
    "# get days with most frequent tweets\n",
    "unique_users.date.dt.date.value_counts()[:10]"
   ]
  },
  {
   "cell_type": "code",
   "execution_count": 36,
   "metadata": {
    "ExecuteTime": {
     "end_time": "2019-03-10T11:46:25.754313Z",
     "start_time": "2019-03-10T11:46:25.747626Z"
    }
   },
   "outputs": [],
   "source": [
    "## DO THE SAME ABOVE FOR COMBINATIONS OF TWEETS, RETWEETS, and REPLIES"
   ]
  },
  {
   "cell_type": "code",
   "execution_count": 37,
   "metadata": {
    "ExecuteTime": {
     "end_time": "2019-03-10T11:46:25.765685Z",
     "start_time": "2019-03-10T11:46:25.758485Z"
    }
   },
   "outputs": [
    {
     "data": {
      "text/plain": [
       "1890"
      ]
     },
     "execution_count": 37,
     "metadata": {},
     "output_type": "execute_result"
    }
   ],
   "source": [
    "# number of unique users\n",
    "# Excluding retweets\n",
    "len(unique_users)"
   ]
  },
  {
   "cell_type": "code",
   "execution_count": 38,
   "metadata": {
    "ExecuteTime": {
     "end_time": "2019-03-10T11:46:25.924030Z",
     "start_time": "2019-03-10T11:46:25.769545Z"
    }
   },
   "outputs": [
    {
     "name": "stdout",
     "output_type": "stream",
     "text": [
      "No. of tweets/replies: 3367\n",
      "No. of unique tweets/replies: 3321\n"
     ]
    }
   ],
   "source": [
    "# Add date column to tweets data (without time)\n",
    "tweets['date'] = [tweets.date[i].date() for i in range(len(tweets))]\n",
    "\n",
    "# Number of tweets and unique tweets and replies\n",
    "# No retweets\n",
    "print(\"No. of tweets/replies:\", len(tweets))\n",
    "print(\"No. of unique tweets/replies:\", len(tweets.text.unique()))\n",
    "\n",
    "# Add date to nodes data for filtering say of degrees?"
   ]
  },
  {
   "cell_type": "code",
   "execution_count": 39,
   "metadata": {
    "ExecuteTime": {
     "end_time": "2019-03-10T11:46:26.061597Z",
     "start_time": "2019-03-10T11:46:25.926852Z"
    }
   },
   "outputs": [
    {
     "data": {
      "text/html": [
       "<div>\n",
       "<style scoped>\n",
       "    .dataframe tbody tr th:only-of-type {\n",
       "        vertical-align: middle;\n",
       "    }\n",
       "\n",
       "    .dataframe tbody tr th {\n",
       "        vertical-align: top;\n",
       "    }\n",
       "\n",
       "    .dataframe thead th {\n",
       "        text-align: right;\n",
       "    }\n",
       "</style>\n",
       "<table border=\"1\" class=\"dataframe\">\n",
       "  <thead>\n",
       "    <tr style=\"text-align: right;\">\n",
       "      <th></th>\n",
       "      <th>date</th>\n",
       "      <th>likes</th>\n",
       "      <th>parent_tweet_id</th>\n",
       "      <th>replies</th>\n",
       "      <th>reply</th>\n",
       "      <th>retweet</th>\n",
       "      <th>retweets</th>\n",
       "      <th>text</th>\n",
       "      <th>timestamp</th>\n",
       "      <th>tweet_id</th>\n",
       "      <th>user_id</th>\n",
       "      <th>user_name</th>\n",
       "      <th>user_screen_name</th>\n",
       "    </tr>\n",
       "  </thead>\n",
       "  <tbody>\n",
       "    <tr>\n",
       "      <th>0</th>\n",
       "      <td>2013-07-15</td>\n",
       "      <td>0</td>\n",
       "      <td>NaN</td>\n",
       "      <td>0</td>\n",
       "      <td>0</td>\n",
       "      <td>0</td>\n",
       "      <td>7</td>\n",
       "      <td>Pass the #PeoplesFOI. Open all records, of all...</td>\n",
       "      <td>1373857351</td>\n",
       "      <td>3.566097e+17</td>\n",
       "      <td>15023706</td>\n",
       "      <td>jenina joy chavez</td>\n",
       "      <td>jeninajoy</td>\n",
       "    </tr>\n",
       "    <tr>\n",
       "      <th>1</th>\n",
       "      <td>2013-07-15</td>\n",
       "      <td>0</td>\n",
       "      <td>NaN</td>\n",
       "      <td>1</td>\n",
       "      <td>0</td>\n",
       "      <td>0</td>\n",
       "      <td>1</td>\n",
       "      <td>I want to hear the side of these 5 senators : ...</td>\n",
       "      <td>1373859264</td>\n",
       "      <td>3.566177e+17</td>\n",
       "      <td>3840981</td>\n",
       "      <td>Noemi L. Dado</td>\n",
       "      <td>momblogger</td>\n",
       "    </tr>\n",
       "    <tr>\n",
       "      <th>2</th>\n",
       "      <td>2013-07-15</td>\n",
       "      <td>0</td>\n",
       "      <td>3.566177e+17</td>\n",
       "      <td>0</td>\n",
       "      <td>1</td>\n",
       "      <td>0</td>\n",
       "      <td>0</td>\n",
       "      <td>@momblogger With Billion Peso scam involving s...</td>\n",
       "      <td>1373860731</td>\n",
       "      <td>3.566239e+17</td>\n",
       "      <td>87556024</td>\n",
       "      <td>PJ Coronel Reyes</td>\n",
       "      <td>peejayreyes</td>\n",
       "    </tr>\n",
       "    <tr>\n",
       "      <th>3</th>\n",
       "      <td>2013-07-15</td>\n",
       "      <td>0</td>\n",
       "      <td>NaN</td>\n",
       "      <td>2</td>\n",
       "      <td>0</td>\n",
       "      <td>0</td>\n",
       "      <td>4</td>\n",
       "      <td>“@1nutty_hazel: Dear Revilla, wag sanang feeli...</td>\n",
       "      <td>1373867769</td>\n",
       "      <td>3.566534e+17</td>\n",
       "      <td>77471719</td>\n",
       "      <td>elizabeth angsioco</td>\n",
       "      <td>bethangsioco</td>\n",
       "    </tr>\n",
       "    <tr>\n",
       "      <th>4</th>\n",
       "      <td>2013-07-15</td>\n",
       "      <td>0</td>\n",
       "      <td>NaN</td>\n",
       "      <td>0</td>\n",
       "      <td>0</td>\n",
       "      <td>0</td>\n",
       "      <td>0</td>\n",
       "      <td>@bethangsioco @1nutty_hazel Lets start with LP...</td>\n",
       "      <td>1373868063</td>\n",
       "      <td>3.566546e+17</td>\n",
       "      <td>350167521</td>\n",
       "      <td>Mama's Boy</td>\n",
       "      <td>noypiaquino</td>\n",
       "    </tr>\n",
       "  </tbody>\n",
       "</table>\n",
       "</div>"
      ],
      "text/plain": [
       "         date  likes  parent_tweet_id  replies  reply  retweet  retweets  \\\n",
       "0  2013-07-15      0              NaN        0      0        0         7   \n",
       "1  2013-07-15      0              NaN        1      0        0         1   \n",
       "2  2013-07-15      0     3.566177e+17        0      1        0         0   \n",
       "3  2013-07-15      0              NaN        2      0        0         4   \n",
       "4  2013-07-15      0              NaN        0      0        0         0   \n",
       "\n",
       "                                                text   timestamp  \\\n",
       "0  Pass the #PeoplesFOI. Open all records, of all...  1373857351   \n",
       "1  I want to hear the side of these 5 senators : ...  1373859264   \n",
       "2  @momblogger With Billion Peso scam involving s...  1373860731   \n",
       "3  “@1nutty_hazel: Dear Revilla, wag sanang feeli...  1373867769   \n",
       "4  @bethangsioco @1nutty_hazel Lets start with LP...  1373868063   \n",
       "\n",
       "       tweet_id    user_id           user_name user_screen_name  \n",
       "0  3.566097e+17   15023706   jenina joy chavez        jeninajoy  \n",
       "1  3.566177e+17    3840981       Noemi L. Dado       momblogger  \n",
       "2  3.566239e+17   87556024    PJ Coronel Reyes      peejayreyes  \n",
       "3  3.566534e+17   77471719  elizabeth angsioco     bethangsioco  \n",
       "4  3.566546e+17  350167521          Mama's Boy      noypiaquino  "
      ]
     },
     "execution_count": 39,
     "metadata": {},
     "output_type": "execute_result"
    }
   ],
   "source": [
    "# filter only those in unified_followers dataset\n",
    "users_list = list(unified_followers.keys())\n",
    "tweets_2 = tweets[tweets.user_screen_name.isin(\n",
    "    users_list)].reset_index(drop=True)\n",
    "tweets_2 = tweets_2.drop(\"index\", axis=1)\n",
    "tweets_2.head()"
   ]
  },
  {
   "cell_type": "code",
   "execution_count": 40,
   "metadata": {
    "ExecuteTime": {
     "end_time": "2019-03-10T11:46:28.668849Z",
     "start_time": "2019-03-10T11:46:26.064778Z"
    },
    "scrolled": true
   },
   "outputs": [],
   "source": [
    "# check for similar tweet_id values - there shouldn't be duplicates\n",
    "# WE CAN REMOVE THIS\n",
    "for i in range(len(tweets)):\n",
    "    if len(tweets[tweets.tweet_id == tweets.tweet_id.values[i]]) > 1:\n",
    "        display(tweets[tweets.tweet_id == tweets.tweet_id.values[i]])\n"
   ]
  },
  {
   "cell_type": "code",
   "execution_count": 41,
   "metadata": {
    "ExecuteTime": {
     "end_time": "2019-03-10T11:46:28.684970Z",
     "start_time": "2019-03-10T11:46:28.671022Z"
    }
   },
   "outputs": [
    {
     "data": {
      "text/plain": [
       "(3002, 1565)"
      ]
     },
     "execution_count": 41,
     "metadata": {},
     "output_type": "execute_result"
    }
   ],
   "source": [
    "# No. of filtered tweets and users\n",
    "len(tweets_2), len(tweets_2.user_screen_name.unique())"
   ]
  },
  {
   "cell_type": "markdown",
   "metadata": {},
   "source": [
    "## Filtering Only Users that Tweeted the #Hashtag and their Followers (who may or may not have tweeted the #Hashtag)"
   ]
  },
  {
   "cell_type": "markdown",
   "metadata": {},
   "source": [
    "### Asymmetric Graph"
   ]
  },
  {
   "cell_type": "code",
   "execution_count": 42,
   "metadata": {
    "ExecuteTime": {
     "end_time": "2019-03-10T11:46:28.700206Z",
     "start_time": "2019-03-10T11:46:28.688411Z"
    }
   },
   "outputs": [
    {
     "data": {
      "text/plain": [
       "9529"
      ]
     },
     "execution_count": 42,
     "metadata": {},
     "output_type": "execute_result"
    }
   ],
   "source": [
    "# get list of unique user_screen_name in pandas dataframe\n",
    "# this is the list that is both in the followers list and in the tweets data\n",
    "# No yet concern for TIME so WE USE tweets_0\n",
    "# tweets, replies, and retweets\n",
    "final_users = list(tweets_0.user_screen_name.unique())\n",
    "len(final_users)"
   ]
  },
  {
   "cell_type": "code",
   "execution_count": 43,
   "metadata": {
    "ExecuteTime": {
     "end_time": "2019-03-10T11:46:28.719625Z",
     "start_time": "2019-03-10T11:46:28.703417Z"
    }
   },
   "outputs": [
    {
     "data": {
      "text/plain": [
       "7141"
      ]
     },
     "execution_count": 43,
     "metadata": {},
     "output_type": "execute_result"
    }
   ],
   "source": [
    "# filter user - follower dictionary to include only those selected above\n",
    "# users_followers = {k: unified_followers[k] for k in final_users}\n",
    "# Get the intersection of user:followers list and the tweets\n",
    "\n",
    "# some users in the dataframe has not been scraped yet\n",
    "users_followers = {}\n",
    "for k in final_users:\n",
    "    try: users_followers[k] = unified_followers[k]\n",
    "    except: continue\n",
    "\n",
    "# these are the keys only\n",
    "len(users_followers)"
   ]
  },
  {
   "cell_type": "code",
   "execution_count": 44,
   "metadata": {
    "ExecuteTime": {
     "end_time": "2019-03-10T11:46:30.098188Z",
     "start_time": "2019-03-10T11:46:28.723482Z"
    }
   },
   "outputs": [
    {
     "data": {
      "text/plain": [
       "233383"
      ]
     },
     "execution_count": 44,
     "metadata": {},
     "output_type": "execute_result"
    }
   ],
   "source": [
    "# make a network using the filtered users_followers above\n",
    "# load Graph of followers\n",
    "# includes nodes that may not have tweeted about the protest\n",
    "G = nx.from_dict_of_lists(users_followers, create_using=nx.DiGraph())\n",
    "\n",
    "# Use spring layout\n",
    "# pos = nx.spring_layout(G)\n",
    "\n",
    "len(G.nodes)"
   ]
  },
  {
   "cell_type": "markdown",
   "metadata": {},
   "source": [
    "#### Basic Properties"
   ]
  },
  {
   "cell_type": "code",
   "execution_count": 45,
   "metadata": {
    "ExecuteTime": {
     "end_time": "2019-03-10T11:46:30.312126Z",
     "start_time": "2019-03-10T11:46:30.101554Z"
    }
   },
   "outputs": [
    {
     "data": {
      "text/html": [
       "<div>\n",
       "<style scoped>\n",
       "    .dataframe tbody tr th:only-of-type {\n",
       "        vertical-align: middle;\n",
       "    }\n",
       "\n",
       "    .dataframe tbody tr th {\n",
       "        vertical-align: top;\n",
       "    }\n",
       "\n",
       "    .dataframe thead th {\n",
       "        text-align: right;\n",
       "    }\n",
       "</style>\n",
       "<table border=\"1\" class=\"dataframe\">\n",
       "  <thead>\n",
       "    <tr style=\"text-align: right;\">\n",
       "      <th></th>\n",
       "      <th>0</th>\n",
       "    </tr>\n",
       "  </thead>\n",
       "  <tbody>\n",
       "    <tr>\n",
       "      <th>avg_degree</th>\n",
       "      <td>1.179169</td>\n",
       "    </tr>\n",
       "    <tr>\n",
       "      <th>min_degree</th>\n",
       "      <td>0.000000</td>\n",
       "    </tr>\n",
       "    <tr>\n",
       "      <th>max_degree</th>\n",
       "      <td>1954.000000</td>\n",
       "    </tr>\n",
       "  </tbody>\n",
       "</table>\n",
       "</div>"
      ],
      "text/plain": [
       "                      0\n",
       "avg_degree     1.179169\n",
       "min_degree     0.000000\n",
       "max_degree  1954.000000"
      ]
     },
     "execution_count": 45,
     "metadata": {},
     "output_type": "execute_result"
    }
   ],
   "source": [
    "# out degree\n",
    "degs = [k for n, k in G.out_degree]\n",
    "avg_deg = np.mean(degs)\n",
    "min_deg = np.min(degs)\n",
    "max_deg = np.max(degs)\n",
    "\n",
    "vals = {\"avg_degree\":[avg_deg], \"min_degree\":[min_deg], \"max_degree\":[max_deg]}\n",
    "pd.DataFrame.from_dict(vals).T"
   ]
  },
  {
   "cell_type": "code",
   "execution_count": 46,
   "metadata": {
    "ExecuteTime": {
     "end_time": "2019-03-10T11:46:30.533689Z",
     "start_time": "2019-03-10T11:46:30.315318Z"
    }
   },
   "outputs": [
    {
     "data": {
      "text/html": [
       "<div>\n",
       "<style scoped>\n",
       "    .dataframe tbody tr th:only-of-type {\n",
       "        vertical-align: middle;\n",
       "    }\n",
       "\n",
       "    .dataframe tbody tr th {\n",
       "        vertical-align: top;\n",
       "    }\n",
       "\n",
       "    .dataframe thead th {\n",
       "        text-align: right;\n",
       "    }\n",
       "</style>\n",
       "<table border=\"1\" class=\"dataframe\">\n",
       "  <thead>\n",
       "    <tr style=\"text-align: right;\">\n",
       "      <th></th>\n",
       "      <th>0</th>\n",
       "    </tr>\n",
       "  </thead>\n",
       "  <tbody>\n",
       "    <tr>\n",
       "      <th>avg_degree</th>\n",
       "      <td>1.179169</td>\n",
       "    </tr>\n",
       "    <tr>\n",
       "      <th>min_degree</th>\n",
       "      <td>0.000000</td>\n",
       "    </tr>\n",
       "    <tr>\n",
       "      <th>max_degree</th>\n",
       "      <td>398.000000</td>\n",
       "    </tr>\n",
       "  </tbody>\n",
       "</table>\n",
       "</div>"
      ],
      "text/plain": [
       "                     0\n",
       "avg_degree    1.179169\n",
       "min_degree    0.000000\n",
       "max_degree  398.000000"
      ]
     },
     "execution_count": 46,
     "metadata": {},
     "output_type": "execute_result"
    }
   ],
   "source": [
    "# in degree\n",
    "degs = [k for n, k in G.in_degree]\n",
    "avg_deg = np.mean(degs)\n",
    "min_deg = np.min(degs)\n",
    "max_deg = np.max(degs)\n",
    "\n",
    "vals = {\"avg_degree\":[avg_deg], \"min_degree\":[min_deg], \"max_degree\":[max_deg]}\n",
    "pd.DataFrame.from_dict(vals).T"
   ]
  },
  {
   "cell_type": "code",
   "execution_count": 47,
   "metadata": {
    "ExecuteTime": {
     "end_time": "2019-03-10T11:46:30.806537Z",
     "start_time": "2019-03-10T11:46:30.537149Z"
    }
   },
   "outputs": [
    {
     "data": {
      "text/html": [
       "<div>\n",
       "<style scoped>\n",
       "    .dataframe tbody tr th:only-of-type {\n",
       "        vertical-align: middle;\n",
       "    }\n",
       "\n",
       "    .dataframe tbody tr th {\n",
       "        vertical-align: top;\n",
       "    }\n",
       "\n",
       "    .dataframe thead th {\n",
       "        text-align: right;\n",
       "    }\n",
       "</style>\n",
       "<table border=\"1\" class=\"dataframe\">\n",
       "  <thead>\n",
       "    <tr style=\"text-align: right;\">\n",
       "      <th></th>\n",
       "      <th>0</th>\n",
       "    </tr>\n",
       "  </thead>\n",
       "  <tbody>\n",
       "    <tr>\n",
       "      <th>avg_degree</th>\n",
       "      <td>2.358338</td>\n",
       "    </tr>\n",
       "    <tr>\n",
       "      <th>min_degree</th>\n",
       "      <td>0.000000</td>\n",
       "    </tr>\n",
       "    <tr>\n",
       "      <th>max_degree</th>\n",
       "      <td>2042.000000</td>\n",
       "    </tr>\n",
       "  </tbody>\n",
       "</table>\n",
       "</div>"
      ],
      "text/plain": [
       "                      0\n",
       "avg_degree     2.358338\n",
       "min_degree     0.000000\n",
       "max_degree  2042.000000"
      ]
     },
     "execution_count": 47,
     "metadata": {},
     "output_type": "execute_result"
    }
   ],
   "source": [
    "# degree\n",
    "degs = [k for n, k in G.degree]\n",
    "avg_deg = np.mean(degs)\n",
    "min_deg = np.min(degs)\n",
    "max_deg = np.max(degs)\n",
    "\n",
    "vals = {\"avg_degree\":[avg_deg], \"min_degree\":[min_deg], \"max_degree\":[max_deg]}\n",
    "pd.DataFrame.from_dict(vals).T"
   ]
  },
  {
   "cell_type": "markdown",
   "metadata": {},
   "source": [
    "#### Degree Distribution"
   ]
  },
  {
   "cell_type": "code",
   "execution_count": 48,
   "metadata": {
    "ExecuteTime": {
     "end_time": "2019-03-10T11:46:31.585640Z",
     "start_time": "2019-03-10T11:46:30.809925Z"
    }
   },
   "outputs": [
    {
     "data": {
      "text/plain": [
       "Text(0.5,1,'Out degree distribution')"
      ]
     },
     "execution_count": 48,
     "metadata": {},
     "output_type": "execute_result"
    },
    {
     "data": {
      "image/png": "[encoded data removed]",
      "text/plain": [
       "<matplotlib.figure.Figure at 0x1a1d0fab70>"
      ]
     },
     "metadata": {},
     "output_type": "display_data"
    }
   ],
   "source": [
    "# out degree distribution\n",
    "degs = [v for k, v in G.out_degree]\n",
    "\n",
    "# count\n",
    "deg_count = Counter(degs)\n",
    "\n",
    "# plot\n",
    "plt.loglog(deg_count.keys(), deg_count.values(), 'o', alpha=0.5)\n",
    "\n",
    "plt.xlabel(\"out_degree\")\n",
    "plt.ylabel(\"num nodes\")\n",
    "plt.title(\"Out degree distribution\")"
   ]
  },
  {
   "cell_type": "code",
   "execution_count": 49,
   "metadata": {
    "ExecuteTime": {
     "end_time": "2019-03-10T11:46:32.463450Z",
     "start_time": "2019-03-10T11:46:31.589787Z"
    }
   },
   "outputs": [
    {
     "data": {
      "text/plain": [
       "Text(0.5,1,'In degree distribution')"
      ]
     },
     "execution_count": 49,
     "metadata": {},
     "output_type": "execute_result"
    },
    {
     "data": {
      "image/png": "[encoded data removed]",
      "text/plain": [
       "<matplotlib.figure.Figure at 0x1a12ad04e0>"
      ]
     },
     "metadata": {},
     "output_type": "display_data"
    }
   ],
   "source": [
    "# in degree distribution\n",
    "degs = [v for k, v in G.in_degree]\n",
    "\n",
    "# count\n",
    "deg_count = Counter(degs)\n",
    "\n",
    "# plot\n",
    "plt.loglog(deg_count.keys(), deg_count.values(), 'o', alpha=0.5)\n",
    "\n",
    "plt.xlabel(\"in_degree\")\n",
    "plt.ylabel(\"num nodes\")\n",
    "plt.title(\"In degree distribution\")"
   ]
  },
  {
   "cell_type": "code",
   "execution_count": 50,
   "metadata": {
    "ExecuteTime": {
     "end_time": "2019-03-10T11:46:33.584101Z",
     "start_time": "2019-03-10T11:46:32.466541Z"
    }
   },
   "outputs": [
    {
     "data": {
      "text/plain": [
       "Text(0.5,1,'Degree distribution')"
      ]
     },
     "execution_count": 50,
     "metadata": {},
     "output_type": "execute_result"
    },
    {
     "data": {
      "image/png": "[encoded data removed]",
      "text/plain": [
       "<matplotlib.figure.Figure at 0x1a1e784160>"
      ]
     },
     "metadata": {},
     "output_type": "display_data"
    }
   ],
   "source": [
    "# degree distribution\n",
    "degs = [v for k, v in G.degree]\n",
    "\n",
    "# count\n",
    "deg_count = Counter(degs)\n",
    "\n",
    "# plot\n",
    "plt.loglog(deg_count.keys(), deg_count.values(), 'o', alpha=0.5)\n",
    "\n",
    "plt.xlabel(\"degree\")\n",
    "plt.ylabel(\"num nodes\")\n",
    "plt.title(\"Degree distribution\")"
   ]
  },
  {
   "cell_type": "code",
   "execution_count": 51,
   "metadata": {
    "ExecuteTime": {
     "end_time": "2019-03-10T11:46:33.591863Z",
     "start_time": "2019-03-10T11:46:33.587882Z"
    }
   },
   "outputs": [],
   "source": [
    "# # Use spring layout\n",
    "# pos = nx.spring_layout(G)\n",
    "\n",
    "# # draw graph\n",
    "# plt.figure(figsize=(8, 8))\n",
    "# nx.draw(G, pos=pos, node_size=2, with_labels=True)"
   ]
  },
  {
   "cell_type": "markdown",
   "metadata": {},
   "source": [
    "### Symmetric Graph"
   ]
  },
  {
   "cell_type": "code",
   "execution_count": 52,
   "metadata": {
    "ExecuteTime": {
     "end_time": "2019-03-10T11:46:33.756047Z",
     "start_time": "2019-03-10T11:46:33.595236Z"
    }
   },
   "outputs": [
    {
     "data": {
      "text/plain": [
       "748"
      ]
     },
     "execution_count": 52,
     "metadata": {},
     "output_type": "execute_result"
    }
   ],
   "source": [
    "# filter only symmetric\n",
    "sym_users_followers = filter_symmetric_from_dict(users_followers)\n",
    "len(sym_users_followers)"
   ]
  },
  {
   "cell_type": "code",
   "execution_count": 53,
   "metadata": {
    "ExecuteTime": {
     "end_time": "2019-03-10T11:46:33.774095Z",
     "start_time": "2019-03-10T11:46:33.759953Z"
    }
   },
   "outputs": [],
   "source": [
    "# load Graph of followers\n",
    "H = nx.from_dict_of_lists(sym_users_followers)"
   ]
  },
  {
   "cell_type": "markdown",
   "metadata": {},
   "source": [
    "#### Degree Distribution"
   ]
  },
  {
   "cell_type": "code",
   "execution_count": 54,
   "metadata": {
    "ExecuteTime": {
     "end_time": "2019-03-10T11:46:34.047115Z",
     "start_time": "2019-03-10T11:46:33.777893Z"
    }
   },
   "outputs": [
    {
     "data": {
      "text/plain": [
       "Text(0.5,1,'Degree distribution')"
      ]
     },
     "execution_count": 54,
     "metadata": {},
     "output_type": "execute_result"
    },
    {
     "data": {
      "image/png": "[encoded data removed]",
      "text/plain": [
       "<matplotlib.figure.Figure at 0x1a1e9d7780>"
      ]
     },
     "metadata": {},
     "output_type": "display_data"
    }
   ],
   "source": [
    "# degree distribution\n",
    "degs = [v for k, v in H.degree]\n",
    "\n",
    "# count\n",
    "deg_count = Counter(degs)\n",
    "\n",
    "# plot\n",
    "plt.plot(deg_count.keys(), deg_count.values(), 'o', alpha=0.5)\n",
    "\n",
    "plt.xlabel(\"degree\")\n",
    "plt.ylabel(\"num nodes\")\n",
    "plt.title(\"Degree distribution\")"
   ]
  },
  {
   "cell_type": "code",
   "execution_count": 55,
   "metadata": {
    "ExecuteTime": {
     "end_time": "2019-03-10T11:46:40.465481Z",
     "start_time": "2019-03-10T11:46:34.052029Z"
    }
   },
   "outputs": [
    {
     "data": {
      "image/png": "[encoded data removed]",
      "text/plain": [
       "<matplotlib.figure.Figure at 0x1a1ea26c18>"
      ]
     },
     "metadata": {},
     "output_type": "display_data"
    }
   ],
   "source": [
    "# Use spring layout\n",
    "pos = nx.spring_layout(H)\n",
    "\n",
    "# draw graph\n",
    "plt.figure(figsize=(10, 10))\n",
    "\n",
    "# draw graph\n",
    "nx.draw(H, pos=pos, node_size=2, with_labels=False,\n",
    "        font_color='b', font_size=20)\n",
    "\n",
    "# WE CAN'T SCRAPE ALL, LOTS OF MISSING LINKS"
   ]
  },
  {
   "cell_type": "code",
   "execution_count": 56,
   "metadata": {
    "ExecuteTime": {
     "end_time": "2019-03-10T11:46:40.481908Z",
     "start_time": "2019-03-10T11:46:40.469018Z"
    }
   },
   "outputs": [
    {
     "data": {
      "text/plain": [
       "array(['berniecadao', 'pinoytapsilog', 'punchthelies', 'philbantay',\n",
       "       'iamchrislao'], dtype='<U15')"
      ]
     },
     "execution_count": 56,
     "metadata": {},
     "output_type": "execute_result"
    }
   ],
   "source": [
    "# top degrees in symmetric networks\n",
    "ind = np.argsort([v for k, v in H.degree])\n",
    "np.array([k for k, v in H.degree])[ind][::-1][:5]"
   ]
  },
  {
   "cell_type": "markdown",
   "metadata": {},
   "source": [
    "## Filter Only the Networks Whose Nodes Tweeted About the #Hashtags"
   ]
  },
  {
   "cell_type": "code",
   "execution_count": 57,
   "metadata": {
    "ExecuteTime": {
     "end_time": "2019-03-10T11:46:40.499354Z",
     "start_time": "2019-03-10T11:46:40.485342Z"
    }
   },
   "outputs": [],
   "source": [
    "# get only nodes (following and followers) that are in a specific list\n",
    "def filter_users_from_dic(followers_dic, user_list):\n",
    "    # make dictionary of filtered keys\n",
    "    # filter user - follower dictionary to include only those that tweeted\n",
    "    filtered_dic = {}\n",
    "    for k in user_list:\n",
    "        try: filtered_dic[k] = followers_dic[k]\n",
    "        except: continue\n",
    "\n",
    "    # filter values in dictionary - select only those in user_list\n",
    "    for k, v in filtered_dic.items():\n",
    "        filtered_dic[k] = [i for i in filtered_dic[k] if i in user_list]\n",
    "\n",
    "    return filtered_dic"
   ]
  },
  {
   "cell_type": "markdown",
   "metadata": {},
   "source": [
    "### Asymmetric Graph"
   ]
  },
  {
   "cell_type": "code",
   "execution_count": 58,
   "metadata": {
    "ExecuteTime": {
     "end_time": "2019-03-10T11:46:40.513833Z",
     "start_time": "2019-03-10T11:46:40.502198Z"
    }
   },
   "outputs": [
    {
     "data": {
      "text/plain": [
       "9529"
      ]
     },
     "execution_count": 58,
     "metadata": {},
     "output_type": "execute_result"
    }
   ],
   "source": [
    "# get list of unique user_screen_name in pandas dataframe\n",
    "# this is the list that is both in the followers list and in the tweets data\n",
    "# No yet concern for TIME so WE USE tweets_0\n",
    "# tweets, replies, and retweets\n",
    "final_users = list(tweets_0.user_screen_name.unique())\n",
    "len(final_users)"
   ]
  },
  {
   "cell_type": "code",
   "execution_count": 59,
   "metadata": {
    "ExecuteTime": {
     "end_time": "2019-03-10T11:47:15.700320Z",
     "start_time": "2019-03-10T11:46:40.516913Z"
    }
   },
   "outputs": [
    {
     "data": {
      "text/plain": [
       "7141"
      ]
     },
     "execution_count": 59,
     "metadata": {},
     "output_type": "execute_result"
    }
   ],
   "source": [
    "# Filter only the nodes in final_users list (tweeter data)\n",
    "users_followers = filter_users_from_dic(unified_followers, final_users)\n",
    "len(users_followers)"
   ]
  },
  {
   "cell_type": "code",
   "execution_count": 60,
   "metadata": {
    "ExecuteTime": {
     "end_time": "2019-03-10T11:47:15.784772Z",
     "start_time": "2019-03-10T11:47:15.703171Z"
    }
   },
   "outputs": [
    {
     "data": {
      "text/plain": [
       "8376"
      ]
     },
     "execution_count": 60,
     "metadata": {},
     "output_type": "execute_result"
    }
   ],
   "source": [
    "# make a network using the filtered users_followers above\n",
    "# load Graph of followers\n",
    "# includes nodes that may not have tweeted about the protest\n",
    "G = nx.from_dict_of_lists(users_followers, create_using=nx.DiGraph())\n",
    "\n",
    "# Use spring layout\n",
    "# pos = nx.spring_layout(G)\n",
    "\n",
    "len(G.nodes)"
   ]
  },
  {
   "cell_type": "markdown",
   "metadata": {},
   "source": [
    "#### Basic Properties"
   ]
  },
  {
   "cell_type": "code",
   "execution_count": 61,
   "metadata": {
    "ExecuteTime": {
     "end_time": "2019-03-10T11:47:15.810901Z",
     "start_time": "2019-03-10T11:47:15.787551Z"
    }
   },
   "outputs": [
    {
     "data": {
      "text/html": [
       "<div>\n",
       "<style scoped>\n",
       "    .dataframe tbody tr th:only-of-type {\n",
       "        vertical-align: middle;\n",
       "    }\n",
       "\n",
       "    .dataframe tbody tr th {\n",
       "        vertical-align: top;\n",
       "    }\n",
       "\n",
       "    .dataframe thead th {\n",
       "        text-align: right;\n",
       "    }\n",
       "</style>\n",
       "<table border=\"1\" class=\"dataframe\">\n",
       "  <thead>\n",
       "    <tr style=\"text-align: right;\">\n",
       "      <th></th>\n",
       "      <th>0</th>\n",
       "    </tr>\n",
       "  </thead>\n",
       "  <tbody>\n",
       "    <tr>\n",
       "      <th>avg_degree</th>\n",
       "      <td>2.694007</td>\n",
       "    </tr>\n",
       "    <tr>\n",
       "      <th>min_degree</th>\n",
       "      <td>0.000000</td>\n",
       "    </tr>\n",
       "    <tr>\n",
       "      <th>max_degree</th>\n",
       "      <td>480.000000</td>\n",
       "    </tr>\n",
       "  </tbody>\n",
       "</table>\n",
       "</div>"
      ],
      "text/plain": [
       "                     0\n",
       "avg_degree    2.694007\n",
       "min_degree    0.000000\n",
       "max_degree  480.000000"
      ]
     },
     "execution_count": 61,
     "metadata": {},
     "output_type": "execute_result"
    }
   ],
   "source": [
    "# out degree\n",
    "degs = [k for n, k in G.out_degree]\n",
    "avg_deg = np.mean(degs)\n",
    "min_deg = np.min(degs)\n",
    "max_deg = np.max(degs)\n",
    "\n",
    "vals = {\"avg_degree\":[avg_deg], \"min_degree\":[min_deg], \"max_degree\":[max_deg]}\n",
    "pd.DataFrame.from_dict(vals).T"
   ]
  },
  {
   "cell_type": "code",
   "execution_count": 62,
   "metadata": {
    "ExecuteTime": {
     "end_time": "2019-03-10T11:47:15.838438Z",
     "start_time": "2019-03-10T11:47:15.814777Z"
    }
   },
   "outputs": [
    {
     "data": {
      "text/html": [
       "<div>\n",
       "<style scoped>\n",
       "    .dataframe tbody tr th:only-of-type {\n",
       "        vertical-align: middle;\n",
       "    }\n",
       "\n",
       "    .dataframe tbody tr th {\n",
       "        vertical-align: top;\n",
       "    }\n",
       "\n",
       "    .dataframe thead th {\n",
       "        text-align: right;\n",
       "    }\n",
       "</style>\n",
       "<table border=\"1\" class=\"dataframe\">\n",
       "  <thead>\n",
       "    <tr style=\"text-align: right;\">\n",
       "      <th></th>\n",
       "      <th>0</th>\n",
       "    </tr>\n",
       "  </thead>\n",
       "  <tbody>\n",
       "    <tr>\n",
       "      <th>avg_degree</th>\n",
       "      <td>2.694007</td>\n",
       "    </tr>\n",
       "    <tr>\n",
       "      <th>min_degree</th>\n",
       "      <td>0.000000</td>\n",
       "    </tr>\n",
       "    <tr>\n",
       "      <th>max_degree</th>\n",
       "      <td>398.000000</td>\n",
       "    </tr>\n",
       "  </tbody>\n",
       "</table>\n",
       "</div>"
      ],
      "text/plain": [
       "                     0\n",
       "avg_degree    2.694007\n",
       "min_degree    0.000000\n",
       "max_degree  398.000000"
      ]
     },
     "execution_count": 62,
     "metadata": {},
     "output_type": "execute_result"
    }
   ],
   "source": [
    "# in degree\n",
    "degs = [k for n, k in G.in_degree]\n",
    "avg_deg = np.mean(degs)\n",
    "min_deg = np.min(degs)\n",
    "max_deg = np.max(degs)\n",
    "\n",
    "vals = {\"avg_degree\":[avg_deg], \"min_degree\":[min_deg], \"max_degree\":[max_deg]}\n",
    "pd.DataFrame.from_dict(vals).T"
   ]
  },
  {
   "cell_type": "code",
   "execution_count": 63,
   "metadata": {
    "ExecuteTime": {
     "end_time": "2019-03-10T11:47:15.867903Z",
     "start_time": "2019-03-10T11:47:15.841313Z"
    }
   },
   "outputs": [
    {
     "data": {
      "text/html": [
       "<div>\n",
       "<style scoped>\n",
       "    .dataframe tbody tr th:only-of-type {\n",
       "        vertical-align: middle;\n",
       "    }\n",
       "\n",
       "    .dataframe tbody tr th {\n",
       "        vertical-align: top;\n",
       "    }\n",
       "\n",
       "    .dataframe thead th {\n",
       "        text-align: right;\n",
       "    }\n",
       "</style>\n",
       "<table border=\"1\" class=\"dataframe\">\n",
       "  <thead>\n",
       "    <tr style=\"text-align: right;\">\n",
       "      <th></th>\n",
       "      <th>0</th>\n",
       "    </tr>\n",
       "  </thead>\n",
       "  <tbody>\n",
       "    <tr>\n",
       "      <th>avg_degree</th>\n",
       "      <td>5.388013</td>\n",
       "    </tr>\n",
       "    <tr>\n",
       "      <th>min_degree</th>\n",
       "      <td>0.000000</td>\n",
       "    </tr>\n",
       "    <tr>\n",
       "      <th>max_degree</th>\n",
       "      <td>560.000000</td>\n",
       "    </tr>\n",
       "  </tbody>\n",
       "</table>\n",
       "</div>"
      ],
      "text/plain": [
       "                     0\n",
       "avg_degree    5.388013\n",
       "min_degree    0.000000\n",
       "max_degree  560.000000"
      ]
     },
     "execution_count": 63,
     "metadata": {},
     "output_type": "execute_result"
    }
   ],
   "source": [
    "# degree\n",
    "degs = [k for n, k in G.degree]\n",
    "avg_deg = np.mean(degs)\n",
    "min_deg = np.min(degs)\n",
    "max_deg = np.max(degs)\n",
    "\n",
    "vals = {\"avg_degree\":[avg_deg], \"min_degree\":[min_deg], \"max_degree\":[max_deg]}\n",
    "pd.DataFrame.from_dict(vals).T"
   ]
  },
  {
   "cell_type": "markdown",
   "metadata": {},
   "source": [
    "#### Degree Distribution"
   ]
  },
  {
   "cell_type": "code",
   "execution_count": 64,
   "metadata": {
    "ExecuteTime": {
     "end_time": "2019-03-10T11:47:16.364652Z",
     "start_time": "2019-03-10T11:47:15.870861Z"
    }
   },
   "outputs": [
    {
     "data": {
      "text/plain": [
       "Text(0.5,1,'Out degree distribution')"
      ]
     },
     "execution_count": 64,
     "metadata": {},
     "output_type": "execute_result"
    },
    {
     "data": {
      "image/png": "[encoded data removed]",
      "text/plain": [
       "<matplotlib.figure.Figure at 0x1a1e9d4da0>"
      ]
     },
     "metadata": {},
     "output_type": "display_data"
    }
   ],
   "source": [
    "# out degree distribution\n",
    "degs = [v for k, v in G.out_degree]\n",
    "\n",
    "# count\n",
    "deg_count = Counter(degs)\n",
    "\n",
    "# plot\n",
    "plt.loglog(deg_count.keys(), deg_count.values(), 'o', alpha=0.5)\n",
    "\n",
    "plt.xlabel(\"out_degree\")\n",
    "plt.ylabel(\"num nodes\")\n",
    "plt.title(\"Out degree distribution\")"
   ]
  },
  {
   "cell_type": "code",
   "execution_count": 65,
   "metadata": {
    "ExecuteTime": {
     "end_time": "2019-03-10T11:47:16.841539Z",
     "start_time": "2019-03-10T11:47:16.368319Z"
    }
   },
   "outputs": [
    {
     "data": {
      "text/plain": [
       "Text(0.5,1,'In degree distribution')"
      ]
     },
     "execution_count": 65,
     "metadata": {},
     "output_type": "execute_result"
    },
    {
     "data": {
      "image/png": "[encoded data removed]",
      "text/plain": [
       "<matplotlib.figure.Figure at 0x1a1ea7d0b8>"
      ]
     },
     "metadata": {},
     "output_type": "display_data"
    }
   ],
   "source": [
    "# in degree distribution\n",
    "degs = [v for k, v in G.in_degree]\n",
    "\n",
    "# count\n",
    "deg_count = Counter(degs)\n",
    "\n",
    "# plot\n",
    "plt.loglog(deg_count.keys(), deg_count.values(), 'o', alpha=0.5)\n",
    "\n",
    "plt.xlabel(\"in_degree\")\n",
    "plt.ylabel(\"num nodes\")\n",
    "plt.title(\"In degree distribution\")"
   ]
  },
  {
   "cell_type": "code",
   "execution_count": 66,
   "metadata": {
    "ExecuteTime": {
     "end_time": "2019-03-10T11:47:17.469239Z",
     "start_time": "2019-03-10T11:47:16.844362Z"
    }
   },
   "outputs": [
    {
     "data": {
      "text/plain": [
       "Text(0.5,1,'Degree distribution')"
      ]
     },
     "execution_count": 66,
     "metadata": {},
     "output_type": "execute_result"
    },
    {
     "data": {
      "image/png": "[encoded data removed]",
      "text/plain": [
       "<matplotlib.figure.Figure at 0x1a1ebf2a90>"
      ]
     },
     "metadata": {},
     "output_type": "display_data"
    }
   ],
   "source": [
    "# degree distribution\n",
    "degs = [v for k, v in G.degree]\n",
    "\n",
    "# count\n",
    "deg_count = Counter(degs)\n",
    "\n",
    "# plot\n",
    "plt.loglog(deg_count.keys(), deg_count.values(), 'o', alpha=0.5)\n",
    "\n",
    "plt.xlabel(\"degree\")\n",
    "plt.ylabel(\"num nodes\")\n",
    "plt.title(\"Degree distribution\")"
   ]
  },
  {
   "cell_type": "code",
   "execution_count": 67,
   "metadata": {
    "ExecuteTime": {
     "end_time": "2019-03-10T11:47:17.480884Z",
     "start_time": "2019-03-10T11:47:17.472710Z"
    }
   },
   "outputs": [],
   "source": [
    "# # Use spring layout\n",
    "# pos = nx.spring_layout(G)\n",
    "\n",
    "# # draw graph\n",
    "# plt.figure(figsize=(8, 8))\n",
    "# nx.draw(G, pos=pos, node_size=2, with_labels=True)"
   ]
  },
  {
   "cell_type": "markdown",
   "metadata": {},
   "source": [
    "### Symmetric Graph"
   ]
  },
  {
   "cell_type": "code",
   "execution_count": 68,
   "metadata": {
    "ExecuteTime": {
     "end_time": "2019-03-10T11:47:17.514632Z",
     "start_time": "2019-03-10T11:47:17.484164Z"
    }
   },
   "outputs": [
    {
     "data": {
      "text/plain": [
       "748"
      ]
     },
     "execution_count": 68,
     "metadata": {},
     "output_type": "execute_result"
    }
   ],
   "source": [
    "# filter only symmetric\n",
    "sym_users_followers = filter_symmetric_from_dict(users_followers)\n",
    "len(sym_users_followers)"
   ]
  },
  {
   "cell_type": "code",
   "execution_count": 69,
   "metadata": {
    "ExecuteTime": {
     "end_time": "2019-03-10T11:47:17.525638Z",
     "start_time": "2019-03-10T11:47:17.518024Z"
    }
   },
   "outputs": [],
   "source": [
    "# load Graph of followers\n",
    "H = nx.from_dict_of_lists(sym_users_followers)"
   ]
  },
  {
   "cell_type": "markdown",
   "metadata": {},
   "source": [
    "#### Degree Distribution"
   ]
  },
  {
   "cell_type": "code",
   "execution_count": 114,
   "metadata": {
    "ExecuteTime": {
     "end_time": "2019-03-10T11:49:42.965612Z",
     "start_time": "2019-03-10T11:49:42.410166Z"
    }
   },
   "outputs": [
    {
     "data": {
      "text/plain": [
       "Text(0.5,1,'Degree distribution')"
      ]
     },
     "execution_count": 114,
     "metadata": {},
     "output_type": "execute_result"
    },
    {
     "data": {
      "image/png": "[encoded data removed]",
      "text/plain": [
       "<matplotlib.figure.Figure at 0x1a20372be0>"
      ]
     },
     "metadata": {},
     "output_type": "display_data"
    }
   ],
   "source": [
    "# degree distribution\n",
    "degs = [v for k, v in H.degree]\n",
    "\n",
    "# count\n",
    "deg_count = Counter(degs)\n",
    "\n",
    "x = np.array(list(deg_count.keys()))\n",
    "inds = np.argsort(x)\n",
    "x = x[inds]\n",
    "y = np.array(list(deg_count.values()))\n",
    "y = y[inds]\n",
    "\n",
    "# plot\n",
    "plt.loglog(x, y, 'o', alpha=1)\n",
    "\n",
    "plt.xlabel(\"degree\")\n",
    "plt.ylabel(\"num nodes\")\n",
    "plt.title(\"Degree distribution\")"
   ]
  },
  {
   "cell_type": "code",
   "execution_count": 71,
   "metadata": {
    "ExecuteTime": {
     "end_time": "2019-03-10T11:47:24.397704Z",
     "start_time": "2019-03-10T11:47:17.723952Z"
    }
   },
   "outputs": [
    {
     "data": {
      "image/png": "[encoded data removed]",
      "text/plain": [
       "<matplotlib.figure.Figure at 0x1a1ec49e48>"
      ]
     },
     "metadata": {},
     "output_type": "display_data"
    }
   ],
   "source": [
    "# Use spring layout\n",
    "pos = nx.spring_layout(H)\n",
    "\n",
    "# draw graph\n",
    "plt.figure(figsize=(10, 10))\n",
    "\n",
    "# draw graph\n",
    "nx.draw(H, pos=pos, node_size=2, with_labels=False,\n",
    "        font_color='b', font_size=20)\n",
    "\n",
    "# WE CAN'T SCRAPE ALL, LOTS OF MISSING LINKS"
   ]
  },
  {
   "cell_type": "code",
   "execution_count": 72,
   "metadata": {
    "ExecuteTime": {
     "end_time": "2019-03-10T11:47:24.416934Z",
     "start_time": "2019-03-10T11:47:24.400578Z"
    }
   },
   "outputs": [
    {
     "data": {
      "text/plain": [
       "array(['berniecadao', 'pinoytapsilog', 'punchthelies', 'philbantay',\n",
       "       'iamchrislao'], dtype='<U15')"
      ]
     },
     "execution_count": 72,
     "metadata": {},
     "output_type": "execute_result"
    }
   ],
   "source": [
    "# top degrees in symmetric networks\n",
    "ind = np.argsort([v for k, v in H.degree])\n",
    "np.array([k for k, v in H.degree])[ind][::-1][:5]"
   ]
  },
  {
   "cell_type": "markdown",
   "metadata": {
    "ExecuteTime": {
     "end_time": "2019-02-25T19:56:51.715032Z",
     "start_time": "2019-02-25T19:56:49.556444Z"
    }
   },
   "source": [
    "## Recruitment Thresholds Distribution"
   ]
  },
  {
   "cell_type": "markdown",
   "metadata": {},
   "source": [
    "### Overall Threshold Distribution - Asymmetric"
   ]
  },
  {
   "cell_type": "code",
   "execution_count": 73,
   "metadata": {
    "ExecuteTime": {
     "end_time": "2019-03-10T11:47:24.480464Z",
     "start_time": "2019-03-10T11:47:24.419642Z"
    }
   },
   "outputs": [],
   "source": [
    "## WE DON'T HAVE DATE FOR RETWEETS. HOW CAN WE SOLVE THIS"
   ]
  },
  {
   "cell_type": "code",
   "execution_count": 74,
   "metadata": {
    "ExecuteTime": {
     "end_time": "2019-03-10T11:47:24.569413Z",
     "start_time": "2019-03-10T11:47:24.484981Z"
    }
   },
   "outputs": [],
   "source": [
    "def get_thresholds(following_counts, unique_users, following_dict):\n",
    "    # input is a dictionary of {users : num of following}\n",
    "    # input is unique users to select\n",
    "\n",
    "    # initiate threshold dict\n",
    "    thresh_dic = {}\n",
    "\n",
    "    # Count the number of friends who activated at the time of activation, ka\n",
    "    for user in list(following_counts.keys()):\n",
    "\n",
    "        # check if user in user_screen_name in the dataset otherwise continue\n",
    "        if user not in unique_users.user_screen_name.values:\n",
    "            continue\n",
    "\n",
    "        date_activated = unique_users[unique_users.user_screen_name == user].date\n",
    "\n",
    "        # filter users whose date < date activated\n",
    "        preactivated_users = unique_users[unique_users.date.values <\n",
    "                                          date_activated.values]\n",
    "\n",
    "        # filter only those being followed by user\n",
    "        # DOUBLE CHECK THIS THIS SHOULDNT BE UNIFIED FOLLOWING\n",
    "        _ = preactivated_users[preactivated_users.user_screen_name.isin(\n",
    "            following_dict[user])]\n",
    "\n",
    "        # get number of preactivated users that are being followed\n",
    "        ka = len(_)\n",
    "\n",
    "        # get number of people followed\n",
    "        k = following_counts[user]\n",
    "\n",
    "        if ka > k:\n",
    "            print(ka, k)\n",
    "            print(user)\n",
    "\n",
    "        # if no connections, remove\n",
    "        if k == 0:\n",
    "            continue\n",
    "\n",
    "        # get threshold\n",
    "        thresh = ka / k\n",
    "\n",
    "        # append to dictionary\n",
    "        thresh_dic[user] = thresh\n",
    "\n",
    "    return thresh_dic"
   ]
  },
  {
   "cell_type": "code",
   "execution_count": 75,
   "metadata": {
    "ExecuteTime": {
     "end_time": "2019-03-10T11:47:50.198682Z",
     "start_time": "2019-03-10T11:47:24.572803Z"
    }
   },
   "outputs": [
    {
     "data": {
      "text/plain": [
       "1878"
      ]
     },
     "execution_count": 75,
     "metadata": {},
     "output_type": "execute_result"
    }
   ],
   "source": [
    "# get following counts\n",
    "following_counts = {k: len(v) for k, v in unified_following.items()}\n",
    "\n",
    "# unique_users are unfiltered. Symmetric\n",
    "unique_users = tweets.drop_duplicates(subset=\"user_screen_name\", keep=\"first\")\n",
    "\n",
    "# show some threshold values\n",
    "thresholds = get_thresholds(following_counts, unique_users, unified_following)\n",
    "\n",
    "# display\n",
    "len(thresholds)"
   ]
  },
  {
   "cell_type": "code",
   "execution_count": 76,
   "metadata": {
    "ExecuteTime": {
     "end_time": "2019-03-10T11:47:50.211154Z",
     "start_time": "2019-03-10T11:47:50.202334Z"
    }
   },
   "outputs": [
    {
     "data": {
      "text/plain": [
       "0.02540919134090122"
      ]
     },
     "execution_count": 76,
     "metadata": {},
     "output_type": "execute_result"
    }
   ],
   "source": [
    "# mean threshold\n",
    "np.mean([v for k, v in thresholds.items()])"
   ]
  },
  {
   "cell_type": "code",
   "execution_count": 77,
   "metadata": {
    "ExecuteTime": {
     "end_time": "2019-03-10T11:47:50.668217Z",
     "start_time": "2019-03-10T11:47:50.215394Z"
    },
    "scrolled": true
   },
   "outputs": [
    {
     "data": {
      "text/plain": [
       "Text(0.5,1,'Num nodes vs ka/k')"
      ]
     },
     "execution_count": 77,
     "metadata": {},
     "output_type": "execute_result"
    },
    {
     "data": {
      "image/png": "[encoded data removed]",
      "text/plain": [
       "<matplotlib.figure.Figure at 0x1a1f743e80>"
      ]
     },
     "metadata": {},
     "output_type": "display_data"
    }
   ],
   "source": [
    "# plot distribution proportion of nodes vs ka/k\n",
    "thresh = [v for k, v in thresholds.items()]\n",
    "thresh_counts = Counter(thresh)\n",
    "x = np.array(list(thresh_counts.keys()))\n",
    "inds = np.argsort(x)\n",
    "x_asym = x[inds]\n",
    "y_asym = np.array(list(thresh_counts.values()))[inds]\n",
    "plt.semilogy(x_asym, y_asym)\n",
    "plt.xlabel(\"ka/k\")\n",
    "plt.ylabel(\"num nodes\")\n",
    "plt.title(\"Num nodes vs ka/k\")"
   ]
  },
  {
   "cell_type": "markdown",
   "metadata": {},
   "source": [
    "### Overall Threshold Distribution - Symmetric"
   ]
  },
  {
   "cell_type": "code",
   "execution_count": 78,
   "metadata": {
    "ExecuteTime": {
     "end_time": "2019-03-10T11:47:51.649695Z",
     "start_time": "2019-03-10T11:47:50.671505Z"
    }
   },
   "outputs": [
    {
     "data": {
      "text/plain": [
       "26727"
      ]
     },
     "execution_count": 78,
     "metadata": {},
     "output_type": "execute_result"
    }
   ],
   "source": [
    "# Filter the network for symmetric only\n",
    "# list of users and who they follow in symmetric network\n",
    "symm_following = filter_symmetric_from_dict(unified_following)\n",
    "\n",
    "# make graph\n",
    "H = nx.from_dict_of_lists(symm_following, create_using=nx.DiGraph())\n",
    "\n",
    "len(H.nodes)"
   ]
  },
  {
   "cell_type": "code",
   "execution_count": 79,
   "metadata": {
    "ExecuteTime": {
     "end_time": "2019-03-10T11:47:55.901290Z",
     "start_time": "2019-03-10T11:47:51.653582Z"
    },
    "scrolled": true
   },
   "outputs": [
    {
     "data": {
      "text/plain": [
       "904"
      ]
     },
     "execution_count": 79,
     "metadata": {},
     "output_type": "execute_result"
    }
   ],
   "source": [
    "# get following counts\n",
    "following_counts = {k: len(v) for k, v in symm_following.items()}\n",
    "\n",
    "# unique_users are unfiltered. Symmetric\n",
    "unique_users = unique_users\n",
    "\n",
    "# show some threshold values\n",
    "thresholds = get_thresholds(following_counts, unique_users, symm_following)\n",
    "\n",
    "len(thresholds)"
   ]
  },
  {
   "cell_type": "code",
   "execution_count": 80,
   "metadata": {
    "ExecuteTime": {
     "end_time": "2019-03-10T11:47:55.911909Z",
     "start_time": "2019-03-10T11:47:55.905066Z"
    }
   },
   "outputs": [
    {
     "data": {
      "text/plain": [
       "0.033058958683353894"
      ]
     },
     "execution_count": 80,
     "metadata": {},
     "output_type": "execute_result"
    }
   ],
   "source": [
    "# mean threshold\n",
    "np.mean([v for k, v in thresholds.items()])"
   ]
  },
  {
   "cell_type": "code",
   "execution_count": 81,
   "metadata": {
    "ExecuteTime": {
     "end_time": "2019-03-10T11:47:56.379799Z",
     "start_time": "2019-03-10T11:47:55.915432Z"
    },
    "scrolled": true
   },
   "outputs": [
    {
     "data": {
      "text/plain": [
       "Text(0.5,1,'Num nodes vs ka/k')"
      ]
     },
     "execution_count": 81,
     "metadata": {},
     "output_type": "execute_result"
    },
    {
     "data": {
      "image/png": "[encoded data removed]",
      "text/plain": [
       "<matplotlib.figure.Figure at 0x1a1f7ba3c8>"
      ]
     },
     "metadata": {},
     "output_type": "display_data"
    }
   ],
   "source": [
    "# plot distribution proportion of nodes vs ka/k\n",
    "thresh = [v for k, v in thresholds.items()]\n",
    "thresh_counts = Counter(thresh)\n",
    "x = np.array(list(thresh_counts.keys()))\n",
    "inds = np.argsort(x)\n",
    "x_sym = x[inds]\n",
    "y_sym = np.array(list(thresh_counts.values()))[inds]\n",
    "plt.semilogy(x_sym, y_sym)\n",
    "plt.xlabel(\"ka/k\")\n",
    "plt.ylabel(\"num nodes\")\n",
    "plt.title(\"Num nodes vs ka/k\")"
   ]
  },
  {
   "cell_type": "code",
   "execution_count": 82,
   "metadata": {
    "ExecuteTime": {
     "end_time": "2019-03-10T11:47:57.490785Z",
     "start_time": "2019-03-10T11:47:56.382754Z"
    }
   },
   "outputs": [
    {
     "data": {
      "text/plain": [
       "Text(0.5,1,'Num nodes vs ka/k')"
      ]
     },
     "execution_count": 82,
     "metadata": {},
     "output_type": "execute_result"
    },
    {
     "data": {
      "image/png": "[encoded data removed]",
      "text/plain": [
       "<matplotlib.figure.Figure at 0x1a1f8447b8>"
      ]
     },
     "metadata": {},
     "output_type": "display_data"
    }
   ],
   "source": [
    "# CHANGE THIS TO PROPORTIONS\n",
    "\n",
    "plt.semilogy(x_sym, y_sym, \"-\", alpha=0., ms=4)\n",
    "plt.semilogy(x_asym, y_asym, \"-\", alpha=0., ms=4)\n",
    "\n",
    "# f, ax = plt.subplots()\n",
    "# ax.set(xscale=\"log\", yscale=\"log\")\n",
    "\n",
    "plt.bar(x_asym, y_asym, label=\"asymmetric\", width=0.02, alpha=0.5)\n",
    "plt.bar(x_sym, y_sym, label=\"symmetric\", width=0.02, alpha=0.5)\n",
    "\n",
    "plt.legend()\n",
    "plt.xlabel(\"ka/k\")\n",
    "plt.ylabel(\"num nodes\")\n",
    "plt.title(\"Num nodes vs ka/k\")"
   ]
  },
  {
   "cell_type": "markdown",
   "metadata": {},
   "source": [
    "Assuming that retaining the symmetric network is like removing ifluencers and media (with huge number of followers but few users followed), or retaining groups of friends in the network, the threshold distribution shifts to higher threshold values. It might be that people in the symmetric subgraph needed more pressure to join the protest / be recruited. Media and influencers could have played a role in activating a significant portion of the users (lower required ka/k)"
   ]
  },
  {
   "cell_type": "markdown",
   "metadata": {},
   "source": [
    "### Distribution of Low, Med, and High Threshold Users Over Time"
   ]
  },
  {
   "cell_type": "code",
   "execution_count": 160,
   "metadata": {
    "ExecuteTime": {
     "end_time": "2019-03-10T11:59:02.749943Z",
     "start_time": "2019-03-10T11:58:37.385832Z"
    }
   },
   "outputs": [
    {
     "data": {
      "text/plain": [
       "1878"
      ]
     },
     "execution_count": 160,
     "metadata": {},
     "output_type": "execute_result"
    }
   ],
   "source": [
    "# TO DO THIS!!!!\n",
    "# ASYMMETRIC\n",
    "# get following counts\n",
    "following_counts = {k: len(v) for k, v in unified_following.items()}\n",
    "\n",
    "# unique_users are unfiltered. Symmetric\n",
    "unique_users = tweets.drop_duplicates(subset=\"user_screen_name\", keep=\"first\")\n",
    "\n",
    "# show some threshold values\n",
    "thresholds = get_thresholds(following_counts, unique_users, unified_following)\n",
    "\n",
    "# display\n",
    "len(thresholds)"
   ]
  },
  {
   "cell_type": "code",
   "execution_count": 161,
   "metadata": {
    "ExecuteTime": {
     "end_time": "2019-03-10T11:59:02.773440Z",
     "start_time": "2019-03-10T11:59:02.754605Z"
    }
   },
   "outputs": [
    {
     "data": {
      "text/html": [
       "<div>\n",
       "<style scoped>\n",
       "    .dataframe tbody tr th:only-of-type {\n",
       "        vertical-align: middle;\n",
       "    }\n",
       "\n",
       "    .dataframe tbody tr th {\n",
       "        vertical-align: top;\n",
       "    }\n",
       "\n",
       "    .dataframe thead th {\n",
       "        text-align: right;\n",
       "    }\n",
       "</style>\n",
       "<table border=\"1\" class=\"dataframe\">\n",
       "  <thead>\n",
       "    <tr style=\"text-align: right;\">\n",
       "      <th></th>\n",
       "      <th>user_screen_name</th>\n",
       "      <th>date</th>\n",
       "    </tr>\n",
       "  </thead>\n",
       "  <tbody>\n",
       "    <tr>\n",
       "      <th>0</th>\n",
       "      <td>jeninajoy</td>\n",
       "      <td>2013-07-15</td>\n",
       "    </tr>\n",
       "    <tr>\n",
       "      <th>1</th>\n",
       "      <td>momblogger</td>\n",
       "      <td>2013-07-15</td>\n",
       "    </tr>\n",
       "    <tr>\n",
       "      <th>2</th>\n",
       "      <td>peejayreyes</td>\n",
       "      <td>2013-07-15</td>\n",
       "    </tr>\n",
       "    <tr>\n",
       "      <th>3</th>\n",
       "      <td>bethangsioco</td>\n",
       "      <td>2013-07-15</td>\n",
       "    </tr>\n",
       "    <tr>\n",
       "      <th>4</th>\n",
       "      <td>noypiaquino</td>\n",
       "      <td>2013-07-15</td>\n",
       "    </tr>\n",
       "  </tbody>\n",
       "</table>\n",
       "</div>"
      ],
      "text/plain": [
       "  user_screen_name        date\n",
       "0        jeninajoy  2013-07-15\n",
       "1       momblogger  2013-07-15\n",
       "2      peejayreyes  2013-07-15\n",
       "3     bethangsioco  2013-07-15\n",
       "4      noypiaquino  2013-07-15"
      ]
     },
     "execution_count": 161,
     "metadata": {},
     "output_type": "execute_result"
    }
   ],
   "source": [
    "# get the date\n",
    "unique_users_date = unique_users.loc[:, [\"user_screen_name\", \"date\"]]\n",
    "unique_users_date.head()"
   ]
  },
  {
   "cell_type": "code",
   "execution_count": 162,
   "metadata": {
    "ExecuteTime": {
     "end_time": "2019-03-10T11:59:02.798918Z",
     "start_time": "2019-03-10T11:59:02.776809Z"
    }
   },
   "outputs": [
    {
     "data": {
      "text/html": [
       "<div>\n",
       "<style scoped>\n",
       "    .dataframe tbody tr th:only-of-type {\n",
       "        vertical-align: middle;\n",
       "    }\n",
       "\n",
       "    .dataframe tbody tr th {\n",
       "        vertical-align: top;\n",
       "    }\n",
       "\n",
       "    .dataframe thead th {\n",
       "        text-align: right;\n",
       "    }\n",
       "</style>\n",
       "<table border=\"1\" class=\"dataframe\">\n",
       "  <thead>\n",
       "    <tr style=\"text-align: right;\">\n",
       "      <th></th>\n",
       "      <th>user_screen_name</th>\n",
       "      <th>threshold</th>\n",
       "    </tr>\n",
       "  </thead>\n",
       "  <tbody>\n",
       "    <tr>\n",
       "      <th>0</th>\n",
       "      <td>ancalerts</td>\n",
       "      <td>0.007702</td>\n",
       "    </tr>\n",
       "    <tr>\n",
       "      <th>1</th>\n",
       "      <td>berniecadao</td>\n",
       "      <td>0.050152</td>\n",
       "    </tr>\n",
       "    <tr>\n",
       "      <th>2</th>\n",
       "      <td>sherylcayco</td>\n",
       "      <td>0.031579</td>\n",
       "    </tr>\n",
       "    <tr>\n",
       "      <th>3</th>\n",
       "      <td>clfpepito</td>\n",
       "      <td>0.009955</td>\n",
       "    </tr>\n",
       "    <tr>\n",
       "      <th>4</th>\n",
       "      <td>willfindways</td>\n",
       "      <td>0.009259</td>\n",
       "    </tr>\n",
       "  </tbody>\n",
       "</table>\n",
       "</div>"
      ],
      "text/plain": [
       "  user_screen_name  threshold\n",
       "0        ancalerts   0.007702\n",
       "1      berniecadao   0.050152\n",
       "2      sherylcayco   0.031579\n",
       "3        clfpepito   0.009955\n",
       "4     willfindways   0.009259"
      ]
     },
     "execution_count": 162,
     "metadata": {},
     "output_type": "execute_result"
    }
   ],
   "source": [
    "# get a dataframe of threshold values\n",
    "df_thresh = pd.DataFrame.from_dict(thresholds, orient=\"index\").reset_index()\n",
    "df_thresh.columns = [\"user_screen_name\", \"threshold\"]\n",
    "df_thresh.head()"
   ]
  },
  {
   "cell_type": "code",
   "execution_count": 163,
   "metadata": {
    "ExecuteTime": {
     "end_time": "2019-03-10T11:59:02.834149Z",
     "start_time": "2019-03-10T11:59:02.803446Z"
    }
   },
   "outputs": [
    {
     "data": {
      "text/html": [
       "<div>\n",
       "<style scoped>\n",
       "    .dataframe tbody tr th:only-of-type {\n",
       "        vertical-align: middle;\n",
       "    }\n",
       "\n",
       "    .dataframe tbody tr th {\n",
       "        vertical-align: top;\n",
       "    }\n",
       "\n",
       "    .dataframe thead th {\n",
       "        text-align: right;\n",
       "    }\n",
       "</style>\n",
       "<table border=\"1\" class=\"dataframe\">\n",
       "  <thead>\n",
       "    <tr style=\"text-align: right;\">\n",
       "      <th></th>\n",
       "      <th>user_screen_name</th>\n",
       "      <th>date</th>\n",
       "      <th>threshold</th>\n",
       "    </tr>\n",
       "  </thead>\n",
       "  <tbody>\n",
       "    <tr>\n",
       "      <th>0</th>\n",
       "      <td>jeninajoy</td>\n",
       "      <td>2013-07-15</td>\n",
       "      <td>0.0</td>\n",
       "    </tr>\n",
       "    <tr>\n",
       "      <th>1</th>\n",
       "      <td>momblogger</td>\n",
       "      <td>2013-07-15</td>\n",
       "      <td>0.0</td>\n",
       "    </tr>\n",
       "    <tr>\n",
       "      <th>2</th>\n",
       "      <td>peejayreyes</td>\n",
       "      <td>2013-07-15</td>\n",
       "      <td>0.0</td>\n",
       "    </tr>\n",
       "    <tr>\n",
       "      <th>3</th>\n",
       "      <td>bethangsioco</td>\n",
       "      <td>2013-07-15</td>\n",
       "      <td>0.0</td>\n",
       "    </tr>\n",
       "    <tr>\n",
       "      <th>4</th>\n",
       "      <td>noypiaquino</td>\n",
       "      <td>2013-07-15</td>\n",
       "      <td>0.0</td>\n",
       "    </tr>\n",
       "  </tbody>\n",
       "</table>\n",
       "</div>"
      ],
      "text/plain": [
       "  user_screen_name        date  threshold\n",
       "0        jeninajoy  2013-07-15        0.0\n",
       "1       momblogger  2013-07-15        0.0\n",
       "2      peejayreyes  2013-07-15        0.0\n",
       "3     bethangsioco  2013-07-15        0.0\n",
       "4      noypiaquino  2013-07-15        0.0"
      ]
     },
     "execution_count": 163,
     "metadata": {},
     "output_type": "execute_result"
    }
   ],
   "source": [
    "# combine user_screen_name, date, and thresholds\n",
    "df_thresh_date = pd.merge(unique_users_date, df_thresh,\n",
    "         left_on=\"user_screen_name\", right_on=\"user_screen_name\")\n",
    "df_thresh_date.head()"
   ]
  },
  {
   "cell_type": "code",
   "execution_count": 164,
   "metadata": {
    "ExecuteTime": {
     "end_time": "2019-03-10T11:59:02.925045Z",
     "start_time": "2019-03-10T11:59:02.837824Z"
    }
   },
   "outputs": [],
   "source": [
    "# max thresholds\n",
    "low = 0.2\n",
    "med = 0.5\n",
    "\n",
    "# filter thresholds of users (low thresholds)\n",
    "low_thresh = df_thresh_date[df_thresh_date.threshold <= low].reset_index(\n",
    "    drop=True)\n",
    "\n",
    "# get counts per date only (distribution)\n",
    "low_thresh = low_thresh.groupby(\"date\").count().reset_index()\n",
    "\n",
    "# filter thresholds of users (med thresholds)\n",
    "med_thresh = df_thresh_date[np.logical_and(\n",
    "    low < df_thresh_date.threshold, df_thresh_date.threshold <= med)].reset_index(drop=True)\n",
    "\n",
    "# get counts per date only (distribution)\n",
    "med_thresh = med_thresh.groupby(\"date\").count().reset_index()\n",
    "\n",
    "# filter thresholds of users (high thresholds)\n",
    "high_thresh = df_thresh_date[med < df_thresh_date.threshold].reset_index(\n",
    "    drop=True)\n",
    "\n",
    "# get counts per date only (distribution)\n",
    "high_thresh = high_thresh.groupby(\"date\").count().reset_index()"
   ]
  },
  {
   "cell_type": "code",
   "execution_count": 165,
   "metadata": {
    "ExecuteTime": {
     "end_time": "2019-03-10T11:59:02.944467Z",
     "start_time": "2019-03-10T11:59:02.929399Z"
    }
   },
   "outputs": [
    {
     "data": {
      "text/plain": [
       "(1848, 28, 2)"
      ]
     },
     "execution_count": 165,
     "metadata": {},
     "output_type": "execute_result"
    }
   ],
   "source": [
    "# size of each threshold category\n",
    "np.sum(low_thresh.threshold), np.sum(med_thresh.threshold), np.sum(high_thresh.threshold)"
   ]
  },
  {
   "cell_type": "code",
   "execution_count": 166,
   "metadata": {
    "ExecuteTime": {
     "end_time": "2019-03-10T11:59:03.338975Z",
     "start_time": "2019-03-10T11:59:02.950950Z"
    }
   },
   "outputs": [
    {
     "data": {
      "text/plain": [
       "Text(0.5,1,'Proportion of users who activated over time for three threshold categories')"
      ]
     },
     "execution_count": 166,
     "metadata": {},
     "output_type": "execute_result"
    },
    {
     "data": {
      "image/png": "[encoded data removed]",
      "text/plain": [
       "<matplotlib.figure.Figure at 0x1a262fd7f0>"
      ]
     },
     "metadata": {},
     "output_type": "display_data"
    }
   ],
   "source": [
    "# plot proportions (RIGHT NOW THRESHOLDS ARE PLOTTED)\n",
    "\n",
    "x = low_thresh.date\n",
    "y = low_thresh.threshold / np.sum(low_thresh.threshold)\n",
    "plt.plot(x, y, label=f\"low $\\leq$ {low}\")\n",
    "\n",
    "x = med_thresh.date\n",
    "y = med_thresh.threshold / np.sum(med_thresh.threshold)\n",
    "plt.plot(x, y, label=f\"{low } < med $\\leq$ {med}\")\n",
    "\n",
    "x = high_thresh.date\n",
    "y = high_thresh.threshold / np.sum(high_thresh.threshold)\n",
    "plt.plot(x, y, label=f\"{med} < high\")\n",
    "plt.legend()\n",
    "\n",
    "plt.xlabel(\"date\")\n",
    "plt.ylabel(\"proportion of users who activated\")\n",
    "plt.title(\"Proportion of users who activated over time for three threshold categories\")"
   ]
  },
  {
   "cell_type": "code",
   "execution_count": 90,
   "metadata": {
    "ExecuteTime": {
     "end_time": "2019-03-10T11:48:22.732174Z",
     "start_time": "2019-03-10T11:48:22.727655Z"
    }
   },
   "outputs": [],
   "source": [
    "# SYMMETRIC"
   ]
  },
  {
   "cell_type": "markdown",
   "metadata": {},
   "source": [
    "### Threshold Distribution Before and After Protest"
   ]
  },
  {
   "cell_type": "code",
   "execution_count": 91,
   "metadata": {
    "ExecuteTime": {
     "end_time": "2019-03-10T11:48:22.745182Z",
     "start_time": "2019-03-10T11:48:22.734823Z"
    }
   },
   "outputs": [
    {
     "data": {
      "text/plain": [
       "656"
      ]
     },
     "execution_count": 91,
     "metadata": {},
     "output_type": "execute_result"
    }
   ],
   "source": [
    "# threshold before protest\n",
    "tweets_before = tweets_0[tweets_0.date < datetime(2013, 8, 26)].reset_index(drop=True)\n",
    "len(tweets_before)"
   ]
  },
  {
   "cell_type": "code",
   "execution_count": 92,
   "metadata": {
    "ExecuteTime": {
     "end_time": "2019-03-10T11:48:32.907557Z",
     "start_time": "2019-03-10T11:48:22.747705Z"
    }
   },
   "outputs": [
    {
     "data": {
      "text/plain": [
       "405"
      ]
     },
     "execution_count": 92,
     "metadata": {},
     "output_type": "execute_result"
    }
   ],
   "source": [
    "# get following counts\n",
    "# asymmetric\n",
    "following_counts = {k: len(v) for k, v in unified_following.items()}\n",
    "\n",
    "# unique_users are unfiltered. Symmetric\n",
    "unique_users = tweets_before.drop_duplicates(subset=\"user_screen_name\", keep=\"first\")\n",
    "\n",
    "# show some threshold values\n",
    "thresholds = get_thresholds(following_counts, unique_users, unified_following)\n",
    "\n",
    "# display\n",
    "len(thresholds)"
   ]
  },
  {
   "cell_type": "code",
   "execution_count": 93,
   "metadata": {
    "ExecuteTime": {
     "end_time": "2019-03-10T11:48:32.920234Z",
     "start_time": "2019-03-10T11:48:32.910661Z"
    }
   },
   "outputs": [
    {
     "data": {
      "text/plain": [
       "0.01652085866160871"
      ]
     },
     "execution_count": 93,
     "metadata": {},
     "output_type": "execute_result"
    }
   ],
   "source": [
    "# mean threshold\n",
    "np.mean([v for k, v in thresholds.items()])"
   ]
  },
  {
   "cell_type": "code",
   "execution_count": 94,
   "metadata": {
    "ExecuteTime": {
     "end_time": "2019-03-10T11:48:33.323979Z",
     "start_time": "2019-03-10T11:48:32.924112Z"
    },
    "scrolled": true
   },
   "outputs": [
    {
     "data": {
      "text/plain": [
       "Text(0.5,1,'Prop nodes vs ka/k')"
      ]
     },
     "execution_count": 94,
     "metadata": {},
     "output_type": "execute_result"
    },
    {
     "data": {
      "image/png": "[encoded data removed]",
      "text/plain": [
       "<matplotlib.figure.Figure at 0x1a1f978b00>"
      ]
     },
     "metadata": {},
     "output_type": "display_data"
    }
   ],
   "source": [
    "# plot distribution proportion of nodes vs ka/k\n",
    "# proportion of nodes that activated before protest\n",
    "thresh = [v for k, v in thresholds.items()]\n",
    "thresh_counts = Counter(thresh)\n",
    "x = np.array(list(thresh_counts.keys()))\n",
    "inds = np.argsort(x)\n",
    "x_asym_before = x[inds]\n",
    "y_asym_before = np.array(list(thresh_counts.values()))[inds]\n",
    "y_asym_before = y_asym_before/np.sum(y_asym_before)\n",
    "plt.semilogy(x_asym_before, y_asym_before)\n",
    "plt.xlabel(\"ka/k\")\n",
    "plt.ylabel(\"proportion of nodes that activated during that time frame\")\n",
    "plt.title(\"Prop nodes vs ka/k\")"
   ]
  },
  {
   "cell_type": "code",
   "execution_count": 95,
   "metadata": {
    "ExecuteTime": {
     "end_time": "2019-03-10T11:48:33.344138Z",
     "start_time": "2019-03-10T11:48:33.326677Z"
    }
   },
   "outputs": [
    {
     "data": {
      "text/plain": [
       "2712"
      ]
     },
     "execution_count": 95,
     "metadata": {},
     "output_type": "execute_result"
    }
   ],
   "source": [
    "# threshold after protest\n",
    "tweets_after = tweets_0[tweets_0.date >= datetime(2013, 8, 26)].reset_index(drop=True)\n",
    "len(tweets_after)"
   ]
  },
  {
   "cell_type": "code",
   "execution_count": 96,
   "metadata": {
    "ExecuteTime": {
     "end_time": "2019-03-10T11:48:54.755021Z",
     "start_time": "2019-03-10T11:48:33.348904Z"
    }
   },
   "outputs": [
    {
     "data": {
      "text/plain": [
       "1584"
      ]
     },
     "execution_count": 96,
     "metadata": {},
     "output_type": "execute_result"
    }
   ],
   "source": [
    "# get following counts\n",
    "# asymmetric\n",
    "following_counts = {k: len(v) for k, v in unified_following.items()}\n",
    "\n",
    "# unique_users are unfiltered. Symmetric\n",
    "unique_users = tweets_after.drop_duplicates(subset=\"user_screen_name\", keep=\"first\")\n",
    "\n",
    "# show some threshold values\n",
    "thresholds = get_thresholds(following_counts, unique_users, unified_following)\n",
    "\n",
    "# display\n",
    "len(thresholds)"
   ]
  },
  {
   "cell_type": "code",
   "execution_count": 97,
   "metadata": {
    "ExecuteTime": {
     "end_time": "2019-03-10T11:48:54.768604Z",
     "start_time": "2019-03-10T11:48:54.757479Z"
    }
   },
   "outputs": [
    {
     "data": {
      "text/plain": [
       "0.029603469634662802"
      ]
     },
     "execution_count": 97,
     "metadata": {},
     "output_type": "execute_result"
    }
   ],
   "source": [
    "# mean threshold\n",
    "np.mean([v for k, v in thresholds.items()])"
   ]
  },
  {
   "cell_type": "code",
   "execution_count": 98,
   "metadata": {
    "ExecuteTime": {
     "end_time": "2019-03-10T11:48:55.125800Z",
     "start_time": "2019-03-10T11:48:54.771553Z"
    },
    "scrolled": true
   },
   "outputs": [
    {
     "data": {
      "text/plain": [
       "Text(0.5,1,'Num nodes vs ka/k')"
      ]
     },
     "execution_count": 98,
     "metadata": {},
     "output_type": "execute_result"
    },
    {
     "data": {
      "image/png": "[encoded data removed]",
      "text/plain": [
       "<matplotlib.figure.Figure at 0x1a1f9fdb70>"
      ]
     },
     "metadata": {},
     "output_type": "display_data"
    }
   ],
   "source": [
    "# plot distribution proportion of nodes vs ka/k\n",
    "thresh = [v for k, v in thresholds.items()]\n",
    "thresh_counts = Counter(thresh)\n",
    "x = np.array(list(thresh_counts.keys()))\n",
    "inds = np.argsort(x)\n",
    "x_asym_after = x[inds]\n",
    "y_asym_after = np.array(list(thresh_counts.values()))[inds]\n",
    "y_asym_after = y_asym_after/np.sum(y_asym_after)\n",
    "plt.semilogy(x_asym_after, y_asym_after)\n",
    "plt.xlabel(\"ka/k\")\n",
    "plt.ylabel(\"num nodes\")\n",
    "plt.title(\"Num nodes vs ka/k\")"
   ]
  },
  {
   "cell_type": "code",
   "execution_count": 99,
   "metadata": {
    "ExecuteTime": {
     "end_time": "2019-03-10T11:48:57.615761Z",
     "start_time": "2019-03-10T11:48:55.130517Z"
    }
   },
   "outputs": [
    {
     "data": {
      "image/png": "[encoded data removed]",
      "text/plain": [
       "<matplotlib.figure.Figure at 0x1a1fa816d8>"
      ]
     },
     "metadata": {},
     "output_type": "display_data"
    },
    {
     "data": {
      "image/png": "[encoded data removed]",
      "text/plain": [
       "<matplotlib.figure.Figure at 0x1a1fac5940>"
      ]
     },
     "metadata": {},
     "output_type": "display_data"
    },
    {
     "data": {
      "image/png": "[encoded data removed]",
      "text/plain": [
       "<matplotlib.figure.Figure at 0x1a1fb57b00>"
      ]
     },
     "metadata": {},
     "output_type": "display_data"
    },
    {
     "data": {
      "image/png": "[encoded data removed]",
      "text/plain": [
       "<matplotlib.figure.Figure at 0x1a1fbc8eb8>"
      ]
     },
     "metadata": {},
     "output_type": "display_data"
    },
    {
     "data": {
      "text/plain": [
       "<matplotlib.legend.Legend at 0x1a1fb5a390>"
      ]
     },
     "execution_count": 99,
     "metadata": {},
     "output_type": "execute_result"
    },
    {
     "data": {
      "image/png": "[encoded data removed]",
      "text/plain": [
       "<matplotlib.figure.Figure at 0x1a1fb6c550>"
      ]
     },
     "metadata": {},
     "output_type": "display_data"
    }
   ],
   "source": [
    "plt.semilogy(x_asym_before, y_asym_before, 'o-', alpha=0.7, label=\"before protest\")\n",
    "plt.semilogy(x_asym_after, y_asym_after,'o-', alpha=0.7, label=\"after protest\")\n",
    "plt.legend()\n",
    "plt.show()\n",
    "\n",
    "plt.semilogy(x_asym_before, y_asym_before, 'x', alpha=0.7, label=\"before protest\")\n",
    "plt.semilogy(x_asym_after, y_asym_after,'o', alpha=0.7, label=\"after protest\")\n",
    "plt.legend()\n",
    "plt.show()\n",
    "\n",
    "plt.plot(x_asym_before, y_asym_before, 'x', alpha=0.7, label=\"before protest\")\n",
    "plt.plot(x_asym_after, y_asym_after,'o', alpha=0.7, label=\"after protest\")\n",
    "plt.legend()\n",
    "plt.show()\n",
    "\n",
    "plt.semilogy(x_asym_after, y_asym_after, alpha=0.)\n",
    "plt.bar(x_asym_before, y_asym_before, alpha=0.3, width=0.03, label=\"before protest\")\n",
    "plt.bar(x_asym_after, y_asym_after, alpha=0.3, width=0.03, label=\"after protest\")\n",
    "plt.legend()\n",
    "plt.show()\n",
    "\n",
    "sns.distplot(x_asym_before, label=\"before protest\", kde=False, norm_hist=True, hist=True,)\n",
    "sns.distplot(x_asym_after, label=\"after protest\", kde=False, norm_hist=True, hist=True,)\n",
    "plt.xlabel(\"ka/k\")\n",
    "plt.ylabel(\"proportion of nodes that activated during that time frame\")\n",
    "plt.title(\"Distribution of ka/k before and after protest\")\n",
    "plt.legend()"
   ]
  },
  {
   "cell_type": "markdown",
   "metadata": {},
   "source": [
    "## Recruitment Bursts"
   ]
  },
  {
   "cell_type": "code",
   "execution_count": null,
   "metadata": {},
   "outputs": [],
   "source": []
  },
  {
   "cell_type": "code",
   "execution_count": null,
   "metadata": {},
   "outputs": [],
   "source": []
  },
  {
   "cell_type": "markdown",
   "metadata": {},
   "source": [
    "## Distribution of Cascade Size"
   ]
  },
  {
   "cell_type": "code",
   "execution_count": 100,
   "metadata": {
    "ExecuteTime": {
     "end_time": "2019-03-10T11:48:57.625112Z",
     "start_time": "2019-03-10T11:48:57.618583Z"
    }
   },
   "outputs": [],
   "source": [
    "# How to identify cascade? retweet of same message?\n",
    "    # Count how many retweeted same message = cascade size?\n",
    "    # Count how many used the same #hashtag - cascade size?\n",
    "    # Add k core attributes per node\n",
    "    # Find K core of who started = seed/leader\n",
    "    # Associate cascade size with k core of seed/leader"
   ]
  },
  {
   "cell_type": "code",
   "execution_count": 101,
   "metadata": {
    "ExecuteTime": {
     "end_time": "2019-03-10T11:48:57.662638Z",
     "start_time": "2019-03-10T11:48:57.628210Z"
    }
   },
   "outputs": [],
   "source": [
    "# count retweets for each parent id\n",
    "cascade_sizes = tweets_0.groupby(\n",
    "    by=\"parent_tweet_id\").count().reset_index().iloc[:, :2].date.values\n",
    "\n",
    "# Should we add this?\n",
    "# # we add the original tweet\n",
    "# cascade_sizes = cascade_sizes + 1"
   ]
  },
  {
   "cell_type": "code",
   "execution_count": 102,
   "metadata": {
    "ExecuteTime": {
     "end_time": "2019-03-10T11:48:58.202620Z",
     "start_time": "2019-03-10T11:48:57.665162Z"
    }
   },
   "outputs": [
    {
     "data": {
      "text/plain": [
       "Text(0.5,1,'Distribution of cascade size')"
      ]
     },
     "execution_count": 102,
     "metadata": {},
     "output_type": "execute_result"
    },
    {
     "data": {
      "image/png": "[encoded data removed]",
      "text/plain": [
       "<matplotlib.figure.Figure at 0x1a1fafd160>"
      ]
     },
     "metadata": {},
     "output_type": "display_data"
    }
   ],
   "source": [
    "x = np.array(list(Counter(cascade_sizes).keys()))\n",
    "inds = np.argsort(x)\n",
    "x = x[inds]\n",
    "y = np.array(list(Counter(cascade_sizes).values()))[inds]\n",
    "plt.loglog(x, y, marker=\".\", )\n",
    "plt.xlabel(\"cascade size (number of retweets + original tweet)\")\n",
    "plt.ylabel(\"number of nodes\")\n",
    "plt.title(\"Distribution of cascade size\")"
   ]
  },
  {
   "cell_type": "code",
   "execution_count": 103,
   "metadata": {
    "ExecuteTime": {
     "end_time": "2019-03-10T11:48:58.215709Z",
     "start_time": "2019-03-10T11:48:58.207785Z"
    }
   },
   "outputs": [],
   "source": [
    "# WE CAN CHECK WHO ARE THE NODES THAT REACHED MANY PEOPLE"
   ]
  },
  {
   "cell_type": "markdown",
   "metadata": {},
   "source": [
    "## Node Centrality (K Core) vs Cascade Size"
   ]
  },
  {
   "cell_type": "code",
   "execution_count": 104,
   "metadata": {
    "ExecuteTime": {
     "end_time": "2019-03-10T11:48:58.266715Z",
     "start_time": "2019-03-10T11:48:58.220284Z"
    }
   },
   "outputs": [
    {
     "data": {
      "text/html": [
       "<div>\n",
       "<style scoped>\n",
       "    .dataframe tbody tr th:only-of-type {\n",
       "        vertical-align: middle;\n",
       "    }\n",
       "\n",
       "    .dataframe tbody tr th {\n",
       "        vertical-align: top;\n",
       "    }\n",
       "\n",
       "    .dataframe thead th {\n",
       "        text-align: right;\n",
       "    }\n",
       "</style>\n",
       "<table border=\"1\" class=\"dataframe\">\n",
       "  <thead>\n",
       "    <tr style=\"text-align: right;\">\n",
       "      <th></th>\n",
       "      <th>parent_tweet_id</th>\n",
       "      <th>cascade</th>\n",
       "    </tr>\n",
       "  </thead>\n",
       "  <tbody>\n",
       "    <tr>\n",
       "      <th>0</th>\n",
       "      <td>7.803567e+09</td>\n",
       "      <td>0</td>\n",
       "    </tr>\n",
       "    <tr>\n",
       "      <th>1</th>\n",
       "      <td>1.764288e+10</td>\n",
       "      <td>0</td>\n",
       "    </tr>\n",
       "    <tr>\n",
       "      <th>2</th>\n",
       "      <td>3.229498e+16</td>\n",
       "      <td>0</td>\n",
       "    </tr>\n",
       "    <tr>\n",
       "      <th>3</th>\n",
       "      <td>3.229898e+16</td>\n",
       "      <td>0</td>\n",
       "    </tr>\n",
       "    <tr>\n",
       "      <th>4</th>\n",
       "      <td>2.760823e+17</td>\n",
       "      <td>0</td>\n",
       "    </tr>\n",
       "  </tbody>\n",
       "</table>\n",
       "</div>"
      ],
      "text/plain": [
       "   parent_tweet_id  cascade\n",
       "0     7.803567e+09        0\n",
       "1     1.764288e+10        0\n",
       "2     3.229498e+16        0\n",
       "3     3.229898e+16        0\n",
       "4     2.760823e+17        0"
      ]
     },
     "execution_count": 104,
     "metadata": {},
     "output_type": "execute_result"
    }
   ],
   "source": [
    "# make a dictionary of parent tweet_id and cascade size\n",
    "# Check in the asymmetric network and symmetric network\n",
    "# will associate parent_tweet_id with original tweeter and calculate k core\n",
    "\n",
    "cascade_df = tweets_0.groupby(\n",
    "    by=\"parent_tweet_id\").count().reset_index().iloc[:, :2]\n",
    "# rename column to cascade\n",
    "cascade_df = cascade_df.rename(columns={\"date\": \"cascade\"})\n",
    "cascade_df.head()"
   ]
  },
  {
   "cell_type": "code",
   "execution_count": 105,
   "metadata": {
    "ExecuteTime": {
     "end_time": "2019-03-10T11:48:58.280235Z",
     "start_time": "2019-03-10T11:48:58.269598Z"
    }
   },
   "outputs": [
    {
     "data": {
      "text/plain": [
       "8376"
      ]
     },
     "execution_count": 105,
     "metadata": {},
     "output_type": "execute_result"
    }
   ],
   "source": [
    "# k cores in asymmetric network\n",
    "# from G above - includes followers who do not follow back and did not tweet\n",
    "# about the protest\n",
    "len(G.nodes)"
   ]
  },
  {
   "cell_type": "code",
   "execution_count": 106,
   "metadata": {
    "ExecuteTime": {
     "end_time": "2019-03-10T11:48:58.311139Z",
     "start_time": "2019-03-10T11:48:58.283128Z"
    }
   },
   "outputs": [],
   "source": [
    "# remove self-loops\n",
    "G.remove_edges_from(nx.selfloop_edges(G))"
   ]
  },
  {
   "cell_type": "code",
   "execution_count": 107,
   "metadata": {
    "ExecuteTime": {
     "end_time": "2019-03-10T11:48:58.319406Z",
     "start_time": "2019-03-10T11:48:58.314435Z"
    }
   },
   "outputs": [
    {
     "data": {
      "text/plain": [
       "8376"
      ]
     },
     "execution_count": 107,
     "metadata": {},
     "output_type": "execute_result"
    }
   ],
   "source": [
    "len(G.nodes)"
   ]
  },
  {
   "cell_type": "code",
   "execution_count": 108,
   "metadata": {
    "ExecuteTime": {
     "end_time": "2019-03-10T11:48:58.497255Z",
     "start_time": "2019-03-10T11:48:58.321987Z"
    }
   },
   "outputs": [
    {
     "data": {
      "text/plain": [
       "8376"
      ]
     },
     "execution_count": 108,
     "metadata": {},
     "output_type": "execute_result"
    }
   ],
   "source": [
    "# k cores in asymmetric network - includes those who did not tweet about the protest\n",
    "# {name: k_core, name: k_core}\n",
    "k_cores_dict = nx.core_number(G)\n",
    "\n",
    "# SAVE KCORE AS ATTRIBUTE OF NODE\n",
    "len(k_cores_dict)"
   ]
  },
  {
   "cell_type": "code",
   "execution_count": 145,
   "metadata": {
    "ExecuteTime": {
     "end_time": "2019-03-10T11:57:38.176334Z",
     "start_time": "2019-03-10T11:57:37.979306Z"
    }
   },
   "outputs": [
    {
     "data": {
      "text/plain": [
       "Text(0.5,1,'kcore distribution')"
      ]
     },
     "execution_count": 145,
     "metadata": {},
     "output_type": "execute_result"
    },
    {
     "data": {
      "image/png": "[encoded data removed]",
      "text/plain": [
       "<matplotlib.figure.Figure at 0x1a25341d68>"
      ]
     },
     "metadata": {},
     "output_type": "display_data"
    }
   ],
   "source": [
    "# core distribution\n",
    "plt.hist(list(k_cores_dict.values()), normed=True, bins=15);\n",
    "plt.xlabel(\"kcore\")\n",
    "plt.ylabel(\"proportion\")\n",
    "plt.title(\"kcore distribution\")"
   ]
  },
  {
   "cell_type": "code",
   "execution_count": 126,
   "metadata": {
    "ExecuteTime": {
     "end_time": "2019-03-10T11:54:54.106180Z",
     "start_time": "2019-03-10T11:54:54.091081Z"
    }
   },
   "outputs": [
    {
     "data": {
      "text/plain": [
       "8376"
      ]
     },
     "execution_count": 126,
     "metadata": {},
     "output_type": "execute_result"
    }
   ],
   "source": [
    "# k_core per users\n",
    "k_core_df = pd.DataFrame.from_dict(\n",
    "    k_cores_dict, orient='index').reset_index()\n",
    "k_core_df.columns = [\"user_screen_name\", \"kcore\"]\n",
    "len(k_core_df)"
   ]
  },
  {
   "cell_type": "code",
   "execution_count": 127,
   "metadata": {
    "ExecuteTime": {
     "end_time": "2019-03-10T11:54:58.726759Z",
     "start_time": "2019-03-10T11:54:58.715307Z"
    }
   },
   "outputs": [
    {
     "data": {
      "text/html": [
       "<div>\n",
       "<style scoped>\n",
       "    .dataframe tbody tr th:only-of-type {\n",
       "        vertical-align: middle;\n",
       "    }\n",
       "\n",
       "    .dataframe tbody tr th {\n",
       "        vertical-align: top;\n",
       "    }\n",
       "\n",
       "    .dataframe thead th {\n",
       "        text-align: right;\n",
       "    }\n",
       "</style>\n",
       "<table border=\"1\" class=\"dataframe\">\n",
       "  <thead>\n",
       "    <tr style=\"text-align: right;\">\n",
       "      <th></th>\n",
       "      <th>user_screen_name</th>\n",
       "      <th>kcore</th>\n",
       "    </tr>\n",
       "  </thead>\n",
       "  <tbody>\n",
       "    <tr>\n",
       "      <th>0</th>\n",
       "      <td>jeninajoy</td>\n",
       "      <td>8</td>\n",
       "    </tr>\n",
       "    <tr>\n",
       "      <th>1</th>\n",
       "      <td>momblogger</td>\n",
       "      <td>17</td>\n",
       "    </tr>\n",
       "    <tr>\n",
       "      <th>2</th>\n",
       "      <td>peejayreyes</td>\n",
       "      <td>5</td>\n",
       "    </tr>\n",
       "    <tr>\n",
       "      <th>3</th>\n",
       "      <td>bethangsioco</td>\n",
       "      <td>14</td>\n",
       "    </tr>\n",
       "    <tr>\n",
       "      <th>4</th>\n",
       "      <td>noypiaquino</td>\n",
       "      <td>17</td>\n",
       "    </tr>\n",
       "  </tbody>\n",
       "</table>\n",
       "</div>"
      ],
      "text/plain": [
       "  user_screen_name  kcore\n",
       "0        jeninajoy      8\n",
       "1       momblogger     17\n",
       "2      peejayreyes      5\n",
       "3     bethangsioco     14\n",
       "4      noypiaquino     17"
      ]
     },
     "execution_count": 127,
     "metadata": {},
     "output_type": "execute_result"
    }
   ],
   "source": [
    "k_core_df.head()"
   ]
  },
  {
   "cell_type": "code",
   "execution_count": 128,
   "metadata": {
    "ExecuteTime": {
     "end_time": "2019-03-10T11:55:00.618788Z",
     "start_time": "2019-03-10T11:55:00.586446Z"
    }
   },
   "outputs": [
    {
     "data": {
      "text/html": [
       "<div>\n",
       "<style scoped>\n",
       "    .dataframe tbody tr th:only-of-type {\n",
       "        vertical-align: middle;\n",
       "    }\n",
       "\n",
       "    .dataframe tbody tr th {\n",
       "        vertical-align: top;\n",
       "    }\n",
       "\n",
       "    .dataframe thead th {\n",
       "        text-align: right;\n",
       "    }\n",
       "</style>\n",
       "<table border=\"1\" class=\"dataframe\">\n",
       "  <thead>\n",
       "    <tr style=\"text-align: right;\">\n",
       "      <th></th>\n",
       "      <th>user_screen_name</th>\n",
       "      <th>cascade</th>\n",
       "    </tr>\n",
       "  </thead>\n",
       "  <tbody>\n",
       "    <tr>\n",
       "      <th>0</th>\n",
       "      <td>inquirerdotnet</td>\n",
       "      <td>0</td>\n",
       "    </tr>\n",
       "    <tr>\n",
       "      <th>1</th>\n",
       "      <td>charisgalaraga</td>\n",
       "      <td>1</td>\n",
       "    </tr>\n",
       "    <tr>\n",
       "      <th>2</th>\n",
       "      <td>philippinebeat</td>\n",
       "      <td>4</td>\n",
       "    </tr>\n",
       "    <tr>\n",
       "      <th>3</th>\n",
       "      <td>patevangelista</td>\n",
       "      <td>3</td>\n",
       "    </tr>\n",
       "    <tr>\n",
       "      <th>4</th>\n",
       "      <td>ancalerts</td>\n",
       "      <td>1</td>\n",
       "    </tr>\n",
       "  </tbody>\n",
       "</table>\n",
       "</div>"
      ],
      "text/plain": [
       "  user_screen_name  cascade\n",
       "0   inquirerdotnet        0\n",
       "1   charisgalaraga        1\n",
       "2   philippinebeat        4\n",
       "3   patevangelista        3\n",
       "4        ancalerts        1"
      ]
     },
     "execution_count": 128,
     "metadata": {},
     "output_type": "execute_result"
    }
   ],
   "source": [
    "# get the parent user screen name\n",
    "cascade_df_2 = pd.merge(unique_users, cascade_df, left_on=\"tweet_id\",\n",
    "                        right_on=\"parent_tweet_id\").loc[:, [\"user_screen_name\", \"cascade\"]]\n",
    "cascade_df_2.head()"
   ]
  },
  {
   "cell_type": "code",
   "execution_count": 129,
   "metadata": {
    "ExecuteTime": {
     "end_time": "2019-03-10T11:55:30.109961Z",
     "start_time": "2019-03-10T11:55:30.093382Z"
    }
   },
   "outputs": [
    {
     "data": {
      "text/html": [
       "<div>\n",
       "<style scoped>\n",
       "    .dataframe tbody tr th:only-of-type {\n",
       "        vertical-align: middle;\n",
       "    }\n",
       "\n",
       "    .dataframe tbody tr th {\n",
       "        vertical-align: top;\n",
       "    }\n",
       "\n",
       "    .dataframe thead th {\n",
       "        text-align: right;\n",
       "    }\n",
       "</style>\n",
       "<table border=\"1\" class=\"dataframe\">\n",
       "  <thead>\n",
       "    <tr style=\"text-align: right;\">\n",
       "      <th></th>\n",
       "      <th>kcore</th>\n",
       "      <th>cascade</th>\n",
       "    </tr>\n",
       "  </thead>\n",
       "  <tbody>\n",
       "    <tr>\n",
       "      <th>0</th>\n",
       "      <td>17</td>\n",
       "      <td>1</td>\n",
       "    </tr>\n",
       "    <tr>\n",
       "      <th>1</th>\n",
       "      <td>10</td>\n",
       "      <td>0</td>\n",
       "    </tr>\n",
       "    <tr>\n",
       "      <th>2</th>\n",
       "      <td>6</td>\n",
       "      <td>0</td>\n",
       "    </tr>\n",
       "    <tr>\n",
       "      <th>3</th>\n",
       "      <td>17</td>\n",
       "      <td>0</td>\n",
       "    </tr>\n",
       "    <tr>\n",
       "      <th>4</th>\n",
       "      <td>10</td>\n",
       "      <td>2</td>\n",
       "    </tr>\n",
       "  </tbody>\n",
       "</table>\n",
       "</div>"
      ],
      "text/plain": [
       "   kcore  cascade\n",
       "0     17        1\n",
       "1     10        0\n",
       "2      6        0\n",
       "3     17        0\n",
       "4     10        2"
      ]
     },
     "execution_count": 129,
     "metadata": {},
     "output_type": "execute_result"
    }
   ],
   "source": [
    "# merge cascade size and kcore\n",
    "df_cascade_kcore = pd.merge(k_core_df, cascade_df_2, left_on=\"user_screen_name\",\n",
    "         right_on=\"user_screen_name\")[[\"kcore\", \"cascade\"]]\n",
    "df_cascade_kcore.head()"
   ]
  },
  {
   "cell_type": "code",
   "execution_count": 130,
   "metadata": {
    "ExecuteTime": {
     "end_time": "2019-03-10T11:55:38.003200Z",
     "start_time": "2019-03-10T11:55:37.995931Z"
    }
   },
   "outputs": [
    {
     "data": {
      "text/plain": [
       "355"
      ]
     },
     "execution_count": 130,
     "metadata": {},
     "output_type": "execute_result"
    }
   ],
   "source": [
    "len(df_cascade_kcore)"
   ]
  },
  {
   "cell_type": "code",
   "execution_count": 132,
   "metadata": {
    "ExecuteTime": {
     "end_time": "2019-03-10T11:55:45.361221Z",
     "start_time": "2019-03-10T11:55:45.193659Z"
    }
   },
   "outputs": [
    {
     "data": {
      "text/plain": [
       "Text(0,0.5,'$N_c$/$N$')"
      ]
     },
     "execution_count": 132,
     "metadata": {},
     "output_type": "execute_result"
    },
    {
     "data": {
      "image/png": "[encoded data removed]",
      "text/plain": [
       "<matplotlib.figure.Figure at 0x1a22179dd8>"
      ]
     },
     "metadata": {},
     "output_type": "display_data"
    }
   ],
   "source": [
    "x = df_cascade_kcore[\"kcore\"]\n",
    "inds = np.argsort(x)\n",
    "x = x[inds]\n",
    "y = df_cascade_kcore[\"cascade\"][inds]\n",
    "\n",
    "plt.plot(x, y/len(y), 'o')\n",
    "plt.title(\"cascade vs k-core\")\n",
    "plt.xlabel(\"k core\")\n",
    "plt.ylabel(\"$N_c$/$N$\")"
   ]
  },
  {
   "cell_type": "code",
   "execution_count": 133,
   "metadata": {
    "ExecuteTime": {
     "end_time": "2019-03-10T11:55:59.330680Z",
     "start_time": "2019-03-10T11:55:59.079568Z"
    }
   },
   "outputs": [
    {
     "data": {
      "text/plain": [
       "Text(0,0.5,'Average cascade size')"
      ]
     },
     "execution_count": 133,
     "metadata": {},
     "output_type": "execute_result"
    },
    {
     "data": {
      "image/png": "[encoded data removed]",
      "text/plain": [
       "<matplotlib.figure.Figure at 0x1a225a9710>"
      ]
     },
     "metadata": {},
     "output_type": "display_data"
    }
   ],
   "source": [
    "# average cascade size vs k core\n",
    "cascade_kcore_mean = df_cascade_kcore.groupby(by=\"kcore\").mean().reset_index()\n",
    "\n",
    "x = cascade_kcore_mean[\"kcore\"]\n",
    "inds = np.argsort(x)\n",
    "x = x[inds]\n",
    "y = cascade_kcore_mean[\"cascade\"][inds]\n",
    "\n",
    "plt.plot(x, y, '-')\n",
    "plt.title(\"cascade vs k-core\")\n",
    "plt.xlabel(\"k core\")\n",
    "plt.ylabel(\"Average cascade size\")"
   ]
  },
  {
   "cell_type": "markdown",
   "metadata": {},
   "source": [
    "The average cascade size correlates positively with k core size. This may mean that tweets from users in higher k cores reach more people than users in lower k cores."
   ]
  },
  {
   "cell_type": "code",
   "execution_count": 146,
   "metadata": {
    "ExecuteTime": {
     "end_time": "2019-03-10T11:57:45.380362Z",
     "start_time": "2019-03-10T11:57:45.360887Z"
    }
   },
   "outputs": [],
   "source": [
    "# correlate with kcore with degrees\n",
    "# degree per users\n",
    "degrees = dict(G.degree)\n",
    "\n",
    "degree_df = pd.DataFrame.from_dict(\n",
    "    degrees, orient='index').reset_index()\n",
    "\n"
   ]
  },
  {
   "cell_type": "code",
   "execution_count": 147,
   "metadata": {
    "ExecuteTime": {
     "end_time": "2019-03-10T11:57:47.023346Z",
     "start_time": "2019-03-10T11:57:46.983212Z"
    }
   },
   "outputs": [
    {
     "data": {
      "text/html": [
       "<div>\n",
       "<style scoped>\n",
       "    .dataframe tbody tr th:only-of-type {\n",
       "        vertical-align: middle;\n",
       "    }\n",
       "\n",
       "    .dataframe tbody tr th {\n",
       "        vertical-align: top;\n",
       "    }\n",
       "\n",
       "    .dataframe thead th {\n",
       "        text-align: right;\n",
       "    }\n",
       "</style>\n",
       "<table border=\"1\" class=\"dataframe\">\n",
       "  <thead>\n",
       "    <tr style=\"text-align: right;\">\n",
       "      <th></th>\n",
       "      <th>degree</th>\n",
       "      <th>cascade</th>\n",
       "    </tr>\n",
       "  </thead>\n",
       "  <tbody>\n",
       "    <tr>\n",
       "      <th>0</th>\n",
       "      <td>447</td>\n",
       "      <td>1</td>\n",
       "    </tr>\n",
       "    <tr>\n",
       "      <th>1</th>\n",
       "      <td>17</td>\n",
       "      <td>0</td>\n",
       "    </tr>\n",
       "    <tr>\n",
       "      <th>2</th>\n",
       "      <td>11</td>\n",
       "      <td>0</td>\n",
       "    </tr>\n",
       "    <tr>\n",
       "      <th>3</th>\n",
       "      <td>175</td>\n",
       "      <td>0</td>\n",
       "    </tr>\n",
       "    <tr>\n",
       "      <th>4</th>\n",
       "      <td>12</td>\n",
       "      <td>2</td>\n",
       "    </tr>\n",
       "  </tbody>\n",
       "</table>\n",
       "</div>"
      ],
      "text/plain": [
       "   degree  cascade\n",
       "0     447        1\n",
       "1      17        0\n",
       "2      11        0\n",
       "3     175        0\n",
       "4      12        2"
      ]
     },
     "execution_count": 147,
     "metadata": {},
     "output_type": "execute_result"
    }
   ],
   "source": [
    "# merge cascade size and kcore\n",
    "df_degree_k_core = pd.merge(degree_df, cascade_df_2, left_on=\"index\",\n",
    "         right_on=\"user_screen_name\")[[0, \"cascade\"]]\n",
    "df_degree_k_core.columns = [\"degree\", \"cascade\"]\n",
    "df_degree_k_core.head()"
   ]
  },
  {
   "cell_type": "code",
   "execution_count": 148,
   "metadata": {
    "ExecuteTime": {
     "end_time": "2019-03-10T11:57:47.533442Z",
     "start_time": "2019-03-10T11:57:47.525160Z"
    }
   },
   "outputs": [
    {
     "data": {
      "text/plain": [
       "355"
      ]
     },
     "execution_count": 148,
     "metadata": {},
     "output_type": "execute_result"
    }
   ],
   "source": [
    "len(df_degree_k_core)"
   ]
  },
  {
   "cell_type": "code",
   "execution_count": 149,
   "metadata": {
    "ExecuteTime": {
     "end_time": "2019-03-10T11:57:48.552251Z",
     "start_time": "2019-03-10T11:57:48.121444Z"
    }
   },
   "outputs": [
    {
     "data": {
      "text/plain": [
       "Text(0,0.5,'cascade size')"
      ]
     },
     "execution_count": 149,
     "metadata": {},
     "output_type": "execute_result"
    },
    {
     "data": {
      "image/png": "[encoded data removed]",
      "text/plain": [
       "<matplotlib.figure.Figure at 0x1a2541f438>"
      ]
     },
     "metadata": {},
     "output_type": "display_data"
    }
   ],
   "source": [
    "# degree vs k core\n",
    "\n",
    "x = df_degree_k_core[\"degree\"]\n",
    "inds = np.argsort(x)\n",
    "x = x[inds]\n",
    "y = df_degree_k_core[\"cascade\"][inds]\n",
    "\n",
    "plt.loglog(x, y, 'o')\n",
    "plt.title(\"cascade vs degree\")\n",
    "plt.xlabel(\"degree\")\n",
    "plt.ylabel(\"cascade size\")"
   ]
  },
  {
   "cell_type": "code",
   "execution_count": 178,
   "metadata": {
    "ExecuteTime": {
     "end_time": "2019-03-10T12:01:48.829742Z",
     "start_time": "2019-03-10T12:01:48.187229Z"
    }
   },
   "outputs": [
    {
     "data": {
      "image/png": "[encoded data removed]",
      "text/plain": [
       "<matplotlib.figure.Figure at 0x1a2a95c518>"
      ]
     },
     "metadata": {},
     "output_type": "display_data"
    },
    {
     "data": {
      "text/plain": [
       "Text(0,0.5,'Average cascade size')"
      ]
     },
     "execution_count": 178,
     "metadata": {},
     "output_type": "execute_result"
    },
    {
     "data": {
      "image/png": "[encoded data removed]",
      "text/plain": [
       "<matplotlib.figure.Figure at 0x1a2a979780>"
      ]
     },
     "metadata": {},
     "output_type": "display_data"
    }
   ],
   "source": [
    "# mean degree vs k core\n",
    "df_degree_k_core_mean = df_degree_k_core.groupby(by=\"degree\").mean().reset_index()\n",
    "\n",
    "x = df_degree_k_core_mean[\"degree\"]\n",
    "inds = np.argsort(x)\n",
    "x = x[inds]\n",
    "y = df_degree_k_core_mean[\"cascade\"][inds]\n",
    "\n",
    "f, ax = plt.subplots()\n",
    "# ax.set(xscale=\"log\", yscale=\"log\")\n",
    "\n",
    "# sns.lmplot(\"degree\", \"cascade\", data=df_degree_k_core_mean)\n",
    "plt.loglog(x, y, 'o')\n",
    "plt.title(\"average cascade vs degree\")\n",
    "plt.xlabel(\"degree\")\n",
    "plt.ylabel(\"Average cascade size\")\n",
    "\n",
    "plt.show()\n",
    "\n",
    "plt.plot(x, y, '-')\n",
    "plt.title(\"average cascade vs degree\")\n",
    "plt.xlabel(\"degree\")\n",
    "plt.ylabel(\"Average cascade size\")"
   ]
  },
  {
   "cell_type": "code",
   "execution_count": null,
   "metadata": {},
   "outputs": [],
   "source": []
  },
  {
   "cell_type": "code",
   "execution_count": null,
   "metadata": {},
   "outputs": [],
   "source": []
  },
  {
   "cell_type": "code",
   "execution_count": null,
   "metadata": {},
   "outputs": [],
   "source": []
  }
 ],
 "metadata": {
  "hide_input": false,
  "kernelspec": {
   "display_name": "Python [default]",
   "language": "python",
   "name": "python3"
  },
  "language_info": {
   "codemirror_mode": {
    "name": "ipython",
    "version": 3
   },
   "file_extension": ".py",
   "mimetype": "text/x-python",
   "name": "python",
   "nbconvert_exporter": "python",
   "pygments_lexer": "ipython3",
   "version": "3.6.4"
  },
  "latex_envs": {
   "LaTeX_envs_menu_present": true,
   "autoclose": false,
   "autocomplete": true,
   "bibliofile": "biblio.bib",
   "cite_by": "apalike",
   "current_citInitial": 1,
   "eqLabelWithNumbers": true,
   "eqNumInitial": 1,
   "hotkeys": {
    "equation": "Ctrl-E",
    "itemize": "Ctrl-I"
   },
   "labels_anchors": false,
   "latex_user_defs": false,
   "report_style_numbering": false,
   "user_envs_cfg": false
  },
  "toc": {
   "base_numbering": 1,
   "nav_menu": {},
   "number_sections": true,
   "sideBar": true,
   "skip_h1_title": false,
   "title_cell": "Table of Contents",
   "title_sidebar": "Contents",
   "toc_cell": false,
   "toc_position": {},
   "toc_section_display": true,
   "toc_window_display": false
  }
 },
 "nbformat": 4,
 "nbformat_minor": 2
}
