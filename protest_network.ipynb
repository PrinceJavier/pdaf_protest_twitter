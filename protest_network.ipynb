{
 "cells": [
  {
   "cell_type": "markdown",
   "metadata": {},
   "source": [
    "# Analysis of Spread of PDAF Protest Sentiment on Twitter"
   ]
  },
  {
   "cell_type": "code",
   "execution_count": 1,
   "metadata": {
    "ExecuteTime": {
     "end_time": "2019-03-07T18:25:46.904250Z",
     "start_time": "2019-03-07T18:25:39.101248Z"
    }
   },
   "outputs": [],
   "source": [
    "import numpy as np\n",
    "import pandas as pd\n",
    "import matplotlib.pyplot as plt\n",
    "\n",
    "import json\n",
    "import glob\n",
    "import ast\n",
    "\n",
    "import networkx as nx\n",
    "from itertools import combinations\n",
    "from collections import Counter "
   ]
  },
  {
   "cell_type": "code",
   "execution_count": 2,
   "metadata": {
    "ExecuteTime": {
     "end_time": "2019-03-07T18:25:46.916709Z",
     "start_time": "2019-03-07T18:25:46.906148Z"
    }
   },
   "outputs": [
    {
     "data": {
      "text/plain": [
       "['data/new_tweets_mpm.json',\n",
       " 'data/tweets_mpm_list_following.json',\n",
       " 'data/user_followers.json',\n",
       " 'data/user_following.json']"
      ]
     },
     "execution_count": 2,
     "metadata": {},
     "output_type": "execute_result"
    }
   ],
   "source": [
    "# load data paths\n",
    "paths = glob.glob(\"data/*\")\n",
    "paths"
   ]
  },
  {
   "cell_type": "code",
   "execution_count": 3,
   "metadata": {
    "ExecuteTime": {
     "end_time": "2019-03-07T18:25:46.923672Z",
     "start_time": "2019-03-07T18:25:46.919112Z"
    }
   },
   "outputs": [],
   "source": [
    "## IMPLEMENT KEY DUPLICATE REMOVER DURING CLEANING?\n",
    "## Dictionaries automatically remove duplicates"
   ]
  },
  {
   "cell_type": "code",
   "execution_count": 4,
   "metadata": {
    "ExecuteTime": {
     "end_time": "2019-03-07T18:25:46.936056Z",
     "start_time": "2019-03-07T18:25:46.926150Z"
    }
   },
   "outputs": [],
   "source": [
    "def read_dict_from_file(path):\n",
    "\n",
    "    # open scraped file as string\n",
    "    f = open(path).read()\n",
    "\n",
    "    # convert scraped file from string to dictionary\n",
    "    dic = ast.literal_eval(f)\n",
    "\n",
    "    # return dictionary of file\n",
    "    return dic"
   ]
  },
  {
   "cell_type": "code",
   "execution_count": 5,
   "metadata": {
    "ExecuteTime": {
     "end_time": "2019-03-07T18:25:46.967905Z",
     "start_time": "2019-03-07T18:25:46.939424Z"
    }
   },
   "outputs": [],
   "source": [
    "def clean_dict(dirty_dict, name_type=\"full_name\"):\n",
    "\n",
    "    # define new dictionary\n",
    "    new_dict = {}\n",
    "\n",
    "    # get keys from input dirty dict\n",
    "    keys = dirty_dict.keys()\n",
    "\n",
    "    for key in keys:\n",
    "\n",
    "        # format is [{\"full_name\" : \"XX\", \"screen_name\" : \"YY\"}]\n",
    "        value = dirty_dict[key]\n",
    "\n",
    "        # get followers full_name per user\n",
    "        full_names = [d[\"full_name\"] for d in value]\n",
    "\n",
    "        # get followers screen name per user\n",
    "        screen_names = [d[\"screen_name\"] for d in value]\n",
    "\n",
    "        # make key: value pair using full_name per user\n",
    "        new_dict[key] = full_names\n",
    "\n",
    "    # return new_dict\n",
    "    return new_dict"
   ]
  },
  {
   "cell_type": "markdown",
   "metadata": {},
   "source": [
    "# Analysis"
   ]
  },
  {
   "cell_type": "markdown",
   "metadata": {},
   "source": [
    "## Preparing Follower and Following Data"
   ]
  },
  {
   "cell_type": "code",
   "execution_count": 36,
   "metadata": {
    "ExecuteTime": {
     "end_time": "2019-03-07T19:16:53.137506Z",
     "start_time": "2019-03-07T19:16:44.629581Z"
    }
   },
   "outputs": [],
   "source": [
    "# load dirty followers dictionary\n",
    "path = \"data/user_followers.json\"\n",
    "dirty_followers = read_dict_from_file(path)\n",
    "\n",
    "# get clean followers, full_name\n",
    "clean_followers = clean_dict(dirty_followers, \"full_name\")\n",
    "\n",
    "# load dirty following dictionary\n",
    "path = \"data/user_following.json\"\n",
    "dirty_following = read_dict_from_file(path)\n",
    "\n",
    "# get clean following, full_name\n",
    "clean_following = clean_dict(dirty_following, \"full_name\")"
   ]
  },
  {
   "cell_type": "code",
   "execution_count": 7,
   "metadata": {
    "ExecuteTime": {
     "end_time": "2019-03-07T18:25:53.908509Z",
     "start_time": "2019-03-07T18:25:53.882488Z"
    }
   },
   "outputs": [],
   "source": [
    "# function to combine (get union) dictionaries\n",
    "def union_dict(a, b):\n",
    "    # a is the bigger dataset we will update with b\n",
    "    for k, v in a.items():\n",
    "        # if key is in a and b, then just append to current data in a\n",
    "        if k in b.keys():\n",
    "            # get union of unique items (remove redundancy)\n",
    "            a[k] = list(set(a[k] + b[k]))\n",
    "\n",
    "    # append keys in b that are not in a\n",
    "    for k, v in b.items():\n",
    "        if k not in a.keys():\n",
    "            a[k] = v\n",
    "\n",
    "    return a"
   ]
  },
  {
   "cell_type": "code",
   "execution_count": 8,
   "metadata": {
    "ExecuteTime": {
     "end_time": "2019-03-07T18:25:53.932431Z",
     "start_time": "2019-03-07T18:25:53.914483Z"
    }
   },
   "outputs": [
    {
     "data": {
      "text/plain": [
       "{'a': [1, 2, 3, 4, 5], 'b': [2, 3, 4], 'c': [8, 9]}"
      ]
     },
     "execution_count": 8,
     "metadata": {},
     "output_type": "execute_result"
    }
   ],
   "source": [
    "# Test\n",
    "a = {\"a\":[1, 2, 5], \"b\":[2, 3, 4]}\n",
    "b = {\"a\":[1, 2, 3, 4], \"c\":[8, 9]}\n",
    "union_dict(a, b)"
   ]
  },
  {
   "cell_type": "code",
   "execution_count": 9,
   "metadata": {
    "ExecuteTime": {
     "end_time": "2019-03-07T18:25:53.954304Z",
     "start_time": "2019-03-07T18:25:53.935962Z"
    }
   },
   "outputs": [],
   "source": [
    "# convert following to followers format\n",
    "# e.g. {\"user_A\": [\"followed_user_1\", \"followed_user_2\"]\n",
    "# turn to: {\"followed_user_1\" : [\"user_A], \"followed_user_2\": [\"user_A\"]}\n",
    "# So network direction goes from user (followed) to follower\n",
    "\n",
    "def swap_key_val(old_dic):\n",
    "\n",
    "    # get keys of dictionary to swap\n",
    "    keys = old_dic.keys()\n",
    "\n",
    "    # convert keys to vals and vals to keys\n",
    "    # initiate new dictioanary (swapped)\n",
    "    new_dic = {}\n",
    "    for key in keys:\n",
    "        # swap value and key\n",
    "        a = {val: [key] for val in old_dic[key]}\n",
    "        # add to new_dic using union_dict function\n",
    "        new_dic = union_dict(new_dic, a)\n",
    "    return new_dic"
   ]
  },
  {
   "cell_type": "code",
   "execution_count": 21,
   "metadata": {
    "ExecuteTime": {
     "end_time": "2019-03-07T18:51:50.684188Z",
     "start_time": "2019-03-07T18:51:50.675496Z"
    }
   },
   "outputs": [
    {
     "data": {
      "text/plain": [
       "{'a': ['follower_a'],\n",
       " 'b': ['follower_a', 'follower_b'],\n",
       " 'c': ['follower_b'],\n",
       " 'd': ['follower_b']}"
      ]
     },
     "execution_count": 21,
     "metadata": {},
     "output_type": "execute_result"
    }
   ],
   "source": [
    "# Test\n",
    "a = {\"follower_a\":[\"a\", \"b\"], \"follower_b\":[\"b\", \"c\", \"d\"]}\n",
    "b = swap_key_val(a)\n",
    "b"
   ]
  },
  {
   "cell_type": "code",
   "execution_count": 37,
   "metadata": {
    "ExecuteTime": {
     "end_time": "2019-03-07T19:17:37.860542Z",
     "start_time": "2019-03-07T19:17:00.010929Z"
    }
   },
   "outputs": [],
   "source": [
    "a = clean_followers.copy()\n",
    "b = clean_following.copy()\n",
    "\n",
    "# get followers data from following data\n",
    "followers_from_following = swap_key_val(b)\n",
    "\n",
    "# get union of followers data (scraped) and followers from following data\n",
    "unified_followers = union_dict(a, followers_from_following)"
   ]
  },
  {
   "cell_type": "code",
   "execution_count": 39,
   "metadata": {
    "ExecuteTime": {
     "end_time": "2019-03-07T19:18:01.187006Z",
     "start_time": "2019-03-07T19:18:00.667029Z"
    }
   },
   "outputs": [],
   "source": [
    "# save unified_followers to json\n",
    "with open('data/unified_followers.json', 'w') as f:\n",
    "    json.dump(unified_followers, f)"
   ]
  },
  {
   "cell_type": "code",
   "execution_count": null,
   "metadata": {},
   "outputs": [],
   "source": [
    "# load saved file\n"
   ]
  },
  {
   "cell_type": "code",
   "execution_count": 40,
   "metadata": {
    "ExecuteTime": {
     "end_time": "2019-03-07T19:18:54.515414Z",
     "start_time": "2019-03-07T19:18:06.654818Z"
    }
   },
   "outputs": [],
   "source": [
    "# get unified following data\n",
    "# get following data from followers data\n",
    "\n",
    "a = clean_followers.copy()\n",
    "b = clean_following.copy()\n",
    "\n",
    "following_from_followers = swap_key_val(a)\n",
    "\n",
    "# get union of followers data (scraped) and followers from following data\n",
    "unified_following = union_dict(b, following_from_followers)"
   ]
  },
  {
   "cell_type": "code",
   "execution_count": 41,
   "metadata": {
    "ExecuteTime": {
     "end_time": "2019-03-07T19:18:54.523691Z",
     "start_time": "2019-03-07T19:18:54.517491Z"
    }
   },
   "outputs": [
    {
     "data": {
      "text/plain": [
       "(3028, 2757)"
      ]
     },
     "execution_count": 41,
     "metadata": {},
     "output_type": "execute_result"
    }
   ],
   "source": [
    "# load saved file"
   ]
  },
  {
   "cell_type": "code",
   "execution_count": 42,
   "metadata": {
    "ExecuteTime": {
     "end_time": "2019-03-07T19:18:55.166943Z",
     "start_time": "2019-03-07T19:18:54.525738Z"
    }
   },
   "outputs": [],
   "source": [
    "# save unified_following to json\n",
    "with open('data/unified_following.json', 'w') as f:\n",
    "    json.dump(unified_following, f)"
   ]
  },
  {
   "cell_type": "code",
   "execution_count": 43,
   "metadata": {
    "ExecuteTime": {
     "end_time": "2019-03-07T19:18:55.175330Z",
     "start_time": "2019-03-07T19:18:55.169097Z"
    }
   },
   "outputs": [
    {
     "data": {
      "text/plain": [
       "2757"
      ]
     },
     "execution_count": 43,
     "metadata": {},
     "output_type": "execute_result"
    }
   ],
   "source": [
    "# length of scraped following\n",
    "len(clean_following)"
   ]
  },
  {
   "cell_type": "code",
   "execution_count": 44,
   "metadata": {
    "ExecuteTime": {
     "end_time": "2019-03-07T19:18:55.257089Z",
     "start_time": "2019-03-07T19:18:55.178181Z"
    }
   },
   "outputs": [
    {
     "data": {
      "text/plain": [
       "109200"
      ]
     },
     "execution_count": 44,
     "metadata": {},
     "output_type": "execute_result"
    }
   ],
   "source": [
    "# length of unified following\n",
    "len(unified_following)"
   ]
  },
  {
   "cell_type": "code",
   "execution_count": 45,
   "metadata": {
    "ExecuteTime": {
     "end_time": "2019-03-07T19:18:55.266026Z",
     "start_time": "2019-03-07T19:18:55.259535Z"
    }
   },
   "outputs": [
    {
     "data": {
      "text/plain": [
       "78798"
      ]
     },
     "execution_count": 45,
     "metadata": {},
     "output_type": "execute_result"
    }
   ],
   "source": [
    "# num of all users:followers scraped\n",
    "len(unified_followers.keys())"
   ]
  },
  {
   "cell_type": "code",
   "execution_count": 46,
   "metadata": {
    "ExecuteTime": {
     "end_time": "2019-03-07T19:18:55.284146Z",
     "start_time": "2019-03-07T19:18:55.268630Z"
    }
   },
   "outputs": [
    {
     "data": {
      "text/plain": [
       "3028"
      ]
     },
     "execution_count": 46,
     "metadata": {},
     "output_type": "execute_result"
    }
   ],
   "source": [
    "# num in just clean_followers\n",
    "len(clean_followers.keys())"
   ]
  },
  {
   "cell_type": "code",
   "execution_count": 47,
   "metadata": {
    "ExecuteTime": {
     "end_time": "2019-03-07T19:18:55.294877Z",
     "start_time": "2019-03-07T19:18:55.287420Z"
    }
   },
   "outputs": [
    {
     "data": {
      "text/plain": [
       "75783"
      ]
     },
     "execution_count": 47,
     "metadata": {},
     "output_type": "execute_result"
    }
   ],
   "source": [
    "# num in user:followers from following data\n",
    "len(followers_from_following.keys())"
   ]
  },
  {
   "cell_type": "markdown",
   "metadata": {},
   "source": [
    "## Making Followers Graph - Asymmetric"
   ]
  },
  {
   "cell_type": "markdown",
   "metadata": {},
   "source": [
    "We generate a graph of all the nodes in the followers and following dataset."
   ]
  },
  {
   "cell_type": "code",
   "execution_count": 48,
   "metadata": {
    "ExecuteTime": {
     "end_time": "2019-03-07T19:19:13.426334Z",
     "start_time": "2019-03-07T19:19:12.186912Z"
    }
   },
   "outputs": [],
   "source": [
    "# load Graph of followers\n",
    "G = nx.from_dict_of_lists(unified_followers, create_using=nx.DiGraph())"
   ]
  },
  {
   "cell_type": "markdown",
   "metadata": {
    "ExecuteTime": {
     "end_time": "2019-03-07T16:19:51.475809Z",
     "start_time": "2019-03-07T16:19:51.472826Z"
    }
   },
   "source": [
    "### Basic Properties"
   ]
  },
  {
   "cell_type": "code",
   "execution_count": 49,
   "metadata": {
    "ExecuteTime": {
     "end_time": "2019-03-07T19:19:14.504730Z",
     "start_time": "2019-03-07T19:19:14.123187Z"
    }
   },
   "outputs": [
    {
     "data": {
      "text/html": [
       "<div>\n",
       "<style scoped>\n",
       "    .dataframe tbody tr th:only-of-type {\n",
       "        vertical-align: middle;\n",
       "    }\n",
       "\n",
       "    .dataframe tbody tr th {\n",
       "        vertical-align: top;\n",
       "    }\n",
       "\n",
       "    .dataframe thead th {\n",
       "        text-align: right;\n",
       "    }\n",
       "</style>\n",
       "<table border=\"1\" class=\"dataframe\">\n",
       "  <thead>\n",
       "    <tr style=\"text-align: right;\">\n",
       "      <th></th>\n",
       "      <th>0</th>\n",
       "    </tr>\n",
       "  </thead>\n",
       "  <tbody>\n",
       "    <tr>\n",
       "      <th>avg_degree</th>\n",
       "      <td>2.934551</td>\n",
       "    </tr>\n",
       "    <tr>\n",
       "      <th>min_degree</th>\n",
       "      <td>0.000000</td>\n",
       "    </tr>\n",
       "    <tr>\n",
       "      <th>max_degree</th>\n",
       "      <td>3283.000000</td>\n",
       "    </tr>\n",
       "  </tbody>\n",
       "</table>\n",
       "</div>"
      ],
      "text/plain": [
       "                      0\n",
       "avg_degree     2.934551\n",
       "min_degree     0.000000\n",
       "max_degree  3283.000000"
      ]
     },
     "execution_count": 49,
     "metadata": {},
     "output_type": "execute_result"
    }
   ],
   "source": [
    "# degrees\n",
    "degs = [k for n, k in G.degree]\n",
    "avg_deg = np.mean(degs)\n",
    "min_deg = np.min(degs)\n",
    "max_deg = np.max(degs)\n",
    "\n",
    "vals = {\"avg_degree\":[avg_deg], \"min_degree\":[min_deg], \"max_degree\":[max_deg]}\n",
    "pd.DataFrame.from_dict(vals).T"
   ]
  },
  {
   "cell_type": "code",
   "execution_count": 50,
   "metadata": {
    "ExecuteTime": {
     "end_time": "2019-03-07T19:19:14.596437Z",
     "start_time": "2019-03-07T19:19:14.592724Z"
    }
   },
   "outputs": [],
   "source": [
    "# clustering"
   ]
  },
  {
   "cell_type": "markdown",
   "metadata": {},
   "source": [
    "### Degree Distribution"
   ]
  },
  {
   "cell_type": "code",
   "execution_count": 51,
   "metadata": {
    "ExecuteTime": {
     "end_time": "2019-03-07T19:19:17.325145Z",
     "start_time": "2019-03-07T19:19:16.365605Z"
    }
   },
   "outputs": [
    {
     "data": {
      "text/plain": [
       "[<matplotlib.lines.Line2D at 0x153bf00f60>]"
      ]
     },
     "execution_count": 51,
     "metadata": {},
     "output_type": "execute_result"
    },
    {
     "data": {
      "image/png": "[encoded data removed]",
      "text/plain": [
       "<matplotlib.figure.Figure at 0x153c07aac8>"
      ]
     },
     "metadata": {},
     "output_type": "display_data"
    }
   ],
   "source": [
    "# out degree distribution\n",
    "degs = [v for k, v in G.out_degree]\n",
    "\n",
    "# count\n",
    "deg_count = Counter(degs)\n",
    "\n",
    "# plot\n",
    "plt.loglog(deg_count.keys(), deg_count.values(), 'o', alpha=0.5)"
   ]
  },
  {
   "cell_type": "code",
   "execution_count": 52,
   "metadata": {
    "ExecuteTime": {
     "end_time": "2019-03-07T19:19:18.487324Z",
     "start_time": "2019-03-07T19:19:17.789500Z"
    }
   },
   "outputs": [
    {
     "data": {
      "text/plain": [
       "[<matplotlib.lines.Line2D at 0x153b8654a8>]"
      ]
     },
     "execution_count": 52,
     "metadata": {},
     "output_type": "execute_result"
    },
    {
     "data": {
      "image/png": "[encoded data removed]",
      "text/plain": [
       "<matplotlib.figure.Figure at 0x153b8a45f8>"
      ]
     },
     "metadata": {},
     "output_type": "display_data"
    }
   ],
   "source": [
    "# in degree distribution\n",
    "degs = [v for k, v in G.in_degree]\n",
    "\n",
    "# count\n",
    "deg_count = Counter(degs)\n",
    "\n",
    "# plot\n",
    "plt.loglog(deg_count.keys(), deg_count.values(), 'o', alpha=0.5)"
   ]
  },
  {
   "cell_type": "code",
   "execution_count": 53,
   "metadata": {
    "ExecuteTime": {
     "end_time": "2019-03-07T19:19:20.028382Z",
     "start_time": "2019-03-07T19:19:18.962705Z"
    }
   },
   "outputs": [
    {
     "data": {
      "text/plain": [
       "[<matplotlib.lines.Line2D at 0x153ad97b00>]"
      ]
     },
     "execution_count": 53,
     "metadata": {},
     "output_type": "execute_result"
    },
    {
     "data": {
      "image/png": "[encoded data removed]",
      "text/plain": [
       "<matplotlib.figure.Figure at 0x153bfc20f0>"
      ]
     },
     "metadata": {},
     "output_type": "display_data"
    }
   ],
   "source": [
    "# degree distribution\n",
    "degs = [v for k, v in G.degree]\n",
    "\n",
    "# count\n",
    "deg_count = Counter(degs)\n",
    "\n",
    "# plot\n",
    "plt.loglog(deg_count.keys(), deg_count.values(), 'o', alpha=0.5)"
   ]
  },
  {
   "cell_type": "code",
   "execution_count": 54,
   "metadata": {
    "ExecuteTime": {
     "end_time": "2019-03-07T19:19:20.398112Z",
     "start_time": "2019-03-07T19:19:20.394963Z"
    }
   },
   "outputs": [],
   "source": [
    "# # Use spring layout\n",
    "# pos = nx.spring_layout(G)\n",
    "\n",
    "# # draw graph\n",
    "# plt.figure(figsize=(10, 10))\n",
    "# nx.draw(G, pos=pos, node_size=2, with_labels=False)"
   ]
  },
  {
   "cell_type": "markdown",
   "metadata": {},
   "source": [
    "## Filtering Followers Subgraph - Symmetric"
   ]
  },
  {
   "cell_type": "markdown",
   "metadata": {},
   "source": [
    "The function below only selects that nodes that mutually follow each other (regardless if they tweeted about the protest or not). a <--> b will be preserved while c --> d will not be."
   ]
  },
  {
   "cell_type": "code",
   "execution_count": 55,
   "metadata": {
    "ExecuteTime": {
     "end_time": "2019-03-07T19:19:23.650681Z",
     "start_time": "2019-03-07T19:19:23.635070Z"
    }
   },
   "outputs": [],
   "source": [
    "def filter_symmetric(matrix, nodes):\n",
    "    # get only symmetric\n",
    "    matrix_sym = np.multiply(matrix, matrix.T)\n",
    "    \n",
    "    # make diagonal = 0\n",
    "    np.fill_diagonal(matrix_sym, 0)\n",
    "    \n",
    "    # get indices with at least one degree in the symmetric network\n",
    "    nonzero = np.array(np.sum(matrix_sym, axis=0))\n",
    "    inds = list(np.nonzero(nonzero[0])[0])\n",
    "    \n",
    "    # select only rows and columns based on index\n",
    "    matrix_sym = matrix_sym[inds][:, inds]\n",
    "\n",
    "    # get nodes corresponding to index of nodes in symm network\n",
    "    sym_nodes = np.array(nodes)[inds]\n",
    "    \n",
    "    return matrix_sym, sym_nodes"
   ]
  },
  {
   "cell_type": "code",
   "execution_count": 56,
   "metadata": {
    "ExecuteTime": {
     "end_time": "2019-03-07T19:19:24.506532Z",
     "start_time": "2019-03-07T19:19:24.498687Z"
    }
   },
   "outputs": [
    {
     "data": {
      "text/plain": [
       "(matrix([[0, 0, 1, 0],\n",
       "         [0, 0, 0, 1],\n",
       "         [1, 0, 0, 0],\n",
       "         [0, 1, 0, 0]]), array(['a', 'b', 'c', 'd'], dtype='<U1'))"
      ]
     },
     "execution_count": 56,
     "metadata": {},
     "output_type": "execute_result"
    }
   ],
   "source": [
    "# TEST\n",
    "matrix = np.matrix([[1, 0, 1, 1], [1, 1, 0, 1], [1, 0, 0, 0], [0, 1, 1, 1]])\n",
    "nodes = ['a', 'b', 'c', 'd']\n",
    "filter_symmetric(matrix, nodes)"
   ]
  },
  {
   "cell_type": "code",
   "execution_count": 57,
   "metadata": {
    "ExecuteTime": {
     "end_time": "2019-03-07T19:19:28.392662Z",
     "start_time": "2019-03-07T19:19:26.012576Z"
    }
   },
   "outputs": [
    {
     "data": {
      "text/plain": [
       "((171171, 171171), 171171)"
      ]
     },
     "execution_count": 57,
     "metadata": {},
     "output_type": "execute_result"
    }
   ],
   "source": [
    "# # make adjacency matrix\n",
    "# matrix = nx.adjacency_matrix(G).todense()\n",
    "\n",
    "# # get nodes list\n",
    "# nodes = list(G.nodes)\n",
    "\n",
    "# # THIS SHOULD BE EQUAL\n",
    "# matrix.shape, len(nodes)"
   ]
  },
  {
   "cell_type": "code",
   "execution_count": null,
   "metadata": {
    "ExecuteTime": {
     "start_time": "2019-03-07T16:23:07.270Z"
    },
    "scrolled": true
   },
   "outputs": [],
   "source": [
    "# # CAN WE REMOVE THIS? SINCE THE IMPLEMENTATION BELOW WORKS AND THIS BREAKS\n",
    "# # THIS KILLS THE KERNEL\n",
    "# # filter symmetric adjacencty matrix\n",
    "# sym_matrix, sym_nodes = filter_symmetric(matrix, nodes)\n",
    "\n",
    "# print(\"No. of links in asymmetric network:\", np.sum(matrix))\n",
    "# print(\"Shape of asymmetric network:\", matrix.shape)\n",
    "# print(\"No. of links in symmetric network:\", np.sum(sym_matrix)/2)\n",
    "# print(\"Shape of symmetric network:\", sym_matrix.shape, len(sym_nodes))"
   ]
  },
  {
   "cell_type": "code",
   "execution_count": 58,
   "metadata": {
    "ExecuteTime": {
     "end_time": "2019-03-07T19:19:35.711554Z",
     "start_time": "2019-03-07T19:19:35.692389Z"
    }
   },
   "outputs": [],
   "source": [
    "# Filter symmetric given dictionary of followers only\n",
    "def filter_symmetric_from_dict(dic):\n",
    "    # get dictionary of followers\n",
    "    \n",
    "    # define new dictionary    \n",
    "    sym_dic = {}\n",
    "    \n",
    "    # run through keys and values\n",
    "    for k, v in dic.items():\n",
    "        # check if symmetric by looking at key and valu\n",
    "        for i in v:\n",
    "            try:\n",
    "                if k in dic[i]:\n",
    "                    if k in sym_dic:\n",
    "                        sym_dic[k] += [i]\n",
    "                    else:\n",
    "                        sym_dic[k] = [i]\n",
    "            except:\n",
    "                continue\n",
    "    return sym_dic"
   ]
  },
  {
   "cell_type": "code",
   "execution_count": 59,
   "metadata": {
    "ExecuteTime": {
     "end_time": "2019-03-07T19:19:36.204327Z",
     "start_time": "2019-03-07T19:19:36.189104Z"
    }
   },
   "outputs": [
    {
     "data": {
      "text/plain": [
       "{'a': ['b', 'c'], 'b': ['a', 'z'], 'c': ['a'], 'e': ['z'], 'z': ['e', 'b']}"
      ]
     },
     "execution_count": 59,
     "metadata": {},
     "output_type": "execute_result"
    }
   ],
   "source": [
    "a = {'z':['e', 'b'], 'a':['b', 'c', 'd'], 'b':['a', 'z'], 'c':['a'], 'd':['c'], 'e':['z']}\n",
    "filter_symmetric_from_dict(a)"
   ]
  },
  {
   "cell_type": "code",
   "execution_count": 60,
   "metadata": {
    "ExecuteTime": {
     "end_time": "2019-03-07T19:19:49.477994Z",
     "start_time": "2019-03-07T19:19:49.083327Z"
    }
   },
   "outputs": [],
   "source": [
    "# Filter the network for symmetric only \n",
    "\n",
    "# list of users in symmetric network\n",
    "user_list = list(unified_followers.keys())\n",
    "\n",
    "# filter only users in symmetric network\n",
    "symm_followers = filter_symmetric_from_dict(unified_followers)\n",
    "\n",
    "# make graph\n",
    "H = nx.from_dict_of_lists(symm_followers, create_using=nx.DiGraph())"
   ]
  },
  {
   "cell_type": "code",
   "execution_count": 61,
   "metadata": {
    "ExecuteTime": {
     "end_time": "2019-03-07T19:19:54.099260Z",
     "start_time": "2019-03-07T19:19:54.090761Z"
    }
   },
   "outputs": [
    {
     "data": {
      "text/plain": [
       "11173"
      ]
     },
     "execution_count": 61,
     "metadata": {},
     "output_type": "execute_result"
    }
   ],
   "source": [
    "# Number of nodes in symmetric network\n",
    "len(H.nodes)"
   ]
  },
  {
   "cell_type": "markdown",
   "metadata": {
    "ExecuteTime": {
     "end_time": "2019-03-07T16:19:51.475809Z",
     "start_time": "2019-03-07T16:19:51.472826Z"
    }
   },
   "source": [
    "### Basic Properties"
   ]
  },
  {
   "cell_type": "code",
   "execution_count": 62,
   "metadata": {
    "ExecuteTime": {
     "end_time": "2019-03-07T19:19:55.868088Z",
     "start_time": "2019-03-07T19:19:55.840353Z"
    }
   },
   "outputs": [
    {
     "data": {
      "text/html": [
       "<div>\n",
       "<style scoped>\n",
       "    .dataframe tbody tr th:only-of-type {\n",
       "        vertical-align: middle;\n",
       "    }\n",
       "\n",
       "    .dataframe tbody tr th {\n",
       "        vertical-align: top;\n",
       "    }\n",
       "\n",
       "    .dataframe thead th {\n",
       "        text-align: right;\n",
       "    }\n",
       "</style>\n",
       "<table border=\"1\" class=\"dataframe\">\n",
       "  <thead>\n",
       "    <tr style=\"text-align: right;\">\n",
       "      <th></th>\n",
       "      <th>0</th>\n",
       "    </tr>\n",
       "  </thead>\n",
       "  <tbody>\n",
       "    <tr>\n",
       "      <th>avg_degree</th>\n",
       "      <td>3.595274</td>\n",
       "    </tr>\n",
       "    <tr>\n",
       "      <th>min_degree</th>\n",
       "      <td>2.000000</td>\n",
       "    </tr>\n",
       "    <tr>\n",
       "      <th>max_degree</th>\n",
       "      <td>1910.000000</td>\n",
       "    </tr>\n",
       "  </tbody>\n",
       "</table>\n",
       "</div>"
      ],
      "text/plain": [
       "                      0\n",
       "avg_degree     3.595274\n",
       "min_degree     2.000000\n",
       "max_degree  1910.000000"
      ]
     },
     "execution_count": 62,
     "metadata": {},
     "output_type": "execute_result"
    }
   ],
   "source": [
    "degs = [k for n, k in H.degree]\n",
    "avg_deg = np.mean(degs)\n",
    "min_deg = np.min(degs)\n",
    "max_deg = np.max(degs)\n",
    "\n",
    "vals = {\"avg_degree\":[avg_deg], \"min_degree\":[min_deg], \"max_degree\":[max_deg]}\n",
    "pd.DataFrame.from_dict(vals).T"
   ]
  },
  {
   "cell_type": "markdown",
   "metadata": {},
   "source": [
    "### Degree Distribution"
   ]
  },
  {
   "cell_type": "code",
   "execution_count": 63,
   "metadata": {
    "ExecuteTime": {
     "end_time": "2019-03-07T19:19:58.124181Z",
     "start_time": "2019-03-07T19:19:57.521172Z"
    }
   },
   "outputs": [
    {
     "data": {
      "text/plain": [
       "[<matplotlib.lines.Line2D at 0x1514e77390>]"
      ]
     },
     "execution_count": 63,
     "metadata": {},
     "output_type": "execute_result"
    },
    {
     "data": {
      "image/png": "[encoded data removed]",
      "text/plain": [
       "<matplotlib.figure.Figure at 0x153af1b438>"
      ]
     },
     "metadata": {},
     "output_type": "display_data"
    }
   ],
   "source": [
    "# out degree distribution\n",
    "degs = [v for k, v in H.out_degree]\n",
    "\n",
    "# count\n",
    "deg_count = Counter(degs)\n",
    "\n",
    "# plot\n",
    "plt.loglog(deg_count.keys(), deg_count.values(), 'o', alpha=0.5)"
   ]
  },
  {
   "cell_type": "code",
   "execution_count": 64,
   "metadata": {
    "ExecuteTime": {
     "end_time": "2019-03-07T19:19:59.252921Z",
     "start_time": "2019-03-07T19:19:58.690448Z"
    }
   },
   "outputs": [
    {
     "data": {
      "text/plain": [
       "[<matplotlib.lines.Line2D at 0x153a36c940>]"
      ]
     },
     "execution_count": 64,
     "metadata": {},
     "output_type": "execute_result"
    },
    {
     "data": {
      "image/png": "[encoded data removed]",
      "text/plain": [
       "<matplotlib.figure.Figure at 0x153571a198>"
      ]
     },
     "metadata": {},
     "output_type": "display_data"
    }
   ],
   "source": [
    "# in degree distribution\n",
    "degs = [v for k, v in H.in_degree]\n",
    "\n",
    "# count\n",
    "deg_count = Counter(degs)\n",
    "\n",
    "# plot\n",
    "plt.loglog(deg_count.keys(), deg_count.values(), 'o', alpha=0.5)"
   ]
  },
  {
   "cell_type": "code",
   "execution_count": 65,
   "metadata": {
    "ExecuteTime": {
     "end_time": "2019-03-07T19:20:01.412393Z",
     "start_time": "2019-03-07T19:20:00.660534Z"
    }
   },
   "outputs": [
    {
     "data": {
      "text/plain": [
       "[<matplotlib.lines.Line2D at 0x153b626ba8>]"
      ]
     },
     "execution_count": 65,
     "metadata": {},
     "output_type": "execute_result"
    },
    {
     "data": {
      "image/png": "[encoded data removed]",
      "text/plain": [
       "<matplotlib.figure.Figure at 0x153aacde80>"
      ]
     },
     "metadata": {},
     "output_type": "display_data"
    }
   ],
   "source": [
    "# degree distribution\n",
    "degs = [v for k, v in H.degree]\n",
    "\n",
    "# count\n",
    "deg_count = Counter(degs)\n",
    "\n",
    "# plot\n",
    "plt.loglog(deg_count.keys(), deg_count.values(), 'o', alpha=0.5)"
   ]
  },
  {
   "cell_type": "code",
   "execution_count": 66,
   "metadata": {
    "ExecuteTime": {
     "end_time": "2019-03-07T19:20:01.796746Z",
     "start_time": "2019-03-07T19:20:01.793472Z"
    }
   },
   "outputs": [],
   "source": [
    "# # Use spring layout\n",
    "# pos = nx.spring_layout(H)\n",
    "\n",
    "# # draw graph\n",
    "# plt.figure(figsize=(10, 10))\n",
    "# nx.draw(H, pos=pos, node_size=2, with_labels=True, font_color='b', font_size=10)"
   ]
  },
  {
   "cell_type": "markdown",
   "metadata": {},
   "source": [
    "## Fraction of Recruited Users Over Time (Nodes)\n"
   ]
  },
  {
   "cell_type": "code",
   "execution_count": 67,
   "metadata": {
    "ExecuteTime": {
     "end_time": "2019-03-07T19:20:02.957575Z",
     "start_time": "2019-03-07T19:20:02.945139Z"
    }
   },
   "outputs": [],
   "source": [
    "# get only nodes (following and followers) that are in a specific list\n",
    "def filter_users_from_dic(followers_dic, user_list):\n",
    "    # make dictionary of filtered keys\n",
    "    filtered_dic = {k: followers_dic[k] for k in user_list}\n",
    "\n",
    "    # filter values in dictionary - select only those in user_list\n",
    "    for k, v in filtered_dic.items():\n",
    "        filtered_dic[k] = [i for i in filtered_dic[k] if i in user_list]\n",
    "\n",
    "    return filtered_dic"
   ]
  },
  {
   "cell_type": "code",
   "execution_count": null,
   "metadata": {},
   "outputs": [],
   "source": [
    "## CONSIDER RETWEETS - CURRENTLY CODE BELOW REMOVES RETWEETS DUE TO LACK OF DATE"
   ]
  },
  {
   "cell_type": "code",
   "execution_count": 68,
   "metadata": {
    "ExecuteTime": {
     "end_time": "2019-03-07T19:20:15.865452Z",
     "start_time": "2019-03-07T19:20:15.596172Z"
    }
   },
   "outputs": [
    {
     "data": {
      "text/html": [
       "<div>\n",
       "<style scoped>\n",
       "    .dataframe tbody tr th:only-of-type {\n",
       "        vertical-align: middle;\n",
       "    }\n",
       "\n",
       "    .dataframe tbody tr th {\n",
       "        vertical-align: top;\n",
       "    }\n",
       "\n",
       "    .dataframe thead th {\n",
       "        text-align: right;\n",
       "    }\n",
       "</style>\n",
       "<table border=\"1\" class=\"dataframe\">\n",
       "  <thead>\n",
       "    <tr style=\"text-align: right;\">\n",
       "      <th></th>\n",
       "      <th>index</th>\n",
       "      <th>date</th>\n",
       "      <th>likes</th>\n",
       "      <th>parent_tweet_id</th>\n",
       "      <th>replies</th>\n",
       "      <th>reply</th>\n",
       "      <th>retweet</th>\n",
       "      <th>retweets</th>\n",
       "      <th>text</th>\n",
       "      <th>timestamp</th>\n",
       "      <th>tweet_id</th>\n",
       "      <th>user_id</th>\n",
       "      <th>user_name</th>\n",
       "      <th>user_screen_name</th>\n",
       "    </tr>\n",
       "  </thead>\n",
       "  <tbody>\n",
       "    <tr>\n",
       "      <th>0</th>\n",
       "      <td>9754</td>\n",
       "      <td>2013-08-17 15:45:11</td>\n",
       "      <td>0</td>\n",
       "      <td>NaN</td>\n",
       "      <td>1</td>\n",
       "      <td>0</td>\n",
       "      <td>0</td>\n",
       "      <td>2</td>\n",
       "      <td>#millionpeoplemarch on august 26 luneta.  This...</td>\n",
       "      <td>1376754311</td>\n",
       "      <td>3.687604e+17</td>\n",
       "      <td>32382474</td>\n",
       "      <td>yo de</td>\n",
       "      <td>xuyode</td>\n",
       "    </tr>\n",
       "    <tr>\n",
       "      <th>1</th>\n",
       "      <td>9755</td>\n",
       "      <td>2013-08-17 15:45:37</td>\n",
       "      <td>0</td>\n",
       "      <td>3.687604e+17</td>\n",
       "      <td>0</td>\n",
       "      <td>1</td>\n",
       "      <td>0</td>\n",
       "      <td>0</td>\n",
       "      <td>@sdoroquis</td>\n",
       "      <td>1376754337</td>\n",
       "      <td>3.687605e+17</td>\n",
       "      <td>32382474</td>\n",
       "      <td>yo de</td>\n",
       "      <td>xuyode</td>\n",
       "    </tr>\n",
       "    <tr>\n",
       "      <th>2</th>\n",
       "      <td>9751</td>\n",
       "      <td>2013-08-17 21:33:27</td>\n",
       "      <td>1</td>\n",
       "      <td>NaN</td>\n",
       "      <td>0</td>\n",
       "      <td>0</td>\n",
       "      <td>0</td>\n",
       "      <td>3</td>\n",
       "      <td>Maybe running + bike community wud want 2 know...</td>\n",
       "      <td>1376775207</td>\n",
       "      <td>3.688481e+17</td>\n",
       "      <td>470960342</td>\n",
       "      <td>running host</td>\n",
       "      <td>HostBoyramos</td>\n",
       "    </tr>\n",
       "    <tr>\n",
       "      <th>3</th>\n",
       "      <td>9741</td>\n",
       "      <td>2013-08-18 01:13:49</td>\n",
       "      <td>4</td>\n",
       "      <td>NaN</td>\n",
       "      <td>1</td>\n",
       "      <td>0</td>\n",
       "      <td>0</td>\n",
       "      <td>9</td>\n",
       "      <td>Napoles is just the visible \"fall guy\" of sort...</td>\n",
       "      <td>1376788429</td>\n",
       "      <td>3.689035e+17</td>\n",
       "      <td>24533024</td>\n",
       "      <td>Rudy Villar, Jr.</td>\n",
       "      <td>rudyvillar</td>\n",
       "    </tr>\n",
       "    <tr>\n",
       "      <th>4</th>\n",
       "      <td>9742</td>\n",
       "      <td>2013-08-18 01:29:55</td>\n",
       "      <td>0</td>\n",
       "      <td>3.689035e+17</td>\n",
       "      <td>0</td>\n",
       "      <td>1</td>\n",
       "      <td>0</td>\n",
       "      <td>0</td>\n",
       "      <td>@larionedjames secrets that will soon be revea...</td>\n",
       "      <td>1376789395</td>\n",
       "      <td>3.689076e+17</td>\n",
       "      <td>24533024</td>\n",
       "      <td>Rudy Villar, Jr.</td>\n",
       "      <td>rudyvillar</td>\n",
       "    </tr>\n",
       "  </tbody>\n",
       "</table>\n",
       "</div>"
      ],
      "text/plain": [
       "   index                date  likes  parent_tweet_id  replies  reply  retweet  \\\n",
       "0   9754 2013-08-17 15:45:11      0              NaN        1      0        0   \n",
       "1   9755 2013-08-17 15:45:37      0     3.687604e+17        0      1        0   \n",
       "2   9751 2013-08-17 21:33:27      1              NaN        0      0        0   \n",
       "3   9741 2013-08-18 01:13:49      4              NaN        1      0        0   \n",
       "4   9742 2013-08-18 01:29:55      0     3.689035e+17        0      1        0   \n",
       "\n",
       "   retweets                                               text   timestamp  \\\n",
       "0         2  #millionpeoplemarch on august 26 luneta.  This...  1376754311   \n",
       "1         0                                         @sdoroquis  1376754337   \n",
       "2         3  Maybe running + bike community wud want 2 know...  1376775207   \n",
       "3         9  Napoles is just the visible \"fall guy\" of sort...  1376788429   \n",
       "4         0  @larionedjames secrets that will soon be revea...  1376789395   \n",
       "\n",
       "       tweet_id    user_id         user_name user_screen_name  \n",
       "0  3.687604e+17   32382474             yo de           xuyode  \n",
       "1  3.687605e+17   32382474             yo de           xuyode  \n",
       "2  3.688481e+17  470960342      running host     HostBoyramos  \n",
       "3  3.689035e+17   24533024  Rudy Villar, Jr.       rudyvillar  \n",
       "4  3.689076e+17   24533024  Rudy Villar, Jr.       rudyvillar  "
      ]
     },
     "execution_count": 68,
     "metadata": {},
     "output_type": "execute_result"
    }
   ],
   "source": [
    "# loading Tweets as dataframe\n",
    "tweets_0 = pd.read_json(\"data/new_tweets_mpm.json\")\n",
    "\n",
    "# convert date to date time\n",
    "tweets = tweets_0.copy()\n",
    "tweets.date = pd.to_datetime(tweets_0.date)\n",
    "\n",
    "# remove date outside 2013\n",
    "tweets = tweets[(tweets['date'] > '2013-01-01 00:00:00')\n",
    "                & (tweets['date'] < '2013-12-31 00:00:00')]\n",
    "\n",
    "# sort values by date\n",
    "tweets = tweets.sort_values(by=\"date\")\n",
    "\n",
    "# drop duplicates\n",
    "tweets = tweets.drop_duplicates()\n",
    "\n",
    "# reset index\n",
    "tweets = tweets.reset_index()\n",
    "\n",
    "tweets.head()"
   ]
  },
  {
   "cell_type": "code",
   "execution_count": 69,
   "metadata": {
    "ExecuteTime": {
     "end_time": "2019-03-07T19:20:16.468451Z",
     "start_time": "2019-03-07T19:20:16.462054Z"
    }
   },
   "outputs": [
    {
     "data": {
      "text/plain": [
       "9768"
      ]
     },
     "execution_count": 69,
     "metadata": {},
     "output_type": "execute_result"
    }
   ],
   "source": [
    "# length of dataframe\n",
    "len(tweets_0)"
   ]
  },
  {
   "cell_type": "code",
   "execution_count": 70,
   "metadata": {
    "ExecuteTime": {
     "end_time": "2019-03-07T19:20:17.177250Z",
     "start_time": "2019-03-07T19:20:17.165348Z"
    }
   },
   "outputs": [
    {
     "data": {
      "text/plain": [
       "691"
      ]
     },
     "execution_count": 70,
     "metadata": {},
     "output_type": "execute_result"
    }
   ],
   "source": [
    "# length of tweets only\n",
    "len(tweets_0[np.logical_and(tweets_0.reply == 0, tweets_0.retweet == 0)])"
   ]
  },
  {
   "cell_type": "code",
   "execution_count": 71,
   "metadata": {
    "ExecuteTime": {
     "end_time": "2019-03-07T19:20:17.740739Z",
     "start_time": "2019-03-07T19:20:17.730258Z"
    }
   },
   "outputs": [
    {
     "data": {
      "text/plain": [
       "7354"
      ]
     },
     "execution_count": 71,
     "metadata": {},
     "output_type": "execute_result"
    }
   ],
   "source": [
    "# number of retweets\n",
    "len(tweets_0[tweets_0.retweet == 1])"
   ]
  },
  {
   "cell_type": "code",
   "execution_count": 72,
   "metadata": {
    "ExecuteTime": {
     "end_time": "2019-03-07T19:20:18.197434Z",
     "start_time": "2019-03-07T19:20:18.190108Z"
    }
   },
   "outputs": [
    {
     "data": {
      "text/plain": [
       "1723"
      ]
     },
     "execution_count": 72,
     "metadata": {},
     "output_type": "execute_result"
    }
   ],
   "source": [
    "# number of replies\n",
    "len(tweets_0[tweets_0.reply == 1])"
   ]
  },
  {
   "cell_type": "code",
   "execution_count": 73,
   "metadata": {
    "ExecuteTime": {
     "end_time": "2019-03-07T19:20:18.946079Z",
     "start_time": "2019-03-07T19:20:18.681335Z"
    },
    "scrolled": false
   },
   "outputs": [
    {
     "data": {
      "text/plain": [
       "Text(0.5,1,'Fraction of recruited users over time')"
      ]
     },
     "execution_count": 73,
     "metadata": {},
     "output_type": "execute_result"
    },
    {
     "data": {
      "image/png": "[encoded data removed]",
      "text/plain": [
       "<matplotlib.figure.Figure at 0x1530940128>"
      ]
     },
     "metadata": {},
     "output_type": "display_data"
    }
   ],
   "source": [
    "# get only the first time a unique user tweet/retweet or replies with relevant #hash\n",
    "unique_users = tweets.drop_duplicates(subset=\"user_name\", keep=\"first\")\n",
    "\n",
    "# sort by date\n",
    "unique_users = unique_users.sort_values(by=\"date\")\n",
    "\n",
    "# reset index\n",
    "unique_users = unique_users.reset_index()\n",
    "\n",
    "# get cumulative distribution, each user adds 1 to the count\n",
    "count_cumulative = [i + 1 for i in range(len(unique_users))]\n",
    "prop_cumulative = [i / len(unique_users) for i in range(len(unique_users))]\n",
    "\n",
    "# plot the distribution\n",
    "plt.plot(unique_users.date, prop_cumulative)\n",
    "plt.xticks(rotation=90)\n",
    "plt.xlabel(\"date\")\n",
    "plt.ylabel(\"$N_a/N$\")\n",
    "plt.title(\"Fraction of recruited users over time\")"
   ]
  },
  {
   "cell_type": "code",
   "execution_count": 74,
   "metadata": {
    "ExecuteTime": {
     "end_time": "2019-03-07T19:20:21.012805Z",
     "start_time": "2019-03-07T19:20:21.009864Z"
    }
   },
   "outputs": [],
   "source": [
    "## DO THE SAME ABOVE FOR COMBINATIONS OF TWEETS, RETWEETS, and REPLIES"
   ]
  },
  {
   "cell_type": "code",
   "execution_count": 75,
   "metadata": {
    "ExecuteTime": {
     "end_time": "2019-03-07T19:20:21.304020Z",
     "start_time": "2019-03-07T19:20:21.297873Z"
    }
   },
   "outputs": [
    {
     "data": {
      "text/plain": [
       "1288"
      ]
     },
     "execution_count": 75,
     "metadata": {},
     "output_type": "execute_result"
    }
   ],
   "source": [
    "# number of unique users\n",
    "len(unique_users)"
   ]
  },
  {
   "cell_type": "code",
   "execution_count": 76,
   "metadata": {
    "ExecuteTime": {
     "end_time": "2019-03-07T19:20:21.711961Z",
     "start_time": "2019-03-07T19:20:21.625875Z"
    }
   },
   "outputs": [
    {
     "name": "stdout",
     "output_type": "stream",
     "text": [
      "No. of tweets: 2117\n",
      "No. of unique tweets: 2081\n"
     ]
    }
   ],
   "source": [
    "# Add date column to tweets data (without time)\n",
    "tweets['date'] = [tweets.date[i] for i in range(len(tweets))]\n",
    "\n",
    "# Number of tweets and unique tweets\n",
    "print(\"No. of tweets:\", len(tweets))\n",
    "print(\"No. of unique tweets:\", len(tweets.text.unique()))\n",
    "\n",
    "# Add date to nodes data for filtering say of degrees?"
   ]
  },
  {
   "cell_type": "code",
   "execution_count": 77,
   "metadata": {
    "ExecuteTime": {
     "end_time": "2019-03-07T19:20:23.110385Z",
     "start_time": "2019-03-07T19:20:23.056883Z"
    }
   },
   "outputs": [
    {
     "data": {
      "text/html": [
       "<div>\n",
       "<style scoped>\n",
       "    .dataframe tbody tr th:only-of-type {\n",
       "        vertical-align: middle;\n",
       "    }\n",
       "\n",
       "    .dataframe tbody tr th {\n",
       "        vertical-align: top;\n",
       "    }\n",
       "\n",
       "    .dataframe thead th {\n",
       "        text-align: right;\n",
       "    }\n",
       "</style>\n",
       "<table border=\"1\" class=\"dataframe\">\n",
       "  <thead>\n",
       "    <tr style=\"text-align: right;\">\n",
       "      <th></th>\n",
       "      <th>date</th>\n",
       "      <th>likes</th>\n",
       "      <th>parent_tweet_id</th>\n",
       "      <th>replies</th>\n",
       "      <th>reply</th>\n",
       "      <th>retweet</th>\n",
       "      <th>retweets</th>\n",
       "      <th>text</th>\n",
       "      <th>timestamp</th>\n",
       "      <th>tweet_id</th>\n",
       "      <th>user_id</th>\n",
       "      <th>user_name</th>\n",
       "      <th>user_screen_name</th>\n",
       "    </tr>\n",
       "  </thead>\n",
       "  <tbody>\n",
       "    <tr>\n",
       "      <th>0</th>\n",
       "      <td>2013-08-18 01:32:43</td>\n",
       "      <td>0</td>\n",
       "      <td>NaN</td>\n",
       "      <td>1</td>\n",
       "      <td>0</td>\n",
       "      <td>0</td>\n",
       "      <td>5</td>\n",
       "      <td>Let's all go. I'm going. Are you? #porkbarrels...</td>\n",
       "      <td>1376789563</td>\n",
       "      <td>3.689083e+17</td>\n",
       "      <td>56945013</td>\n",
       "      <td>Angku</td>\n",
       "      <td>angkulet</td>\n",
       "    </tr>\n",
       "    <tr>\n",
       "      <th>1</th>\n",
       "      <td>2013-08-18 03:36:24</td>\n",
       "      <td>1</td>\n",
       "      <td>NaN</td>\n",
       "      <td>0</td>\n",
       "      <td>0</td>\n",
       "      <td>0</td>\n",
       "      <td>5</td>\n",
       "      <td>The FB event page for #MillionPeopleMarch to L...</td>\n",
       "      <td>1376796984</td>\n",
       "      <td>3.689394e+17</td>\n",
       "      <td>74743293</td>\n",
       "      <td>Jane Uymatiao</td>\n",
       "      <td>philippinebeat</td>\n",
       "    </tr>\n",
       "    <tr>\n",
       "      <th>2</th>\n",
       "      <td>2013-08-18 03:38:49</td>\n",
       "      <td>1</td>\n",
       "      <td>NaN</td>\n",
       "      <td>0</td>\n",
       "      <td>0</td>\n",
       "      <td>0</td>\n",
       "      <td>5</td>\n",
       "      <td>Hashtags for Aug. 26 march - #OnePinoy #Millio...</td>\n",
       "      <td>1376797129</td>\n",
       "      <td>3.689400e+17</td>\n",
       "      <td>74743293</td>\n",
       "      <td>Jane Uymatiao</td>\n",
       "      <td>philippinebeat</td>\n",
       "    </tr>\n",
       "    <tr>\n",
       "      <th>3</th>\n",
       "      <td>2013-08-20 11:10:22</td>\n",
       "      <td>2</td>\n",
       "      <td>NaN</td>\n",
       "      <td>0</td>\n",
       "      <td>0</td>\n",
       "      <td>0</td>\n",
       "      <td>5</td>\n",
       "      <td>yes ! This will happen! RT @barnabychuck: Awes...</td>\n",
       "      <td>1376997022</td>\n",
       "      <td>3.697784e+17</td>\n",
       "      <td>3840981</td>\n",
       "      <td>Noemi L. Dado</td>\n",
       "      <td>momblogger</td>\n",
       "    </tr>\n",
       "    <tr>\n",
       "      <th>4</th>\n",
       "      <td>2013-08-21 13:23:32</td>\n",
       "      <td>0</td>\n",
       "      <td>3.701717e+17</td>\n",
       "      <td>0</td>\n",
       "      <td>1</td>\n",
       "      <td>0</td>\n",
       "      <td>0</td>\n",
       "      <td>@lynnpinugu @iamsuperbianca lumipas n po. T'wa...</td>\n",
       "      <td>1377091412</td>\n",
       "      <td>3.701743e+17</td>\n",
       "      <td>1678345470</td>\n",
       "      <td>Boknoy</td>\n",
       "      <td>PDAFscam</td>\n",
       "    </tr>\n",
       "  </tbody>\n",
       "</table>\n",
       "</div>"
      ],
      "text/plain": [
       "                 date  likes  parent_tweet_id  replies  reply  retweet  \\\n",
       "0 2013-08-18 01:32:43      0              NaN        1      0        0   \n",
       "1 2013-08-18 03:36:24      1              NaN        0      0        0   \n",
       "2 2013-08-18 03:38:49      1              NaN        0      0        0   \n",
       "3 2013-08-20 11:10:22      2              NaN        0      0        0   \n",
       "4 2013-08-21 13:23:32      0     3.701717e+17        0      1        0   \n",
       "\n",
       "   retweets                                               text   timestamp  \\\n",
       "0         5  Let's all go. I'm going. Are you? #porkbarrels...  1376789563   \n",
       "1         5  The FB event page for #MillionPeopleMarch to L...  1376796984   \n",
       "2         5  Hashtags for Aug. 26 march - #OnePinoy #Millio...  1376797129   \n",
       "3         5  yes ! This will happen! RT @barnabychuck: Awes...  1376997022   \n",
       "4         0  @lynnpinugu @iamsuperbianca lumipas n po. T'wa...  1377091412   \n",
       "\n",
       "       tweet_id     user_id      user_name user_screen_name  \n",
       "0  3.689083e+17    56945013          Angku         angkulet  \n",
       "1  3.689394e+17    74743293  Jane Uymatiao   philippinebeat  \n",
       "2  3.689400e+17    74743293  Jane Uymatiao   philippinebeat  \n",
       "3  3.697784e+17     3840981  Noemi L. Dado       momblogger  \n",
       "4  3.701743e+17  1678345470         Boknoy         PDAFscam  "
      ]
     },
     "execution_count": 77,
     "metadata": {},
     "output_type": "execute_result"
    }
   ],
   "source": [
    "# filter only those in unified_followers dataset\n",
    "users_list = list(unified_followers.keys())\n",
    "tweets_2 = tweets[tweets.user_screen_name.isin(\n",
    "    users_list)].reset_index(drop=True)\n",
    "tweets_2 = tweets_2.drop(\"index\", axis=1)\n",
    "tweets_2.head()"
   ]
  },
  {
   "cell_type": "code",
   "execution_count": 78,
   "metadata": {
    "ExecuteTime": {
     "end_time": "2019-03-07T19:20:26.445150Z",
     "start_time": "2019-03-07T19:20:24.729449Z"
    }
   },
   "outputs": [
    {
     "data": {
      "text/html": [
       "<div>\n",
       "<style scoped>\n",
       "    .dataframe tbody tr th:only-of-type {\n",
       "        vertical-align: middle;\n",
       "    }\n",
       "\n",
       "    .dataframe tbody tr th {\n",
       "        vertical-align: top;\n",
       "    }\n",
       "\n",
       "    .dataframe thead th {\n",
       "        text-align: right;\n",
       "    }\n",
       "</style>\n",
       "<table border=\"1\" class=\"dataframe\">\n",
       "  <thead>\n",
       "    <tr style=\"text-align: right;\">\n",
       "      <th></th>\n",
       "      <th>index</th>\n",
       "      <th>date</th>\n",
       "      <th>likes</th>\n",
       "      <th>parent_tweet_id</th>\n",
       "      <th>replies</th>\n",
       "      <th>reply</th>\n",
       "      <th>retweet</th>\n",
       "      <th>retweets</th>\n",
       "      <th>text</th>\n",
       "      <th>timestamp</th>\n",
       "      <th>tweet_id</th>\n",
       "      <th>user_id</th>\n",
       "      <th>user_name</th>\n",
       "      <th>user_screen_name</th>\n",
       "    </tr>\n",
       "  </thead>\n",
       "  <tbody>\n",
       "    <tr>\n",
       "      <th>1464</th>\n",
       "      <td>3153</td>\n",
       "      <td>2013-08-26 08:39:17</td>\n",
       "      <td>92</td>\n",
       "      <td>3.718794e+17</td>\n",
       "      <td>3</td>\n",
       "      <td>1</td>\n",
       "      <td>0</td>\n",
       "      <td>41</td>\n",
       "      <td>“@mikegam40: Singer, Actor, Composer @keancipr...</td>\n",
       "      <td>1377506357</td>\n",
       "      <td>3.719147e+17</td>\n",
       "      <td>30194318</td>\n",
       "      <td>kean cipriano</td>\n",
       "      <td>keancipriano</td>\n",
       "    </tr>\n",
       "    <tr>\n",
       "      <th>1465</th>\n",
       "      <td>2249</td>\n",
       "      <td>2013-08-26 08:39:17</td>\n",
       "      <td>92</td>\n",
       "      <td>NaN</td>\n",
       "      <td>3</td>\n",
       "      <td>0</td>\n",
       "      <td>0</td>\n",
       "      <td>41</td>\n",
       "      <td>“@mikegam40: Singer, Actor, Composer @keancipr...</td>\n",
       "      <td>1377506357</td>\n",
       "      <td>3.719147e+17</td>\n",
       "      <td>30194318</td>\n",
       "      <td>kean cipriano</td>\n",
       "      <td>keancipriano</td>\n",
       "    </tr>\n",
       "  </tbody>\n",
       "</table>\n",
       "</div>"
      ],
      "text/plain": [
       "      index                date  likes  parent_tweet_id  replies  reply  \\\n",
       "1464   3153 2013-08-26 08:39:17     92     3.718794e+17        3      1   \n",
       "1465   2249 2013-08-26 08:39:17     92              NaN        3      0   \n",
       "\n",
       "      retweet  retweets                                               text  \\\n",
       "1464        0        41  “@mikegam40: Singer, Actor, Composer @keancipr...   \n",
       "1465        0        41  “@mikegam40: Singer, Actor, Composer @keancipr...   \n",
       "\n",
       "       timestamp      tweet_id   user_id      user_name user_screen_name  \n",
       "1464  1377506357  3.719147e+17  30194318  kean cipriano     keancipriano  \n",
       "1465  1377506357  3.719147e+17  30194318  kean cipriano     keancipriano  "
      ]
     },
     "metadata": {},
     "output_type": "display_data"
    },
    {
     "data": {
      "text/html": [
       "<div>\n",
       "<style scoped>\n",
       "    .dataframe tbody tr th:only-of-type {\n",
       "        vertical-align: middle;\n",
       "    }\n",
       "\n",
       "    .dataframe tbody tr th {\n",
       "        vertical-align: top;\n",
       "    }\n",
       "\n",
       "    .dataframe thead th {\n",
       "        text-align: right;\n",
       "    }\n",
       "</style>\n",
       "<table border=\"1\" class=\"dataframe\">\n",
       "  <thead>\n",
       "    <tr style=\"text-align: right;\">\n",
       "      <th></th>\n",
       "      <th>index</th>\n",
       "      <th>date</th>\n",
       "      <th>likes</th>\n",
       "      <th>parent_tweet_id</th>\n",
       "      <th>replies</th>\n",
       "      <th>reply</th>\n",
       "      <th>retweet</th>\n",
       "      <th>retweets</th>\n",
       "      <th>text</th>\n",
       "      <th>timestamp</th>\n",
       "      <th>tweet_id</th>\n",
       "      <th>user_id</th>\n",
       "      <th>user_name</th>\n",
       "      <th>user_screen_name</th>\n",
       "    </tr>\n",
       "  </thead>\n",
       "  <tbody>\n",
       "    <tr>\n",
       "      <th>1464</th>\n",
       "      <td>3153</td>\n",
       "      <td>2013-08-26 08:39:17</td>\n",
       "      <td>92</td>\n",
       "      <td>3.718794e+17</td>\n",
       "      <td>3</td>\n",
       "      <td>1</td>\n",
       "      <td>0</td>\n",
       "      <td>41</td>\n",
       "      <td>“@mikegam40: Singer, Actor, Composer @keancipr...</td>\n",
       "      <td>1377506357</td>\n",
       "      <td>3.719147e+17</td>\n",
       "      <td>30194318</td>\n",
       "      <td>kean cipriano</td>\n",
       "      <td>keancipriano</td>\n",
       "    </tr>\n",
       "    <tr>\n",
       "      <th>1465</th>\n",
       "      <td>2249</td>\n",
       "      <td>2013-08-26 08:39:17</td>\n",
       "      <td>92</td>\n",
       "      <td>NaN</td>\n",
       "      <td>3</td>\n",
       "      <td>0</td>\n",
       "      <td>0</td>\n",
       "      <td>41</td>\n",
       "      <td>“@mikegam40: Singer, Actor, Composer @keancipr...</td>\n",
       "      <td>1377506357</td>\n",
       "      <td>3.719147e+17</td>\n",
       "      <td>30194318</td>\n",
       "      <td>kean cipriano</td>\n",
       "      <td>keancipriano</td>\n",
       "    </tr>\n",
       "  </tbody>\n",
       "</table>\n",
       "</div>"
      ],
      "text/plain": [
       "      index                date  likes  parent_tweet_id  replies  reply  \\\n",
       "1464   3153 2013-08-26 08:39:17     92     3.718794e+17        3      1   \n",
       "1465   2249 2013-08-26 08:39:17     92              NaN        3      0   \n",
       "\n",
       "      retweet  retweets                                               text  \\\n",
       "1464        0        41  “@mikegam40: Singer, Actor, Composer @keancipr...   \n",
       "1465        0        41  “@mikegam40: Singer, Actor, Composer @keancipr...   \n",
       "\n",
       "       timestamp      tweet_id   user_id      user_name user_screen_name  \n",
       "1464  1377506357  3.719147e+17  30194318  kean cipriano     keancipriano  \n",
       "1465  1377506357  3.719147e+17  30194318  kean cipriano     keancipriano  "
      ]
     },
     "metadata": {},
     "output_type": "display_data"
    }
   ],
   "source": [
    "# check for similar tweet_id values\n",
    "for i in range(len(tweets)):\n",
    "    if len(tweets[tweets.tweet_id == tweets.tweet_id.values[i]]) > 1:\n",
    "        display(tweets[tweets.tweet_id == tweets.tweet_id.values[i]])"
   ]
  },
  {
   "cell_type": "code",
   "execution_count": 79,
   "metadata": {
    "ExecuteTime": {
     "end_time": "2019-03-07T19:20:27.607126Z",
     "start_time": "2019-03-07T19:20:27.601495Z"
    }
   },
   "outputs": [
    {
     "data": {
      "text/plain": [
       "(1297, 639)"
      ]
     },
     "execution_count": 79,
     "metadata": {},
     "output_type": "execute_result"
    }
   ],
   "source": [
    "# No. of filtered tweets and users\n",
    "len(tweets_2), len(tweets_2.user_screen_name.unique())"
   ]
  },
  {
   "cell_type": "markdown",
   "metadata": {},
   "source": [
    "## Filtering Only Users that Tweeted the #Hashtag and their Followers (who may or may not have tweeted the #Hashtag)"
   ]
  },
  {
   "cell_type": "markdown",
   "metadata": {},
   "source": [
    "### Asymmetric Graph"
   ]
  },
  {
   "cell_type": "code",
   "execution_count": 103,
   "metadata": {
    "ExecuteTime": {
     "end_time": "2019-03-07T19:23:31.674266Z",
     "start_time": "2019-03-07T19:23:31.665611Z"
    }
   },
   "outputs": [
    {
     "data": {
      "text/plain": [
       "6463"
      ]
     },
     "execution_count": 103,
     "metadata": {},
     "output_type": "execute_result"
    }
   ],
   "source": [
    "# get list of unique user_screen_name in pandas dataframe\n",
    "# this is the list that is both in the followers list and in the tweets data\n",
    "# No yet concern for TIME so WE USE tweets_0\n",
    "final_users = list(tweets_0.user_screen_name.unique())\n",
    "len(final_users)"
   ]
  },
  {
   "cell_type": "code",
   "execution_count": 106,
   "metadata": {
    "ExecuteTime": {
     "end_time": "2019-03-07T19:24:39.462705Z",
     "start_time": "2019-03-07T19:24:39.446300Z"
    }
   },
   "outputs": [
    {
     "data": {
      "text/plain": [
       "3038"
      ]
     },
     "execution_count": 106,
     "metadata": {},
     "output_type": "execute_result"
    }
   ],
   "source": [
    "# filter user - follower dictionary to include only those selected above\n",
    "# users_followers = {k: unified_followers[k] for k in final_users}\n",
    "\n",
    "# some users in the dataframe has not been scraped yet\n",
    "users_followers = {}\n",
    "for k in final_users:\n",
    "    try: users_followers[k] = unified_followers[k]\n",
    "    except: continue\n",
    "\n",
    "# these are the keys only\n",
    "len(users_followers)"
   ]
  },
  {
   "cell_type": "code",
   "execution_count": 229,
   "metadata": {
    "ExecuteTime": {
     "end_time": "2019-03-07T20:14:11.016510Z",
     "start_time": "2019-03-07T20:14:10.570114Z"
    }
   },
   "outputs": [
    {
     "data": {
      "text/plain": [
       "109481"
      ]
     },
     "execution_count": 229,
     "metadata": {},
     "output_type": "execute_result"
    }
   ],
   "source": [
    "# make a network using the filtered users_followers above\n",
    "# load Graph of followers\n",
    "G = nx.from_dict_of_lists(users_followers, create_using=nx.DiGraph())\n",
    "\n",
    "# Use spring layout\n",
    "# pos = nx.spring_layout(G)\n",
    "\n",
    "len(G.nodes)"
   ]
  },
  {
   "cell_type": "markdown",
   "metadata": {},
   "source": [
    "#### Basic Properties"
   ]
  },
  {
   "cell_type": "code",
   "execution_count": 212,
   "metadata": {
    "ExecuteTime": {
     "end_time": "2019-03-07T19:57:27.331679Z",
     "start_time": "2019-03-07T19:57:27.184062Z"
    }
   },
   "outputs": [
    {
     "data": {
      "text/html": [
       "<div>\n",
       "<style scoped>\n",
       "    .dataframe tbody tr th:only-of-type {\n",
       "        vertical-align: middle;\n",
       "    }\n",
       "\n",
       "    .dataframe tbody tr th {\n",
       "        vertical-align: top;\n",
       "    }\n",
       "\n",
       "    .dataframe thead th {\n",
       "        text-align: right;\n",
       "    }\n",
       "</style>\n",
       "<table border=\"1\" class=\"dataframe\">\n",
       "  <thead>\n",
       "    <tr style=\"text-align: right;\">\n",
       "      <th></th>\n",
       "      <th>0</th>\n",
       "    </tr>\n",
       "  </thead>\n",
       "  <tbody>\n",
       "    <tr>\n",
       "      <th>avg_degree</th>\n",
       "      <td>2.270695</td>\n",
       "    </tr>\n",
       "    <tr>\n",
       "      <th>min_degree</th>\n",
       "      <td>0.000000</td>\n",
       "    </tr>\n",
       "    <tr>\n",
       "      <th>max_degree</th>\n",
       "      <td>1635.000000</td>\n",
       "    </tr>\n",
       "  </tbody>\n",
       "</table>\n",
       "</div>"
      ],
      "text/plain": [
       "                      0\n",
       "avg_degree     2.270695\n",
       "min_degree     0.000000\n",
       "max_degree  1635.000000"
      ]
     },
     "execution_count": 212,
     "metadata": {},
     "output_type": "execute_result"
    }
   ],
   "source": [
    "degs = [k for n, k in G.degree]\n",
    "avg_deg = np.mean(degs)\n",
    "min_deg = np.min(degs)\n",
    "max_deg = np.max(degs)\n",
    "\n",
    "vals = {\"avg_degree\":[avg_deg], \"min_degree\":[min_deg], \"max_degree\":[max_deg]}\n",
    "pd.DataFrame.from_dict(vals).T"
   ]
  },
  {
   "cell_type": "markdown",
   "metadata": {},
   "source": [
    "#### Degree Distribution"
   ]
  },
  {
   "cell_type": "code",
   "execution_count": 124,
   "metadata": {
    "ExecuteTime": {
     "end_time": "2019-03-07T19:28:51.593262Z",
     "start_time": "2019-03-07T19:28:50.717597Z"
    }
   },
   "outputs": [
    {
     "data": {
      "text/plain": [
       "[<matplotlib.lines.Line2D at 0x1527e9bf60>]"
      ]
     },
     "execution_count": 124,
     "metadata": {},
     "output_type": "execute_result"
    },
    {
     "data": {
      "image/png": "[encoded data removed]",
      "text/plain": [
       "<matplotlib.figure.Figure at 0x153b8a4f60>"
      ]
     },
     "metadata": {},
     "output_type": "display_data"
    }
   ],
   "source": [
    "# out degree distribution\n",
    "degs = [v for k, v in G.out_degree]\n",
    "\n",
    "# count\n",
    "deg_count = Counter(degs)\n",
    "\n",
    "# plot\n",
    "plt.loglog(deg_count.keys(), deg_count.values(), 'o', alpha=0.5)"
   ]
  },
  {
   "cell_type": "code",
   "execution_count": 125,
   "metadata": {
    "ExecuteTime": {
     "end_time": "2019-03-07T19:28:57.319566Z",
     "start_time": "2019-03-07T19:28:56.698330Z"
    }
   },
   "outputs": [
    {
     "data": {
      "text/plain": [
       "[<matplotlib.lines.Line2D at 0x1527ff1780>]"
      ]
     },
     "execution_count": 125,
     "metadata": {},
     "output_type": "execute_result"
    },
    {
     "data": {
      "image/png": "[encoded data removed]",
      "text/plain": [
       "<matplotlib.figure.Figure at 0x1527ff8f60>"
      ]
     },
     "metadata": {},
     "output_type": "display_data"
    }
   ],
   "source": [
    "# in degree distribution\n",
    "degs = [v for k, v in G.in_degree]\n",
    "\n",
    "# count\n",
    "deg_count = Counter(degs)\n",
    "\n",
    "# plot\n",
    "plt.loglog(deg_count.keys(), deg_count.values(), 'o', alpha=0.5)"
   ]
  },
  {
   "cell_type": "code",
   "execution_count": 110,
   "metadata": {
    "ExecuteTime": {
     "end_time": "2019-03-07T19:25:08.577367Z",
     "start_time": "2019-03-07T19:25:07.641873Z"
    }
   },
   "outputs": [
    {
     "data": {
      "text/plain": [
       "[<matplotlib.lines.Line2D at 0x1527ee30f0>]"
      ]
     },
     "execution_count": 110,
     "metadata": {},
     "output_type": "execute_result"
    },
    {
     "data": {
      "image/png": "[encoded data removed]",
      "text/plain": [
       "<matplotlib.figure.Figure at 0x1527eedcf8>"
      ]
     },
     "metadata": {},
     "output_type": "display_data"
    }
   ],
   "source": [
    "# degree distribution\n",
    "degs = [v for k, v in G.degree]\n",
    "\n",
    "# count\n",
    "deg_count = Counter(degs)\n",
    "\n",
    "# plot\n",
    "plt.loglog(deg_count.keys(), deg_count.values(), 'o', alpha=0.5)"
   ]
  },
  {
   "cell_type": "code",
   "execution_count": 126,
   "metadata": {
    "ExecuteTime": {
     "end_time": "2019-03-07T19:29:16.016406Z",
     "start_time": "2019-03-07T19:29:16.011487Z"
    }
   },
   "outputs": [],
   "source": [
    "# # Use spring layout\n",
    "# pos = nx.spring_layout(G)\n",
    "\n",
    "# # draw graph\n",
    "# plt.figure(figsize=(8, 8))\n",
    "# nx.draw(G, pos=pos, node_size=2, with_labels=True)"
   ]
  },
  {
   "cell_type": "markdown",
   "metadata": {},
   "source": [
    "### Symmetric Graph"
   ]
  },
  {
   "cell_type": "code",
   "execution_count": 127,
   "metadata": {
    "ExecuteTime": {
     "end_time": "2019-03-07T19:29:18.576809Z",
     "start_time": "2019-03-07T19:29:18.530593Z"
    }
   },
   "outputs": [
    {
     "data": {
      "text/plain": [
       "12"
      ]
     },
     "execution_count": 127,
     "metadata": {},
     "output_type": "execute_result"
    }
   ],
   "source": [
    "# filter only symmetric\n",
    "sym_users_followers = filter_symmetric_from_dict(users_followers)\n",
    "len(sym_users_followers)"
   ]
  },
  {
   "cell_type": "code",
   "execution_count": 128,
   "metadata": {
    "ExecuteTime": {
     "end_time": "2019-03-07T19:29:19.105768Z",
     "start_time": "2019-03-07T19:29:19.100946Z"
    }
   },
   "outputs": [],
   "source": [
    "# load Graph of followers\n",
    "H = nx.from_dict_of_lists(sym_users_followers)\n"
   ]
  },
  {
   "cell_type": "markdown",
   "metadata": {},
   "source": [
    "#### Degree Distribution"
   ]
  },
  {
   "cell_type": "code",
   "execution_count": 129,
   "metadata": {
    "ExecuteTime": {
     "end_time": "2019-03-07T19:29:20.114331Z",
     "start_time": "2019-03-07T19:29:19.850000Z"
    }
   },
   "outputs": [
    {
     "data": {
      "text/plain": [
       "[<matplotlib.lines.Line2D at 0x152807dd30>]"
      ]
     },
     "execution_count": 129,
     "metadata": {},
     "output_type": "execute_result"
    },
    {
     "data": {
      "image/png": "[encoded data removed]",
      "text/plain": [
       "<matplotlib.figure.Figure at 0x1528048860>"
      ]
     },
     "metadata": {},
     "output_type": "display_data"
    }
   ],
   "source": [
    "# degree distribution\n",
    "degs = [v for k, v in H.degree]\n",
    "\n",
    "# count\n",
    "deg_count = Counter(degs)\n",
    "\n",
    "# plot\n",
    "plt.plot(deg_count.keys(), deg_count.values(), 'o', alpha=0.5)"
   ]
  },
  {
   "cell_type": "code",
   "execution_count": 130,
   "metadata": {
    "ExecuteTime": {
     "end_time": "2019-03-07T19:29:20.605153Z",
     "start_time": "2019-03-07T19:29:20.360722Z"
    }
   },
   "outputs": [
    {
     "data": {
      "image/png": "[encoded data removed]",
      "text/plain": [
       "<matplotlib.figure.Figure at 0x152807a6d8>"
      ]
     },
     "metadata": {},
     "output_type": "display_data"
    }
   ],
   "source": [
    "# Use spring layout\n",
    "pos = nx.spring_layout(H)\n",
    "\n",
    "# draw graph\n",
    "plt.figure(figsize=(10, 10))\n",
    "\n",
    "# draw graph\n",
    "nx.draw(H, pos=pos, node_size=2, with_labels=True,\n",
    "        font_color='b', font_size=10)"
   ]
  },
  {
   "cell_type": "markdown",
   "metadata": {
    "ExecuteTime": {
     "end_time": "2019-02-25T19:56:51.715032Z",
     "start_time": "2019-02-25T19:56:49.556444Z"
    }
   },
   "source": [
    "## Recruitment Thresholds Distribution"
   ]
  },
  {
   "cell_type": "markdown",
   "metadata": {},
   "source": [
    "### Overall Threshold Distribution - Asymmetric"
   ]
  },
  {
   "cell_type": "code",
   "execution_count": 131,
   "metadata": {
    "ExecuteTime": {
     "end_time": "2019-03-07T19:29:25.283869Z",
     "start_time": "2019-03-07T19:29:25.280043Z"
    }
   },
   "outputs": [],
   "source": [
    "## WE DON'T HAVE DATE FOR RETWEETS. HOW CAN WE SOLVE THIS"
   ]
  },
  {
   "cell_type": "code",
   "execution_count": 142,
   "metadata": {
    "ExecuteTime": {
     "end_time": "2019-03-07T19:32:00.403932Z",
     "start_time": "2019-03-07T19:32:00.366861Z"
    }
   },
   "outputs": [],
   "source": [
    "def get_thresholds(following_counts, unique_users):\n",
    "    # input is a dictionary of {users : num of following}\n",
    "    # input is unique users to select\n",
    "    \n",
    "    # initiate threshold dict\n",
    "    thresh_dic = {}\n",
    "\n",
    "    # Count the number of friends who activated at the time of activation, ka\n",
    "    for user in list(following_counts.keys()):\n",
    "        \n",
    "        # check if user in user_name in the dataset otherwise continue\n",
    "        if user not in unique_users.user_name.values:\n",
    "            continue\n",
    "        \n",
    "        date_activated = unique_users[unique_users.user_name == user].date\n",
    "\n",
    "        # filter users whose date < date activated\n",
    "        preactivated_users = unique_users[unique_users.date.values <\n",
    "                                          date_activated.values]\n",
    "\n",
    "        # filter only those being followed by user\n",
    "        _ = preactivated_users[preactivated_users.user_name.isin(\n",
    "            unified_following[user])]\n",
    "\n",
    "        # get number of preactivated users that are being followed\n",
    "        ka = len(_)\n",
    "\n",
    "        # get number of people followed\n",
    "        k = following_counts[user]\n",
    "\n",
    "        # get threshold\n",
    "        thresh = ka / k\n",
    "\n",
    "        # append to dictionary\n",
    "        thresh_dic[user] = thresh\n",
    "\n",
    "    return thresh_dic"
   ]
  },
  {
   "cell_type": "code",
   "execution_count": 211,
   "metadata": {
    "ExecuteTime": {
     "end_time": "2019-03-07T19:55:02.639926Z",
     "start_time": "2019-03-07T19:54:54.275862Z"
    }
   },
   "outputs": [
    {
     "data": {
      "text/plain": [
       "283"
      ]
     },
     "execution_count": 211,
     "metadata": {},
     "output_type": "execute_result"
    }
   ],
   "source": [
    "# get following counts\n",
    "following_counts = {k: len(v) for k, v in unified_following.items()}\n",
    "\n",
    "# unique_users are unfiltered. Symmetric\n",
    "unique_users = tweets.drop_duplicates(subset=\"user_name\", keep=\"first\")\n",
    "\n",
    "# show some threshold values\n",
    "thresholds = get_thresholds(following_counts, unique_users)\n",
    "\n",
    "# display\n",
    "len(thresholds)"
   ]
  },
  {
   "cell_type": "code",
   "execution_count": 156,
   "metadata": {
    "ExecuteTime": {
     "end_time": "2019-03-07T19:35:37.592808Z",
     "start_time": "2019-03-07T19:35:37.583539Z"
    }
   },
   "outputs": [
    {
     "data": {
      "text/plain": [
       "0.0025057180534212337"
      ]
     },
     "execution_count": 156,
     "metadata": {},
     "output_type": "execute_result"
    }
   ],
   "source": [
    "# mean threshold\n",
    "np.mean([v for k, v in thresholds.items()])"
   ]
  },
  {
   "cell_type": "code",
   "execution_count": 153,
   "metadata": {
    "ExecuteTime": {
     "end_time": "2019-03-07T19:34:55.912164Z",
     "start_time": "2019-03-07T19:34:55.719674Z"
    },
    "scrolled": true
   },
   "outputs": [
    {
     "data": {
      "text/plain": [
       "Text(0.5,1,'Num nodes vs ka/k')"
      ]
     },
     "execution_count": 153,
     "metadata": {},
     "output_type": "execute_result"
    },
    {
     "data": {
      "image/png": "[encoded data removed]",
      "text/plain": [
       "<matplotlib.figure.Figure at 0x152830fb38>"
      ]
     },
     "metadata": {},
     "output_type": "display_data"
    }
   ],
   "source": [
    "# plot distribution proportion of nodes vs ka/k\n",
    "thresh = [v for k, v in thresholds.items()]\n",
    "thresh_counts = Counter(thresh)\n",
    "x = np.array(list(thresh_counts.keys()))\n",
    "inds = np.argsort(x)\n",
    "x = x[inds]\n",
    "y = np.array(list(thresh_counts.values()))[inds]\n",
    "plt.plot(x, y)\n",
    "plt.xlabel(\"ka/k\")\n",
    "plt.ylabel(\"num nodes\")\n",
    "plt.title(\"Num nodes vs ka/k\")"
   ]
  },
  {
   "cell_type": "markdown",
   "metadata": {},
   "source": [
    "### Overall Threshold Distribution - Symmetric"
   ]
  },
  {
   "cell_type": "code",
   "execution_count": 160,
   "metadata": {
    "ExecuteTime": {
     "end_time": "2019-03-07T19:40:37.431666Z",
     "start_time": "2019-03-07T19:40:36.184693Z"
    }
   },
   "outputs": [
    {
     "data": {
      "text/plain": [
       "11173"
      ]
     },
     "execution_count": 160,
     "metadata": {},
     "output_type": "execute_result"
    }
   ],
   "source": [
    "# Filter the network for symmetric only\n",
    "# list of users and who they follow in symmetric network\n",
    "symm_following = filter_symmetric_from_dict(unified_following)\n",
    "\n",
    "# make graph\n",
    "H = nx.from_dict_of_lists(symm_following, create_using=nx.DiGraph())\n",
    "\n",
    "len(H.nodes)"
   ]
  },
  {
   "cell_type": "code",
   "execution_count": 210,
   "metadata": {
    "ExecuteTime": {
     "end_time": "2019-03-07T19:54:48.981115Z",
     "start_time": "2019-03-07T19:54:48.092650Z"
    },
    "scrolled": true
   },
   "outputs": [
    {
     "data": {
      "text/plain": [
       "84"
      ]
     },
     "execution_count": 210,
     "metadata": {},
     "output_type": "execute_result"
    }
   ],
   "source": [
    "# get following counts\n",
    "following_counts = {k: len(v) for k, v in symm_following.items()}\n",
    "\n",
    "# unique_users are unfiltered. Symmetric\n",
    "unique_users = unique_users\n",
    "\n",
    "# show some threshold values\n",
    "thresholds = get_thresholds(following_counts, unique_users)\n",
    "\n",
    "len(thresholds)"
   ]
  },
  {
   "cell_type": "code",
   "execution_count": 164,
   "metadata": {
    "ExecuteTime": {
     "end_time": "2019-03-07T19:42:56.929626Z",
     "start_time": "2019-03-07T19:42:56.924961Z"
    }
   },
   "outputs": [
    {
     "data": {
      "text/plain": [
       "0.023242630385487528"
      ]
     },
     "execution_count": 164,
     "metadata": {},
     "output_type": "execute_result"
    }
   ],
   "source": [
    "# mean threshold\n",
    "np.mean([v for k, v in thresholds.items()])"
   ]
  },
  {
   "cell_type": "code",
   "execution_count": 165,
   "metadata": {
    "ExecuteTime": {
     "end_time": "2019-03-07T19:42:57.878419Z",
     "start_time": "2019-03-07T19:42:57.703485Z"
    },
    "scrolled": true
   },
   "outputs": [
    {
     "data": {
      "text/plain": [
       "Text(0.5,1,'Num nodes vs ka/k')"
      ]
     },
     "execution_count": 165,
     "metadata": {},
     "output_type": "execute_result"
    },
    {
     "data": {
      "image/png": "[encoded data removed]",
      "text/plain": [
       "<matplotlib.figure.Figure at 0x15283276a0>"
      ]
     },
     "metadata": {},
     "output_type": "display_data"
    }
   ],
   "source": [
    "# plot distribution proportion of nodes vs ka/k\n",
    "thresh = [v for k, v in thresholds.items()]\n",
    "thresh_counts = Counter(thresh)\n",
    "x = np.array(list(thresh_counts.keys()))\n",
    "inds = np.argsort(x)\n",
    "x = x[inds]\n",
    "y = np.array(list(thresh_counts.values()))[inds]\n",
    "plt.plot(x, y)\n",
    "plt.xlabel(\"ka/k\")\n",
    "plt.ylabel(\"num nodes\")\n",
    "plt.title(\"Num nodes vs ka/k\")"
   ]
  },
  {
   "cell_type": "markdown",
   "metadata": {},
   "source": [
    "### Distribution Before and After Protest"
   ]
  },
  {
   "cell_type": "markdown",
   "metadata": {},
   "source": [
    "## Recruitment Bursts"
   ]
  },
  {
   "cell_type": "markdown",
   "metadata": {},
   "source": [
    "## Recruitment Activation Over Time"
   ]
  },
  {
   "cell_type": "markdown",
   "metadata": {},
   "source": [
    "## Distribution of Cascade Size"
   ]
  },
  {
   "cell_type": "code",
   "execution_count": null,
   "metadata": {
    "ExecuteTime": {
     "end_time": "2019-03-04T16:29:50.209892Z",
     "start_time": "2019-03-04T16:29:50.203090Z"
    }
   },
   "outputs": [],
   "source": [
    "# How to identify cascade? retweet of same message?\n",
    "    # Count how many retweeted same message = cascade size?\n",
    "    # Count how many used the same #hashtag - cascade size?\n",
    "    # Add k core attributes per node\n",
    "    # Find K core of who started = seed/leader\n",
    "    # Associate cascade size with k core of seed/leader"
   ]
  },
  {
   "cell_type": "code",
   "execution_count": 191,
   "metadata": {
    "ExecuteTime": {
     "end_time": "2019-03-07T19:49:48.759284Z",
     "start_time": "2019-03-07T19:49:48.744942Z"
    }
   },
   "outputs": [],
   "source": [
    "# count retweets for each parent id\n",
    "cascade_sizes = tweets_0.groupby(\n",
    "    by=\"parent_tweet_id\").count().reset_index().iloc[:, :2].date.values\n",
    "# we add the original tweet\n",
    "cascade_sizes = cascade_sizes + 1"
   ]
  },
  {
   "cell_type": "code",
   "execution_count": 209,
   "metadata": {
    "ExecuteTime": {
     "end_time": "2019-03-07T19:54:15.372654Z",
     "start_time": "2019-03-07T19:54:14.971844Z"
    }
   },
   "outputs": [
    {
     "data": {
      "text/plain": [
       "Text(0.5,1,'Distribution of cascade size')"
      ]
     },
     "execution_count": 209,
     "metadata": {},
     "output_type": "execute_result"
    },
    {
     "data": {
      "image/png": "[encoded data removed]",
      "text/plain": [
       "<matplotlib.figure.Figure at 0x1535115908>"
      ]
     },
     "metadata": {},
     "output_type": "display_data"
    }
   ],
   "source": [
    "x = np.array(list(Counter(cascade_sizes).keys()))\n",
    "inds = np.argsort(x)\n",
    "x = x[inds]\n",
    "y = np.array(list(Counter(cascade_sizes).values()))[inds]\n",
    "plt.loglog(x, y, marker=\".\", )\n",
    "plt.xlabel(\"cascade size (number of retweets + original tweet)\")\n",
    "plt.ylabel(\"number of nodes\")\n",
    "plt.title(\"Distribution of cascade size\")"
   ]
  },
  {
   "cell_type": "markdown",
   "metadata": {},
   "source": [
    "## Node Centrality (K Core) vs Cascade Size"
   ]
  },
  {
   "cell_type": "code",
   "execution_count": 227,
   "metadata": {
    "ExecuteTime": {
     "end_time": "2019-03-07T20:13:02.275727Z",
     "start_time": "2019-03-07T20:13:02.247050Z"
    }
   },
   "outputs": [
    {
     "data": {
      "text/html": [
       "<div>\n",
       "<style scoped>\n",
       "    .dataframe tbody tr th:only-of-type {\n",
       "        vertical-align: middle;\n",
       "    }\n",
       "\n",
       "    .dataframe tbody tr th {\n",
       "        vertical-align: top;\n",
       "    }\n",
       "\n",
       "    .dataframe thead th {\n",
       "        text-align: right;\n",
       "    }\n",
       "</style>\n",
       "<table border=\"1\" class=\"dataframe\">\n",
       "  <thead>\n",
       "    <tr style=\"text-align: right;\">\n",
       "      <th></th>\n",
       "      <th>parent_tweet_id</th>\n",
       "      <th>cascade</th>\n",
       "    </tr>\n",
       "  </thead>\n",
       "  <tbody>\n",
       "    <tr>\n",
       "      <th>0</th>\n",
       "      <td>3.229498e+16</td>\n",
       "      <td>0</td>\n",
       "    </tr>\n",
       "    <tr>\n",
       "      <th>1</th>\n",
       "      <td>3.229898e+16</td>\n",
       "      <td>0</td>\n",
       "    </tr>\n",
       "    <tr>\n",
       "      <th>2</th>\n",
       "      <td>3.687604e+17</td>\n",
       "      <td>1</td>\n",
       "    </tr>\n",
       "    <tr>\n",
       "      <th>3</th>\n",
       "      <td>3.688481e+17</td>\n",
       "      <td>0</td>\n",
       "    </tr>\n",
       "    <tr>\n",
       "      <th>4</th>\n",
       "      <td>3.689035e+17</td>\n",
       "      <td>1</td>\n",
       "    </tr>\n",
       "  </tbody>\n",
       "</table>\n",
       "</div>"
      ],
      "text/plain": [
       "   parent_tweet_id  cascade\n",
       "0     3.229498e+16        0\n",
       "1     3.229898e+16        0\n",
       "2     3.687604e+17        1\n",
       "3     3.688481e+17        0\n",
       "4     3.689035e+17        1"
      ]
     },
     "execution_count": 227,
     "metadata": {},
     "output_type": "execute_result"
    }
   ],
   "source": [
    "# make a dictionary of parent tweet_id and cascade size\n",
    "# Check in the asymmetric network and symmetric network\n",
    "# will associate parent_tweet_id with original tweeter and calculate k core\n",
    "_ = tweets_0.groupby(\n",
    "    by=\"parent_tweet_id\").count().reset_index().iloc[:, :2]\n",
    "# rename column to cascade\n",
    "_ = _.rename(columns={\"date\": \"cascade\"})\n",
    "_.head()"
   ]
  },
  {
   "cell_type": "code",
   "execution_count": 230,
   "metadata": {
    "ExecuteTime": {
     "end_time": "2019-03-07T20:15:25.131622Z",
     "start_time": "2019-03-07T20:15:25.125468Z"
    }
   },
   "outputs": [
    {
     "data": {
      "text/plain": [
       "109481"
      ]
     },
     "execution_count": 230,
     "metadata": {},
     "output_type": "execute_result"
    }
   ],
   "source": [
    "# k cores in asymmetric network\n",
    "# from G above - includes followers who do not follow back and did not tweet\n",
    "# about the protest\n",
    "len(G.nodes)"
   ]
  },
  {
   "cell_type": "code",
   "execution_count": 244,
   "metadata": {
    "ExecuteTime": {
     "end_time": "2019-03-07T20:19:07.625315Z",
     "start_time": "2019-03-07T20:19:03.559232Z"
    }
   },
   "outputs": [],
   "source": [
    "# remove self-loops\n",
    "G.remove_edges_from(nx.selfloop_edges(G))"
   ]
  },
  {
   "cell_type": "code",
   "execution_count": 247,
   "metadata": {
    "ExecuteTime": {
     "end_time": "2019-03-07T20:19:18.317852Z",
     "start_time": "2019-03-07T20:19:16.817512Z"
    }
   },
   "outputs": [
    {
     "data": {
      "text/plain": [
       "10830"
      ]
     },
     "execution_count": 247,
     "metadata": {},
     "output_type": "execute_result"
    }
   ],
   "source": [
    "# k cores in symmetric network - includes those who did not tweet about the protest\n",
    "k_cores = nx.k_core(G, k=2)\n",
    "\n",
    "len(k_cores.nodes)\n",
    "\n",
    "# SAVE KCORE AS ATTRIBUTE OF NODE"
   ]
  },
  {
   "cell_type": "code",
   "execution_count": null,
   "metadata": {},
   "outputs": [],
   "source": [
    "# k cores of asymmetric network - whose nodes are only those that tweeted about the protest"
   ]
  },
  {
   "cell_type": "code",
   "execution_count": null,
   "metadata": {},
   "outputs": [],
   "source": [
    "# k cores of symm network - whose node are only those that tweeted about the protest"
   ]
  }
 ],
 "metadata": {
  "hide_input": false,
  "kernelspec": {
   "display_name": "Python [default]",
   "language": "python",
   "name": "python3"
  },
  "language_info": {
   "codemirror_mode": {
    "name": "ipython",
    "version": 3
   },
   "file_extension": ".py",
   "mimetype": "text/x-python",
   "name": "python",
   "nbconvert_exporter": "python",
   "pygments_lexer": "ipython3",
   "version": "3.6.4"
  },
  "latex_envs": {
   "LaTeX_envs_menu_present": true,
   "autoclose": false,
   "autocomplete": true,
   "bibliofile": "biblio.bib",
   "cite_by": "apalike",
   "current_citInitial": 1,
   "eqLabelWithNumbers": true,
   "eqNumInitial": 1,
   "hotkeys": {
    "equation": "Ctrl-E",
    "itemize": "Ctrl-I"
   },
   "labels_anchors": false,
   "latex_user_defs": false,
   "report_style_numbering": false,
   "user_envs_cfg": false
  },
  "toc": {
   "base_numbering": 1,
   "nav_menu": {},
   "number_sections": true,
   "sideBar": true,
   "skip_h1_title": false,
   "title_cell": "Table of Contents",
   "title_sidebar": "Contents",
   "toc_cell": false,
   "toc_position": {},
   "toc_section_display": true,
   "toc_window_display": false
  }
 },
 "nbformat": 4,
 "nbformat_minor": 2
}
