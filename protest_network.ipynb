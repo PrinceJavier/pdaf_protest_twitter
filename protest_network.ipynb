{
 "cells": [
  {
   "cell_type": "markdown",
   "metadata": {},
   "source": [
    "# Analysis of Spread of PDAF Protest Sentiment on Twitter"
   ]
  },
  {
   "cell_type": "markdown",
   "metadata": {},
   "source": [
    "## Executive Summary"
   ]
  },
  {
   "cell_type": "markdown",
   "metadata": {},
   "source": [
    "## Introduction"
   ]
  },
  {
   "cell_type": "markdown",
   "metadata": {
    "ExecuteTime": {
     "end_time": "2019-03-08T08:44:53.068106Z",
     "start_time": "2019-03-08T08:44:53.065696Z"
    }
   },
   "source": [
    "## The Dataset"
   ]
  },
  {
   "cell_type": "markdown",
   "metadata": {},
   "source": [
    "## Methods"
   ]
  },
  {
   "cell_type": "code",
   "execution_count": 389,
   "metadata": {
    "ExecuteTime": {
     "end_time": "2019-03-09T03:04:30.509673Z",
     "start_time": "2019-03-09T03:04:30.497363Z"
    }
   },
   "outputs": [],
   "source": [
    "import numpy as np\n",
    "import pandas as pd\n",
    "import matplotlib.pyplot as plt\n",
    "import seaborn as sns\n",
    "\n",
    "import json\n",
    "import glob\n",
    "import ast\n",
    "import re\n",
    "\n",
    "import networkx as nx\n",
    "from itertools import combinations\n",
    "from collections import Counter \n",
    "from datetime import datetime"
   ]
  },
  {
   "cell_type": "markdown",
   "metadata": {},
   "source": [
    "### Data Preparation"
   ]
  },
  {
   "cell_type": "code",
   "execution_count": 419,
   "metadata": {
    "ExecuteTime": {
     "end_time": "2019-03-09T15:08:16.016262Z",
     "start_time": "2019-03-09T15:08:15.982354Z"
    }
   },
   "outputs": [
    {
     "data": {
      "text/plain": [
       "['data/new_tweets_mpm.json',\n",
       " 'data/tweets_jn.json',\n",
       " 'data/tweets_merged.json',\n",
       " 'data/tweets_mpm_list_following.json',\n",
       " 'data/tweets_pk.json',\n",
       " 'data/tweets_ps.json',\n",
       " 'data/tweets_sp.json',\n",
       " 'data/unified_followers.json',\n",
       " 'data/unified_following.json',\n",
       " 'data/user_followers.json',\n",
       " 'data/user_following.json']"
      ]
     },
     "execution_count": 419,
     "metadata": {},
     "output_type": "execute_result"
    }
   ],
   "source": [
    "# load data paths\n",
    "paths = glob.glob(\"data/*\")\n",
    "paths"
   ]
  },
  {
   "cell_type": "code",
   "execution_count": 487,
   "metadata": {
    "ExecuteTime": {
     "end_time": "2019-03-09T15:36:31.809746Z",
     "start_time": "2019-03-09T15:36:31.133432Z"
    }
   },
   "outputs": [],
   "source": [
    "# Merge tweets dataset\n",
    "\n",
    "df1 = pd.read_json(\"data/new_tweets_mpm.json\")\n",
    "# add a column for the #hashtag\n",
    "df1[\"hashtag\"] = \"millionpeoplemarch\"\n",
    "\n",
    "# Second file\n",
    "df2 = pd.read_json(\"data/tweets_ps.json\")\n",
    "# add a column for the #hashtag\n",
    "df2[\"hashtag\"] = \"pdafscam\"\n",
    "\n",
    "# third file\n",
    "df3 = pd.read_json(\"data/tweets_jn.json\")\n",
    "# add a column for the #hashtag\n",
    "df3[\"hashtag\"] = \"janetnapoles\"\n",
    "\n",
    "# fourth file\n",
    "df4 = pd.read_json(\"data/tweets_pk.json\")\n",
    "# add a column for the #hashtag\n",
    "df4[\"hashtag\"] = \"pdafkalampag\"\n",
    "\n",
    "# fifth file\n",
    "df5 = pd.read_json(\"data/tweets_sp.json\")\n",
    "# add a column for the #hashtag\n",
    "df5[\"hashtag\"] = \"scrappork\"\n",
    "\n",
    "# merge\n",
    "tweets = pd.concat([df1, df2, df3, df4, df5]).reset_index(drop=True)\n",
    "\n",
    "# filter only those tweets in 2013\n",
    "# still get NaT values\n",
    "condition_1 = tweets.date.isnull()\n",
    "# get time after June 2013\n",
    "condition_2 = tweets.date > pd.Timestamp('2013-06-01 00:00:00')\n",
    "# get time before Jan 2014\n",
    "condition_3 = tweets.date < pd.Timestamp('2014-01-01 00:00:00')\n",
    "\n",
    "# merge conditions\n",
    "merged_conditions = condition_1 | condition_2 & condition_3\n",
    "tweets = tweets[merged_conditions]\n",
    "tweets = tweets.sort_values(by=\"date\").reset_index(drop=True)\n",
    "\n",
    "# # save to json\n",
    "pd.DataFrame.to_json(tweets, \"data/tweets_merged.json\", orient=\"records\")"
   ]
  },
  {
   "cell_type": "code",
   "execution_count": 3,
   "metadata": {
    "ExecuteTime": {
     "end_time": "2019-03-08T06:41:13.125129Z",
     "start_time": "2019-03-08T06:41:13.121972Z"
    }
   },
   "outputs": [],
   "source": [
    "## IMPLEMENT KEY DUPLICATE REMOVER DURING CLEANING?\n",
    "## Dictionaries automatically remove duplicates"
   ]
  },
  {
   "cell_type": "code",
   "execution_count": 392,
   "metadata": {
    "ExecuteTime": {
     "end_time": "2019-03-09T03:04:47.673582Z",
     "start_time": "2019-03-09T03:04:47.665591Z"
    }
   },
   "outputs": [],
   "source": [
    "def read_dict_from_file(path):\n",
    "\n",
    "    # open scraped file as string\n",
    "    f = open(path).read()\n",
    "\n",
    "    # convert scraped file from string to dictionary\n",
    "    dic = ast.literal_eval(f)\n",
    "\n",
    "    # return dictionary of file\n",
    "    return dic"
   ]
  },
  {
   "cell_type": "code",
   "execution_count": 5,
   "metadata": {
    "ExecuteTime": {
     "end_time": "2019-03-08T06:41:13.142076Z",
     "start_time": "2019-03-08T06:41:13.137670Z"
    }
   },
   "outputs": [],
   "source": [
    "# REMOVE BELOW NON-Number/Alphabet characters\n",
    "# DO THE SAME FOR THE TWITTER PANDAS DATAFRAME"
   ]
  },
  {
   "cell_type": "code",
   "execution_count": 6,
   "metadata": {
    "ExecuteTime": {
     "end_time": "2019-03-08T06:41:13.179692Z",
     "start_time": "2019-03-08T06:41:13.145662Z"
    }
   },
   "outputs": [],
   "source": [
    "def clean_dict(dirty_dict, name_type=\"screen_name\"):\n",
    "\n",
    "    # define new dictionary\n",
    "    new_dict = {}\n",
    "\n",
    "    # get keys from input dirty dict\n",
    "    keys = dirty_dict.keys()\n",
    "\n",
    "    for key in keys:\n",
    "\n",
    "        # format is [{\"full_name\" : \"XX\", \"screen_name\" : \"YY\"}]\n",
    "        value = dirty_dict[key]\n",
    "        \n",
    "        # pattern for cleaning\n",
    "        pattern = re.compile(\"[\\w]+\")\n",
    "\n",
    "        # clean full_names and make lower_case\n",
    "        # get followers full_name per user\n",
    "        full_names = [\"\".join(re.findall(pattern, d[name_type])).lower() for d in value]\n",
    "\n",
    "#         # get followers screen name per user\n",
    "#         screen_names = [d[\"screen_name\"] for d in value]\n",
    "    \n",
    "        # clean keys\n",
    "        new_key = \"\".join(re.findall(pattern, key)).lower()\n",
    "        \n",
    "        # make key: value pair using full_name per user\n",
    "        new_dict[new_key] = full_names\n",
    "\n",
    "    # return new_dict\n",
    "    return new_dict"
   ]
  },
  {
   "cell_type": "markdown",
   "metadata": {},
   "source": [
    "# Analysis"
   ]
  },
  {
   "cell_type": "markdown",
   "metadata": {},
   "source": [
    "## Preparing Follower and Following Data"
   ]
  },
  {
   "cell_type": "code",
   "execution_count": 488,
   "metadata": {
    "ExecuteTime": {
     "end_time": "2019-03-09T15:44:38.410912Z",
     "start_time": "2019-03-09T15:44:06.953141Z"
    }
   },
   "outputs": [],
   "source": [
    "# load dirty followers dictionary\n",
    "path = \"data/user_followers.json\"\n",
    "dirty_followers = read_dict_from_file(path)\n",
    "\n",
    "# load dirty following dictionary\n",
    "path = \"data/user_following.json\"\n",
    "dirty_following = read_dict_from_file(path)"
   ]
  },
  {
   "cell_type": "code",
   "execution_count": 489,
   "metadata": {
    "ExecuteTime": {
     "end_time": "2019-03-09T15:44:40.452847Z",
     "start_time": "2019-03-09T15:44:38.413675Z"
    }
   },
   "outputs": [],
   "source": [
    "# get clean followers, full_name\n",
    "clean_followers = clean_dict(dirty_followers, \"screen_name\")\n",
    "\n",
    "# get clean following, full_name\n",
    "clean_following = clean_dict(dirty_following, \"screen_name\")"
   ]
  },
  {
   "cell_type": "code",
   "execution_count": 490,
   "metadata": {
    "ExecuteTime": {
     "end_time": "2019-03-09T15:44:40.498119Z",
     "start_time": "2019-03-09T15:44:40.455909Z"
    }
   },
   "outputs": [],
   "source": [
    "# function to combine (get union) dictionaries\n",
    "def union_dict(a, b):\n",
    "    # a is the bigger dataset we will update with b\n",
    "    for k, v in a.items():\n",
    "        # if key is in a and b, then just append to current data in a\n",
    "        if k in b.keys():\n",
    "            # get union of unique items (remove redundancy)\n",
    "            a[k] = list(set(a[k] + b[k]))\n",
    "\n",
    "    # append keys in b that are not in a\n",
    "    for k, v in b.items():\n",
    "        if k not in a.keys():\n",
    "            a[k] = v\n",
    "\n",
    "    return a"
   ]
  },
  {
   "cell_type": "code",
   "execution_count": 491,
   "metadata": {
    "ExecuteTime": {
     "end_time": "2019-03-09T15:44:40.511455Z",
     "start_time": "2019-03-09T15:44:40.501003Z"
    }
   },
   "outputs": [
    {
     "data": {
      "text/plain": [
       "{'a': [1, 2, 3, 4, 5], 'b': [2, 3, 4], 'c': [8, 9]}"
      ]
     },
     "execution_count": 491,
     "metadata": {},
     "output_type": "execute_result"
    }
   ],
   "source": [
    "# Test\n",
    "a = {\"a\":[1, 2, 5], \"b\":[2, 3, 4]}\n",
    "b = {\"a\":[1, 2, 3, 4], \"c\":[8, 9]}\n",
    "union_dict(a, b)"
   ]
  },
  {
   "cell_type": "code",
   "execution_count": 492,
   "metadata": {
    "ExecuteTime": {
     "end_time": "2019-03-09T15:44:40.527684Z",
     "start_time": "2019-03-09T15:44:40.514786Z"
    }
   },
   "outputs": [],
   "source": [
    "# convert following to followers format\n",
    "# e.g. {\"user_A\": [\"followed_user_1\", \"followed_user_2\"]\n",
    "# turn to: {\"followed_user_1\" : [\"user_A], \"followed_user_2\": [\"user_A\"]}\n",
    "# So network direction goes from user (followed) to follower\n",
    "\n",
    "def swap_key_val(old_dic):\n",
    "\n",
    "    # get keys of dictionary to swap\n",
    "    keys = old_dic.keys()\n",
    "\n",
    "    # convert keys to vals and vals to keys\n",
    "    # initiate new dictioanary (swapped)\n",
    "    new_dic = {}\n",
    "    for key in keys:\n",
    "        # swap value and key\n",
    "        a = {val: [key] for val in old_dic[key]}\n",
    "        # add to new_dic using union_dict function\n",
    "        new_dic = union_dict(new_dic, a)\n",
    "    return new_dic"
   ]
  },
  {
   "cell_type": "code",
   "execution_count": 493,
   "metadata": {
    "ExecuteTime": {
     "end_time": "2019-03-09T15:44:40.539546Z",
     "start_time": "2019-03-09T15:44:40.530573Z"
    }
   },
   "outputs": [
    {
     "data": {
      "text/plain": [
       "{'a': ['follower_a'],\n",
       " 'b': ['follower_a', 'follower_b'],\n",
       " 'c': ['follower_b'],\n",
       " 'd': ['follower_b']}"
      ]
     },
     "execution_count": 493,
     "metadata": {},
     "output_type": "execute_result"
    }
   ],
   "source": [
    "# Test\n",
    "a = {\"follower_a\":[\"a\", \"b\"], \"follower_b\":[\"b\", \"c\", \"d\"]}\n",
    "b = swap_key_val(a)\n",
    "b"
   ]
  },
  {
   "cell_type": "code",
   "execution_count": 494,
   "metadata": {
    "ExecuteTime": {
     "end_time": "2019-03-09T15:48:24.948960Z",
     "start_time": "2019-03-09T15:44:40.542183Z"
    }
   },
   "outputs": [],
   "source": [
    "a = clean_followers.copy()\n",
    "b = clean_following.copy()\n",
    "\n",
    "# get followers data from following data\n",
    "followers_from_following = swap_key_val(b)\n",
    "\n",
    "# get union of followers data (scraped) and followers from following data\n",
    "unified_followers = union_dict(a, followers_from_following)"
   ]
  },
  {
   "cell_type": "code",
   "execution_count": 495,
   "metadata": {
    "ExecuteTime": {
     "end_time": "2019-03-09T15:48:26.256862Z",
     "start_time": "2019-03-09T15:48:24.950744Z"
    }
   },
   "outputs": [],
   "source": [
    "# save unified_followers to json\n",
    "with open('data/unified_followers.json', 'w') as f:\n",
    "    json.dump(unified_followers, f)"
   ]
  },
  {
   "cell_type": "code",
   "execution_count": 496,
   "metadata": {
    "ExecuteTime": {
     "end_time": "2019-03-09T15:48:26.262983Z",
     "start_time": "2019-03-09T15:48:26.258702Z"
    }
   },
   "outputs": [],
   "source": [
    "# load saved file"
   ]
  },
  {
   "cell_type": "code",
   "execution_count": 497,
   "metadata": {
    "ExecuteTime": {
     "end_time": "2019-03-09T15:50:53.918837Z",
     "start_time": "2019-03-09T15:48:26.266642Z"
    }
   },
   "outputs": [],
   "source": [
    "# get unified following data\n",
    "# get following data from followers data\n",
    "\n",
    "a = clean_followers.copy()\n",
    "b = clean_following.copy()\n",
    "\n",
    "following_from_followers = swap_key_val(a)\n",
    "\n",
    "# get union of followers data (scraped) and followers from following data\n",
    "unified_following = union_dict(b, following_from_followers)"
   ]
  },
  {
   "cell_type": "code",
   "execution_count": 498,
   "metadata": {
    "ExecuteTime": {
     "end_time": "2019-03-09T15:50:53.925965Z",
     "start_time": "2019-03-09T15:50:53.920681Z"
    }
   },
   "outputs": [],
   "source": [
    "# load saved file"
   ]
  },
  {
   "cell_type": "code",
   "execution_count": 499,
   "metadata": {
    "ExecuteTime": {
     "end_time": "2019-03-09T15:50:55.610020Z",
     "start_time": "2019-03-09T15:50:53.929585Z"
    }
   },
   "outputs": [],
   "source": [
    "# save unified_following to json\n",
    "with open('data/unified_following.json', 'w') as f:\n",
    "    json.dump(unified_following, f)"
   ]
  },
  {
   "cell_type": "code",
   "execution_count": 500,
   "metadata": {
    "ExecuteTime": {
     "end_time": "2019-03-09T15:50:55.618371Z",
     "start_time": "2019-03-09T15:50:55.611985Z"
    }
   },
   "outputs": [
    {
     "data": {
      "text/plain": [
       "8061"
      ]
     },
     "execution_count": 500,
     "metadata": {},
     "output_type": "execute_result"
    }
   ],
   "source": [
    "# length of scraped following\n",
    "len(clean_following)"
   ]
  },
  {
   "cell_type": "code",
   "execution_count": 501,
   "metadata": {
    "ExecuteTime": {
     "end_time": "2019-03-09T15:50:55.739324Z",
     "start_time": "2019-03-09T15:50:55.621649Z"
    }
   },
   "outputs": [
    {
     "data": {
      "text/plain": [
       "241243"
      ]
     },
     "execution_count": 501,
     "metadata": {},
     "output_type": "execute_result"
    }
   ],
   "source": [
    "# length of unified following\n",
    "len(unified_following)"
   ]
  },
  {
   "cell_type": "code",
   "execution_count": 502,
   "metadata": {
    "ExecuteTime": {
     "end_time": "2019-03-09T15:50:55.749131Z",
     "start_time": "2019-03-09T15:50:55.743142Z"
    }
   },
   "outputs": [
    {
     "data": {
      "text/plain": [
       "216343"
      ]
     },
     "execution_count": 502,
     "metadata": {},
     "output_type": "execute_result"
    }
   ],
   "source": [
    "# num of all users:followers scraped\n",
    "len(unified_followers.keys())"
   ]
  },
  {
   "cell_type": "code",
   "execution_count": 503,
   "metadata": {
    "ExecuteTime": {
     "end_time": "2019-03-09T15:50:55.760082Z",
     "start_time": "2019-03-09T15:50:55.752492Z"
    }
   },
   "outputs": [
    {
     "data": {
      "text/plain": [
       "6455"
      ]
     },
     "execution_count": 503,
     "metadata": {},
     "output_type": "execute_result"
    }
   ],
   "source": [
    "# num in just clean_followers\n",
    "len(clean_followers.keys())"
   ]
  },
  {
   "cell_type": "code",
   "execution_count": 504,
   "metadata": {
    "ExecuteTime": {
     "end_time": "2019-03-09T15:50:55.768738Z",
     "start_time": "2019-03-09T15:50:55.763138Z"
    }
   },
   "outputs": [
    {
     "data": {
      "text/plain": [
       "211342"
      ]
     },
     "execution_count": 504,
     "metadata": {},
     "output_type": "execute_result"
    }
   ],
   "source": [
    "# num in user:followers from following data\n",
    "len(followers_from_following.keys())"
   ]
  },
  {
   "cell_type": "markdown",
   "metadata": {},
   "source": [
    "## Making Followers Graph - Asymmetric"
   ]
  },
  {
   "cell_type": "markdown",
   "metadata": {},
   "source": [
    "We generate a graph of all the nodes in the followers and following dataset."
   ]
  },
  {
   "cell_type": "code",
   "execution_count": 25,
   "metadata": {
    "ExecuteTime": {
     "end_time": "2019-03-08T06:44:16.671098Z",
     "start_time": "2019-03-08T06:44:14.951213Z"
    }
   },
   "outputs": [
    {
     "data": {
      "text/plain": [
       "224943"
      ]
     },
     "execution_count": 25,
     "metadata": {},
     "output_type": "execute_result"
    }
   ],
   "source": [
    "# # load Graph of followers\n",
    "# G = nx.from_dict_of_lists(unified_followers, create_using=nx.DiGraph())\n",
    "# len(G.nodes)"
   ]
  },
  {
   "cell_type": "markdown",
   "metadata": {
    "ExecuteTime": {
     "end_time": "2019-03-07T16:19:51.475809Z",
     "start_time": "2019-03-07T16:19:51.472826Z"
    }
   },
   "source": [
    "### Basic Properties"
   ]
  },
  {
   "cell_type": "code",
   "execution_count": 26,
   "metadata": {
    "ExecuteTime": {
     "end_time": "2019-03-08T06:44:24.184302Z",
     "start_time": "2019-03-08T06:44:23.927013Z"
    }
   },
   "outputs": [
    {
     "data": {
      "text/html": [
       "<div>\n",
       "<style scoped>\n",
       "    .dataframe tbody tr th:only-of-type {\n",
       "        vertical-align: middle;\n",
       "    }\n",
       "\n",
       "    .dataframe tbody tr th {\n",
       "        vertical-align: top;\n",
       "    }\n",
       "\n",
       "    .dataframe thead th {\n",
       "        text-align: right;\n",
       "    }\n",
       "</style>\n",
       "<table border=\"1\" class=\"dataframe\">\n",
       "  <thead>\n",
       "    <tr style=\"text-align: right;\">\n",
       "      <th></th>\n",
       "      <th>0</th>\n",
       "    </tr>\n",
       "  </thead>\n",
       "  <tbody>\n",
       "    <tr>\n",
       "      <th>avg_degree</th>\n",
       "      <td>1.489239</td>\n",
       "    </tr>\n",
       "    <tr>\n",
       "      <th>min_degree</th>\n",
       "      <td>0.000000</td>\n",
       "    </tr>\n",
       "    <tr>\n",
       "      <th>max_degree</th>\n",
       "      <td>1730.000000</td>\n",
       "    </tr>\n",
       "  </tbody>\n",
       "</table>\n",
       "</div>"
      ],
      "text/plain": [
       "                      0\n",
       "avg_degree     1.489239\n",
       "min_degree     0.000000\n",
       "max_degree  1730.000000"
      ]
     },
     "execution_count": 26,
     "metadata": {},
     "output_type": "execute_result"
    }
   ],
   "source": [
    "# # out_degrees\n",
    "# degs = [k for n, k in G.out_degree]\n",
    "# avg_deg = np.mean(degs)\n",
    "# min_deg = np.min(degs)\n",
    "# max_deg = np.max(degs)\n",
    "\n",
    "# vals = {\"avg_degree\":[avg_deg], \"min_degree\":[min_deg], \"max_degree\":[max_deg]}\n",
    "# pd.DataFrame.from_dict(vals).T"
   ]
  },
  {
   "cell_type": "code",
   "execution_count": 27,
   "metadata": {
    "ExecuteTime": {
     "end_time": "2019-03-08T06:44:25.616531Z",
     "start_time": "2019-03-08T06:44:25.423838Z"
    }
   },
   "outputs": [
    {
     "data": {
      "text/html": [
       "<div>\n",
       "<style scoped>\n",
       "    .dataframe tbody tr th:only-of-type {\n",
       "        vertical-align: middle;\n",
       "    }\n",
       "\n",
       "    .dataframe tbody tr th {\n",
       "        vertical-align: top;\n",
       "    }\n",
       "\n",
       "    .dataframe thead th {\n",
       "        text-align: right;\n",
       "    }\n",
       "</style>\n",
       "<table border=\"1\" class=\"dataframe\">\n",
       "  <thead>\n",
       "    <tr style=\"text-align: right;\">\n",
       "      <th></th>\n",
       "      <th>0</th>\n",
       "    </tr>\n",
       "  </thead>\n",
       "  <tbody>\n",
       "    <tr>\n",
       "      <th>avg_degree</th>\n",
       "      <td>1.489239</td>\n",
       "    </tr>\n",
       "    <tr>\n",
       "      <th>min_degree</th>\n",
       "      <td>0.000000</td>\n",
       "    </tr>\n",
       "    <tr>\n",
       "      <th>max_degree</th>\n",
       "      <td>2846.000000</td>\n",
       "    </tr>\n",
       "  </tbody>\n",
       "</table>\n",
       "</div>"
      ],
      "text/plain": [
       "                      0\n",
       "avg_degree     1.489239\n",
       "min_degree     0.000000\n",
       "max_degree  2846.000000"
      ]
     },
     "execution_count": 27,
     "metadata": {},
     "output_type": "execute_result"
    }
   ],
   "source": [
    "# # in_degrees\n",
    "# degs = [k for n, k in G.in_degree]\n",
    "# avg_deg = np.mean(degs)\n",
    "# min_deg = np.min(degs)\n",
    "# max_deg = np.max(degs)\n",
    "\n",
    "# vals = {\"avg_degree\":[avg_deg], \"min_degree\":[min_deg], \"max_degree\":[max_deg]}\n",
    "# pd.DataFrame.from_dict(vals).T"
   ]
  },
  {
   "cell_type": "code",
   "execution_count": 28,
   "metadata": {
    "ExecuteTime": {
     "end_time": "2019-03-08T06:44:26.092224Z",
     "start_time": "2019-03-08T06:44:25.831553Z"
    }
   },
   "outputs": [
    {
     "data": {
      "text/html": [
       "<div>\n",
       "<style scoped>\n",
       "    .dataframe tbody tr th:only-of-type {\n",
       "        vertical-align: middle;\n",
       "    }\n",
       "\n",
       "    .dataframe tbody tr th {\n",
       "        vertical-align: top;\n",
       "    }\n",
       "\n",
       "    .dataframe thead th {\n",
       "        text-align: right;\n",
       "    }\n",
       "</style>\n",
       "<table border=\"1\" class=\"dataframe\">\n",
       "  <thead>\n",
       "    <tr style=\"text-align: right;\">\n",
       "      <th></th>\n",
       "      <th>0</th>\n",
       "    </tr>\n",
       "  </thead>\n",
       "  <tbody>\n",
       "    <tr>\n",
       "      <th>avg_degree</th>\n",
       "      <td>2.978479</td>\n",
       "    </tr>\n",
       "    <tr>\n",
       "      <th>min_degree</th>\n",
       "      <td>0.000000</td>\n",
       "    </tr>\n",
       "    <tr>\n",
       "      <th>max_degree</th>\n",
       "      <td>3298.000000</td>\n",
       "    </tr>\n",
       "  </tbody>\n",
       "</table>\n",
       "</div>"
      ],
      "text/plain": [
       "                      0\n",
       "avg_degree     2.978479\n",
       "min_degree     0.000000\n",
       "max_degree  3298.000000"
      ]
     },
     "execution_count": 28,
     "metadata": {},
     "output_type": "execute_result"
    }
   ],
   "source": [
    "# # degrees\n",
    "# degs = [k for n, k in G.degree]\n",
    "# avg_deg = np.mean(degs)\n",
    "# min_deg = np.min(degs)\n",
    "# max_deg = np.max(degs)\n",
    "\n",
    "# vals = {\"avg_degree\":[avg_deg], \"min_degree\":[min_deg], \"max_degree\":[max_deg]}\n",
    "# pd.DataFrame.from_dict(vals).T"
   ]
  },
  {
   "cell_type": "code",
   "execution_count": 29,
   "metadata": {
    "ExecuteTime": {
     "end_time": "2019-03-08T06:44:27.369597Z",
     "start_time": "2019-03-08T06:44:27.366962Z"
    }
   },
   "outputs": [],
   "source": [
    "# clustering"
   ]
  },
  {
   "cell_type": "markdown",
   "metadata": {},
   "source": [
    "### Degree Distribution"
   ]
  },
  {
   "cell_type": "code",
   "execution_count": 32,
   "metadata": {
    "ExecuteTime": {
     "end_time": "2019-03-08T06:45:00.198600Z",
     "start_time": "2019-03-08T06:44:59.518251Z"
    }
   },
   "outputs": [
    {
     "data": {
      "text/plain": [
       "Text(0.5,1,'Out degree distribution')"
      ]
     },
     "execution_count": 32,
     "metadata": {},
     "output_type": "execute_result"
    },
    {
     "data": {
      "image/png": "[encoded data removed]",
      "text/plain": [
       "<matplotlib.figure.Figure at 0x152fd8ac88>"
      ]
     },
     "metadata": {},
     "output_type": "display_data"
    }
   ],
   "source": [
    "# # out degree distribution\n",
    "# degs = [v for k, v in G.out_degree]\n",
    "\n",
    "# # count\n",
    "# deg_count = Counter(degs)\n",
    "\n",
    "# # plot\n",
    "# plt.loglog(deg_count.keys(), deg_count.values(), 'o', alpha=0.5)\n",
    "\n",
    "# plt.xlabel(\"out_degree\")\n",
    "# plt.ylabel(\"num nodes\")\n",
    "# plt.title(\"Out degree distribution\")"
   ]
  },
  {
   "cell_type": "code",
   "execution_count": 33,
   "metadata": {
    "ExecuteTime": {
     "end_time": "2019-03-08T06:45:09.980187Z",
     "start_time": "2019-03-08T06:45:09.133534Z"
    }
   },
   "outputs": [
    {
     "data": {
      "text/plain": [
       "Text(0.5,1,'In degree distribution')"
      ]
     },
     "execution_count": 33,
     "metadata": {},
     "output_type": "execute_result"
    },
    {
     "data": {
      "image/png": "[encoded data removed]",
      "text/plain": [
       "<matplotlib.figure.Figure at 0x153015d4e0>"
      ]
     },
     "metadata": {},
     "output_type": "display_data"
    }
   ],
   "source": [
    "# # in degree distribution\n",
    "# degs = [v for k, v in G.in_degree]\n",
    "\n",
    "# # count\n",
    "# deg_count = Counter(degs)\n",
    "\n",
    "# # plot\n",
    "# plt.loglog(deg_count.keys(), deg_count.values(), 'o', alpha=0.5)\n",
    "\n",
    "# plt.xlabel(\"in_degree\")\n",
    "# plt.ylabel(\"num nodes\")\n",
    "# plt.title(\"In degree distribution\")"
   ]
  },
  {
   "cell_type": "code",
   "execution_count": 34,
   "metadata": {
    "ExecuteTime": {
     "end_time": "2019-03-08T06:45:17.808110Z",
     "start_time": "2019-03-08T06:45:16.886235Z"
    }
   },
   "outputs": [
    {
     "data": {
      "text/plain": [
       "Text(0.5,1,'Degree distribution')"
      ]
     },
     "execution_count": 34,
     "metadata": {},
     "output_type": "execute_result"
    },
    {
     "data": {
      "image/png": "[encoded data removed]",
      "text/plain": [
       "<matplotlib.figure.Figure at 0x1530433be0>"
      ]
     },
     "metadata": {},
     "output_type": "display_data"
    }
   ],
   "source": [
    "# # degree distribution\n",
    "# degs = [v for k, v in G.degree]\n",
    "\n",
    "# # count\n",
    "# deg_count = Counter(degs)\n",
    "\n",
    "# # plot\n",
    "# plt.loglog(deg_count.keys(), deg_count.values(), 'o', alpha=0.5)\n",
    "\n",
    "# plt.xlabel(\"degree\")\n",
    "# plt.ylabel(\"num nodes\")\n",
    "# plt.title(\"Degree distribution\")"
   ]
  },
  {
   "cell_type": "code",
   "execution_count": null,
   "metadata": {
    "ExecuteTime": {
     "end_time": "2019-03-08T06:41:18.785984Z",
     "start_time": "2019-03-08T06:41:18.637Z"
    }
   },
   "outputs": [],
   "source": [
    "# VISUALIZATION\n",
    "# # Use spring layout\n",
    "# pos = nx.spring_layout(G)\n",
    "\n",
    "# # draw graph\n",
    "# plt.figure(figsize=(10, 10))\n",
    "# nx.draw(G, pos=pos, node_size=2, with_labels=False)"
   ]
  },
  {
   "cell_type": "markdown",
   "metadata": {},
   "source": [
    "## Filtering Followers Subgraph - Symmetric"
   ]
  },
  {
   "cell_type": "markdown",
   "metadata": {},
   "source": [
    "The function below only selects that nodes that mutually follow each other (regardless if they tweeted about the protest or not). a <--> b will be preserved while c --> d will not be."
   ]
  },
  {
   "cell_type": "code",
   "execution_count": null,
   "metadata": {
    "ExecuteTime": {
     "end_time": "2019-03-07T19:19:23.650681Z",
     "start_time": "2019-03-07T19:19:23.635070Z"
    }
   },
   "outputs": [],
   "source": [
    "# def filter_symmetric(matrix, nodes):\n",
    "#     # get only symmetric\n",
    "#     matrix_sym = np.multiply(matrix, matrix.T)\n",
    "    \n",
    "#     # make diagonal = 0\n",
    "#     np.fill_diagonal(matrix_sym, 0)\n",
    "    \n",
    "#     # get indices with at least one degree in the symmetric network\n",
    "#     nonzero = np.array(np.sum(matrix_sym, axis=0))\n",
    "#     inds = list(np.nonzero(nonzero[0])[0])\n",
    "    \n",
    "\n",
    "\n",
    "#     # get nodes corresponding to index of nodes in symm network\n",
    "#     sym_nodes = np.array(nodes)[inds]\n",
    "    \n",
    "#     return matrix_sym, sym_nodes"
   ]
  },
  {
   "cell_type": "code",
   "execution_count": null,
   "metadata": {
    "ExecuteTime": {
     "end_time": "2019-03-07T19:19:24.506532Z",
     "start_time": "2019-03-07T19:19:24.498687Z"
    }
   },
   "outputs": [],
   "source": [
    "# # TEST\n",
    "# matrix = np.matrix([[1, 0, 1, 1], [1, 1, 0, 1], [1, 0, 0, 0], [0, 1, 1, 1]])\n",
    "# nodes = ['a', 'b', 'c', 'd']\n",
    "# filter_symmetric(matrix, nodes)"
   ]
  },
  {
   "cell_type": "code",
   "execution_count": null,
   "metadata": {
    "ExecuteTime": {
     "end_time": "2019-03-07T19:19:28.392662Z",
     "start_time": "2019-03-07T19:19:26.012576Z"
    }
   },
   "outputs": [],
   "source": [
    "# # make adjacency matrix\n",
    "# matrix = nx.adjacency_matrix(G).todense()\n",
    "\n",
    "# # get nodes list\n",
    "# nodes = list(G.nodes)\n",
    "\n",
    "# # THIS SHOULD BE EQUAL\n",
    "# matrix.shape, len(nodes)"
   ]
  },
  {
   "cell_type": "code",
   "execution_count": null,
   "metadata": {
    "ExecuteTime": {
     "start_time": "2019-03-07T16:23:07.270Z"
    },
    "scrolled": true
   },
   "outputs": [],
   "source": [
    "# # CAN WE REMOVE THIS? SINCE THE IMPLEMENTATION BELOW WORKS AND THIS BREAKS\n",
    "# # THIS KILLS THE KERNEL\n",
    "# # filter symmetric adjacencty matrix\n",
    "# sym_matrix, sym_nodes = filter_symmetric(matrix, nodes)\n",
    "\n",
    "# print(\"No. of links in asymmetric network:\", np.sum(matrix))\n",
    "# print(\"Shape of asymmetric network:\", matrix.shape)\n",
    "# print(\"No. of links in symmetric network:\", np.sum(sym_matrix)/2)\n",
    "# print(\"Shape of symmetric network:\", sym_matrix.shape, len(sym_nodes))"
   ]
  },
  {
   "cell_type": "code",
   "execution_count": 35,
   "metadata": {
    "ExecuteTime": {
     "end_time": "2019-03-08T06:45:25.976821Z",
     "start_time": "2019-03-08T06:45:25.958571Z"
    }
   },
   "outputs": [],
   "source": [
    "# Filter symmetric given dictionary of followers only\n",
    "def filter_symmetric_from_dict(dic):\n",
    "    # get dictionary of followers\n",
    "    \n",
    "    # define new dictionary    \n",
    "    sym_dic = {}\n",
    "    \n",
    "    # run through keys and values\n",
    "    for k, v in dic.items():\n",
    "        # check if symmetric by looking at key and valu\n",
    "        for i in v:\n",
    "            try:\n",
    "                if k in dic[i]:\n",
    "                    if k in sym_dic:\n",
    "                        sym_dic[k] += [i]\n",
    "                    else:\n",
    "                        sym_dic[k] = [i]\n",
    "            except:\n",
    "                continue\n",
    "    return sym_dic"
   ]
  },
  {
   "cell_type": "code",
   "execution_count": 36,
   "metadata": {
    "ExecuteTime": {
     "end_time": "2019-03-08T06:45:27.141386Z",
     "start_time": "2019-03-08T06:45:27.133160Z"
    }
   },
   "outputs": [
    {
     "data": {
      "text/plain": [
       "{'a': ['b', 'c'], 'b': ['a', 'z'], 'c': ['a'], 'e': ['z'], 'z': ['e', 'b']}"
      ]
     },
     "execution_count": 36,
     "metadata": {},
     "output_type": "execute_result"
    }
   ],
   "source": [
    "a = {'z':['e', 'b'], 'a':['b', 'c', 'd'], 'b':['a', 'z'], 'c':['a'], 'd':['c'], 'e':['z']}\n",
    "filter_symmetric_from_dict(a)"
   ]
  },
  {
   "cell_type": "code",
   "execution_count": 37,
   "metadata": {
    "ExecuteTime": {
     "end_time": "2019-03-08T06:45:27.870208Z",
     "start_time": "2019-03-08T06:45:27.386717Z"
    }
   },
   "outputs": [],
   "source": [
    "# # Filter the network for symmetric only \n",
    "\n",
    "# # list of users in symmetric network\n",
    "# user_list = list(unified_followers.keys())\n",
    "\n",
    "# # filter only users in symmetric network\n",
    "# symm_followers = filter_symmetric_from_dict(unified_followers)\n",
    "\n",
    "# # make graph\n",
    "# H = nx.from_dict_of_lists(symm_followers, create_using=nx.DiGraph())"
   ]
  },
  {
   "cell_type": "code",
   "execution_count": 38,
   "metadata": {
    "ExecuteTime": {
     "end_time": "2019-03-08T06:45:28.106173Z",
     "start_time": "2019-03-08T06:45:28.101881Z"
    }
   },
   "outputs": [
    {
     "data": {
      "text/plain": [
       "12439"
      ]
     },
     "execution_count": 38,
     "metadata": {},
     "output_type": "execute_result"
    }
   ],
   "source": [
    "# # Number of nodes in symmetric network\n",
    "# len(H.nodes)"
   ]
  },
  {
   "cell_type": "markdown",
   "metadata": {
    "ExecuteTime": {
     "end_time": "2019-03-07T16:19:51.475809Z",
     "start_time": "2019-03-07T16:19:51.472826Z"
    }
   },
   "source": [
    "### Basic Properties"
   ]
  },
  {
   "cell_type": "code",
   "execution_count": 39,
   "metadata": {
    "ExecuteTime": {
     "end_time": "2019-03-08T06:45:30.710980Z",
     "start_time": "2019-03-08T06:45:30.671519Z"
    }
   },
   "outputs": [
    {
     "data": {
      "text/html": [
       "<div>\n",
       "<style scoped>\n",
       "    .dataframe tbody tr th:only-of-type {\n",
       "        vertical-align: middle;\n",
       "    }\n",
       "\n",
       "    .dataframe tbody tr th {\n",
       "        vertical-align: top;\n",
       "    }\n",
       "\n",
       "    .dataframe thead th {\n",
       "        text-align: right;\n",
       "    }\n",
       "</style>\n",
       "<table border=\"1\" class=\"dataframe\">\n",
       "  <thead>\n",
       "    <tr style=\"text-align: right;\">\n",
       "      <th></th>\n",
       "      <th>0</th>\n",
       "    </tr>\n",
       "  </thead>\n",
       "  <tbody>\n",
       "    <tr>\n",
       "      <th>avg_degree</th>\n",
       "      <td>3.510893</td>\n",
       "    </tr>\n",
       "    <tr>\n",
       "      <th>min_degree</th>\n",
       "      <td>2.000000</td>\n",
       "    </tr>\n",
       "    <tr>\n",
       "      <th>max_degree</th>\n",
       "      <td>1916.000000</td>\n",
       "    </tr>\n",
       "  </tbody>\n",
       "</table>\n",
       "</div>"
      ],
      "text/plain": [
       "                      0\n",
       "avg_degree     3.510893\n",
       "min_degree     2.000000\n",
       "max_degree  1916.000000"
      ]
     },
     "execution_count": 39,
     "metadata": {},
     "output_type": "execute_result"
    }
   ],
   "source": [
    "# degs = [k for n, k in H.degree]\n",
    "# avg_deg = np.mean(degs)\n",
    "# min_deg = np.min(degs)\n",
    "# max_deg = np.max(degs)\n",
    "\n",
    "# vals = {\"avg_degree\":[avg_deg], \"min_degree\":[min_deg], \"max_degree\":[max_deg]}\n",
    "# pd.DataFrame.from_dict(vals).T"
   ]
  },
  {
   "cell_type": "markdown",
   "metadata": {},
   "source": [
    "### Degree Distribution"
   ]
  },
  {
   "cell_type": "code",
   "execution_count": 42,
   "metadata": {
    "ExecuteTime": {
     "end_time": "2019-03-08T06:45:49.972666Z",
     "start_time": "2019-03-08T06:45:49.333911Z"
    }
   },
   "outputs": [
    {
     "data": {
      "text/plain": [
       "Text(0.5,1,'Degree distribution')"
      ]
     },
     "execution_count": 42,
     "metadata": {},
     "output_type": "execute_result"
    },
    {
     "data": {
      "image/png": "[encoded data removed]",
      "text/plain": [
       "<matplotlib.figure.Figure at 0x1530b4d550>"
      ]
     },
     "metadata": {},
     "output_type": "display_data"
    }
   ],
   "source": [
    "# # degree distribution\n",
    "# degs = [v for k, v in H.degree]\n",
    "\n",
    "# # count\n",
    "# deg_count = Counter(degs)\n",
    "\n",
    "# # plot\n",
    "# plt.loglog(deg_count.keys(), deg_count.values(), 'o', alpha=0.5)\n",
    "\n",
    "# plt.xlabel(\"degree\")\n",
    "# plt.ylabel(\"num nodes\")\n",
    "# plt.title(\"Degree distribution\")"
   ]
  },
  {
   "cell_type": "code",
   "execution_count": null,
   "metadata": {
    "ExecuteTime": {
     "end_time": "2019-03-07T19:20:01.796746Z",
     "start_time": "2019-03-07T19:20:01.793472Z"
    }
   },
   "outputs": [],
   "source": [
    "# VISUALIZATION\n",
    "# # Use spring layout\n",
    "# pos = nx.spring_layout(H)\n",
    "\n",
    "# # draw graph\n",
    "# plt.figure(figsize=(10, 10))\n",
    "# nx.draw(H, pos=pos, node_size=2, with_labels=True, font_color='b', font_size=10)"
   ]
  },
  {
   "cell_type": "markdown",
   "metadata": {},
   "source": [
    "## Fraction of Recruited Users Over Time (Nodes)\n"
   ]
  },
  {
   "cell_type": "code",
   "execution_count": 44,
   "metadata": {
    "ExecuteTime": {
     "end_time": "2019-03-08T06:45:53.307828Z",
     "start_time": "2019-03-08T06:45:53.304926Z"
    }
   },
   "outputs": [],
   "source": [
    "## CONSIDER RETWEETS - CURRENTLY CODE BELOW REMOVES RETWEETS DUE TO LACK OF DATE"
   ]
  },
  {
   "cell_type": "code",
   "execution_count": 584,
   "metadata": {
    "ExecuteTime": {
     "end_time": "2019-03-09T16:18:08.032070Z",
     "start_time": "2019-03-09T16:18:06.142500Z"
    }
   },
   "outputs": [
    {
     "data": {
      "text/html": [
       "<div>\n",
       "<style scoped>\n",
       "    .dataframe tbody tr th:only-of-type {\n",
       "        vertical-align: middle;\n",
       "    }\n",
       "\n",
       "    .dataframe tbody tr th {\n",
       "        vertical-align: top;\n",
       "    }\n",
       "\n",
       "    .dataframe thead th {\n",
       "        text-align: right;\n",
       "    }\n",
       "</style>\n",
       "<table border=\"1\" class=\"dataframe\">\n",
       "  <thead>\n",
       "    <tr style=\"text-align: right;\">\n",
       "      <th></th>\n",
       "      <th>index</th>\n",
       "      <th>date</th>\n",
       "      <th>likes</th>\n",
       "      <th>parent_tweet_id</th>\n",
       "      <th>replies</th>\n",
       "      <th>reply</th>\n",
       "      <th>retweet</th>\n",
       "      <th>retweets</th>\n",
       "      <th>text</th>\n",
       "      <th>timestamp</th>\n",
       "      <th>tweet_id</th>\n",
       "      <th>user_id</th>\n",
       "      <th>user_name</th>\n",
       "      <th>user_screen_name</th>\n",
       "    </tr>\n",
       "  </thead>\n",
       "  <tbody>\n",
       "    <tr>\n",
       "      <th>0</th>\n",
       "      <td>0</td>\n",
       "      <td>2013-07-15 03:02:31</td>\n",
       "      <td>0</td>\n",
       "      <td>NaN</td>\n",
       "      <td>0</td>\n",
       "      <td>0</td>\n",
       "      <td>0</td>\n",
       "      <td>7</td>\n",
       "      <td>Pass the #PeoplesFOI. Open all records, of all...</td>\n",
       "      <td>1373857351</td>\n",
       "      <td>3.566097e+17</td>\n",
       "      <td>15023706</td>\n",
       "      <td>jenina joy chavez</td>\n",
       "      <td>jeninajoy</td>\n",
       "    </tr>\n",
       "    <tr>\n",
       "      <th>1</th>\n",
       "      <td>1</td>\n",
       "      <td>2013-07-15 03:34:24</td>\n",
       "      <td>0</td>\n",
       "      <td>NaN</td>\n",
       "      <td>1</td>\n",
       "      <td>0</td>\n",
       "      <td>0</td>\n",
       "      <td>1</td>\n",
       "      <td>I want to hear the side of these 5 senators : ...</td>\n",
       "      <td>1373859264</td>\n",
       "      <td>3.566177e+17</td>\n",
       "      <td>3840981</td>\n",
       "      <td>Noemi L. Dado</td>\n",
       "      <td>momblogger</td>\n",
       "    </tr>\n",
       "    <tr>\n",
       "      <th>2</th>\n",
       "      <td>2</td>\n",
       "      <td>2013-07-15 03:58:51</td>\n",
       "      <td>0</td>\n",
       "      <td>3.566177e+17</td>\n",
       "      <td>0</td>\n",
       "      <td>1</td>\n",
       "      <td>0</td>\n",
       "      <td>0</td>\n",
       "      <td>@momblogger With Billion Peso scam involving s...</td>\n",
       "      <td>1373860731</td>\n",
       "      <td>3.566239e+17</td>\n",
       "      <td>87556024</td>\n",
       "      <td>PJ Coronel Reyes</td>\n",
       "      <td>peejayreyes</td>\n",
       "    </tr>\n",
       "    <tr>\n",
       "      <th>3</th>\n",
       "      <td>3</td>\n",
       "      <td>2013-07-15 05:56:09</td>\n",
       "      <td>0</td>\n",
       "      <td>NaN</td>\n",
       "      <td>2</td>\n",
       "      <td>0</td>\n",
       "      <td>0</td>\n",
       "      <td>4</td>\n",
       "      <td>“@1nutty_hazel: Dear Revilla, wag sanang feeli...</td>\n",
       "      <td>1373867769</td>\n",
       "      <td>3.566534e+17</td>\n",
       "      <td>77471719</td>\n",
       "      <td>elizabeth angsioco</td>\n",
       "      <td>bethangsioco</td>\n",
       "    </tr>\n",
       "    <tr>\n",
       "      <th>4</th>\n",
       "      <td>4</td>\n",
       "      <td>2013-07-15 06:01:03</td>\n",
       "      <td>0</td>\n",
       "      <td>3.566534e+17</td>\n",
       "      <td>0</td>\n",
       "      <td>1</td>\n",
       "      <td>0</td>\n",
       "      <td>0</td>\n",
       "      <td>@bethangsioco @1nutty_hazel Lets start with LP...</td>\n",
       "      <td>1373868063</td>\n",
       "      <td>3.566546e+17</td>\n",
       "      <td>350167521</td>\n",
       "      <td>Mama's Boy</td>\n",
       "      <td>noypiaquino</td>\n",
       "    </tr>\n",
       "  </tbody>\n",
       "</table>\n",
       "</div>"
      ],
      "text/plain": [
       "   index                date  likes  parent_tweet_id  replies  reply  retweet  \\\n",
       "0      0 2013-07-15 03:02:31      0              NaN        0      0        0   \n",
       "1      1 2013-07-15 03:34:24      0              NaN        1      0        0   \n",
       "2      2 2013-07-15 03:58:51      0     3.566177e+17        0      1        0   \n",
       "3      3 2013-07-15 05:56:09      0              NaN        2      0        0   \n",
       "4      4 2013-07-15 06:01:03      0     3.566534e+17        0      1        0   \n",
       "\n",
       "   retweets                                               text   timestamp  \\\n",
       "0         7  Pass the #PeoplesFOI. Open all records, of all...  1373857351   \n",
       "1         1  I want to hear the side of these 5 senators : ...  1373859264   \n",
       "2         0  @momblogger With Billion Peso scam involving s...  1373860731   \n",
       "3         4  “@1nutty_hazel: Dear Revilla, wag sanang feeli...  1373867769   \n",
       "4         0  @bethangsioco @1nutty_hazel Lets start with LP...  1373868063   \n",
       "\n",
       "       tweet_id    user_id           user_name user_screen_name  \n",
       "0  3.566097e+17   15023706   jenina joy chavez        jeninajoy  \n",
       "1  3.566177e+17    3840981       Noemi L. Dado       momblogger  \n",
       "2  3.566239e+17   87556024    PJ Coronel Reyes      peejayreyes  \n",
       "3  3.566534e+17   77471719  elizabeth angsioco     bethangsioco  \n",
       "4  3.566546e+17  350167521          Mama's Boy      noypiaquino  "
      ]
     },
     "execution_count": 584,
     "metadata": {},
     "output_type": "execute_result"
    }
   ],
   "source": [
    "# loading Tweets as dataframe\n",
    "tweets_0 = pd.read_json(\"data/tweets_merged.json\")\n",
    "\n",
    "# remove hashtag column to avoid duplicates (some tweets have >1 hashtags)\n",
    "tweets_0 = tweets_0.drop(\"hashtag\", axis=1)\n",
    "\n",
    "# drop duplicates by tweet_id EXCEPT NULL -- HOW TO DO THIS?\n",
    "tweets_0 = tweets_0[tweets_0['tweet_id'].isnull(\n",
    ") | ~tweets_0[tweets_0['tweet_id'].notnull()].duplicated(subset='tweet_id', keep='first')]\n",
    "\n",
    "# cleaning up user_screen_name\n",
    "pattern = re.compile(\"[\\w]+\")\n",
    "tweets_0.user_screen_name = tweets_0.user_screen_name.apply(\n",
    "    lambda x: re.findall(pattern, \"\".join(re.findall(pattern, x)).lower())[0])\n",
    "\n",
    "# convert date to date time\n",
    "tweets = tweets_0.copy()\n",
    "tweets.date = pd.to_datetime(tweets_0.date)\n",
    "\n",
    "# remove date outside 2013\n",
    "tweets = tweets[(tweets['date'] > '2013-01-01 00:00:00')\n",
    "                & (tweets['date'] <= '2013-12-31 00:00:00')]\n",
    "\n",
    "# HOW ABOUT THE RETWEETS\n",
    "\n",
    "# sort values by date\n",
    "tweets = tweets.sort_values(by=\"date\")\n",
    "\n",
    "# drop duplicates in case there are duplicates\n",
    "tweets = tweets.drop_duplicates(keep=\"first\")\n",
    "\n",
    "# reset index\n",
    "tweets = tweets.reset_index()\n",
    "\n",
    "tweets.head()"
   ]
  },
  {
   "cell_type": "code",
   "execution_count": 585,
   "metadata": {
    "ExecuteTime": {
     "end_time": "2019-03-09T16:18:09.207385Z",
     "start_time": "2019-03-09T16:18:09.199868Z"
    }
   },
   "outputs": [
    {
     "data": {
      "text/plain": [
       "16303"
      ]
     },
     "execution_count": 585,
     "metadata": {},
     "output_type": "execute_result"
    }
   ],
   "source": [
    "# length of dataframe\n",
    "len(tweets_0)"
   ]
  },
  {
   "cell_type": "code",
   "execution_count": 586,
   "metadata": {
    "ExecuteTime": {
     "end_time": "2019-03-09T16:18:10.227844Z",
     "start_time": "2019-03-09T16:18:10.218153Z"
    }
   },
   "outputs": [
    {
     "data": {
      "text/plain": [
       "1156"
      ]
     },
     "execution_count": 586,
     "metadata": {},
     "output_type": "execute_result"
    }
   ],
   "source": [
    "# length of tweets only\n",
    "len(tweets_0[np.logical_and(tweets_0.reply == 0, tweets_0.retweet == 0)])"
   ]
  },
  {
   "cell_type": "code",
   "execution_count": 588,
   "metadata": {
    "ExecuteTime": {
     "end_time": "2019-03-09T16:18:12.820084Z",
     "start_time": "2019-03-09T16:18:12.809626Z"
    }
   },
   "outputs": [
    {
     "data": {
      "text/plain": [
       "13011"
      ]
     },
     "execution_count": 588,
     "metadata": {},
     "output_type": "execute_result"
    }
   ],
   "source": [
    "# number of retweets\n",
    "len(tweets_0[tweets_0.retweet == 1])"
   ]
  },
  {
   "cell_type": "code",
   "execution_count": 589,
   "metadata": {
    "ExecuteTime": {
     "end_time": "2019-03-09T16:18:19.877873Z",
     "start_time": "2019-03-09T16:18:19.867799Z"
    }
   },
   "outputs": [
    {
     "data": {
      "text/plain": [
       "2136"
      ]
     },
     "execution_count": 589,
     "metadata": {},
     "output_type": "execute_result"
    }
   ],
   "source": [
    "# number of replies\n",
    "len(tweets_0[tweets_0.reply == 1])"
   ]
  },
  {
   "cell_type": "code",
   "execution_count": 945,
   "metadata": {
    "ExecuteTime": {
     "end_time": "2019-03-10T04:33:32.312676Z",
     "start_time": "2019-03-10T04:33:32.068646Z"
    },
    "scrolled": false
   },
   "outputs": [
    {
     "data": {
      "text/plain": [
       "Text(0.5,1,'Fraction of recruited users over time')"
      ]
     },
     "execution_count": 945,
     "metadata": {},
     "output_type": "execute_result"
    },
    {
     "data": {
      "image/png": "[encoded data removed]",
      "text/plain": [
       "<matplotlib.figure.Figure at 0x154b5bcb38>"
      ]
     },
     "metadata": {},
     "output_type": "display_data"
    }
   ],
   "source": [
    "# get only the first time a unique user tweet/retweet or replies with relevant #hash\n",
    "unique_users = tweets.drop_duplicates(subset=\"user_screen_name\", keep=\"first\")\n",
    "\n",
    "# sort by date\n",
    "unique_users = unique_users.sort_values(by=\"date\")\n",
    "\n",
    "# reset index\n",
    "unique_users = unique_users.reset_index()\n",
    "\n",
    "# get cumulative distribution, each user adds 1 to the count\n",
    "count_cumulative = [i + 1 for i in range(len(unique_users))]\n",
    "prop_cumulative = [i / len(unique_users) for i in range(len(unique_users))]\n",
    "\n",
    "# plot the distribution\n",
    "plt.plot(unique_users.date, prop_cumulative)\n",
    "plt.xticks(rotation=90)\n",
    "plt.xlabel(\"date\")\n",
    "plt.ylabel(\"$N_a/N$\")\n",
    "plt.title(\"Fraction of recruited users over time\")"
   ]
  },
  {
   "cell_type": "code",
   "execution_count": 941,
   "metadata": {
    "ExecuteTime": {
     "end_time": "2019-03-10T04:32:53.100627Z",
     "start_time": "2019-03-10T04:32:53.091158Z"
    }
   },
   "outputs": [
    {
     "data": {
      "text/plain": [
       "2013-08-26    1151\n",
       "2013-10-04      53\n",
       "2013-08-27      49\n",
       "2013-09-16      40\n",
       "2013-08-28      38\n",
       "2013-08-29      30\n",
       "2013-09-12      27\n",
       "2013-11-07      23\n",
       "2013-09-18      17\n",
       "2013-09-25       9\n",
       "Name: date, dtype: int64"
      ]
     },
     "execution_count": 941,
     "metadata": {},
     "output_type": "execute_result"
    }
   ],
   "source": [
    "# get days with most frequent tweets\n",
    "unique_users.date.dt.date.value_counts()[:10]"
   ]
  },
  {
   "cell_type": "code",
   "execution_count": 592,
   "metadata": {
    "ExecuteTime": {
     "end_time": "2019-03-09T16:18:22.733390Z",
     "start_time": "2019-03-09T16:18:22.730229Z"
    }
   },
   "outputs": [],
   "source": [
    "## DO THE SAME ABOVE FOR COMBINATIONS OF TWEETS, RETWEETS, and REPLIES"
   ]
  },
  {
   "cell_type": "code",
   "execution_count": 593,
   "metadata": {
    "ExecuteTime": {
     "end_time": "2019-03-09T16:18:23.366295Z",
     "start_time": "2019-03-09T16:18:23.361771Z"
    }
   },
   "outputs": [
    {
     "data": {
      "text/plain": [
       "1844"
      ]
     },
     "execution_count": 593,
     "metadata": {},
     "output_type": "execute_result"
    }
   ],
   "source": [
    "# number of unique users\n",
    "# Excluding retweets\n",
    "len(unique_users)"
   ]
  },
  {
   "cell_type": "code",
   "execution_count": 594,
   "metadata": {
    "ExecuteTime": {
     "end_time": "2019-03-09T16:18:24.331727Z",
     "start_time": "2019-03-09T16:18:24.194453Z"
    }
   },
   "outputs": [
    {
     "name": "stdout",
     "output_type": "stream",
     "text": [
      "No. of tweets/replies: 3291\n",
      "No. of unique tweets/replies: 3245\n"
     ]
    }
   ],
   "source": [
    "# Add date column to tweets data (without time)\n",
    "tweets['date'] = [tweets.date[i].date() for i in range(len(tweets))]\n",
    "\n",
    "# Number of tweets and unique tweets and replies\n",
    "# No retweets\n",
    "print(\"No. of tweets/replies:\", len(tweets))\n",
    "print(\"No. of unique tweets/replies:\", len(tweets.text.unique()))\n",
    "\n",
    "# Add date to nodes data for filtering say of degrees?"
   ]
  },
  {
   "cell_type": "code",
   "execution_count": 942,
   "metadata": {
    "ExecuteTime": {
     "end_time": "2019-03-10T04:33:04.855547Z",
     "start_time": "2019-03-10T04:33:04.677928Z"
    }
   },
   "outputs": [
    {
     "data": {
      "text/html": [
       "<div>\n",
       "<style scoped>\n",
       "    .dataframe tbody tr th:only-of-type {\n",
       "        vertical-align: middle;\n",
       "    }\n",
       "\n",
       "    .dataframe tbody tr th {\n",
       "        vertical-align: top;\n",
       "    }\n",
       "\n",
       "    .dataframe thead th {\n",
       "        text-align: right;\n",
       "    }\n",
       "</style>\n",
       "<table border=\"1\" class=\"dataframe\">\n",
       "  <thead>\n",
       "    <tr style=\"text-align: right;\">\n",
       "      <th></th>\n",
       "      <th>date</th>\n",
       "      <th>likes</th>\n",
       "      <th>parent_tweet_id</th>\n",
       "      <th>replies</th>\n",
       "      <th>reply</th>\n",
       "      <th>retweet</th>\n",
       "      <th>retweets</th>\n",
       "      <th>text</th>\n",
       "      <th>timestamp</th>\n",
       "      <th>tweet_id</th>\n",
       "      <th>user_id</th>\n",
       "      <th>user_name</th>\n",
       "      <th>user_screen_name</th>\n",
       "    </tr>\n",
       "  </thead>\n",
       "  <tbody>\n",
       "    <tr>\n",
       "      <th>0</th>\n",
       "      <td>2013-07-15</td>\n",
       "      <td>0</td>\n",
       "      <td>NaN</td>\n",
       "      <td>0</td>\n",
       "      <td>0</td>\n",
       "      <td>0</td>\n",
       "      <td>7</td>\n",
       "      <td>Pass the #PeoplesFOI. Open all records, of all...</td>\n",
       "      <td>1373857351</td>\n",
       "      <td>3.566097e+17</td>\n",
       "      <td>15023706</td>\n",
       "      <td>jenina joy chavez</td>\n",
       "      <td>jeninajoy</td>\n",
       "    </tr>\n",
       "    <tr>\n",
       "      <th>1</th>\n",
       "      <td>2013-07-15</td>\n",
       "      <td>0</td>\n",
       "      <td>NaN</td>\n",
       "      <td>1</td>\n",
       "      <td>0</td>\n",
       "      <td>0</td>\n",
       "      <td>1</td>\n",
       "      <td>I want to hear the side of these 5 senators : ...</td>\n",
       "      <td>1373859264</td>\n",
       "      <td>3.566177e+17</td>\n",
       "      <td>3840981</td>\n",
       "      <td>Noemi L. Dado</td>\n",
       "      <td>momblogger</td>\n",
       "    </tr>\n",
       "    <tr>\n",
       "      <th>2</th>\n",
       "      <td>2013-07-15</td>\n",
       "      <td>0</td>\n",
       "      <td>3.566177e+17</td>\n",
       "      <td>0</td>\n",
       "      <td>1</td>\n",
       "      <td>0</td>\n",
       "      <td>0</td>\n",
       "      <td>@momblogger With Billion Peso scam involving s...</td>\n",
       "      <td>1373860731</td>\n",
       "      <td>3.566239e+17</td>\n",
       "      <td>87556024</td>\n",
       "      <td>PJ Coronel Reyes</td>\n",
       "      <td>peejayreyes</td>\n",
       "    </tr>\n",
       "    <tr>\n",
       "      <th>3</th>\n",
       "      <td>2013-07-15</td>\n",
       "      <td>0</td>\n",
       "      <td>NaN</td>\n",
       "      <td>2</td>\n",
       "      <td>0</td>\n",
       "      <td>0</td>\n",
       "      <td>4</td>\n",
       "      <td>“@1nutty_hazel: Dear Revilla, wag sanang feeli...</td>\n",
       "      <td>1373867769</td>\n",
       "      <td>3.566534e+17</td>\n",
       "      <td>77471719</td>\n",
       "      <td>elizabeth angsioco</td>\n",
       "      <td>bethangsioco</td>\n",
       "    </tr>\n",
       "    <tr>\n",
       "      <th>4</th>\n",
       "      <td>2013-07-15</td>\n",
       "      <td>0</td>\n",
       "      <td>3.566534e+17</td>\n",
       "      <td>0</td>\n",
       "      <td>1</td>\n",
       "      <td>0</td>\n",
       "      <td>0</td>\n",
       "      <td>@bethangsioco @1nutty_hazel Lets start with LP...</td>\n",
       "      <td>1373868063</td>\n",
       "      <td>3.566546e+17</td>\n",
       "      <td>350167521</td>\n",
       "      <td>Mama's Boy</td>\n",
       "      <td>noypiaquino</td>\n",
       "    </tr>\n",
       "  </tbody>\n",
       "</table>\n",
       "</div>"
      ],
      "text/plain": [
       "         date  likes  parent_tweet_id  replies  reply  retweet  retweets  \\\n",
       "0  2013-07-15      0              NaN        0      0        0         7   \n",
       "1  2013-07-15      0              NaN        1      0        0         1   \n",
       "2  2013-07-15      0     3.566177e+17        0      1        0         0   \n",
       "3  2013-07-15      0              NaN        2      0        0         4   \n",
       "4  2013-07-15      0     3.566534e+17        0      1        0         0   \n",
       "\n",
       "                                                text   timestamp  \\\n",
       "0  Pass the #PeoplesFOI. Open all records, of all...  1373857351   \n",
       "1  I want to hear the side of these 5 senators : ...  1373859264   \n",
       "2  @momblogger With Billion Peso scam involving s...  1373860731   \n",
       "3  “@1nutty_hazel: Dear Revilla, wag sanang feeli...  1373867769   \n",
       "4  @bethangsioco @1nutty_hazel Lets start with LP...  1373868063   \n",
       "\n",
       "       tweet_id    user_id           user_name user_screen_name  \n",
       "0  3.566097e+17   15023706   jenina joy chavez        jeninajoy  \n",
       "1  3.566177e+17    3840981       Noemi L. Dado       momblogger  \n",
       "2  3.566239e+17   87556024    PJ Coronel Reyes      peejayreyes  \n",
       "3  3.566534e+17   77471719  elizabeth angsioco     bethangsioco  \n",
       "4  3.566546e+17  350167521          Mama's Boy      noypiaquino  "
      ]
     },
     "execution_count": 942,
     "metadata": {},
     "output_type": "execute_result"
    }
   ],
   "source": [
    "# filter only those in unified_followers dataset\n",
    "users_list = list(unified_followers.keys())\n",
    "tweets_2 = tweets[tweets.user_screen_name.isin(\n",
    "    users_list)].reset_index(drop=True)\n",
    "tweets_2 = tweets_2.drop(\"index\", axis=1)\n",
    "tweets_2.head()"
   ]
  },
  {
   "cell_type": "code",
   "execution_count": 596,
   "metadata": {
    "ExecuteTime": {
     "end_time": "2019-03-09T16:18:37.953468Z",
     "start_time": "2019-03-09T16:18:34.543440Z"
    },
    "scrolled": true
   },
   "outputs": [],
   "source": [
    "# check for similar tweet_id values - there shouldn't be duplicates\n",
    "# WE CAN REMOVE THIS\n",
    "for i in range(len(tweets)):\n",
    "    if len(tweets[tweets.tweet_id == tweets.tweet_id.values[i]]) > 1:\n",
    "        display(tweets[tweets.tweet_id == tweets.tweet_id.values[i]])\n"
   ]
  },
  {
   "cell_type": "code",
   "execution_count": 597,
   "metadata": {
    "ExecuteTime": {
     "end_time": "2019-03-09T16:18:39.327304Z",
     "start_time": "2019-03-09T16:18:39.320465Z"
    }
   },
   "outputs": [
    {
     "data": {
      "text/plain": [
       "(2939, 1530)"
      ]
     },
     "execution_count": 597,
     "metadata": {},
     "output_type": "execute_result"
    }
   ],
   "source": [
    "# No. of filtered tweets and users\n",
    "len(tweets_2), len(tweets_2.user_screen_name.unique())"
   ]
  },
  {
   "cell_type": "markdown",
   "metadata": {},
   "source": [
    "## Filtering Only Users that Tweeted the #Hashtag and their Followers (who may or may not have tweeted the #Hashtag)"
   ]
  },
  {
   "cell_type": "markdown",
   "metadata": {},
   "source": [
    "### Asymmetric Graph"
   ]
  },
  {
   "cell_type": "code",
   "execution_count": 598,
   "metadata": {
    "ExecuteTime": {
     "end_time": "2019-03-09T16:18:42.863547Z",
     "start_time": "2019-03-09T16:18:42.823388Z"
    }
   },
   "outputs": [
    {
     "data": {
      "text/plain": [
       "9342"
      ]
     },
     "execution_count": 598,
     "metadata": {},
     "output_type": "execute_result"
    }
   ],
   "source": [
    "# get list of unique user_screen_name in pandas dataframe\n",
    "# this is the list that is both in the followers list and in the tweets data\n",
    "# No yet concern for TIME so WE USE tweets_0\n",
    "# tweets, replies, and retweets\n",
    "final_users = list(tweets_0.user_screen_name.unique())\n",
    "len(final_users)"
   ]
  },
  {
   "cell_type": "code",
   "execution_count": 599,
   "metadata": {
    "ExecuteTime": {
     "end_time": "2019-03-09T16:18:43.751601Z",
     "start_time": "2019-03-09T16:18:43.667895Z"
    }
   },
   "outputs": [
    {
     "data": {
      "text/plain": [
       "7032"
      ]
     },
     "execution_count": 599,
     "metadata": {},
     "output_type": "execute_result"
    }
   ],
   "source": [
    "# filter user - follower dictionary to include only those selected above\n",
    "# users_followers = {k: unified_followers[k] for k in final_users}\n",
    "# Get the intersection of user:followers list and the tweets\n",
    "\n",
    "# some users in the dataframe has not been scraped yet\n",
    "users_followers = {}\n",
    "for k in final_users:\n",
    "    try: users_followers[k] = unified_followers[k]\n",
    "    except: continue\n",
    "\n",
    "# these are the keys only\n",
    "len(users_followers)"
   ]
  },
  {
   "cell_type": "code",
   "execution_count": 600,
   "metadata": {
    "ExecuteTime": {
     "end_time": "2019-03-09T16:18:46.369751Z",
     "start_time": "2019-03-09T16:18:44.935651Z"
    }
   },
   "outputs": [
    {
     "data": {
      "text/plain": [
       "232716"
      ]
     },
     "execution_count": 600,
     "metadata": {},
     "output_type": "execute_result"
    }
   ],
   "source": [
    "# make a network using the filtered users_followers above\n",
    "# load Graph of followers\n",
    "# includes nodes that may not have tweeted about the protest\n",
    "G = nx.from_dict_of_lists(users_followers, create_using=nx.DiGraph())\n",
    "\n",
    "# Use spring layout\n",
    "# pos = nx.spring_layout(G)\n",
    "\n",
    "len(G.nodes)"
   ]
  },
  {
   "cell_type": "markdown",
   "metadata": {},
   "source": [
    "#### Basic Properties"
   ]
  },
  {
   "cell_type": "code",
   "execution_count": 601,
   "metadata": {
    "ExecuteTime": {
     "end_time": "2019-03-09T16:18:47.160593Z",
     "start_time": "2019-03-09T16:18:46.918006Z"
    }
   },
   "outputs": [
    {
     "data": {
      "text/html": [
       "<div>\n",
       "<style scoped>\n",
       "    .dataframe tbody tr th:only-of-type {\n",
       "        vertical-align: middle;\n",
       "    }\n",
       "\n",
       "    .dataframe tbody tr th {\n",
       "        vertical-align: top;\n",
       "    }\n",
       "\n",
       "    .dataframe thead th {\n",
       "        text-align: right;\n",
       "    }\n",
       "</style>\n",
       "<table border=\"1\" class=\"dataframe\">\n",
       "  <thead>\n",
       "    <tr style=\"text-align: right;\">\n",
       "      <th></th>\n",
       "      <th>0</th>\n",
       "    </tr>\n",
       "  </thead>\n",
       "  <tbody>\n",
       "    <tr>\n",
       "      <th>avg_degree</th>\n",
       "      <td>1.169769</td>\n",
       "    </tr>\n",
       "    <tr>\n",
       "      <th>min_degree</th>\n",
       "      <td>0.000000</td>\n",
       "    </tr>\n",
       "    <tr>\n",
       "      <th>max_degree</th>\n",
       "      <td>1902.000000</td>\n",
       "    </tr>\n",
       "  </tbody>\n",
       "</table>\n",
       "</div>"
      ],
      "text/plain": [
       "                      0\n",
       "avg_degree     1.169769\n",
       "min_degree     0.000000\n",
       "max_degree  1902.000000"
      ]
     },
     "execution_count": 601,
     "metadata": {},
     "output_type": "execute_result"
    }
   ],
   "source": [
    "# out degree\n",
    "degs = [k for n, k in G.out_degree]\n",
    "avg_deg = np.mean(degs)\n",
    "min_deg = np.min(degs)\n",
    "max_deg = np.max(degs)\n",
    "\n",
    "vals = {\"avg_degree\":[avg_deg], \"min_degree\":[min_deg], \"max_degree\":[max_deg]}\n",
    "pd.DataFrame.from_dict(vals).T"
   ]
  },
  {
   "cell_type": "code",
   "execution_count": 602,
   "metadata": {
    "ExecuteTime": {
     "end_time": "2019-03-09T16:18:48.132824Z",
     "start_time": "2019-03-09T16:18:47.839478Z"
    }
   },
   "outputs": [
    {
     "data": {
      "text/html": [
       "<div>\n",
       "<style scoped>\n",
       "    .dataframe tbody tr th:only-of-type {\n",
       "        vertical-align: middle;\n",
       "    }\n",
       "\n",
       "    .dataframe tbody tr th {\n",
       "        vertical-align: top;\n",
       "    }\n",
       "\n",
       "    .dataframe thead th {\n",
       "        text-align: right;\n",
       "    }\n",
       "</style>\n",
       "<table border=\"1\" class=\"dataframe\">\n",
       "  <thead>\n",
       "    <tr style=\"text-align: right;\">\n",
       "      <th></th>\n",
       "      <th>0</th>\n",
       "    </tr>\n",
       "  </thead>\n",
       "  <tbody>\n",
       "    <tr>\n",
       "      <th>avg_degree</th>\n",
       "      <td>1.169769</td>\n",
       "    </tr>\n",
       "    <tr>\n",
       "      <th>min_degree</th>\n",
       "      <td>0.000000</td>\n",
       "    </tr>\n",
       "    <tr>\n",
       "      <th>max_degree</th>\n",
       "      <td>391.000000</td>\n",
       "    </tr>\n",
       "  </tbody>\n",
       "</table>\n",
       "</div>"
      ],
      "text/plain": [
       "                     0\n",
       "avg_degree    1.169769\n",
       "min_degree    0.000000\n",
       "max_degree  391.000000"
      ]
     },
     "execution_count": 602,
     "metadata": {},
     "output_type": "execute_result"
    }
   ],
   "source": [
    "# in degree\n",
    "degs = [k for n, k in G.in_degree]\n",
    "avg_deg = np.mean(degs)\n",
    "min_deg = np.min(degs)\n",
    "max_deg = np.max(degs)\n",
    "\n",
    "vals = {\"avg_degree\":[avg_deg], \"min_degree\":[min_deg], \"max_degree\":[max_deg]}\n",
    "pd.DataFrame.from_dict(vals).T"
   ]
  },
  {
   "cell_type": "code",
   "execution_count": 603,
   "metadata": {
    "ExecuteTime": {
     "end_time": "2019-03-09T16:18:49.075443Z",
     "start_time": "2019-03-09T16:18:48.748741Z"
    }
   },
   "outputs": [
    {
     "data": {
      "text/html": [
       "<div>\n",
       "<style scoped>\n",
       "    .dataframe tbody tr th:only-of-type {\n",
       "        vertical-align: middle;\n",
       "    }\n",
       "\n",
       "    .dataframe tbody tr th {\n",
       "        vertical-align: top;\n",
       "    }\n",
       "\n",
       "    .dataframe thead th {\n",
       "        text-align: right;\n",
       "    }\n",
       "</style>\n",
       "<table border=\"1\" class=\"dataframe\">\n",
       "  <thead>\n",
       "    <tr style=\"text-align: right;\">\n",
       "      <th></th>\n",
       "      <th>0</th>\n",
       "    </tr>\n",
       "  </thead>\n",
       "  <tbody>\n",
       "    <tr>\n",
       "      <th>avg_degree</th>\n",
       "      <td>2.339538</td>\n",
       "    </tr>\n",
       "    <tr>\n",
       "      <th>min_degree</th>\n",
       "      <td>0.000000</td>\n",
       "    </tr>\n",
       "    <tr>\n",
       "      <th>max_degree</th>\n",
       "      <td>1989.000000</td>\n",
       "    </tr>\n",
       "  </tbody>\n",
       "</table>\n",
       "</div>"
      ],
      "text/plain": [
       "                      0\n",
       "avg_degree     2.339538\n",
       "min_degree     0.000000\n",
       "max_degree  1989.000000"
      ]
     },
     "execution_count": 603,
     "metadata": {},
     "output_type": "execute_result"
    }
   ],
   "source": [
    "# degree\n",
    "degs = [k for n, k in G.degree]\n",
    "avg_deg = np.mean(degs)\n",
    "min_deg = np.min(degs)\n",
    "max_deg = np.max(degs)\n",
    "\n",
    "vals = {\"avg_degree\":[avg_deg], \"min_degree\":[min_deg], \"max_degree\":[max_deg]}\n",
    "pd.DataFrame.from_dict(vals).T"
   ]
  },
  {
   "cell_type": "markdown",
   "metadata": {},
   "source": [
    "#### Degree Distribution"
   ]
  },
  {
   "cell_type": "code",
   "execution_count": 604,
   "metadata": {
    "ExecuteTime": {
     "end_time": "2019-03-09T16:18:51.929767Z",
     "start_time": "2019-03-09T16:18:50.691971Z"
    }
   },
   "outputs": [
    {
     "data": {
      "text/plain": [
       "Text(0.5,1,'Out degree distribution')"
      ]
     },
     "execution_count": 604,
     "metadata": {},
     "output_type": "execute_result"
    },
    {
     "data": {
      "image/png": "[encoded data removed]",
      "text/plain": [
       "<matplotlib.figure.Figure at 0x1158407f0>"
      ]
     },
     "metadata": {},
     "output_type": "display_data"
    }
   ],
   "source": [
    "# out degree distribution\n",
    "degs = [v for k, v in G.out_degree]\n",
    "\n",
    "# count\n",
    "deg_count = Counter(degs)\n",
    "\n",
    "# plot\n",
    "plt.loglog(deg_count.keys(), deg_count.values(), 'o', alpha=0.5)\n",
    "\n",
    "plt.xlabel(\"out_degree\")\n",
    "plt.ylabel(\"num nodes\")\n",
    "plt.title(\"Out degree distribution\")"
   ]
  },
  {
   "cell_type": "code",
   "execution_count": 605,
   "metadata": {
    "ExecuteTime": {
     "end_time": "2019-03-09T16:18:53.744517Z",
     "start_time": "2019-03-09T16:18:52.659747Z"
    }
   },
   "outputs": [
    {
     "data": {
      "text/plain": [
       "Text(0.5,1,'In degree distribution')"
      ]
     },
     "execution_count": 605,
     "metadata": {},
     "output_type": "execute_result"
    },
    {
     "data": {
      "image/png": "[encoded data removed]",
      "text/plain": [
       "<matplotlib.figure.Figure at 0x1535dd5b70>"
      ]
     },
     "metadata": {},
     "output_type": "display_data"
    }
   ],
   "source": [
    "# in degree distribution\n",
    "degs = [v for k, v in G.in_degree]\n",
    "\n",
    "# count\n",
    "deg_count = Counter(degs)\n",
    "\n",
    "# plot\n",
    "plt.loglog(deg_count.keys(), deg_count.values(), 'o', alpha=0.5)\n",
    "\n",
    "plt.xlabel(\"in_degree\")\n",
    "plt.ylabel(\"num nodes\")\n",
    "plt.title(\"In degree distribution\")"
   ]
  },
  {
   "cell_type": "code",
   "execution_count": 606,
   "metadata": {
    "ExecuteTime": {
     "end_time": "2019-03-09T16:18:55.662216Z",
     "start_time": "2019-03-09T16:18:54.426595Z"
    }
   },
   "outputs": [
    {
     "data": {
      "text/plain": [
       "Text(0.5,1,'Degree distribution')"
      ]
     },
     "execution_count": 606,
     "metadata": {},
     "output_type": "execute_result"
    },
    {
     "data": {
      "image/png": "[encoded data removed]",
      "text/plain": [
       "<matplotlib.figure.Figure at 0x1519a84cc0>"
      ]
     },
     "metadata": {},
     "output_type": "display_data"
    }
   ],
   "source": [
    "# degree distribution\n",
    "degs = [v for k, v in G.degree]\n",
    "\n",
    "# count\n",
    "deg_count = Counter(degs)\n",
    "\n",
    "# plot\n",
    "plt.loglog(deg_count.keys(), deg_count.values(), 'o', alpha=0.5)\n",
    "\n",
    "plt.xlabel(\"degree\")\n",
    "plt.ylabel(\"num nodes\")\n",
    "plt.title(\"Degree distribution\")"
   ]
  },
  {
   "cell_type": "code",
   "execution_count": 607,
   "metadata": {
    "ExecuteTime": {
     "end_time": "2019-03-09T16:18:57.725691Z",
     "start_time": "2019-03-09T16:18:57.720568Z"
    }
   },
   "outputs": [],
   "source": [
    "# # Use spring layout\n",
    "# pos = nx.spring_layout(G)\n",
    "\n",
    "# # draw graph\n",
    "# plt.figure(figsize=(8, 8))\n",
    "# nx.draw(G, pos=pos, node_size=2, with_labels=True)"
   ]
  },
  {
   "cell_type": "markdown",
   "metadata": {},
   "source": [
    "### Symmetric Graph"
   ]
  },
  {
   "cell_type": "code",
   "execution_count": 608,
   "metadata": {
    "ExecuteTime": {
     "end_time": "2019-03-09T16:18:59.565718Z",
     "start_time": "2019-03-09T16:18:59.411370Z"
    }
   },
   "outputs": [
    {
     "data": {
      "text/plain": [
       "658"
      ]
     },
     "execution_count": 608,
     "metadata": {},
     "output_type": "execute_result"
    }
   ],
   "source": [
    "# filter only symmetric\n",
    "sym_users_followers = filter_symmetric_from_dict(users_followers)\n",
    "len(sym_users_followers)"
   ]
  },
  {
   "cell_type": "code",
   "execution_count": 609,
   "metadata": {
    "ExecuteTime": {
     "end_time": "2019-03-09T16:19:00.155745Z",
     "start_time": "2019-03-09T16:19:00.146519Z"
    }
   },
   "outputs": [],
   "source": [
    "# load Graph of followers\n",
    "H = nx.from_dict_of_lists(sym_users_followers)"
   ]
  },
  {
   "cell_type": "markdown",
   "metadata": {},
   "source": [
    "#### Degree Distribution"
   ]
  },
  {
   "cell_type": "code",
   "execution_count": 610,
   "metadata": {
    "ExecuteTime": {
     "end_time": "2019-03-09T16:19:01.450599Z",
     "start_time": "2019-03-09T16:19:01.273153Z"
    }
   },
   "outputs": [
    {
     "data": {
      "text/plain": [
       "Text(0.5,1,'Degree distribution')"
      ]
     },
     "execution_count": 610,
     "metadata": {},
     "output_type": "execute_result"
    },
    {
     "data": {
      "image/png": "[encoded data removed]",
      "text/plain": [
       "<matplotlib.figure.Figure at 0x15192ce320>"
      ]
     },
     "metadata": {},
     "output_type": "display_data"
    }
   ],
   "source": [
    "# degree distribution\n",
    "degs = [v for k, v in H.degree]\n",
    "\n",
    "# count\n",
    "deg_count = Counter(degs)\n",
    "\n",
    "# plot\n",
    "plt.plot(deg_count.keys(), deg_count.values(), 'o', alpha=0.5)\n",
    "\n",
    "plt.xlabel(\"degree\")\n",
    "plt.ylabel(\"num nodes\")\n",
    "plt.title(\"Degree distribution\")"
   ]
  },
  {
   "cell_type": "code",
   "execution_count": 613,
   "metadata": {
    "ExecuteTime": {
     "end_time": "2019-03-09T16:19:38.660205Z",
     "start_time": "2019-03-09T16:19:31.808648Z"
    }
   },
   "outputs": [
    {
     "data": {
      "image/png": "[encoded data removed]",
      "text/plain": [
       "<matplotlib.figure.Figure at 0x15190cf208>"
      ]
     },
     "metadata": {},
     "output_type": "display_data"
    }
   ],
   "source": [
    "# Use spring layout\n",
    "pos = nx.spring_layout(H)\n",
    "\n",
    "# draw graph\n",
    "plt.figure(figsize=(10, 10))\n",
    "\n",
    "# draw graph\n",
    "nx.draw(H, pos=pos, node_size=2, with_labels=False,\n",
    "        font_color='b', font_size=20)\n",
    "\n",
    "# WE CAN'T SCRAPE ALL, LOTS OF MISSING LINKS"
   ]
  },
  {
   "cell_type": "code",
   "execution_count": 615,
   "metadata": {
    "ExecuteTime": {
     "end_time": "2019-03-09T16:20:10.068265Z",
     "start_time": "2019-03-09T16:20:10.060163Z"
    }
   },
   "outputs": [
    {
     "data": {
      "text/plain": [
       "array(['berniecadao', 'pinoytapsilog', 'philbantay', 'iamchrislao',\n",
       "       'javalavamanila'], dtype='<U15')"
      ]
     },
     "execution_count": 615,
     "metadata": {},
     "output_type": "execute_result"
    }
   ],
   "source": [
    "# top degrees in symmetric networks\n",
    "ind = np.argsort([v for k, v in H.degree])\n",
    "np.array([k for k, v in H.degree])[ind][::-1][:5]"
   ]
  },
  {
   "cell_type": "markdown",
   "metadata": {},
   "source": [
    "## Filter Only the Networks Whose Nodes Tweeted About the #Hashtags"
   ]
  },
  {
   "cell_type": "code",
   "execution_count": 644,
   "metadata": {
    "ExecuteTime": {
     "end_time": "2019-03-09T16:40:02.532977Z",
     "start_time": "2019-03-09T16:40:02.520879Z"
    }
   },
   "outputs": [],
   "source": [
    "# get only nodes (following and followers) that are in a specific list\n",
    "def filter_users_from_dic(followers_dic, user_list):\n",
    "    # make dictionary of filtered keys\n",
    "    # filter user - follower dictionary to include only those that tweeted\n",
    "    filtered_dic = {}\n",
    "    for k in user_list:\n",
    "        try: filtered_dic[k] = followers_dic[k]\n",
    "        except: continue\n",
    "\n",
    "    # filter values in dictionary - select only those in user_list\n",
    "    for k, v in filtered_dic.items():\n",
    "        filtered_dic[k] = [i for i in filtered_dic[k] if i in user_list]\n",
    "\n",
    "    return filtered_dic"
   ]
  },
  {
   "cell_type": "markdown",
   "metadata": {},
   "source": [
    "### Asymmetric Graph"
   ]
  },
  {
   "cell_type": "code",
   "execution_count": 631,
   "metadata": {
    "ExecuteTime": {
     "end_time": "2019-03-09T16:34:09.225468Z",
     "start_time": "2019-03-09T16:34:09.214496Z"
    }
   },
   "outputs": [
    {
     "data": {
      "text/plain": [
       "9342"
      ]
     },
     "execution_count": 631,
     "metadata": {},
     "output_type": "execute_result"
    }
   ],
   "source": [
    "# get list of unique user_screen_name in pandas dataframe\n",
    "# this is the list that is both in the followers list and in the tweets data\n",
    "# No yet concern for TIME so WE USE tweets_0\n",
    "# tweets, replies, and retweets\n",
    "final_users = list(tweets_0.user_screen_name.unique())\n",
    "len(final_users)"
   ]
  },
  {
   "cell_type": "code",
   "execution_count": 632,
   "metadata": {
    "ExecuteTime": {
     "end_time": "2019-03-09T16:34:49.925363Z",
     "start_time": "2019-03-09T16:34:09.843039Z"
    }
   },
   "outputs": [
    {
     "data": {
      "text/plain": [
       "7032"
      ]
     },
     "execution_count": 632,
     "metadata": {},
     "output_type": "execute_result"
    }
   ],
   "source": [
    "# Filter only the nodes in final_users list (tweeter data)\n",
    "users_followers = filter_users_from_dic(unified_followers, final_users)\n",
    "len(users_followers)"
   ]
  },
  {
   "cell_type": "code",
   "execution_count": 633,
   "metadata": {
    "ExecuteTime": {
     "end_time": "2019-03-09T16:34:50.027881Z",
     "start_time": "2019-03-09T16:34:49.927382Z"
    }
   },
   "outputs": [
    {
     "data": {
      "text/plain": [
       "7662"
      ]
     },
     "execution_count": 633,
     "metadata": {},
     "output_type": "execute_result"
    }
   ],
   "source": [
    "# make a network using the filtered users_followers above\n",
    "# load Graph of followers\n",
    "# includes nodes that may not have tweeted about the protest\n",
    "G = nx.from_dict_of_lists(users_followers, create_using=nx.DiGraph())\n",
    "\n",
    "# Use spring layout\n",
    "# pos = nx.spring_layout(G)\n",
    "\n",
    "len(G.nodes)"
   ]
  },
  {
   "cell_type": "markdown",
   "metadata": {},
   "source": [
    "#### Basic Properties"
   ]
  },
  {
   "cell_type": "code",
   "execution_count": 634,
   "metadata": {
    "ExecuteTime": {
     "end_time": "2019-03-09T16:36:03.704298Z",
     "start_time": "2019-03-09T16:36:03.676623Z"
    }
   },
   "outputs": [
    {
     "data": {
      "text/html": [
       "<div>\n",
       "<style scoped>\n",
       "    .dataframe tbody tr th:only-of-type {\n",
       "        vertical-align: middle;\n",
       "    }\n",
       "\n",
       "    .dataframe tbody tr th {\n",
       "        vertical-align: top;\n",
       "    }\n",
       "\n",
       "    .dataframe thead th {\n",
       "        text-align: right;\n",
       "    }\n",
       "</style>\n",
       "<table border=\"1\" class=\"dataframe\">\n",
       "  <thead>\n",
       "    <tr style=\"text-align: right;\">\n",
       "      <th></th>\n",
       "      <th>0</th>\n",
       "    </tr>\n",
       "  </thead>\n",
       "  <tbody>\n",
       "    <tr>\n",
       "      <th>avg_degree</th>\n",
       "      <td>2.538241</td>\n",
       "    </tr>\n",
       "    <tr>\n",
       "      <th>min_degree</th>\n",
       "      <td>0.000000</td>\n",
       "    </tr>\n",
       "    <tr>\n",
       "      <th>max_degree</th>\n",
       "      <td>391.000000</td>\n",
       "    </tr>\n",
       "  </tbody>\n",
       "</table>\n",
       "</div>"
      ],
      "text/plain": [
       "                     0\n",
       "avg_degree    2.538241\n",
       "min_degree    0.000000\n",
       "max_degree  391.000000"
      ]
     },
     "execution_count": 634,
     "metadata": {},
     "output_type": "execute_result"
    }
   ],
   "source": [
    "# out degree\n",
    "degs = [k for n, k in G.out_degree]\n",
    "avg_deg = np.mean(degs)\n",
    "min_deg = np.min(degs)\n",
    "max_deg = np.max(degs)\n",
    "\n",
    "vals = {\"avg_degree\":[avg_deg], \"min_degree\":[min_deg], \"max_degree\":[max_deg]}\n",
    "pd.DataFrame.from_dict(vals).T"
   ]
  },
  {
   "cell_type": "code",
   "execution_count": 635,
   "metadata": {
    "ExecuteTime": {
     "end_time": "2019-03-09T16:36:04.587832Z",
     "start_time": "2019-03-09T16:36:04.560106Z"
    }
   },
   "outputs": [
    {
     "data": {
      "text/html": [
       "<div>\n",
       "<style scoped>\n",
       "    .dataframe tbody tr th:only-of-type {\n",
       "        vertical-align: middle;\n",
       "    }\n",
       "\n",
       "    .dataframe tbody tr th {\n",
       "        vertical-align: top;\n",
       "    }\n",
       "\n",
       "    .dataframe thead th {\n",
       "        text-align: right;\n",
       "    }\n",
       "</style>\n",
       "<table border=\"1\" class=\"dataframe\">\n",
       "  <thead>\n",
       "    <tr style=\"text-align: right;\">\n",
       "      <th></th>\n",
       "      <th>0</th>\n",
       "    </tr>\n",
       "  </thead>\n",
       "  <tbody>\n",
       "    <tr>\n",
       "      <th>avg_degree</th>\n",
       "      <td>2.538241</td>\n",
       "    </tr>\n",
       "    <tr>\n",
       "      <th>min_degree</th>\n",
       "      <td>0.000000</td>\n",
       "    </tr>\n",
       "    <tr>\n",
       "      <th>max_degree</th>\n",
       "      <td>391.000000</td>\n",
       "    </tr>\n",
       "  </tbody>\n",
       "</table>\n",
       "</div>"
      ],
      "text/plain": [
       "                     0\n",
       "avg_degree    2.538241\n",
       "min_degree    0.000000\n",
       "max_degree  391.000000"
      ]
     },
     "execution_count": 635,
     "metadata": {},
     "output_type": "execute_result"
    }
   ],
   "source": [
    "# in degree\n",
    "degs = [k for n, k in G.in_degree]\n",
    "avg_deg = np.mean(degs)\n",
    "min_deg = np.min(degs)\n",
    "max_deg = np.max(degs)\n",
    "\n",
    "vals = {\"avg_degree\":[avg_deg], \"min_degree\":[min_deg], \"max_degree\":[max_deg]}\n",
    "pd.DataFrame.from_dict(vals).T"
   ]
  },
  {
   "cell_type": "code",
   "execution_count": 636,
   "metadata": {
    "ExecuteTime": {
     "end_time": "2019-03-09T16:36:23.825610Z",
     "start_time": "2019-03-09T16:36:23.802719Z"
    }
   },
   "outputs": [
    {
     "data": {
      "text/html": [
       "<div>\n",
       "<style scoped>\n",
       "    .dataframe tbody tr th:only-of-type {\n",
       "        vertical-align: middle;\n",
       "    }\n",
       "\n",
       "    .dataframe tbody tr th {\n",
       "        vertical-align: top;\n",
       "    }\n",
       "\n",
       "    .dataframe thead th {\n",
       "        text-align: right;\n",
       "    }\n",
       "</style>\n",
       "<table border=\"1\" class=\"dataframe\">\n",
       "  <thead>\n",
       "    <tr style=\"text-align: right;\">\n",
       "      <th></th>\n",
       "      <th>0</th>\n",
       "    </tr>\n",
       "  </thead>\n",
       "  <tbody>\n",
       "    <tr>\n",
       "      <th>avg_degree</th>\n",
       "      <td>5.076481</td>\n",
       "    </tr>\n",
       "    <tr>\n",
       "      <th>min_degree</th>\n",
       "      <td>0.000000</td>\n",
       "    </tr>\n",
       "    <tr>\n",
       "      <th>max_degree</th>\n",
       "      <td>467.000000</td>\n",
       "    </tr>\n",
       "  </tbody>\n",
       "</table>\n",
       "</div>"
      ],
      "text/plain": [
       "                     0\n",
       "avg_degree    5.076481\n",
       "min_degree    0.000000\n",
       "max_degree  467.000000"
      ]
     },
     "execution_count": 636,
     "metadata": {},
     "output_type": "execute_result"
    }
   ],
   "source": [
    "# degree\n",
    "degs = [k for n, k in G.degree]\n",
    "avg_deg = np.mean(degs)\n",
    "min_deg = np.min(degs)\n",
    "max_deg = np.max(degs)\n",
    "\n",
    "vals = {\"avg_degree\":[avg_deg], \"min_degree\":[min_deg], \"max_degree\":[max_deg]}\n",
    "pd.DataFrame.from_dict(vals).T"
   ]
  },
  {
   "cell_type": "markdown",
   "metadata": {},
   "source": [
    "#### Degree Distribution"
   ]
  },
  {
   "cell_type": "code",
   "execution_count": 637,
   "metadata": {
    "ExecuteTime": {
     "end_time": "2019-03-09T16:36:27.515380Z",
     "start_time": "2019-03-09T16:36:27.007009Z"
    }
   },
   "outputs": [
    {
     "data": {
      "text/plain": [
       "Text(0.5,1,'Out degree distribution')"
      ]
     },
     "execution_count": 637,
     "metadata": {},
     "output_type": "execute_result"
    },
    {
     "data": {
      "image/png": "[encoded data removed]",
      "text/plain": [
       "<matplotlib.figure.Figure at 0x15289ffef0>"
      ]
     },
     "metadata": {},
     "output_type": "display_data"
    }
   ],
   "source": [
    "# out degree distribution\n",
    "degs = [v for k, v in G.out_degree]\n",
    "\n",
    "# count\n",
    "deg_count = Counter(degs)\n",
    "\n",
    "# plot\n",
    "plt.loglog(deg_count.keys(), deg_count.values(), 'o', alpha=0.5)\n",
    "\n",
    "plt.xlabel(\"out_degree\")\n",
    "plt.ylabel(\"num nodes\")\n",
    "plt.title(\"Out degree distribution\")"
   ]
  },
  {
   "cell_type": "code",
   "execution_count": 638,
   "metadata": {
    "ExecuteTime": {
     "end_time": "2019-03-09T16:36:28.717257Z",
     "start_time": "2019-03-09T16:36:28.263556Z"
    }
   },
   "outputs": [
    {
     "data": {
      "text/plain": [
       "Text(0.5,1,'In degree distribution')"
      ]
     },
     "execution_count": 638,
     "metadata": {},
     "output_type": "execute_result"
    },
    {
     "data": {
      "image/png": "[encoded data removed]",
      "text/plain": [
       "<matplotlib.figure.Figure at 0x1528c8e8d0>"
      ]
     },
     "metadata": {},
     "output_type": "display_data"
    }
   ],
   "source": [
    "# in degree distribution\n",
    "degs = [v for k, v in G.in_degree]\n",
    "\n",
    "# count\n",
    "deg_count = Counter(degs)\n",
    "\n",
    "# plot\n",
    "plt.loglog(deg_count.keys(), deg_count.values(), 'o', alpha=0.5)\n",
    "\n",
    "plt.xlabel(\"in_degree\")\n",
    "plt.ylabel(\"num nodes\")\n",
    "plt.title(\"In degree distribution\")"
   ]
  },
  {
   "cell_type": "code",
   "execution_count": 639,
   "metadata": {
    "ExecuteTime": {
     "end_time": "2019-03-09T16:36:29.606949Z",
     "start_time": "2019-03-09T16:36:29.157647Z"
    }
   },
   "outputs": [
    {
     "data": {
      "text/plain": [
       "Text(0.5,1,'Degree distribution')"
      ]
     },
     "execution_count": 639,
     "metadata": {},
     "output_type": "execute_result"
    },
    {
     "data": {
      "image/png": "[encoded data removed]",
      "text/plain": [
       "<matplotlib.figure.Figure at 0x15289dcf28>"
      ]
     },
     "metadata": {},
     "output_type": "display_data"
    }
   ],
   "source": [
    "# degree distribution\n",
    "degs = [v for k, v in G.degree]\n",
    "\n",
    "# count\n",
    "deg_count = Counter(degs)\n",
    "\n",
    "# plot\n",
    "plt.loglog(deg_count.keys(), deg_count.values(), 'o', alpha=0.5)\n",
    "\n",
    "plt.xlabel(\"degree\")\n",
    "plt.ylabel(\"num nodes\")\n",
    "plt.title(\"Degree distribution\")"
   ]
  },
  {
   "cell_type": "code",
   "execution_count": 641,
   "metadata": {
    "ExecuteTime": {
     "end_time": "2019-03-09T16:39:19.426263Z",
     "start_time": "2019-03-09T16:39:19.410505Z"
    }
   },
   "outputs": [],
   "source": [
    "# # Use spring layout\n",
    "# pos = nx.spring_layout(G)\n",
    "\n",
    "# # draw graph\n",
    "# plt.figure(figsize=(8, 8))\n",
    "# nx.draw(G, pos=pos, node_size=2, with_labels=True)"
   ]
  },
  {
   "cell_type": "markdown",
   "metadata": {},
   "source": [
    "### Symmetric Graph"
   ]
  },
  {
   "cell_type": "code",
   "execution_count": 645,
   "metadata": {
    "ExecuteTime": {
     "end_time": "2019-03-09T16:42:01.347618Z",
     "start_time": "2019-03-09T16:42:01.296437Z"
    }
   },
   "outputs": [
    {
     "data": {
      "text/plain": [
       "658"
      ]
     },
     "execution_count": 645,
     "metadata": {},
     "output_type": "execute_result"
    }
   ],
   "source": [
    "# filter only symmetric\n",
    "sym_users_followers = filter_symmetric_from_dict(users_followers)\n",
    "len(sym_users_followers)"
   ]
  },
  {
   "cell_type": "code",
   "execution_count": 646,
   "metadata": {
    "ExecuteTime": {
     "end_time": "2019-03-09T16:42:02.128389Z",
     "start_time": "2019-03-09T16:42:02.122103Z"
    }
   },
   "outputs": [],
   "source": [
    "# load Graph of followers\n",
    "H = nx.from_dict_of_lists(sym_users_followers)"
   ]
  },
  {
   "cell_type": "markdown",
   "metadata": {},
   "source": [
    "#### Degree Distribution"
   ]
  },
  {
   "cell_type": "code",
   "execution_count": 651,
   "metadata": {
    "ExecuteTime": {
     "end_time": "2019-03-09T16:43:22.406942Z",
     "start_time": "2019-03-09T16:43:22.179307Z"
    }
   },
   "outputs": [
    {
     "data": {
      "text/plain": [
       "Text(0.5,1,'Degree distribution')"
      ]
     },
     "execution_count": 651,
     "metadata": {},
     "output_type": "execute_result"
    },
    {
     "data": {
      "image/png": "[encoded data removed]",
      "text/plain": [
       "<matplotlib.figure.Figure at 0x15199d6c88>"
      ]
     },
     "metadata": {},
     "output_type": "display_data"
    }
   ],
   "source": [
    "# degree distribution\n",
    "degs = [v for k, v in H.degree]\n",
    "\n",
    "# count\n",
    "deg_count = Counter(degs)\n",
    "\n",
    "x = np.array(list(deg_count.keys()))\n",
    "inds = np.argsort(x)\n",
    "x = x[inds]\n",
    "y = np.array(list(deg_count.values()))\n",
    "y = y[inds]\n",
    "\n",
    "# plot\n",
    "plt.plot(x, y, '-', alpha=1)\n",
    "\n",
    "plt.xlabel(\"degree\")\n",
    "plt.ylabel(\"num nodes\")\n",
    "plt.title(\"Degree distribution\")"
   ]
  },
  {
   "cell_type": "code",
   "execution_count": 648,
   "metadata": {
    "ExecuteTime": {
     "end_time": "2019-03-09T16:42:12.309949Z",
     "start_time": "2019-03-09T16:42:06.075112Z"
    }
   },
   "outputs": [
    {
     "data": {
      "image/png": "[encoded data removed]",
      "text/plain": [
       "<matplotlib.figure.Figure at 0x152115b1d0>"
      ]
     },
     "metadata": {},
     "output_type": "display_data"
    }
   ],
   "source": [
    "# Use spring layout\n",
    "pos = nx.spring_layout(H)\n",
    "\n",
    "# draw graph\n",
    "plt.figure(figsize=(10, 10))\n",
    "\n",
    "# draw graph\n",
    "nx.draw(H, pos=pos, node_size=2, with_labels=False,\n",
    "        font_color='b', font_size=20)\n",
    "\n",
    "# WE CAN'T SCRAPE ALL, LOTS OF MISSING LINKS"
   ]
  },
  {
   "cell_type": "code",
   "execution_count": 652,
   "metadata": {
    "ExecuteTime": {
     "end_time": "2019-03-09T16:43:37.208015Z",
     "start_time": "2019-03-09T16:43:37.197040Z"
    }
   },
   "outputs": [
    {
     "data": {
      "text/plain": [
       "array(['berniecadao', 'pinoytapsilog', 'philbantay', 'iamchrislao',\n",
       "       'javalavamanila'], dtype='<U15')"
      ]
     },
     "execution_count": 652,
     "metadata": {},
     "output_type": "execute_result"
    }
   ],
   "source": [
    "# top degrees in symmetric networks\n",
    "ind = np.argsort([v for k, v in H.degree])\n",
    "np.array([k for k, v in H.degree])[ind][::-1][:5]"
   ]
  },
  {
   "cell_type": "markdown",
   "metadata": {
    "ExecuteTime": {
     "end_time": "2019-02-25T19:56:51.715032Z",
     "start_time": "2019-02-25T19:56:49.556444Z"
    }
   },
   "source": [
    "## Recruitment Thresholds Distribution"
   ]
  },
  {
   "cell_type": "markdown",
   "metadata": {},
   "source": [
    "### Overall Threshold Distribution - Asymmetric"
   ]
  },
  {
   "cell_type": "code",
   "execution_count": 653,
   "metadata": {
    "ExecuteTime": {
     "end_time": "2019-03-09T16:43:39.238318Z",
     "start_time": "2019-03-09T16:43:39.234643Z"
    }
   },
   "outputs": [],
   "source": [
    "## WE DON'T HAVE DATE FOR RETWEETS. HOW CAN WE SOLVE THIS"
   ]
  },
  {
   "cell_type": "code",
   "execution_count": 654,
   "metadata": {
    "ExecuteTime": {
     "end_time": "2019-03-09T16:43:40.391908Z",
     "start_time": "2019-03-09T16:43:40.315271Z"
    }
   },
   "outputs": [],
   "source": [
    "def get_thresholds(following_counts, unique_users, following_dict):\n",
    "    # input is a dictionary of {users : num of following}\n",
    "    # input is unique users to select\n",
    "\n",
    "    # initiate threshold dict\n",
    "    thresh_dic = {}\n",
    "\n",
    "    # Count the number of friends who activated at the time of activation, ka\n",
    "    for user in list(following_counts.keys()):\n",
    "\n",
    "        # check if user in user_screen_name in the dataset otherwise continue\n",
    "        if user not in unique_users.user_screen_name.values:\n",
    "            continue\n",
    "\n",
    "        date_activated = unique_users[unique_users.user_screen_name == user].date\n",
    "\n",
    "        # filter users whose date < date activated\n",
    "        preactivated_users = unique_users[unique_users.date.values <\n",
    "                                          date_activated.values]\n",
    "\n",
    "        # filter only those being followed by user\n",
    "        # DOUBLE CHECK THIS THIS SHOULDNT BE UNIFIED FOLLOWING\n",
    "        _ = preactivated_users[preactivated_users.user_screen_name.isin(\n",
    "            following_dict[user])]\n",
    "\n",
    "        # get number of preactivated users that are being followed\n",
    "        ka = len(_)\n",
    "\n",
    "        # get number of people followed\n",
    "        k = following_counts[user]\n",
    "\n",
    "        if ka > k:\n",
    "            print(ka, k)\n",
    "            print(user)\n",
    "\n",
    "        # if no connections, remove\n",
    "        if k == 0:\n",
    "            continue\n",
    "\n",
    "        # get threshold\n",
    "        thresh = ka / k\n",
    "\n",
    "        # append to dictionary\n",
    "        thresh_dic[user] = thresh\n",
    "\n",
    "    return thresh_dic"
   ]
  },
  {
   "cell_type": "code",
   "execution_count": 655,
   "metadata": {
    "ExecuteTime": {
     "end_time": "2019-03-09T16:44:09.015179Z",
     "start_time": "2019-03-09T16:43:40.973290Z"
    }
   },
   "outputs": [
    {
     "data": {
      "text/plain": [
       "1523"
      ]
     },
     "execution_count": 655,
     "metadata": {},
     "output_type": "execute_result"
    }
   ],
   "source": [
    "# get following counts\n",
    "following_counts = {k: len(v) for k, v in unified_following.items()}\n",
    "\n",
    "# unique_users are unfiltered. Symmetric\n",
    "unique_users = tweets.drop_duplicates(subset=\"user_screen_name\", keep=\"first\")\n",
    "\n",
    "# show some threshold values\n",
    "thresholds = get_thresholds(following_counts, unique_users, unified_following)\n",
    "\n",
    "# display\n",
    "len(thresholds)"
   ]
  },
  {
   "cell_type": "code",
   "execution_count": 656,
   "metadata": {
    "ExecuteTime": {
     "end_time": "2019-03-09T16:44:09.036877Z",
     "start_time": "2019-03-09T16:44:09.017663Z"
    }
   },
   "outputs": [
    {
     "data": {
      "text/plain": [
       "0.03216908738643759"
      ]
     },
     "execution_count": 656,
     "metadata": {},
     "output_type": "execute_result"
    }
   ],
   "source": [
    "# mean threshold\n",
    "np.mean([v for k, v in thresholds.items()])"
   ]
  },
  {
   "cell_type": "code",
   "execution_count": 657,
   "metadata": {
    "ExecuteTime": {
     "end_time": "2019-03-09T16:44:09.668340Z",
     "start_time": "2019-03-09T16:44:09.039197Z"
    },
    "scrolled": true
   },
   "outputs": [
    {
     "data": {
      "text/plain": [
       "Text(0.5,1,'Num nodes vs ka/k')"
      ]
     },
     "execution_count": 657,
     "metadata": {},
     "output_type": "execute_result"
    },
    {
     "data": {
      "image/png": "[encoded data removed]",
      "text/plain": [
       "<matplotlib.figure.Figure at 0x15286d0f98>"
      ]
     },
     "metadata": {},
     "output_type": "display_data"
    }
   ],
   "source": [
    "# plot distribution proportion of nodes vs ka/k\n",
    "thresh = [v for k, v in thresholds.items()]\n",
    "thresh_counts = Counter(thresh)\n",
    "x = np.array(list(thresh_counts.keys()))\n",
    "inds = np.argsort(x)\n",
    "x_asym = x[inds]\n",
    "y_asym = np.array(list(thresh_counts.values()))[inds]\n",
    "plt.semilogy(x_asym, y_asym)\n",
    "plt.xlabel(\"ka/k\")\n",
    "plt.ylabel(\"num nodes\")\n",
    "plt.title(\"Num nodes vs ka/k\")"
   ]
  },
  {
   "cell_type": "markdown",
   "metadata": {},
   "source": [
    "### Overall Threshold Distribution - Symmetric"
   ]
  },
  {
   "cell_type": "code",
   "execution_count": 658,
   "metadata": {
    "ExecuteTime": {
     "end_time": "2019-03-09T16:44:15.243035Z",
     "start_time": "2019-03-09T16:44:09.672054Z"
    }
   },
   "outputs": [
    {
     "data": {
      "text/plain": [
       "26668"
      ]
     },
     "execution_count": 658,
     "metadata": {},
     "output_type": "execute_result"
    }
   ],
   "source": [
    "# Filter the network for symmetric only\n",
    "# list of users and who they follow in symmetric network\n",
    "symm_following = filter_symmetric_from_dict(unified_following)\n",
    "\n",
    "# make graph\n",
    "H = nx.from_dict_of_lists(symm_following, create_using=nx.DiGraph())\n",
    "\n",
    "len(H.nodes)"
   ]
  },
  {
   "cell_type": "code",
   "execution_count": 659,
   "metadata": {
    "ExecuteTime": {
     "end_time": "2019-03-09T16:44:22.114694Z",
     "start_time": "2019-03-09T16:44:15.245361Z"
    },
    "scrolled": true
   },
   "outputs": [
    {
     "data": {
      "text/plain": [
       "872"
      ]
     },
     "execution_count": 659,
     "metadata": {},
     "output_type": "execute_result"
    }
   ],
   "source": [
    "# get following counts\n",
    "following_counts = {k: len(v) for k, v in symm_following.items()}\n",
    "\n",
    "# unique_users are unfiltered. Symmetric\n",
    "unique_users = unique_users\n",
    "\n",
    "# show some threshold values\n",
    "thresholds = get_thresholds(following_counts, unique_users, symm_following)\n",
    "\n",
    "len(thresholds)"
   ]
  },
  {
   "cell_type": "code",
   "execution_count": 660,
   "metadata": {
    "ExecuteTime": {
     "end_time": "2019-03-09T16:44:22.125607Z",
     "start_time": "2019-03-09T16:44:22.118295Z"
    }
   },
   "outputs": [
    {
     "data": {
      "text/plain": [
       "0.026899764846385565"
      ]
     },
     "execution_count": 660,
     "metadata": {},
     "output_type": "execute_result"
    }
   ],
   "source": [
    "# mean threshold\n",
    "np.mean([v for k, v in thresholds.items()])"
   ]
  },
  {
   "cell_type": "code",
   "execution_count": 661,
   "metadata": {
    "ExecuteTime": {
     "end_time": "2019-03-09T16:44:22.811207Z",
     "start_time": "2019-03-09T16:44:22.128470Z"
    },
    "scrolled": true
   },
   "outputs": [
    {
     "data": {
      "text/plain": [
       "Text(0.5,1,'Num nodes vs ka/k')"
      ]
     },
     "execution_count": 661,
     "metadata": {},
     "output_type": "execute_result"
    },
    {
     "data": {
      "image/png": "[encoded data removed]",
      "text/plain": [
       "<matplotlib.figure.Figure at 0x15289d4d68>"
      ]
     },
     "metadata": {},
     "output_type": "display_data"
    }
   ],
   "source": [
    "# plot distribution proportion of nodes vs ka/k\n",
    "thresh = [v for k, v in thresholds.items()]\n",
    "thresh_counts = Counter(thresh)\n",
    "x = np.array(list(thresh_counts.keys()))\n",
    "inds = np.argsort(x)\n",
    "x_sym = x[inds]\n",
    "y_sym = np.array(list(thresh_counts.values()))[inds]\n",
    "plt.semilogy(x_sym, y_sym)\n",
    "plt.xlabel(\"ka/k\")\n",
    "plt.ylabel(\"num nodes\")\n",
    "plt.title(\"Num nodes vs ka/k\")"
   ]
  },
  {
   "cell_type": "code",
   "execution_count": 980,
   "metadata": {
    "ExecuteTime": {
     "end_time": "2019-03-10T04:44:09.907788Z",
     "start_time": "2019-03-10T04:44:09.065443Z"
    }
   },
   "outputs": [
    {
     "data": {
      "text/plain": [
       "Text(0.5,1,'Num nodes vs ka/k')"
      ]
     },
     "execution_count": 980,
     "metadata": {},
     "output_type": "execute_result"
    },
    {
     "data": {
      "image/png": "[encoded data removed]",
      "text/plain": [
       "<matplotlib.figure.Figure at 0x1551696588>"
      ]
     },
     "metadata": {},
     "output_type": "display_data"
    }
   ],
   "source": [
    "# CHANGE THIS TO PROPORTIONS\n",
    "\n",
    "plt.semilogy(x_sym, y_sym, \"-\", alpha=0., ms=4)\n",
    "plt.semilogy(x_asym, y_asym, \"-\", alpha=0., ms=4)\n",
    "\n",
    "# f, ax = plt.subplots()\n",
    "# ax.set(xscale=\"log\", yscale=\"log\")\n",
    "\n",
    "plt.bar(x_asym, y_asym, label=\"asymmetric\", width=0.02, alpha=0.5)\n",
    "plt.bar(x_sym, y_sym, label=\"symmetric\", width=0.02, alpha=0.5)\n",
    "\n",
    "plt.legend()\n",
    "plt.xlabel(\"ka/k\")\n",
    "plt.ylabel(\"num nodes\")\n",
    "plt.title(\"Num nodes vs ka/k\")"
   ]
  },
  {
   "cell_type": "markdown",
   "metadata": {},
   "source": [
    "Assuming that retaining the symmetric network is like removing ifluencers and media (with huge number of followers but few users followed), or retaining groups of friends in the network, the threshold distribution shifts to higher threshold values. It might be that people in the symmetric subgraph needed more pressure to join the protest / be recruited. Media and influencers could have played a role in activating a significant portion of the users (lower required ka/k)"
   ]
  },
  {
   "cell_type": "markdown",
   "metadata": {},
   "source": [
    "### Distribution of Low, Med, and High Threshold Users Over Time"
   ]
  },
  {
   "cell_type": "code",
   "execution_count": 948,
   "metadata": {
    "ExecuteTime": {
     "end_time": "2019-03-10T04:34:24.700515Z",
     "start_time": "2019-03-10T04:34:03.531450Z"
    }
   },
   "outputs": [
    {
     "data": {
      "text/plain": [
       "1523"
      ]
     },
     "execution_count": 948,
     "metadata": {},
     "output_type": "execute_result"
    }
   ],
   "source": [
    "# TO DO THIS!!!!\n",
    "# ASYMMETRIC\n",
    "# get following counts\n",
    "following_counts = {k: len(v) for k, v in unified_following.items()}\n",
    "\n",
    "# unique_users are unfiltered. Symmetric\n",
    "unique_users = tweets.drop_duplicates(subset=\"user_screen_name\", keep=\"first\")\n",
    "\n",
    "# show some threshold values\n",
    "thresholds = get_thresholds(following_counts, unique_users, unified_following)\n",
    "\n",
    "# display\n",
    "len(thresholds)"
   ]
  },
  {
   "cell_type": "code",
   "execution_count": 949,
   "metadata": {
    "ExecuteTime": {
     "end_time": "2019-03-10T04:34:24.714527Z",
     "start_time": "2019-03-10T04:34:24.702224Z"
    }
   },
   "outputs": [
    {
     "data": {
      "text/html": [
       "<div>\n",
       "<style scoped>\n",
       "    .dataframe tbody tr th:only-of-type {\n",
       "        vertical-align: middle;\n",
       "    }\n",
       "\n",
       "    .dataframe tbody tr th {\n",
       "        vertical-align: top;\n",
       "    }\n",
       "\n",
       "    .dataframe thead th {\n",
       "        text-align: right;\n",
       "    }\n",
       "</style>\n",
       "<table border=\"1\" class=\"dataframe\">\n",
       "  <thead>\n",
       "    <tr style=\"text-align: right;\">\n",
       "      <th></th>\n",
       "      <th>user_screen_name</th>\n",
       "      <th>date</th>\n",
       "    </tr>\n",
       "  </thead>\n",
       "  <tbody>\n",
       "    <tr>\n",
       "      <th>0</th>\n",
       "      <td>jeninajoy</td>\n",
       "      <td>2013-07-15</td>\n",
       "    </tr>\n",
       "    <tr>\n",
       "      <th>1</th>\n",
       "      <td>momblogger</td>\n",
       "      <td>2013-07-15</td>\n",
       "    </tr>\n",
       "    <tr>\n",
       "      <th>2</th>\n",
       "      <td>peejayreyes</td>\n",
       "      <td>2013-07-15</td>\n",
       "    </tr>\n",
       "    <tr>\n",
       "      <th>3</th>\n",
       "      <td>bethangsioco</td>\n",
       "      <td>2013-07-15</td>\n",
       "    </tr>\n",
       "    <tr>\n",
       "      <th>4</th>\n",
       "      <td>noypiaquino</td>\n",
       "      <td>2013-07-15</td>\n",
       "    </tr>\n",
       "  </tbody>\n",
       "</table>\n",
       "</div>"
      ],
      "text/plain": [
       "  user_screen_name        date\n",
       "0        jeninajoy  2013-07-15\n",
       "1       momblogger  2013-07-15\n",
       "2      peejayreyes  2013-07-15\n",
       "3     bethangsioco  2013-07-15\n",
       "4      noypiaquino  2013-07-15"
      ]
     },
     "execution_count": 949,
     "metadata": {},
     "output_type": "execute_result"
    }
   ],
   "source": [
    "# get the date\n",
    "unique_users_date = unique_users.loc[:, [\"user_screen_name\", \"date\"]]\n",
    "unique_users_date.head()"
   ]
  },
  {
   "cell_type": "code",
   "execution_count": 950,
   "metadata": {
    "ExecuteTime": {
     "end_time": "2019-03-10T04:34:24.731756Z",
     "start_time": "2019-03-10T04:34:24.716791Z"
    }
   },
   "outputs": [
    {
     "data": {
      "text/html": [
       "<div>\n",
       "<style scoped>\n",
       "    .dataframe tbody tr th:only-of-type {\n",
       "        vertical-align: middle;\n",
       "    }\n",
       "\n",
       "    .dataframe tbody tr th {\n",
       "        vertical-align: top;\n",
       "    }\n",
       "\n",
       "    .dataframe thead th {\n",
       "        text-align: right;\n",
       "    }\n",
       "</style>\n",
       "<table border=\"1\" class=\"dataframe\">\n",
       "  <thead>\n",
       "    <tr style=\"text-align: right;\">\n",
       "      <th></th>\n",
       "      <th>user_screen_name</th>\n",
       "      <th>threshold</th>\n",
       "    </tr>\n",
       "  </thead>\n",
       "  <tbody>\n",
       "    <tr>\n",
       "      <th>0</th>\n",
       "      <td>ancalerts</td>\n",
       "      <td>0.006418</td>\n",
       "    </tr>\n",
       "    <tr>\n",
       "      <th>1</th>\n",
       "      <td>berniecadao</td>\n",
       "      <td>0.050152</td>\n",
       "    </tr>\n",
       "    <tr>\n",
       "      <th>2</th>\n",
       "      <td>sherylcayco</td>\n",
       "      <td>0.031579</td>\n",
       "    </tr>\n",
       "    <tr>\n",
       "      <th>3</th>\n",
       "      <td>clfpepito</td>\n",
       "      <td>0.009502</td>\n",
       "    </tr>\n",
       "    <tr>\n",
       "      <th>4</th>\n",
       "      <td>willfindways</td>\n",
       "      <td>0.009259</td>\n",
       "    </tr>\n",
       "  </tbody>\n",
       "</table>\n",
       "</div>"
      ],
      "text/plain": [
       "  user_screen_name  threshold\n",
       "0        ancalerts   0.006418\n",
       "1      berniecadao   0.050152\n",
       "2      sherylcayco   0.031579\n",
       "3        clfpepito   0.009502\n",
       "4     willfindways   0.009259"
      ]
     },
     "execution_count": 950,
     "metadata": {},
     "output_type": "execute_result"
    }
   ],
   "source": [
    "# get a dataframe of threshold values\n",
    "df_thresh = pd.DataFrame.from_dict(thresholds, orient=\"index\").reset_index()\n",
    "df_thresh.columns = [\"user_screen_name\", \"threshold\"]\n",
    "df_thresh.head()"
   ]
  },
  {
   "cell_type": "code",
   "execution_count": 951,
   "metadata": {
    "ExecuteTime": {
     "end_time": "2019-03-10T04:34:24.756657Z",
     "start_time": "2019-03-10T04:34:24.734575Z"
    }
   },
   "outputs": [
    {
     "data": {
      "text/html": [
       "<div>\n",
       "<style scoped>\n",
       "    .dataframe tbody tr th:only-of-type {\n",
       "        vertical-align: middle;\n",
       "    }\n",
       "\n",
       "    .dataframe tbody tr th {\n",
       "        vertical-align: top;\n",
       "    }\n",
       "\n",
       "    .dataframe thead th {\n",
       "        text-align: right;\n",
       "    }\n",
       "</style>\n",
       "<table border=\"1\" class=\"dataframe\">\n",
       "  <thead>\n",
       "    <tr style=\"text-align: right;\">\n",
       "      <th></th>\n",
       "      <th>user_screen_name</th>\n",
       "      <th>date</th>\n",
       "      <th>threshold</th>\n",
       "    </tr>\n",
       "  </thead>\n",
       "  <tbody>\n",
       "    <tr>\n",
       "      <th>0</th>\n",
       "      <td>jeninajoy</td>\n",
       "      <td>2013-07-15</td>\n",
       "      <td>0.0</td>\n",
       "    </tr>\n",
       "    <tr>\n",
       "      <th>1</th>\n",
       "      <td>momblogger</td>\n",
       "      <td>2013-07-15</td>\n",
       "      <td>0.0</td>\n",
       "    </tr>\n",
       "    <tr>\n",
       "      <th>2</th>\n",
       "      <td>peejayreyes</td>\n",
       "      <td>2013-07-15</td>\n",
       "      <td>0.0</td>\n",
       "    </tr>\n",
       "    <tr>\n",
       "      <th>3</th>\n",
       "      <td>bethangsioco</td>\n",
       "      <td>2013-07-15</td>\n",
       "      <td>0.0</td>\n",
       "    </tr>\n",
       "    <tr>\n",
       "      <th>4</th>\n",
       "      <td>noypiaquino</td>\n",
       "      <td>2013-07-15</td>\n",
       "      <td>0.0</td>\n",
       "    </tr>\n",
       "  </tbody>\n",
       "</table>\n",
       "</div>"
      ],
      "text/plain": [
       "  user_screen_name        date  threshold\n",
       "0        jeninajoy  2013-07-15        0.0\n",
       "1       momblogger  2013-07-15        0.0\n",
       "2      peejayreyes  2013-07-15        0.0\n",
       "3     bethangsioco  2013-07-15        0.0\n",
       "4      noypiaquino  2013-07-15        0.0"
      ]
     },
     "execution_count": 951,
     "metadata": {},
     "output_type": "execute_result"
    }
   ],
   "source": [
    "# combine user_screen_name, date, and thresholds\n",
    "df_thresh_date = pd.merge(unique_users_date, df_thresh,\n",
    "         left_on=\"user_screen_name\", right_on=\"user_screen_name\")\n",
    "df_thresh_date.head()"
   ]
  },
  {
   "cell_type": "code",
   "execution_count": 992,
   "metadata": {
    "ExecuteTime": {
     "end_time": "2019-03-10T04:47:50.033846Z",
     "start_time": "2019-03-10T04:47:50.002592Z"
    }
   },
   "outputs": [],
   "source": [
    "# max thresholds\n",
    "low = 0.2\n",
    "med = 0.5\n",
    "\n",
    "# filter thresholds of users (low thresholds)\n",
    "low_thresh = df_thresh_date[df_thresh_date.threshold <= low].reset_index(\n",
    "    drop=True)\n",
    "\n",
    "# get counts per date only (distribution)\n",
    "low_thresh = low_thresh.groupby(\"date\").count().reset_index()\n",
    "\n",
    "# filter thresholds of users (med thresholds)\n",
    "med_thresh = df_thresh_date[np.logical_and(\n",
    "    low < df_thresh_date.threshold, df_thresh_date.threshold <= med)].reset_index(drop=True)\n",
    "\n",
    "# get counts per date only (distribution)\n",
    "med_thresh = med_thresh.groupby(\"date\").count().reset_index()\n",
    "\n",
    "# filter thresholds of users (high thresholds)\n",
    "high_thresh = df_thresh_date[med < df_thresh_date.threshold].reset_index(\n",
    "    drop=True)\n",
    "\n",
    "# get counts per date only (distribution)\n",
    "high_thresh = high_thresh.groupby(\"date\").count().reset_index()"
   ]
  },
  {
   "cell_type": "code",
   "execution_count": 1001,
   "metadata": {
    "ExecuteTime": {
     "end_time": "2019-03-10T04:48:57.325297Z",
     "start_time": "2019-03-10T04:48:57.318668Z"
    }
   },
   "outputs": [
    {
     "data": {
      "text/plain": [
       "(1485, 26, 12)"
      ]
     },
     "execution_count": 1001,
     "metadata": {},
     "output_type": "execute_result"
    }
   ],
   "source": [
    "# size of each threshold category\n",
    "np.sum(low_thresh.threshold), np.sum(med_thresh.threshold), np.sum(high_thresh.threshold)"
   ]
  },
  {
   "cell_type": "code",
   "execution_count": 1009,
   "metadata": {
    "ExecuteTime": {
     "end_time": "2019-03-10T04:51:39.105016Z",
     "start_time": "2019-03-10T04:51:38.883266Z"
    }
   },
   "outputs": [
    {
     "data": {
      "text/plain": [
       "Text(0.5,1,'Proportion of users who activated over time for three threshold categories')"
      ]
     },
     "execution_count": 1009,
     "metadata": {},
     "output_type": "execute_result"
    },
    {
     "data": {
      "image/png": "[encoded data removed]",
      "text/plain": [
       "<matplotlib.figure.Figure at 0x15548d84a8>"
      ]
     },
     "metadata": {},
     "output_type": "display_data"
    }
   ],
   "source": [
    "# plot proportions (RIGHT NOW THRESHOLDS ARE PLOTTED)\n",
    "\n",
    "x = low_thresh.date\n",
    "y = low_thresh.threshold / np.sum(low_thresh.threshold)\n",
    "plt.plot(x, y, label=f\"low $\\leq$ {low}\")\n",
    "\n",
    "x = med_thresh.date\n",
    "y = med_thresh.threshold / np.sum(med_thresh.threshold)\n",
    "plt.plot(x, y, label=f\"{low } < med $\\leq$ {med}\")\n",
    "\n",
    "x = high_thresh.date\n",
    "y = high_thresh.threshold / np.sum(high_thresh.threshold)\n",
    "plt.plot(x, y, label=f\"{med} < high\")\n",
    "plt.legend()\n",
    "\n",
    "plt.xlabel(\"date\")\n",
    "plt.ylabel(\"proportion of users who activated\")\n",
    "plt.title(\"Proportion of users who activated over time for three threshold categories\")"
   ]
  },
  {
   "cell_type": "code",
   "execution_count": null,
   "metadata": {},
   "outputs": [],
   "source": [
    "# SYMMETRIC"
   ]
  },
  {
   "cell_type": "markdown",
   "metadata": {},
   "source": [
    "### Threshold Distribution Before and After Protest"
   ]
  },
  {
   "cell_type": "code",
   "execution_count": 831,
   "metadata": {
    "ExecuteTime": {
     "end_time": "2019-03-09T17:19:39.727370Z",
     "start_time": "2019-03-09T17:19:39.717392Z"
    }
   },
   "outputs": [
    {
     "data": {
      "text/plain": [
       "615"
      ]
     },
     "execution_count": 831,
     "metadata": {},
     "output_type": "execute_result"
    }
   ],
   "source": [
    "# threshold before protest\n",
    "tweets_before = tweets_0[tweets_0.date < datetime(2013, 8, 26)].reset_index(drop=True)\n",
    "len(tweets_before)"
   ]
  },
  {
   "cell_type": "code",
   "execution_count": 832,
   "metadata": {
    "ExecuteTime": {
     "end_time": "2019-03-09T17:19:49.792097Z",
     "start_time": "2019-03-09T17:19:40.347157Z"
    }
   },
   "outputs": [
    {
     "data": {
      "text/plain": [
       "277"
      ]
     },
     "execution_count": 832,
     "metadata": {},
     "output_type": "execute_result"
    }
   ],
   "source": [
    "# get following counts\n",
    "# asymmetric\n",
    "following_counts = {k: len(v) for k, v in unified_following.items()}\n",
    "\n",
    "# unique_users are unfiltered. Symmetric\n",
    "unique_users = tweets_before.drop_duplicates(subset=\"user_screen_name\", keep=\"first\")\n",
    "\n",
    "# show some threshold values\n",
    "thresholds = get_thresholds(following_counts, unique_users, unified_following)\n",
    "\n",
    "# display\n",
    "len(thresholds)"
   ]
  },
  {
   "cell_type": "code",
   "execution_count": 833,
   "metadata": {
    "ExecuteTime": {
     "end_time": "2019-03-09T17:19:49.802665Z",
     "start_time": "2019-03-09T17:19:49.794497Z"
    }
   },
   "outputs": [
    {
     "data": {
      "text/plain": [
       "0.019052491068522717"
      ]
     },
     "execution_count": 833,
     "metadata": {},
     "output_type": "execute_result"
    }
   ],
   "source": [
    "# mean threshold\n",
    "np.mean([v for k, v in thresholds.items()])"
   ]
  },
  {
   "cell_type": "code",
   "execution_count": 834,
   "metadata": {
    "ExecuteTime": {
     "end_time": "2019-03-09T17:19:50.170249Z",
     "start_time": "2019-03-09T17:19:49.805109Z"
    },
    "scrolled": true
   },
   "outputs": [
    {
     "data": {
      "text/plain": [
       "Text(0.5,1,'Prop nodes vs ka/k')"
      ]
     },
     "execution_count": 834,
     "metadata": {},
     "output_type": "execute_result"
    },
    {
     "data": {
      "image/png": "[encoded data removed]",
      "text/plain": [
       "<matplotlib.figure.Figure at 0x1551f1eac8>"
      ]
     },
     "metadata": {},
     "output_type": "display_data"
    }
   ],
   "source": [
    "# plot distribution proportion of nodes vs ka/k\n",
    "# proportion of nodes that activated before protest\n",
    "thresh = [v for k, v in thresholds.items()]\n",
    "thresh_counts = Counter(thresh)\n",
    "x = np.array(list(thresh_counts.keys()))\n",
    "inds = np.argsort(x)\n",
    "x_asym_before = x[inds]\n",
    "y_asym_before = np.array(list(thresh_counts.values()))[inds]\n",
    "y_asym_before = y_asym_before/np.sum(y_asym_before)\n",
    "plt.semilogy(x_asym_before, y_asym_before)\n",
    "plt.xlabel(\"ka/k\")\n",
    "plt.ylabel(\"proportion of nodes that activated during that time frame\")\n",
    "plt.title(\"Prop nodes vs ka/k\")"
   ]
  },
  {
   "cell_type": "code",
   "execution_count": 835,
   "metadata": {
    "ExecuteTime": {
     "end_time": "2019-03-09T17:19:50.184198Z",
     "start_time": "2019-03-09T17:19:50.173095Z"
    }
   },
   "outputs": [
    {
     "data": {
      "text/plain": [
       "2677"
      ]
     },
     "execution_count": 835,
     "metadata": {},
     "output_type": "execute_result"
    }
   ],
   "source": [
    "# threshold after protest\n",
    "tweets_after = tweets_0[tweets_0.date >= datetime(2013, 8, 26)].reset_index(drop=True)\n",
    "len(tweets_after)"
   ]
  },
  {
   "cell_type": "code",
   "execution_count": 836,
   "metadata": {
    "ExecuteTime": {
     "end_time": "2019-03-09T17:20:12.415517Z",
     "start_time": "2019-03-09T17:19:50.186595Z"
    }
   },
   "outputs": [
    {
     "data": {
      "text/plain": [
       "1342"
      ]
     },
     "execution_count": 836,
     "metadata": {},
     "output_type": "execute_result"
    }
   ],
   "source": [
    "# get following counts\n",
    "# asymmetric\n",
    "following_counts = {k: len(v) for k, v in unified_following.items()}\n",
    "\n",
    "# unique_users are unfiltered. Symmetric\n",
    "unique_users = tweets_after.drop_duplicates(subset=\"user_screen_name\", keep=\"first\")\n",
    "\n",
    "# show some threshold values\n",
    "thresholds = get_thresholds(following_counts, unique_users, unified_following)\n",
    "\n",
    "# display\n",
    "len(thresholds)"
   ]
  },
  {
   "cell_type": "code",
   "execution_count": 837,
   "metadata": {
    "ExecuteTime": {
     "end_time": "2019-03-09T17:20:12.440700Z",
     "start_time": "2019-03-09T17:20:12.421309Z"
    }
   },
   "outputs": [
    {
     "data": {
      "text/plain": [
       "0.03684558917275257"
      ]
     },
     "execution_count": 837,
     "metadata": {},
     "output_type": "execute_result"
    }
   ],
   "source": [
    "# mean threshold\n",
    "np.mean([v for k, v in thresholds.items()])"
   ]
  },
  {
   "cell_type": "code",
   "execution_count": 838,
   "metadata": {
    "ExecuteTime": {
     "end_time": "2019-03-09T17:20:12.944685Z",
     "start_time": "2019-03-09T17:20:12.444519Z"
    },
    "scrolled": true
   },
   "outputs": [
    {
     "data": {
      "text/plain": [
       "Text(0.5,1,'Num nodes vs ka/k')"
      ]
     },
     "execution_count": 838,
     "metadata": {},
     "output_type": "execute_result"
    },
    {
     "data": {
      "image/png": "[encoded data removed]",
      "text/plain": [
       "<matplotlib.figure.Figure at 0x155211bf60>"
      ]
     },
     "metadata": {},
     "output_type": "display_data"
    }
   ],
   "source": [
    "# plot distribution proportion of nodes vs ka/k\n",
    "thresh = [v for k, v in thresholds.items()]\n",
    "thresh_counts = Counter(thresh)\n",
    "x = np.array(list(thresh_counts.keys()))\n",
    "inds = np.argsort(x)\n",
    "x_asym_after = x[inds]\n",
    "y_asym_after = np.array(list(thresh_counts.values()))[inds]\n",
    "y_asym_after = y_asym_after/np.sum(y_asym_after)\n",
    "plt.semilogy(x_asym_after, y_asym_after)\n",
    "plt.xlabel(\"ka/k\")\n",
    "plt.ylabel(\"num nodes\")\n",
    "plt.title(\"Num nodes vs ka/k\")"
   ]
  },
  {
   "cell_type": "code",
   "execution_count": 903,
   "metadata": {
    "ExecuteTime": {
     "end_time": "2019-03-10T04:19:50.247716Z",
     "start_time": "2019-03-10T04:19:48.318291Z"
    }
   },
   "outputs": [
    {
     "data": {
      "image/png": "[encoded data removed]",
      "text/plain": [
       "<matplotlib.figure.Figure at 0x154545e1d0>"
      ]
     },
     "metadata": {},
     "output_type": "display_data"
    },
    {
     "data": {
      "image/png": "[encoded data removed]",
      "text/plain": [
       "<matplotlib.figure.Figure at 0x154a16b080>"
      ]
     },
     "metadata": {},
     "output_type": "display_data"
    },
    {
     "data": {
      "image/png": "[encoded data removed]",
      "text/plain": [
       "<matplotlib.figure.Figure at 0x1554c2dc18>"
      ]
     },
     "metadata": {},
     "output_type": "display_data"
    },
    {
     "data": {
      "image/png": "[encoded data removed]",
      "text/plain": [
       "<matplotlib.figure.Figure at 0x1539a92860>"
      ]
     },
     "metadata": {},
     "output_type": "display_data"
    },
    {
     "data": {
      "text/plain": [
       "<matplotlib.legend.Legend at 0x1539215c50>"
      ]
     },
     "execution_count": 903,
     "metadata": {},
     "output_type": "execute_result"
    },
    {
     "data": {
      "image/png": "[encoded data removed]",
      "text/plain": [
       "<matplotlib.figure.Figure at 0x153a9851d0>"
      ]
     },
     "metadata": {},
     "output_type": "display_data"
    }
   ],
   "source": [
    "plt.semilogy(x_asym_before, y_asym_before, 'o-', alpha=0.7, label=\"before protest\")\n",
    "plt.semilogy(x_asym_after, y_asym_after,'o-', alpha=0.7, label=\"after protest\")\n",
    "plt.legend()\n",
    "plt.show()\n",
    "\n",
    "plt.semilogy(x_asym_before, y_asym_before, 'x', alpha=0.7, label=\"before protest\")\n",
    "plt.semilogy(x_asym_after, y_asym_after,'o', alpha=0.7, label=\"after protest\")\n",
    "plt.legend()\n",
    "plt.show()\n",
    "\n",
    "plt.plot(x_asym_before, y_asym_before, 'x', alpha=0.7, label=\"before protest\")\n",
    "plt.plot(x_asym_after, y_asym_after,'o', alpha=0.7, label=\"after protest\")\n",
    "plt.legend()\n",
    "plt.show()\n",
    "\n",
    "plt.semilogy(x_asym_after, y_asym_after, alpha=0.)\n",
    "plt.bar(x_asym_before, y_asym_before, alpha=0.3, width=0.03, label=\"before protest\")\n",
    "plt.bar(x_asym_after, y_asym_after, alpha=0.3, width=0.03, label=\"after protest\")\n",
    "plt.legend()\n",
    "plt.show()\n",
    "\n",
    "sns.distplot(x_asym_before, label=\"before protest\", kde=False, norm_hist=True, hist=True,)\n",
    "sns.distplot(x_asym_after, label=\"after protest\", kde=False, norm_hist=True, hist=True,)\n",
    "plt.xlabel(\"ka/k\")\n",
    "plt.ylabel(\"proportion of nodes that activated during that time frame\")\n",
    "plt.title(\"Distribution of ka/k before and after protest\")\n",
    "plt.legend()"
   ]
  },
  {
   "cell_type": "markdown",
   "metadata": {},
   "source": [
    "## Recruitment Bursts"
   ]
  },
  {
   "cell_type": "code",
   "execution_count": null,
   "metadata": {},
   "outputs": [],
   "source": []
  },
  {
   "cell_type": "code",
   "execution_count": null,
   "metadata": {},
   "outputs": [],
   "source": []
  },
  {
   "cell_type": "markdown",
   "metadata": {},
   "source": [
    "## Distribution of Cascade Size"
   ]
  },
  {
   "cell_type": "code",
   "execution_count": null,
   "metadata": {
    "ExecuteTime": {
     "end_time": "2019-03-04T16:29:50.209892Z",
     "start_time": "2019-03-04T16:29:50.203090Z"
    }
   },
   "outputs": [],
   "source": [
    "# How to identify cascade? retweet of same message?\n",
    "    # Count how many retweeted same message = cascade size?\n",
    "    # Count how many used the same #hashtag - cascade size?\n",
    "    # Add k core attributes per node\n",
    "    # Find K core of who started = seed/leader\n",
    "    # Associate cascade size with k core of seed/leader"
   ]
  },
  {
   "cell_type": "code",
   "execution_count": 673,
   "metadata": {
    "ExecuteTime": {
     "end_time": "2019-03-09T16:46:45.201813Z",
     "start_time": "2019-03-09T16:46:45.037166Z"
    }
   },
   "outputs": [],
   "source": [
    "# count retweets for each parent id\n",
    "cascade_sizes = tweets_0.groupby(\n",
    "    by=\"parent_tweet_id\").count().reset_index().iloc[:, :2].date.values\n",
    "\n",
    "# Should we add this?\n",
    "# # we add the original tweet\n",
    "# cascade_sizes = cascade_sizes + 1"
   ]
  },
  {
   "cell_type": "code",
   "execution_count": 881,
   "metadata": {
    "ExecuteTime": {
     "end_time": "2019-03-09T17:32:37.371318Z",
     "start_time": "2019-03-09T17:32:36.716042Z"
    }
   },
   "outputs": [
    {
     "data": {
      "text/plain": [
       "Text(0.5,1,'Distribution of cascade size')"
      ]
     },
     "execution_count": 881,
     "metadata": {},
     "output_type": "execute_result"
    },
    {
     "data": {
      "image/png": "[encoded data removed]",
      "text/plain": [
       "<matplotlib.figure.Figure at 0x155a15dfd0>"
      ]
     },
     "metadata": {},
     "output_type": "display_data"
    }
   ],
   "source": [
    "x = np.array(list(Counter(cascade_sizes).keys()))\n",
    "inds = np.argsort(x)\n",
    "x = x[inds]\n",
    "y = np.array(list(Counter(cascade_sizes).values()))[inds]\n",
    "plt.loglog(x, y, marker=\".\", )\n",
    "plt.xlabel(\"cascade size (number of retweets + original tweet)\")\n",
    "plt.ylabel(\"number of nodes\")\n",
    "plt.title(\"Distribution of cascade size\")"
   ]
  },
  {
   "cell_type": "code",
   "execution_count": 882,
   "metadata": {
    "ExecuteTime": {
     "end_time": "2019-03-09T17:32:37.891321Z",
     "start_time": "2019-03-09T17:32:37.887432Z"
    }
   },
   "outputs": [],
   "source": [
    "# WE CAN CHECK WHO ARE THE NODES THAT REACHED MANY PEOPLE"
   ]
  },
  {
   "cell_type": "markdown",
   "metadata": {},
   "source": [
    "## Node Centrality (K Core) vs Cascade Size"
   ]
  },
  {
   "cell_type": "code",
   "execution_count": 883,
   "metadata": {
    "ExecuteTime": {
     "end_time": "2019-03-09T17:32:38.904474Z",
     "start_time": "2019-03-09T17:32:38.847143Z"
    }
   },
   "outputs": [
    {
     "data": {
      "text/html": [
       "<div>\n",
       "<style scoped>\n",
       "    .dataframe tbody tr th:only-of-type {\n",
       "        vertical-align: middle;\n",
       "    }\n",
       "\n",
       "    .dataframe tbody tr th {\n",
       "        vertical-align: top;\n",
       "    }\n",
       "\n",
       "    .dataframe thead th {\n",
       "        text-align: right;\n",
       "    }\n",
       "</style>\n",
       "<table border=\"1\" class=\"dataframe\">\n",
       "  <thead>\n",
       "    <tr style=\"text-align: right;\">\n",
       "      <th></th>\n",
       "      <th>parent_tweet_id</th>\n",
       "      <th>cascade</th>\n",
       "    </tr>\n",
       "  </thead>\n",
       "  <tbody>\n",
       "    <tr>\n",
       "      <th>0</th>\n",
       "      <td>3.229498e+16</td>\n",
       "      <td>0</td>\n",
       "    </tr>\n",
       "    <tr>\n",
       "      <th>1</th>\n",
       "      <td>3.229898e+16</td>\n",
       "      <td>0</td>\n",
       "    </tr>\n",
       "    <tr>\n",
       "      <th>2</th>\n",
       "      <td>3.566097e+17</td>\n",
       "      <td>0</td>\n",
       "    </tr>\n",
       "    <tr>\n",
       "      <th>3</th>\n",
       "      <td>3.566177e+17</td>\n",
       "      <td>1</td>\n",
       "    </tr>\n",
       "    <tr>\n",
       "      <th>4</th>\n",
       "      <td>3.566534e+17</td>\n",
       "      <td>3</td>\n",
       "    </tr>\n",
       "  </tbody>\n",
       "</table>\n",
       "</div>"
      ],
      "text/plain": [
       "   parent_tweet_id  cascade\n",
       "0     3.229498e+16        0\n",
       "1     3.229898e+16        0\n",
       "2     3.566097e+17        0\n",
       "3     3.566177e+17        1\n",
       "4     3.566534e+17        3"
      ]
     },
     "execution_count": 883,
     "metadata": {},
     "output_type": "execute_result"
    }
   ],
   "source": [
    "# make a dictionary of parent tweet_id and cascade size\n",
    "# Check in the asymmetric network and symmetric network\n",
    "# will associate parent_tweet_id with original tweeter and calculate k core\n",
    "\n",
    "cascade_df = tweets_0.groupby(\n",
    "    by=\"parent_tweet_id\").count().reset_index().iloc[:, :2]\n",
    "# rename column to cascade\n",
    "cascade_df = cascade_df.rename(columns={\"date\": \"cascade\"})\n",
    "cascade_df.head()"
   ]
  },
  {
   "cell_type": "code",
   "execution_count": 884,
   "metadata": {
    "ExecuteTime": {
     "end_time": "2019-03-09T17:32:39.475622Z",
     "start_time": "2019-03-09T17:32:39.467908Z"
    }
   },
   "outputs": [
    {
     "data": {
      "text/plain": [
       "7662"
      ]
     },
     "execution_count": 884,
     "metadata": {},
     "output_type": "execute_result"
    }
   ],
   "source": [
    "# k cores in asymmetric network\n",
    "# from G above - includes followers who do not follow back and did not tweet\n",
    "# about the protest\n",
    "len(G.nodes)"
   ]
  },
  {
   "cell_type": "code",
   "execution_count": 885,
   "metadata": {
    "ExecuteTime": {
     "end_time": "2019-03-09T17:32:39.864678Z",
     "start_time": "2019-03-09T17:32:39.840684Z"
    }
   },
   "outputs": [],
   "source": [
    "# remove self-loops\n",
    "G.remove_edges_from(nx.selfloop_edges(G))"
   ]
  },
  {
   "cell_type": "code",
   "execution_count": 886,
   "metadata": {
    "ExecuteTime": {
     "end_time": "2019-03-09T17:32:40.145090Z",
     "start_time": "2019-03-09T17:32:40.139762Z"
    }
   },
   "outputs": [
    {
     "data": {
      "text/plain": [
       "7662"
      ]
     },
     "execution_count": 886,
     "metadata": {},
     "output_type": "execute_result"
    }
   ],
   "source": [
    "len(G.nodes)"
   ]
  },
  {
   "cell_type": "code",
   "execution_count": 887,
   "metadata": {
    "ExecuteTime": {
     "end_time": "2019-03-09T17:32:40.560536Z",
     "start_time": "2019-03-09T17:32:40.412404Z"
    }
   },
   "outputs": [
    {
     "data": {
      "text/plain": [
       "7662"
      ]
     },
     "execution_count": 887,
     "metadata": {},
     "output_type": "execute_result"
    }
   ],
   "source": [
    "# k cores in asymmetric network - includes those who did not tweet about the protest\n",
    "# {name: k_core, name: k_core}\n",
    "k_cores_dict = nx.core_number(G)\n",
    "\n",
    "# SAVE KCORE AS ATTRIBUTE OF NODE\n",
    "len(k_cores_dict)"
   ]
  },
  {
   "cell_type": "code",
   "execution_count": 888,
   "metadata": {
    "ExecuteTime": {
     "end_time": "2019-03-09T17:32:40.768625Z",
     "start_time": "2019-03-09T17:32:40.751610Z"
    }
   },
   "outputs": [
    {
     "data": {
      "text/plain": [
       "7662"
      ]
     },
     "execution_count": 888,
     "metadata": {},
     "output_type": "execute_result"
    }
   ],
   "source": [
    "# k_core per users\n",
    "k_core_df = pd.DataFrame.from_dict(\n",
    "    k_cores_dict, orient='index').reset_index()\n",
    "len(k_core_df)"
   ]
  },
  {
   "cell_type": "code",
   "execution_count": 889,
   "metadata": {
    "ExecuteTime": {
     "end_time": "2019-03-09T17:32:41.109661Z",
     "start_time": "2019-03-09T17:32:41.082911Z"
    }
   },
   "outputs": [
    {
     "data": {
      "text/html": [
       "<div>\n",
       "<style scoped>\n",
       "    .dataframe tbody tr th:only-of-type {\n",
       "        vertical-align: middle;\n",
       "    }\n",
       "\n",
       "    .dataframe tbody tr th {\n",
       "        vertical-align: top;\n",
       "    }\n",
       "\n",
       "    .dataframe thead th {\n",
       "        text-align: right;\n",
       "    }\n",
       "</style>\n",
       "<table border=\"1\" class=\"dataframe\">\n",
       "  <thead>\n",
       "    <tr style=\"text-align: right;\">\n",
       "      <th></th>\n",
       "      <th>user_screen_name</th>\n",
       "      <th>cascade</th>\n",
       "    </tr>\n",
       "  </thead>\n",
       "  <tbody>\n",
       "    <tr>\n",
       "      <th>0</th>\n",
       "      <td>inquirerdotnet</td>\n",
       "      <td>0</td>\n",
       "    </tr>\n",
       "    <tr>\n",
       "      <th>1</th>\n",
       "      <td>charisgalaraga</td>\n",
       "      <td>1</td>\n",
       "    </tr>\n",
       "    <tr>\n",
       "      <th>2</th>\n",
       "      <td>philippinebeat</td>\n",
       "      <td>4</td>\n",
       "    </tr>\n",
       "    <tr>\n",
       "      <th>3</th>\n",
       "      <td>patevangelista</td>\n",
       "      <td>3</td>\n",
       "    </tr>\n",
       "    <tr>\n",
       "      <th>4</th>\n",
       "      <td>ancalerts</td>\n",
       "      <td>1</td>\n",
       "    </tr>\n",
       "  </tbody>\n",
       "</table>\n",
       "</div>"
      ],
      "text/plain": [
       "  user_screen_name  cascade\n",
       "0   inquirerdotnet        0\n",
       "1   charisgalaraga        1\n",
       "2   philippinebeat        4\n",
       "3   patevangelista        3\n",
       "4        ancalerts        1"
      ]
     },
     "execution_count": 889,
     "metadata": {},
     "output_type": "execute_result"
    }
   ],
   "source": [
    "# get the parent user screen name\n",
    "cascade_df_2 = pd.merge(unique_users, cascade_df, left_on=\"tweet_id\",\n",
    "                        right_on=\"parent_tweet_id\").loc[:, [\"user_screen_name\", \"cascade\"]]\n",
    "cascade_df_2.head()"
   ]
  },
  {
   "cell_type": "code",
   "execution_count": 890,
   "metadata": {
    "ExecuteTime": {
     "end_time": "2019-03-09T17:32:41.416557Z",
     "start_time": "2019-03-09T17:32:41.404637Z"
    }
   },
   "outputs": [
    {
     "data": {
      "text/html": [
       "<div>\n",
       "<style scoped>\n",
       "    .dataframe tbody tr th:only-of-type {\n",
       "        vertical-align: middle;\n",
       "    }\n",
       "\n",
       "    .dataframe tbody tr th {\n",
       "        vertical-align: top;\n",
       "    }\n",
       "\n",
       "    .dataframe thead th {\n",
       "        text-align: right;\n",
       "    }\n",
       "</style>\n",
       "<table border=\"1\" class=\"dataframe\">\n",
       "  <thead>\n",
       "    <tr style=\"text-align: right;\">\n",
       "      <th></th>\n",
       "      <th>index</th>\n",
       "      <th>0</th>\n",
       "    </tr>\n",
       "  </thead>\n",
       "  <tbody>\n",
       "    <tr>\n",
       "      <th>0</th>\n",
       "      <td>ancalerts</td>\n",
       "      <td>9</td>\n",
       "    </tr>\n",
       "    <tr>\n",
       "      <th>1</th>\n",
       "      <td>berniecadao</td>\n",
       "      <td>9</td>\n",
       "    </tr>\n",
       "    <tr>\n",
       "      <th>2</th>\n",
       "      <td>sherylcayco</td>\n",
       "      <td>4</td>\n",
       "    </tr>\n",
       "    <tr>\n",
       "      <th>3</th>\n",
       "      <td>irneyespiritu1</td>\n",
       "      <td>7</td>\n",
       "    </tr>\n",
       "    <tr>\n",
       "      <th>4</th>\n",
       "      <td>tunogopm</td>\n",
       "      <td>6</td>\n",
       "    </tr>\n",
       "  </tbody>\n",
       "</table>\n",
       "</div>"
      ],
      "text/plain": [
       "            index  0\n",
       "0       ancalerts  9\n",
       "1     berniecadao  9\n",
       "2     sherylcayco  4\n",
       "3  irneyespiritu1  7\n",
       "4        tunogopm  6"
      ]
     },
     "execution_count": 890,
     "metadata": {},
     "output_type": "execute_result"
    }
   ],
   "source": [
    "k_core_users.head()"
   ]
  },
  {
   "cell_type": "code",
   "execution_count": 891,
   "metadata": {
    "ExecuteTime": {
     "end_time": "2019-03-09T17:32:41.901552Z",
     "start_time": "2019-03-09T17:32:41.805917Z"
    }
   },
   "outputs": [
    {
     "data": {
      "text/html": [
       "<div>\n",
       "<style scoped>\n",
       "    .dataframe tbody tr th:only-of-type {\n",
       "        vertical-align: middle;\n",
       "    }\n",
       "\n",
       "    .dataframe tbody tr th {\n",
       "        vertical-align: top;\n",
       "    }\n",
       "\n",
       "    .dataframe thead th {\n",
       "        text-align: right;\n",
       "    }\n",
       "</style>\n",
       "<table border=\"1\" class=\"dataframe\">\n",
       "  <thead>\n",
       "    <tr style=\"text-align: right;\">\n",
       "      <th></th>\n",
       "      <th>0</th>\n",
       "      <th>cascade</th>\n",
       "    </tr>\n",
       "  </thead>\n",
       "  <tbody>\n",
       "    <tr>\n",
       "      <th>0</th>\n",
       "      <td>9</td>\n",
       "      <td>1</td>\n",
       "    </tr>\n",
       "    <tr>\n",
       "      <th>1</th>\n",
       "      <td>8</td>\n",
       "      <td>3</td>\n",
       "    </tr>\n",
       "    <tr>\n",
       "      <th>2</th>\n",
       "      <td>9</td>\n",
       "      <td>1</td>\n",
       "    </tr>\n",
       "    <tr>\n",
       "      <th>3</th>\n",
       "      <td>7</td>\n",
       "      <td>0</td>\n",
       "    </tr>\n",
       "    <tr>\n",
       "      <th>4</th>\n",
       "      <td>9</td>\n",
       "      <td>3</td>\n",
       "    </tr>\n",
       "  </tbody>\n",
       "</table>\n",
       "</div>"
      ],
      "text/plain": [
       "   0  cascade\n",
       "0  9        1\n",
       "1  8        3\n",
       "2  9        1\n",
       "3  7        0\n",
       "4  9        3"
      ]
     },
     "execution_count": 891,
     "metadata": {},
     "output_type": "execute_result"
    }
   ],
   "source": [
    "# merge cascade size and kcore\n",
    "df_cascade_kcore = pd.merge(k_core_users, cascade_df_2, left_on=\"index\",\n",
    "         right_on=\"user_screen_name\")[[0, \"cascade\"]]\n",
    "df_cascade_kcore.head()"
   ]
  },
  {
   "cell_type": "code",
   "execution_count": 892,
   "metadata": {
    "ExecuteTime": {
     "end_time": "2019-03-09T17:32:42.202515Z",
     "start_time": "2019-03-09T17:32:42.196471Z"
    }
   },
   "outputs": [
    {
     "data": {
      "text/plain": [
       "270"
      ]
     },
     "execution_count": 892,
     "metadata": {},
     "output_type": "execute_result"
    }
   ],
   "source": [
    "len(df_cascade_kcore)"
   ]
  },
  {
   "cell_type": "code",
   "execution_count": 893,
   "metadata": {
    "ExecuteTime": {
     "end_time": "2019-03-09T17:32:42.895358Z",
     "start_time": "2019-03-09T17:32:42.641902Z"
    }
   },
   "outputs": [
    {
     "data": {
      "text/plain": [
       "Text(0,0.5,'$N_c$/$N$')"
      ]
     },
     "execution_count": 893,
     "metadata": {},
     "output_type": "execute_result"
    },
    {
     "data": {
      "image/png": "[encoded data removed]",
      "text/plain": [
       "<matplotlib.figure.Figure at 0x1559c41630>"
      ]
     },
     "metadata": {},
     "output_type": "display_data"
    }
   ],
   "source": [
    "x = df_cascade_kcore[0]\n",
    "inds = np.argsort(x)\n",
    "x = x[inds]\n",
    "y = df_cascade_kcore[\"cascade\"][inds]\n",
    "\n",
    "plt.plot(x, y/len(y), 'o')\n",
    "plt.title(\"cascade vs k-core\")\n",
    "plt.xlabel(\"k core\")\n",
    "plt.ylabel(\"$N_c$/$N$\")"
   ]
  },
  {
   "cell_type": "code",
   "execution_count": 894,
   "metadata": {
    "ExecuteTime": {
     "end_time": "2019-03-09T17:32:43.468845Z",
     "start_time": "2019-03-09T17:32:43.220274Z"
    }
   },
   "outputs": [
    {
     "data": {
      "text/plain": [
       "Text(0,0.5,'Average cascade size')"
      ]
     },
     "execution_count": 894,
     "metadata": {},
     "output_type": "execute_result"
    },
    {
     "data": {
      "image/png": "[encoded data removed]",
      "text/plain": [
       "<matplotlib.figure.Figure at 0x15597d74a8>"
      ]
     },
     "metadata": {},
     "output_type": "display_data"
    }
   ],
   "source": [
    "# average cascade size vs k core\n",
    "cascade_kcore_mean = df_cascade_kcore.groupby(by=0).mean().reset_index()\n",
    "\n",
    "x = cascade_kcore_mean[0]\n",
    "inds = np.argsort(x)\n",
    "x = x[inds]\n",
    "y = cascade_kcore_mean[\"cascade\"][inds]\n",
    "\n",
    "plt.plot(x, y, '-')\n",
    "plt.title(\"cascade vs k-core\")\n",
    "plt.xlabel(\"k core\")\n",
    "plt.ylabel(\"Average cascade size\")"
   ]
  },
  {
   "cell_type": "markdown",
   "metadata": {},
   "source": [
    "The average cascade size correlates positively with k core size. This may mean that tweets from users in higher k cores reach more people than users in lower k cores."
   ]
  },
  {
   "cell_type": "code",
   "execution_count": 895,
   "metadata": {
    "ExecuteTime": {
     "end_time": "2019-03-09T17:32:44.509645Z",
     "start_time": "2019-03-09T17:32:44.489342Z"
    }
   },
   "outputs": [],
   "source": [
    "# correlate with kcore with degrees\n",
    "# degree per users\n",
    "degrees = dict(G.degree)\n",
    "\n",
    "degree_df = pd.DataFrame.from_dict(\n",
    "    degrees, orient='index').reset_index()\n",
    "\n"
   ]
  },
  {
   "cell_type": "code",
   "execution_count": 896,
   "metadata": {
    "ExecuteTime": {
     "end_time": "2019-03-09T17:32:45.018574Z",
     "start_time": "2019-03-09T17:32:44.993890Z"
    }
   },
   "outputs": [
    {
     "data": {
      "text/html": [
       "<div>\n",
       "<style scoped>\n",
       "    .dataframe tbody tr th:only-of-type {\n",
       "        vertical-align: middle;\n",
       "    }\n",
       "\n",
       "    .dataframe tbody tr th {\n",
       "        vertical-align: top;\n",
       "    }\n",
       "\n",
       "    .dataframe thead th {\n",
       "        text-align: right;\n",
       "    }\n",
       "</style>\n",
       "<table border=\"1\" class=\"dataframe\">\n",
       "  <thead>\n",
       "    <tr style=\"text-align: right;\">\n",
       "      <th></th>\n",
       "      <th>degree</th>\n",
       "      <th>cascade</th>\n",
       "    </tr>\n",
       "  </thead>\n",
       "  <tbody>\n",
       "    <tr>\n",
       "      <th>0</th>\n",
       "      <td>430</td>\n",
       "      <td>1</td>\n",
       "    </tr>\n",
       "    <tr>\n",
       "      <th>1</th>\n",
       "      <td>15</td>\n",
       "      <td>0</td>\n",
       "    </tr>\n",
       "    <tr>\n",
       "      <th>2</th>\n",
       "      <td>165</td>\n",
       "      <td>0</td>\n",
       "    </tr>\n",
       "    <tr>\n",
       "      <th>3</th>\n",
       "      <td>11</td>\n",
       "      <td>2</td>\n",
       "    </tr>\n",
       "    <tr>\n",
       "      <th>4</th>\n",
       "      <td>14</td>\n",
       "      <td>2</td>\n",
       "    </tr>\n",
       "  </tbody>\n",
       "</table>\n",
       "</div>"
      ],
      "text/plain": [
       "   degree  cascade\n",
       "0     430        1\n",
       "1      15        0\n",
       "2     165        0\n",
       "3      11        2\n",
       "4      14        2"
      ]
     },
     "execution_count": 896,
     "metadata": {},
     "output_type": "execute_result"
    }
   ],
   "source": [
    "# merge cascade size and kcore\n",
    "df_degree_k_core = pd.merge(degree_df, cascade_df_2, left_on=\"index\",\n",
    "         right_on=\"user_screen_name\")[[0, \"cascade\"]]\n",
    "df_degree_k_core.columns = [\"degree\", \"cascade\"]\n",
    "df_degree_k_core.head()"
   ]
  },
  {
   "cell_type": "code",
   "execution_count": 897,
   "metadata": {
    "ExecuteTime": {
     "end_time": "2019-03-09T17:32:45.410498Z",
     "start_time": "2019-03-09T17:32:45.405355Z"
    }
   },
   "outputs": [
    {
     "data": {
      "text/plain": [
       "341"
      ]
     },
     "execution_count": 897,
     "metadata": {},
     "output_type": "execute_result"
    }
   ],
   "source": [
    "len(df_degree_k_core)"
   ]
  },
  {
   "cell_type": "code",
   "execution_count": 898,
   "metadata": {
    "ExecuteTime": {
     "end_time": "2019-03-09T17:32:46.244547Z",
     "start_time": "2019-03-09T17:32:45.770520Z"
    }
   },
   "outputs": [
    {
     "data": {
      "text/plain": [
       "Text(0,0.5,'cascade size')"
      ]
     },
     "execution_count": 898,
     "metadata": {},
     "output_type": "execute_result"
    },
    {
     "data": {
      "image/png": "[encoded data removed]",
      "text/plain": [
       "<matplotlib.figure.Figure at 0x15594a5f60>"
      ]
     },
     "metadata": {},
     "output_type": "display_data"
    }
   ],
   "source": [
    "# degree vs k core\n",
    "\n",
    "x = df_degree_k_core[\"degree\"]\n",
    "inds = np.argsort(x)\n",
    "x = x[inds]\n",
    "y = df_degree_k_core[\"cascade\"][inds]\n",
    "\n",
    "plt.loglog(x, y, 'o')\n",
    "plt.title(\"cascade vs degree\")\n",
    "plt.xlabel(\"degree\")\n",
    "plt.ylabel(\"cascade size\")"
   ]
  },
  {
   "cell_type": "code",
   "execution_count": 899,
   "metadata": {
    "ExecuteTime": {
     "end_time": "2019-03-09T17:32:46.978614Z",
     "start_time": "2019-03-09T17:32:46.326817Z"
    }
   },
   "outputs": [
    {
     "data": {
      "text/plain": [
       "Text(0,0.5,'Average cascade size')"
      ]
     },
     "execution_count": 899,
     "metadata": {},
     "output_type": "execute_result"
    },
    {
     "data": {
      "image/png": "[encoded data removed]",
      "text/plain": [
       "<matplotlib.figure.Figure at 0x155897ce80>"
      ]
     },
     "metadata": {},
     "output_type": "display_data"
    }
   ],
   "source": [
    "# mean degree vs k core\n",
    "df_degree_k_core_mean = df_degree_k_core.groupby(by=\"degree\").mean().reset_index()\n",
    "\n",
    "x = df_degree_k_core_mean[\"degree\"]\n",
    "inds = np.argsort(x)\n",
    "x = x[inds]\n",
    "y = df_degree_k_core_mean[\"cascade\"][inds]\n",
    "\n",
    "f, ax = plt.subplots()\n",
    "ax.set(xscale=\"log\", yscale=\"log\")\n",
    "\n",
    "# sns.lmplot(\"degree\", \"cascade\", data=df_degree_k_core_mean)\n",
    "plt.loglog(x, y, 'o')\n",
    "plt.title(\"average cascade vs degree\")\n",
    "plt.xlabel(\"degree\")\n",
    "plt.ylabel(\"Average cascade size\")"
   ]
  },
  {
   "cell_type": "code",
   "execution_count": null,
   "metadata": {},
   "outputs": [],
   "source": []
  }
 ],
 "metadata": {
  "hide_input": false,
  "kernelspec": {
   "display_name": "Python [default]",
   "language": "python",
   "name": "python3"
  },
  "language_info": {
   "codemirror_mode": {
    "name": "ipython",
    "version": 3
   },
   "file_extension": ".py",
   "mimetype": "text/x-python",
   "name": "python",
   "nbconvert_exporter": "python",
   "pygments_lexer": "ipython3",
   "version": "3.6.4"
  },
  "latex_envs": {
   "LaTeX_envs_menu_present": true,
   "autoclose": false,
   "autocomplete": true,
   "bibliofile": "biblio.bib",
   "cite_by": "apalike",
   "current_citInitial": 1,
   "eqLabelWithNumbers": true,
   "eqNumInitial": 1,
   "hotkeys": {
    "equation": "Ctrl-E",
    "itemize": "Ctrl-I"
   },
   "labels_anchors": false,
   "latex_user_defs": false,
   "report_style_numbering": false,
   "user_envs_cfg": false
  },
  "toc": {
   "base_numbering": 1,
   "nav_menu": {},
   "number_sections": true,
   "sideBar": true,
   "skip_h1_title": false,
   "title_cell": "Table of Contents",
   "title_sidebar": "Contents",
   "toc_cell": false,
   "toc_position": {},
   "toc_section_display": true,
   "toc_window_display": false
  }
 },
 "nbformat": 4,
 "nbformat_minor": 2
}
